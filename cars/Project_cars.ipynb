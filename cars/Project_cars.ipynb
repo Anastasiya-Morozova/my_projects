{
 "cells": [
  {
   "cell_type": "markdown",
   "id": "3036a6fe",
   "metadata": {},
   "source": [
    "# <center> Data cleaning project \"Used cars\""
   ]
  },
  {
   "cell_type": "markdown",
   "id": "68ae75eb",
   "metadata": {},
   "source": [
    "<center> Data was taken from https://codefinity.com/"
   ]
  },
  {
   "cell_type": "markdown",
   "id": "61ead81b",
   "metadata": {},
   "source": [
    "#### In this small project, I will normalize, clean and prepare the data for further analysis."
   ]
  },
  {
   "cell_type": "code",
   "execution_count": 1,
   "id": "8a396673",
   "metadata": {},
   "outputs": [
    {
     "data": {
      "text/html": [
       "<div>\n",
       "<style scoped>\n",
       "    .dataframe tbody tr th:only-of-type {\n",
       "        vertical-align: middle;\n",
       "    }\n",
       "\n",
       "    .dataframe tbody tr th {\n",
       "        vertical-align: top;\n",
       "    }\n",
       "\n",
       "    .dataframe thead th {\n",
       "        text-align: right;\n",
       "    }\n",
       "</style>\n",
       "<table border=\"1\" class=\"dataframe\">\n",
       "  <thead>\n",
       "    <tr style=\"text-align: right;\">\n",
       "      <th></th>\n",
       "      <th>Make</th>\n",
       "      <th>Engine Capacity(CC)</th>\n",
       "      <th>Mileage(kms)</th>\n",
       "      <th>Year</th>\n",
       "      <th>Price</th>\n",
       "    </tr>\n",
       "  </thead>\n",
       "  <tbody>\n",
       "    <tr>\n",
       "      <th>14985</th>\n",
       "      <td>Toyota</td>\n",
       "      <td>4600,0</td>\n",
       "      <td>152861.0</td>\n",
       "      <td>2011</td>\n",
       "      <td>12500000,0</td>\n",
       "    </tr>\n",
       "    <tr>\n",
       "      <th>6319</th>\n",
       "      <td>Toyota</td>\n",
       "      <td>2700,0</td>\n",
       "      <td>600.0</td>\n",
       "      <td>2021</td>\n",
       "      <td>8550000,0</td>\n",
       "    </tr>\n",
       "    <tr>\n",
       "      <th>32247</th>\n",
       "      <td>Toyota</td>\n",
       "      <td>1300,0</td>\n",
       "      <td>3200.0</td>\n",
       "      <td>2021</td>\n",
       "      <td>2840000,0</td>\n",
       "    </tr>\n",
       "    <tr>\n",
       "      <th>55341</th>\n",
       "      <td>Honda</td>\n",
       "      <td>1300,0</td>\n",
       "      <td>47000.0</td>\n",
       "      <td>2018</td>\n",
       "      <td>2530000,0</td>\n",
       "    </tr>\n",
       "    <tr>\n",
       "      <th>37596</th>\n",
       "      <td>Honda</td>\n",
       "      <td>1300,0</td>\n",
       "      <td>92000.0</td>\n",
       "      <td>Two thousand and sixteen</td>\n",
       "      <td>2850000,0</td>\n",
       "    </tr>\n",
       "  </tbody>\n",
       "</table>\n",
       "</div>"
      ],
      "text/plain": [
       "         Make Engine Capacity(CC)  Mileage(kms)                      Year  \\\n",
       "14985  Toyota              4600,0      152861.0                      2011   \n",
       "6319   Toyota              2700,0         600.0                      2021   \n",
       "32247  Toyota              1300,0        3200.0                      2021   \n",
       "55341   Honda              1300,0       47000.0                      2018   \n",
       "37596   Honda              1300,0       92000.0  Two thousand and sixteen   \n",
       "\n",
       "            Price  \n",
       "14985  12500000,0  \n",
       "6319    8550000,0  \n",
       "32247   2840000,0  \n",
       "55341   2530000,0  \n",
       "37596   2850000,0  "
      ]
     },
     "execution_count": 1,
     "metadata": {},
     "output_type": "execute_result"
    }
   ],
   "source": [
    "import pandas as pd\n",
    "import numpy as np\n",
    "import matplotlib.pyplot as plt\n",
    "\n",
    "df = pd.read_csv('first_df', index_col=0)\n",
    "\n",
    "df.sample(5)"
   ]
  },
  {
   "cell_type": "code",
   "execution_count": 2,
   "id": "a3018e71",
   "metadata": {
    "scrolled": true
   },
   "outputs": [
    {
     "data": {
      "text/html": [
       "<div>\n",
       "<style scoped>\n",
       "    .dataframe tbody tr th:only-of-type {\n",
       "        vertical-align: middle;\n",
       "    }\n",
       "\n",
       "    .dataframe tbody tr th {\n",
       "        vertical-align: top;\n",
       "    }\n",
       "\n",
       "    .dataframe thead th {\n",
       "        text-align: right;\n",
       "    }\n",
       "</style>\n",
       "<table border=\"1\" class=\"dataframe\">\n",
       "  <thead>\n",
       "    <tr style=\"text-align: right;\">\n",
       "      <th></th>\n",
       "      <th>Make</th>\n",
       "      <th>Engine Capacity(CC)</th>\n",
       "      <th>Mileage(kms)</th>\n",
       "      <th>Year</th>\n",
       "      <th>Price</th>\n",
       "    </tr>\n",
       "  </thead>\n",
       "  <tbody>\n",
       "    <tr>\n",
       "      <th>0</th>\n",
       "      <td>Honda</td>\n",
       "      <td>1500,0</td>\n",
       "      <td>41371.0</td>\n",
       "      <td>2017</td>\n",
       "      <td>3150000,0</td>\n",
       "    </tr>\n",
       "    <tr>\n",
       "      <th>1</th>\n",
       "      <td>Toyota</td>\n",
       "      <td>1600,0</td>\n",
       "      <td>2460.0</td>\n",
       "      <td>2021</td>\n",
       "      <td>3575000,0</td>\n",
       "    </tr>\n",
       "    <tr>\n",
       "      <th>2</th>\n",
       "      <td>Toyota</td>\n",
       "      <td>1000,0</td>\n",
       "      <td>67000.0</td>\n",
       "      <td>2014</td>\n",
       "      <td>1955000,0</td>\n",
       "    </tr>\n",
       "    <tr>\n",
       "      <th>3</th>\n",
       "      <td>Daihatsu</td>\n",
       "      <td>660,0</td>\n",
       "      <td>64000.0</td>\n",
       "      <td>Two thousand and thirteen</td>\n",
       "      <td>1450000,0</td>\n",
       "    </tr>\n",
       "    <tr>\n",
       "      <th>4</th>\n",
       "      <td>Toyota</td>\n",
       "      <td>2700,0</td>\n",
       "      <td>64000.0</td>\n",
       "      <td>Two thousand and sixteen</td>\n",
       "      <td>19000000,0</td>\n",
       "    </tr>\n",
       "  </tbody>\n",
       "</table>\n",
       "</div>"
      ],
      "text/plain": [
       "       Make Engine Capacity(CC)  Mileage(kms)                       Year  \\\n",
       "0     Honda              1500,0       41371.0                       2017   \n",
       "1    Toyota              1600,0        2460.0                       2021   \n",
       "2    Toyota              1000,0       67000.0                       2014   \n",
       "3  Daihatsu               660,0       64000.0  Two thousand and thirteen   \n",
       "4    Toyota              2700,0       64000.0   Two thousand and sixteen   \n",
       "\n",
       "        Price  \n",
       "0   3150000,0  \n",
       "1   3575000,0  \n",
       "2   1955000,0  \n",
       "3   1450000,0  \n",
       "4  19000000,0  "
      ]
     },
     "execution_count": 2,
     "metadata": {},
     "output_type": "execute_result"
    }
   ],
   "source": [
    "df.head(5)"
   ]
  },
  {
   "cell_type": "code",
   "execution_count": 3,
   "id": "da4d7080",
   "metadata": {},
   "outputs": [
    {
     "data": {
      "text/html": [
       "<div>\n",
       "<style scoped>\n",
       "    .dataframe tbody tr th:only-of-type {\n",
       "        vertical-align: middle;\n",
       "    }\n",
       "\n",
       "    .dataframe tbody tr th {\n",
       "        vertical-align: top;\n",
       "    }\n",
       "\n",
       "    .dataframe thead th {\n",
       "        text-align: right;\n",
       "    }\n",
       "</style>\n",
       "<table border=\"1\" class=\"dataframe\">\n",
       "  <thead>\n",
       "    <tr style=\"text-align: right;\">\n",
       "      <th></th>\n",
       "      <th>Make</th>\n",
       "      <th>Engine Capacity(CC)</th>\n",
       "      <th>Mileage(kms)</th>\n",
       "      <th>Year</th>\n",
       "      <th>Price</th>\n",
       "    </tr>\n",
       "  </thead>\n",
       "  <tbody>\n",
       "    <tr>\n",
       "      <th>76733</th>\n",
       "      <td>NaN</td>\n",
       "      <td>NaN</td>\n",
       "      <td>NaN</td>\n",
       "      <td>NaN</td>\n",
       "      <td>NaN</td>\n",
       "    </tr>\n",
       "    <tr>\n",
       "      <th>76734</th>\n",
       "      <td>NaN</td>\n",
       "      <td>NaN</td>\n",
       "      <td>NaN</td>\n",
       "      <td>NaN</td>\n",
       "      <td>NaN</td>\n",
       "    </tr>\n",
       "    <tr>\n",
       "      <th>76735</th>\n",
       "      <td>NaN</td>\n",
       "      <td>NaN</td>\n",
       "      <td>NaN</td>\n",
       "      <td>NaN</td>\n",
       "      <td>NaN</td>\n",
       "    </tr>\n",
       "    <tr>\n",
       "      <th>76736</th>\n",
       "      <td>NaN</td>\n",
       "      <td>NaN</td>\n",
       "      <td>NaN</td>\n",
       "      <td>NaN</td>\n",
       "      <td>NaN</td>\n",
       "    </tr>\n",
       "    <tr>\n",
       "      <th>76737</th>\n",
       "      <td>NaN</td>\n",
       "      <td>NaN</td>\n",
       "      <td>NaN</td>\n",
       "      <td>NaN</td>\n",
       "      <td>NaN</td>\n",
       "    </tr>\n",
       "  </tbody>\n",
       "</table>\n",
       "</div>"
      ],
      "text/plain": [
       "      Make Engine Capacity(CC)  Mileage(kms) Year Price\n",
       "76733  NaN                 NaN           NaN  NaN   NaN\n",
       "76734  NaN                 NaN           NaN  NaN   NaN\n",
       "76735  NaN                 NaN           NaN  NaN   NaN\n",
       "76736  NaN                 NaN           NaN  NaN   NaN\n",
       "76737  NaN                 NaN           NaN  NaN   NaN"
      ]
     },
     "execution_count": 3,
     "metadata": {},
     "output_type": "execute_result"
    }
   ],
   "source": [
    "df.tail(5)"
   ]
  },
  {
   "cell_type": "code",
   "execution_count": 4,
   "id": "4fccb528",
   "metadata": {},
   "outputs": [
    {
     "name": "stdout",
     "output_type": "stream",
     "text": [
      "Make                   48\n",
      "Engine Capacity(CC)    51\n",
      "Mileage(kms)           48\n",
      "Year                   48\n",
      "Price                  48\n",
      "dtype: int64\n"
     ]
    }
   ],
   "source": [
    "total = df.isna().sum()\n",
    "\n",
    "print(total)"
   ]
  },
  {
   "cell_type": "code",
   "execution_count": 5,
   "id": "fb27d52d",
   "metadata": {},
   "outputs": [
    {
     "data": {
      "text/html": [
       "<div>\n",
       "<style scoped>\n",
       "    .dataframe tbody tr th:only-of-type {\n",
       "        vertical-align: middle;\n",
       "    }\n",
       "\n",
       "    .dataframe tbody tr th {\n",
       "        vertical-align: top;\n",
       "    }\n",
       "\n",
       "    .dataframe thead th {\n",
       "        text-align: right;\n",
       "    }\n",
       "</style>\n",
       "<table border=\"1\" class=\"dataframe\">\n",
       "  <thead>\n",
       "    <tr style=\"text-align: right;\">\n",
       "      <th></th>\n",
       "      <th>Make</th>\n",
       "      <th>Engine Capacity(CC)</th>\n",
       "      <th>Mileage(kms)</th>\n",
       "      <th>Year</th>\n",
       "      <th>Price</th>\n",
       "    </tr>\n",
       "  </thead>\n",
       "  <tbody>\n",
       "    <tr>\n",
       "      <th>46072</th>\n",
       "      <td>Suzuki</td>\n",
       "      <td>660,0</td>\n",
       "      <td>122000.0</td>\n",
       "      <td>2015</td>\n",
       "      <td>1900000,0</td>\n",
       "    </tr>\n",
       "  </tbody>\n",
       "</table>\n",
       "</div>"
      ],
      "text/plain": [
       "         Make Engine Capacity(CC)  Mileage(kms)  Year      Price\n",
       "46072  Suzuki               660,0      122000.0  2015  1900000,0"
      ]
     },
     "execution_count": 5,
     "metadata": {},
     "output_type": "execute_result"
    }
   ],
   "source": [
    "# Delete NaN values\n",
    "df.dropna(inplace = True)\n",
    "\n",
    "df.sample(1)"
   ]
  },
  {
   "cell_type": "code",
   "execution_count": 6,
   "id": "0f3f8421",
   "metadata": {},
   "outputs": [
    {
     "data": {
      "text/plain": [
       "Make                    object\n",
       "Engine Capacity(CC)     object\n",
       "Mileage(kms)           float64\n",
       "Year                    object\n",
       "Price                   object\n",
       "dtype: object"
      ]
     },
     "execution_count": 6,
     "metadata": {},
     "output_type": "execute_result"
    }
   ],
   "source": [
    "df.dtypes"
   ]
  },
  {
   "cell_type": "markdown",
   "id": "9be6cced",
   "metadata": {},
   "source": [
    "So several dates in the Year column were written by words, not by numbers, I have to fix it.\n",
    "\n",
    "- Let's create an empty list list_df for storing dates that were written incorrectly.\n",
    "- Then create the for loop that goes through each element in the column name, that was put as an argument to the function.\n",
    "- Will check if the length of the element is greater than 4 (because regular date consists of 4 digits, but date written using words include more characters).\n",
    "- If the previous condition returns True, append an element i to the created list_df.\n",
    "- Delete duplicates.\n",
    "- Return obtained list."
   ]
  },
  {
   "cell_type": "code",
   "execution_count": 7,
   "id": "c476f7c2",
   "metadata": {},
   "outputs": [
    {
     "data": {
      "text/plain": [
       "{'Two thousand and sixteen', 'Two thousand and thirteen'}"
      ]
     },
     "execution_count": 7,
     "metadata": {},
     "output_type": "execute_result"
    }
   ],
   "source": [
    "def func(df, name):\n",
    "    list_df = []\n",
    "   \n",
    "    for i in df[name]:\n",
    "        if len(i) > 4:\n",
    "            list_df.append(i)\n",
    "    result = set(list_df)\n",
    "\n",
    "    return result\n",
    "\n",
    "func(df, 'Year')"
   ]
  },
  {
   "cell_type": "code",
   "execution_count": 8,
   "id": "c58b0879",
   "metadata": {},
   "outputs": [
    {
     "data": {
      "text/plain": [
       "2018                        6893\n",
       "2021                        6868\n",
       "2017                        5795\n",
       "Two thousand and sixteen    5310\n",
       "2015                        4479\n",
       "                            ... \n",
       "1959                           1\n",
       "1964                           1\n",
       "1940                           1\n",
       "1962                           1\n",
       "1950                           1\n",
       "Name: Year, Length: 68, dtype: int64"
      ]
     },
     "execution_count": 8,
     "metadata": {},
     "output_type": "execute_result"
    }
   ],
   "source": [
    "df.Year.value_counts()"
   ]
  },
  {
   "cell_type": "code",
   "execution_count": 9,
   "id": "88727626",
   "metadata": {},
   "outputs": [
    {
     "name": "stdout",
     "output_type": "stream",
     "text": [
      "2021\n"
     ]
    }
   ],
   "source": [
    "# Replace incorrect dates\n",
    "df['Year'].replace({'Two thousand and sixteen': 2016,'Two thousand and thirteen': 2013}, inplace = True)\n",
    "\n",
    "df['Year'] = df['Year'].astype(int)\n",
    "\n",
    "print(df['Year'].max())"
   ]
  },
  {
   "cell_type": "code",
   "execution_count": 10,
   "id": "451f8870",
   "metadata": {},
   "outputs": [
    {
     "data": {
      "text/plain": [
       "(0    1500.0\n",
       " 1    1600.0\n",
       " 2    1000.0\n",
       " 3     660.0\n",
       " 4    2700.0\n",
       " Name: Engine Capacity(CC), dtype: float64,\n",
       " 0     3150000.0\n",
       " 1     3575000.0\n",
       " 2     1955000.0\n",
       " 3     1450000.0\n",
       " 4    19000000.0\n",
       " Name: Price, dtype: float64)"
      ]
     },
     "execution_count": 10,
     "metadata": {},
     "output_type": "execute_result"
    }
   ],
   "source": [
    "def separator(data, column_name):\n",
    "    data[column_name] = data[column_name].str.replace(',', '.')\n",
    "    data[column_name] = data[column_name].astype(float)\n",
    "\n",
    "# Apply function to the required columns\n",
    "separator(df, 'Price')\n",
    "separator(df , 'Engine Capacity(CC)')\n",
    "\n",
    "df['Engine Capacity(CC)'].head(5), df['Price'].head(5)"
   ]
  },
  {
   "cell_type": "markdown",
   "id": "187737be",
   "metadata": {},
   "source": [
    "I remember about outliers and about how harmful they can be.\n",
    "\n",
    "Let's use describe() function to detect if there are some outliers ."
   ]
  },
  {
   "cell_type": "code",
   "execution_count": 11,
   "id": "d5b638ba",
   "metadata": {},
   "outputs": [
    {
     "data": {
      "text/html": [
       "<div>\n",
       "<style scoped>\n",
       "    .dataframe tbody tr th:only-of-type {\n",
       "        vertical-align: middle;\n",
       "    }\n",
       "\n",
       "    .dataframe tbody tr th {\n",
       "        vertical-align: top;\n",
       "    }\n",
       "\n",
       "    .dataframe thead th {\n",
       "        text-align: right;\n",
       "    }\n",
       "</style>\n",
       "<table border=\"1\" class=\"dataframe\">\n",
       "  <thead>\n",
       "    <tr style=\"text-align: right;\">\n",
       "      <th></th>\n",
       "      <th>Engine Capacity(CC)</th>\n",
       "      <th>Mileage(kms)</th>\n",
       "      <th>Year</th>\n",
       "      <th>Price</th>\n",
       "    </tr>\n",
       "  </thead>\n",
       "  <tbody>\n",
       "    <tr>\n",
       "      <th>count</th>\n",
       "      <td>76687.000000</td>\n",
       "      <td>76687.000000</td>\n",
       "      <td>76687.000000</td>\n",
       "      <td>7.668700e+04</td>\n",
       "    </tr>\n",
       "    <tr>\n",
       "      <th>mean</th>\n",
       "      <td>1499.699806</td>\n",
       "      <td>87962.008854</td>\n",
       "      <td>2011.999100</td>\n",
       "      <td>3.023153e+06</td>\n",
       "    </tr>\n",
       "    <tr>\n",
       "      <th>std</th>\n",
       "      <td>723.373657</td>\n",
       "      <td>78759.333327</td>\n",
       "      <td>7.371107</td>\n",
       "      <td>4.303289e+06</td>\n",
       "    </tr>\n",
       "    <tr>\n",
       "      <th>min</th>\n",
       "      <td>16.000000</td>\n",
       "      <td>1.000000</td>\n",
       "      <td>1940.000000</td>\n",
       "      <td>5.000000e+05</td>\n",
       "    </tr>\n",
       "    <tr>\n",
       "      <th>25%</th>\n",
       "      <td>1000.000000</td>\n",
       "      <td>39000.000000</td>\n",
       "      <td>2007.000000</td>\n",
       "      <td>1.215000e+06</td>\n",
       "    </tr>\n",
       "    <tr>\n",
       "      <th>50%</th>\n",
       "      <td>1300.000000</td>\n",
       "      <td>79900.000000</td>\n",
       "      <td>2014.000000</td>\n",
       "      <td>2.025000e+06</td>\n",
       "    </tr>\n",
       "    <tr>\n",
       "      <th>75%</th>\n",
       "      <td>1800.000000</td>\n",
       "      <td>119800.000000</td>\n",
       "      <td>2018.000000</td>\n",
       "      <td>3.200000e+06</td>\n",
       "    </tr>\n",
       "    <tr>\n",
       "      <th>max</th>\n",
       "      <td>6603.000000</td>\n",
       "      <td>999999.000000</td>\n",
       "      <td>2021.000000</td>\n",
       "      <td>9.350000e+07</td>\n",
       "    </tr>\n",
       "  </tbody>\n",
       "</table>\n",
       "</div>"
      ],
      "text/plain": [
       "       Engine Capacity(CC)   Mileage(kms)          Year         Price\n",
       "count         76687.000000   76687.000000  76687.000000  7.668700e+04\n",
       "mean           1499.699806   87962.008854   2011.999100  3.023153e+06\n",
       "std             723.373657   78759.333327      7.371107  4.303289e+06\n",
       "min              16.000000       1.000000   1940.000000  5.000000e+05\n",
       "25%            1000.000000   39000.000000   2007.000000  1.215000e+06\n",
       "50%            1300.000000   79900.000000   2014.000000  2.025000e+06\n",
       "75%            1800.000000  119800.000000   2018.000000  3.200000e+06\n",
       "max            6603.000000  999999.000000   2021.000000  9.350000e+07"
      ]
     },
     "execution_count": 11,
     "metadata": {},
     "output_type": "execute_result"
    }
   ],
   "source": [
    "df.describe()"
   ]
  },
  {
   "cell_type": "code",
   "execution_count": 12,
   "id": "d76e9e45",
   "metadata": {},
   "outputs": [
    {
     "name": "stdout",
     "output_type": "stream",
     "text": [
      "Mean 2011.9991002386323\n",
      "Median 2014.0\n"
     ]
    },
    {
     "data": {
      "image/png": "[encoded data removed]",
      "text/plain": [
       "<Figure size 640x480 with 1 Axes>"
      ]
     },
     "metadata": {},
     "output_type": "display_data"
    }
   ],
   "source": [
    "print(\"Mean\", df['Year'].mean())\n",
    "print(\"Median\", df['Year'].median())\n",
    "\n",
    "fig, ax = plt.subplots()\n",
    "\n",
    "ax.hist(df[\"Year\"])\n",
    "\n",
    "plt.title('Year')\n",
    "\n",
    "plt.show()"
   ]
  },
  {
   "cell_type": "markdown",
   "id": "e14d05a1",
   "metadata": {},
   "source": [
    "### We see a left-skewed distribution."
   ]
  },
  {
   "cell_type": "markdown",
   "id": "8535a333",
   "metadata": {},
   "source": [
    "It's time to delete outliers.\n",
    "\n",
    "Two ways how to do it:\n",
    "\n",
    "- Removing outliers using mean and std.\n",
    "- Removing outliers using IQR."
   ]
  },
  {
   "cell_type": "code",
   "execution_count": 13,
   "id": "e65b3b00",
   "metadata": {},
   "outputs": [
    {
     "data": {
      "text/plain": [
       "(76687, 5)"
      ]
     },
     "execution_count": 13,
     "metadata": {},
     "output_type": "execute_result"
    }
   ],
   "source": [
    "df.shape"
   ]
  },
  {
   "cell_type": "code",
   "execution_count": 14,
   "id": "3a41bd1c",
   "metadata": {},
   "outputs": [
    {
     "data": {
      "text/plain": [
       "Make                   0\n",
       "Engine Capacity(CC)    0\n",
       "Mileage(kms)           0\n",
       "Year                   0\n",
       "Price                  0\n",
       "dtype: int64"
      ]
     },
     "execution_count": 14,
     "metadata": {},
     "output_type": "execute_result"
    }
   ],
   "source": [
    "df.isna().sum()"
   ]
  },
  {
   "cell_type": "code",
   "execution_count": 15,
   "id": "03642b38",
   "metadata": {},
   "outputs": [
    {
     "data": {
      "image/png": "[encoded data removed]",
      "text/plain": [
       "<Figure size 640x480 with 1 Axes>"
      ]
     },
     "metadata": {},
     "output_type": "display_data"
    }
   ],
   "source": [
    "# Delete 10% from the left tail and 1% from the right one\n",
    "q10, q50, q99 = df['Year'].quantile(q = [0.1, 0.5, 0.99])\n",
    "\n",
    "# Subtract the q10 from the q99\n",
    "iqr = q99-q10\n",
    "\n",
    "# let's create a new dataset without outliers\n",
    "df_without_outliers = df.copy()\n",
    "\n",
    "df_without_outliers['Year'] = df_without_outliers['Year'].loc[(df_without_outliers['Year'] > q10 - 1.5*iqr) & (df_without_outliers['Year'] < q99 + 1.5*iqr)]\n",
    "\n",
    "fig, ax = plt.subplots()\n",
    "\n",
    "ax.hist(df_without_outliers['Year'])\n",
    "\n",
    "plt.title('Year')\n",
    "\n",
    "plt.show()"
   ]
  },
  {
   "cell_type": "code",
   "execution_count": 16,
   "id": "4eebb904",
   "metadata": {},
   "outputs": [
    {
     "data": {
      "text/plain": [
       "(76687, 5)"
      ]
     },
     "execution_count": 16,
     "metadata": {},
     "output_type": "execute_result"
    }
   ],
   "source": [
    "df.shape"
   ]
  },
  {
   "cell_type": "code",
   "execution_count": 17,
   "id": "4e71889f",
   "metadata": {},
   "outputs": [
    {
     "name": "stdout",
     "output_type": "stream",
     "text": [
      "How much did the mean value change after removing outliers:\n",
      "0.0028774251527552597\n",
      "How much did the median value change after removing outliers:\n",
      "0.0\n"
     ]
    }
   ],
   "source": [
    "mean_1 = df['Year'].mean()\n",
    "\n",
    "mean_2 = df_without_outliers['Year'].mean()\n",
    "\n",
    "# Find the difference between mean values\n",
    "mean_difference=((mean_2 - mean_1)/mean_1) * 100\n",
    "\n",
    "median_1 = df['Year'].median()\n",
    "\n",
    "median_2 = df_without_outliers['Year'].median()\n",
    "\n",
    "# Find the difference between median values\n",
    "median_difference = ((median_1 - median_2)/median_2) * 100\n",
    "\n",
    "print(\"How much did the mean value change after removing outliers:\")\n",
    "print(mean_difference)\n",
    "print(\"How much did the median value change after removing outliers:\")\n",
    "print(median_difference)"
   ]
  },
  {
   "cell_type": "code",
   "execution_count": 18,
   "id": "95ac5ca1",
   "metadata": {},
   "outputs": [
    {
     "data": {
      "text/html": [
       "<div>\n",
       "<style scoped>\n",
       "    .dataframe tbody tr th:only-of-type {\n",
       "        vertical-align: middle;\n",
       "    }\n",
       "\n",
       "    .dataframe tbody tr th {\n",
       "        vertical-align: top;\n",
       "    }\n",
       "\n",
       "    .dataframe thead th {\n",
       "        text-align: right;\n",
       "    }\n",
       "</style>\n",
       "<table border=\"1\" class=\"dataframe\">\n",
       "  <thead>\n",
       "    <tr style=\"text-align: right;\">\n",
       "      <th></th>\n",
       "      <th>Make</th>\n",
       "      <th>Engine Capacity(CC)</th>\n",
       "      <th>Mileage(kms)</th>\n",
       "      <th>Year</th>\n",
       "      <th>Price</th>\n",
       "    </tr>\n",
       "  </thead>\n",
       "  <tbody>\n",
       "    <tr>\n",
       "      <th>0</th>\n",
       "      <td>Honda</td>\n",
       "      <td>1500.0</td>\n",
       "      <td>41371.0</td>\n",
       "      <td>2017</td>\n",
       "      <td>3150000.0</td>\n",
       "    </tr>\n",
       "    <tr>\n",
       "      <th>1</th>\n",
       "      <td>Toyota</td>\n",
       "      <td>1600.0</td>\n",
       "      <td>2460.0</td>\n",
       "      <td>2021</td>\n",
       "      <td>3575000.0</td>\n",
       "    </tr>\n",
       "    <tr>\n",
       "      <th>2</th>\n",
       "      <td>Toyota</td>\n",
       "      <td>1000.0</td>\n",
       "      <td>67000.0</td>\n",
       "      <td>2014</td>\n",
       "      <td>1955000.0</td>\n",
       "    </tr>\n",
       "    <tr>\n",
       "      <th>3</th>\n",
       "      <td>Daihatsu</td>\n",
       "      <td>660.0</td>\n",
       "      <td>64000.0</td>\n",
       "      <td>2013</td>\n",
       "      <td>1450000.0</td>\n",
       "    </tr>\n",
       "    <tr>\n",
       "      <th>4</th>\n",
       "      <td>Toyota</td>\n",
       "      <td>2700.0</td>\n",
       "      <td>64000.0</td>\n",
       "      <td>2016</td>\n",
       "      <td>19000000.0</td>\n",
       "    </tr>\n",
       "  </tbody>\n",
       "</table>\n",
       "</div>"
      ],
      "text/plain": [
       "       Make  Engine Capacity(CC)  Mileage(kms)  Year       Price\n",
       "0     Honda               1500.0       41371.0  2017   3150000.0\n",
       "1    Toyota               1600.0        2460.0  2021   3575000.0\n",
       "2    Toyota               1000.0       67000.0  2014   1955000.0\n",
       "3  Daihatsu                660.0       64000.0  2013   1450000.0\n",
       "4    Toyota               2700.0       64000.0  2016  19000000.0"
      ]
     },
     "execution_count": 18,
     "metadata": {},
     "output_type": "execute_result"
    }
   ],
   "source": [
    "df.head()"
   ]
  },
  {
   "cell_type": "code",
   "execution_count": 19,
   "id": "462690d1",
   "metadata": {},
   "outputs": [
    {
     "name": "stdout",
     "output_type": "stream",
     "text": [
      "39491     55923.407301\n",
      "26123         0.621371\n",
      "835       15443.559612\n",
      "70790    189280.228466\n",
      "34079     33554.044381\n",
      "Name: Mileage(miles), dtype: float64\n"
     ]
    }
   ],
   "source": [
    "# Convert kilometers to miles\n",
    "df[\"Mileage(kms)\"] = df[\"Mileage(kms)\"]/1.609344  \n",
    "\n",
    "df.rename(columns = {\"Mileage(kms)\":'Mileage(miles)'} , inplace = True)\n",
    "\n",
    "print(df['Mileage(miles)'].sample(5))"
   ]
  }
 ],
 "metadata": {
  "kernelspec": {
   "display_name": "Python 3 (ipykernel)",
   "language": "python",
   "name": "python3"
  },
  "language_info": {
   "codemirror_mode": {
    "name": "ipython",
    "version": 3
   },
   "file_extension": ".py",
   "mimetype": "text/x-python",
   "name": "python",
   "nbconvert_exporter": "python",
   "pygments_lexer": "ipython3",
   "version": "3.10.8"
  }
 },
 "nbformat": 4,
 "nbformat_minor": 5
}
