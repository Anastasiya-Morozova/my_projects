{
 "cells": [
  {
   "cell_type": "markdown",
   "id": "6b41da68",
   "metadata": {},
   "source": [
    "   # <center> New York City public school project"
   ]
  },
  {
   "cell_type": "markdown",
   "id": "c758d2ce",
   "metadata": {},
   "source": [
    "<center>Data was taken from dataquest.io -> https://data.cityofnewyork.us"
   ]
  },
  {
   "cell_type": "markdown",
   "id": "ba21747c",
   "metadata": {},
   "source": [
    "One of the most controversial issues in the U.S. educational system is the efficacy of standardized tests and whether they're unfair to certain groups. **Investigating the correlations between SAT scores and demographics might be an interesting angle to take.** We could correlate SAT scores with factors like race, gender, income, and more.\n",
    "\n",
    "The SAT, or Scholastic Aptitude Test, is an exam that U.S. high school students take before applying to college. Colleges take the test scores into account when deciding who to admit, so it's important to perform well.\n",
    "\n",
    "The test consists of three sections, each of which has 800 possible points. The combined score is out of 2,400 possible points (while this number has changed a few times, the dataset for this project is based on 2,400 total points). Organizations often rank high schools by their average SAT scores. The scores are also considered a measure of overall school district quality."
   ]
  },
  {
   "cell_type": "markdown",
   "id": "69886df4",
   "metadata": {},
   "source": [
    "### Preliminary important information\n",
    "-  Only high school students take the SAT, so we'll want to focus on high schools. <br>\n",
    "-  New York City is made up of five boroughs, which are essentially distinct regions. <br>\n",
    "-  New York City schools fall within several different school districts, each of which can contain dozens of schools. <br>\n",
    "-  Our datasets include several different types of schools. We'll need to clean them so that we can focus on high schools only. <br>\n",
    "-  Each school in New York City has a unique code called a DBN or district borough number.<br>\n",
    "-  Aggregating data by district allows us to use the district mapping data to plot district-by-district differences.<br>"
   ]
  },
  {
   "cell_type": "code",
   "execution_count": 36,
   "id": "02b79cb1",
   "metadata": {},
   "outputs": [],
   "source": [
    "import pandas as pd\n",
    "import numpy as np\n",
    "import plotly.express as px\n",
    "import matplotlib.pyplot as plt\n",
    "import re\n",
    "from IPython.display import display, HTML"
   ]
  },
  {
   "cell_type": "code",
   "execution_count": 37,
   "id": "39a22db2",
   "metadata": {},
   "outputs": [],
   "source": [
    "# let's add each of the dataframes to the dictionary data, using the base of the filename as the key and the corresponding dataframe as its value\n",
    "\n",
    "data_files = [\n",
    "    \"ap_2010.csv\",\n",
    "    \"class_size.csv\",\n",
    "    \"demographics.csv\",\n",
    "    \"graduation.csv\",\n",
    "    \"hs_directory.csv\",\n",
    "    \"sat_results.csv\"\n",
    "]\n",
    "\n",
    "data = {}\n",
    "\n",
    "for file in data_files:\n",
    "    data.update({file.split('.csv')[0] : pd.read_csv('{}'.format(file))})"
   ]
  },
  {
   "cell_type": "code",
   "execution_count": 38,
   "id": "8a0a6c6c",
   "metadata": {},
   "outputs": [
    {
     "data": {
      "text/html": [
       "<div>\n",
       "<style scoped>\n",
       "    .dataframe tbody tr th:only-of-type {\n",
       "        vertical-align: middle;\n",
       "    }\n",
       "\n",
       "    .dataframe tbody tr th {\n",
       "        vertical-align: top;\n",
       "    }\n",
       "\n",
       "    .dataframe thead th {\n",
       "        text-align: right;\n",
       "    }\n",
       "</style>\n",
       "<table border=\"1\" class=\"dataframe\">\n",
       "  <thead>\n",
       "    <tr style=\"text-align: right;\">\n",
       "      <th></th>\n",
       "      <th>DBN</th>\n",
       "      <th>SCHOOL NAME</th>\n",
       "      <th>Num of SAT Test Takers</th>\n",
       "      <th>SAT Critical Reading Avg. Score</th>\n",
       "      <th>SAT Math Avg. Score</th>\n",
       "      <th>SAT Writing Avg. Score</th>\n",
       "    </tr>\n",
       "  </thead>\n",
       "  <tbody>\n",
       "    <tr>\n",
       "      <th>0</th>\n",
       "      <td>01M292</td>\n",
       "      <td>HENRY STREET SCHOOL FOR INTERNATIONAL STUDIES</td>\n",
       "      <td>29</td>\n",
       "      <td>355</td>\n",
       "      <td>404</td>\n",
       "      <td>363</td>\n",
       "    </tr>\n",
       "    <tr>\n",
       "      <th>1</th>\n",
       "      <td>01M448</td>\n",
       "      <td>UNIVERSITY NEIGHBORHOOD HIGH SCHOOL</td>\n",
       "      <td>91</td>\n",
       "      <td>383</td>\n",
       "      <td>423</td>\n",
       "      <td>366</td>\n",
       "    </tr>\n",
       "    <tr>\n",
       "      <th>2</th>\n",
       "      <td>01M450</td>\n",
       "      <td>EAST SIDE COMMUNITY SCHOOL</td>\n",
       "      <td>70</td>\n",
       "      <td>377</td>\n",
       "      <td>402</td>\n",
       "      <td>370</td>\n",
       "    </tr>\n",
       "    <tr>\n",
       "      <th>3</th>\n",
       "      <td>01M458</td>\n",
       "      <td>FORSYTH SATELLITE ACADEMY</td>\n",
       "      <td>7</td>\n",
       "      <td>414</td>\n",
       "      <td>401</td>\n",
       "      <td>359</td>\n",
       "    </tr>\n",
       "    <tr>\n",
       "      <th>4</th>\n",
       "      <td>01M509</td>\n",
       "      <td>MARTA VALLE HIGH SCHOOL</td>\n",
       "      <td>44</td>\n",
       "      <td>390</td>\n",
       "      <td>433</td>\n",
       "      <td>384</td>\n",
       "    </tr>\n",
       "  </tbody>\n",
       "</table>\n",
       "</div>"
      ],
      "text/plain": [
       "      DBN                                    SCHOOL NAME  \\\n",
       "0  01M292  HENRY STREET SCHOOL FOR INTERNATIONAL STUDIES   \n",
       "1  01M448            UNIVERSITY NEIGHBORHOOD HIGH SCHOOL   \n",
       "2  01M450                     EAST SIDE COMMUNITY SCHOOL   \n",
       "3  01M458                      FORSYTH SATELLITE ACADEMY   \n",
       "4  01M509                        MARTA VALLE HIGH SCHOOL   \n",
       "\n",
       "  Num of SAT Test Takers SAT Critical Reading Avg. Score SAT Math Avg. Score  \\\n",
       "0                     29                             355                 404   \n",
       "1                     91                             383                 423   \n",
       "2                     70                             377                 402   \n",
       "3                      7                             414                 401   \n",
       "4                     44                             390                 433   \n",
       "\n",
       "  SAT Writing Avg. Score  \n",
       "0                    363  \n",
       "1                    366  \n",
       "2                    370  \n",
       "3                    359  \n",
       "4                    384  "
      ]
     },
     "execution_count": 38,
     "metadata": {},
     "output_type": "execute_result"
    }
   ],
   "source": [
    "# explored sat_results to see what we can discover\n",
    "\n",
    "data['sat_results'].head()"
   ]
  },
  {
   "cell_type": "markdown",
   "id": "2024985e",
   "metadata": {},
   "source": [
    "-  The DBN appears to be a unique ID for each school.\n",
    "-  We can tell from the first few rows of names that we only have data about high schools.\n",
    "-  There's only a single row for each high school, so each DBN is unique in the SAT data.\n",
    "-  We may eventually want to combine the three columns that contain SAT scores: SAT Critical Reading Avg. Score, SAT Math Avg. Score, and SAT Writing Avg. Score into a single column to make the scores easier to analyze.\n",
    "\n",
    "Given these observations, let's explore the other datasets to see if we can gain any insight into how to combine them."
   ]
  },
  {
   "cell_type": "code",
   "execution_count": 39,
   "id": "8e869b04",
   "metadata": {},
   "outputs": [
    {
     "data": {
      "text/html": [
       "<div>\n",
       "<style scoped>\n",
       "    .dataframe tbody tr th:only-of-type {\n",
       "        vertical-align: middle;\n",
       "    }\n",
       "\n",
       "    .dataframe tbody tr th {\n",
       "        vertical-align: top;\n",
       "    }\n",
       "\n",
       "    .dataframe thead th {\n",
       "        text-align: right;\n",
       "    }\n",
       "</style>\n",
       "<table border=\"1\" class=\"dataframe\">\n",
       "  <thead>\n",
       "    <tr style=\"text-align: right;\">\n",
       "      <th></th>\n",
       "      <th>DBN</th>\n",
       "      <th>SchoolName</th>\n",
       "      <th>AP Test Takers</th>\n",
       "      <th>Total Exams Taken</th>\n",
       "      <th>Number of Exams with scores 3 4 or 5</th>\n",
       "    </tr>\n",
       "  </thead>\n",
       "  <tbody>\n",
       "    <tr>\n",
       "      <th>0</th>\n",
       "      <td>01M448</td>\n",
       "      <td>UNIVERSITY NEIGHBORHOOD H.S.</td>\n",
       "      <td>39.0</td>\n",
       "      <td>49.0</td>\n",
       "      <td>10.0</td>\n",
       "    </tr>\n",
       "    <tr>\n",
       "      <th>1</th>\n",
       "      <td>01M450</td>\n",
       "      <td>EAST SIDE COMMUNITY HS</td>\n",
       "      <td>19.0</td>\n",
       "      <td>21.0</td>\n",
       "      <td>NaN</td>\n",
       "    </tr>\n",
       "    <tr>\n",
       "      <th>2</th>\n",
       "      <td>01M515</td>\n",
       "      <td>LOWER EASTSIDE PREP</td>\n",
       "      <td>24.0</td>\n",
       "      <td>26.0</td>\n",
       "      <td>24.0</td>\n",
       "    </tr>\n",
       "  </tbody>\n",
       "</table>\n",
       "</div>"
      ],
      "text/plain": [
       "      DBN                    SchoolName  AP Test Takers   Total Exams Taken  \\\n",
       "0  01M448  UNIVERSITY NEIGHBORHOOD H.S.             39.0               49.0   \n",
       "1  01M450        EAST SIDE COMMUNITY HS             19.0               21.0   \n",
       "2  01M515           LOWER EASTSIDE PREP             24.0               26.0   \n",
       "\n",
       "   Number of Exams with scores 3 4 or 5  \n",
       "0                                  10.0  \n",
       "1                                   NaN  \n",
       "2                                  24.0  "
      ]
     },
     "metadata": {},
     "output_type": "display_data"
    },
    {
     "data": {
      "text/html": [
       "<div>\n",
       "<style scoped>\n",
       "    .dataframe tbody tr th:only-of-type {\n",
       "        vertical-align: middle;\n",
       "    }\n",
       "\n",
       "    .dataframe tbody tr th {\n",
       "        vertical-align: top;\n",
       "    }\n",
       "\n",
       "    .dataframe thead th {\n",
       "        text-align: right;\n",
       "    }\n",
       "</style>\n",
       "<table border=\"1\" class=\"dataframe\">\n",
       "  <thead>\n",
       "    <tr style=\"text-align: right;\">\n",
       "      <th></th>\n",
       "      <th>CSD</th>\n",
       "      <th>BOROUGH</th>\n",
       "      <th>SCHOOL CODE</th>\n",
       "      <th>SCHOOL NAME</th>\n",
       "      <th>GRADE</th>\n",
       "      <th>PROGRAM TYPE</th>\n",
       "      <th>CORE SUBJECT (MS CORE and 9-12 ONLY)</th>\n",
       "      <th>CORE COURSE (MS CORE and 9-12 ONLY)</th>\n",
       "      <th>SERVICE CATEGORY(K-9* ONLY)</th>\n",
       "      <th>NUMBER OF STUDENTS / SEATS FILLED</th>\n",
       "      <th>NUMBER OF SECTIONS</th>\n",
       "      <th>AVERAGE CLASS SIZE</th>\n",
       "      <th>SIZE OF SMALLEST CLASS</th>\n",
       "      <th>SIZE OF LARGEST CLASS</th>\n",
       "      <th>DATA SOURCE</th>\n",
       "      <th>SCHOOLWIDE PUPIL-TEACHER RATIO</th>\n",
       "    </tr>\n",
       "  </thead>\n",
       "  <tbody>\n",
       "    <tr>\n",
       "      <th>0</th>\n",
       "      <td>1</td>\n",
       "      <td>M</td>\n",
       "      <td>M015</td>\n",
       "      <td>P.S. 015 Roberto Clemente</td>\n",
       "      <td>0K</td>\n",
       "      <td>GEN ED</td>\n",
       "      <td>-</td>\n",
       "      <td>-</td>\n",
       "      <td>-</td>\n",
       "      <td>19.0</td>\n",
       "      <td>1.0</td>\n",
       "      <td>19.0</td>\n",
       "      <td>19.0</td>\n",
       "      <td>19.0</td>\n",
       "      <td>ATS</td>\n",
       "      <td>NaN</td>\n",
       "    </tr>\n",
       "    <tr>\n",
       "      <th>1</th>\n",
       "      <td>1</td>\n",
       "      <td>M</td>\n",
       "      <td>M015</td>\n",
       "      <td>P.S. 015 Roberto Clemente</td>\n",
       "      <td>0K</td>\n",
       "      <td>CTT</td>\n",
       "      <td>-</td>\n",
       "      <td>-</td>\n",
       "      <td>-</td>\n",
       "      <td>21.0</td>\n",
       "      <td>1.0</td>\n",
       "      <td>21.0</td>\n",
       "      <td>21.0</td>\n",
       "      <td>21.0</td>\n",
       "      <td>ATS</td>\n",
       "      <td>NaN</td>\n",
       "    </tr>\n",
       "    <tr>\n",
       "      <th>2</th>\n",
       "      <td>1</td>\n",
       "      <td>M</td>\n",
       "      <td>M015</td>\n",
       "      <td>P.S. 015 Roberto Clemente</td>\n",
       "      <td>01</td>\n",
       "      <td>GEN ED</td>\n",
       "      <td>-</td>\n",
       "      <td>-</td>\n",
       "      <td>-</td>\n",
       "      <td>17.0</td>\n",
       "      <td>1.0</td>\n",
       "      <td>17.0</td>\n",
       "      <td>17.0</td>\n",
       "      <td>17.0</td>\n",
       "      <td>ATS</td>\n",
       "      <td>NaN</td>\n",
       "    </tr>\n",
       "  </tbody>\n",
       "</table>\n",
       "</div>"
      ],
      "text/plain": [
       "   CSD BOROUGH SCHOOL CODE                SCHOOL NAME GRADE  PROGRAM TYPE  \\\n",
       "0    1       M        M015  P.S. 015 Roberto Clemente     0K       GEN ED   \n",
       "1    1       M        M015  P.S. 015 Roberto Clemente     0K          CTT   \n",
       "2    1       M        M015  P.S. 015 Roberto Clemente     01       GEN ED   \n",
       "\n",
       "  CORE SUBJECT (MS CORE and 9-12 ONLY) CORE COURSE (MS CORE and 9-12 ONLY)  \\\n",
       "0                                    -                                   -   \n",
       "1                                    -                                   -   \n",
       "2                                    -                                   -   \n",
       "\n",
       "  SERVICE CATEGORY(K-9* ONLY)  NUMBER OF STUDENTS / SEATS FILLED  \\\n",
       "0                           -                               19.0   \n",
       "1                           -                               21.0   \n",
       "2                           -                               17.0   \n",
       "\n",
       "   NUMBER OF SECTIONS  AVERAGE CLASS SIZE  SIZE OF SMALLEST CLASS  \\\n",
       "0                 1.0                19.0                    19.0   \n",
       "1                 1.0                21.0                    21.0   \n",
       "2                 1.0                17.0                    17.0   \n",
       "\n",
       "   SIZE OF LARGEST CLASS DATA SOURCE  SCHOOLWIDE PUPIL-TEACHER RATIO  \n",
       "0                   19.0         ATS                             NaN  \n",
       "1                   21.0         ATS                             NaN  \n",
       "2                   17.0         ATS                             NaN  "
      ]
     },
     "metadata": {},
     "output_type": "display_data"
    },
    {
     "data": {
      "text/html": [
       "<div>\n",
       "<style scoped>\n",
       "    .dataframe tbody tr th:only-of-type {\n",
       "        vertical-align: middle;\n",
       "    }\n",
       "\n",
       "    .dataframe tbody tr th {\n",
       "        vertical-align: top;\n",
       "    }\n",
       "\n",
       "    .dataframe thead th {\n",
       "        text-align: right;\n",
       "    }\n",
       "</style>\n",
       "<table border=\"1\" class=\"dataframe\">\n",
       "  <thead>\n",
       "    <tr style=\"text-align: right;\">\n",
       "      <th></th>\n",
       "      <th>DBN</th>\n",
       "      <th>Name</th>\n",
       "      <th>schoolyear</th>\n",
       "      <th>fl_percent</th>\n",
       "      <th>frl_percent</th>\n",
       "      <th>total_enrollment</th>\n",
       "      <th>prek</th>\n",
       "      <th>k</th>\n",
       "      <th>grade1</th>\n",
       "      <th>grade2</th>\n",
       "      <th>...</th>\n",
       "      <th>black_num</th>\n",
       "      <th>black_per</th>\n",
       "      <th>hispanic_num</th>\n",
       "      <th>hispanic_per</th>\n",
       "      <th>white_num</th>\n",
       "      <th>white_per</th>\n",
       "      <th>male_num</th>\n",
       "      <th>male_per</th>\n",
       "      <th>female_num</th>\n",
       "      <th>female_per</th>\n",
       "    </tr>\n",
       "  </thead>\n",
       "  <tbody>\n",
       "    <tr>\n",
       "      <th>0</th>\n",
       "      <td>01M015</td>\n",
       "      <td>P.S. 015 ROBERTO CLEMENTE</td>\n",
       "      <td>20052006</td>\n",
       "      <td>89.4</td>\n",
       "      <td>NaN</td>\n",
       "      <td>281</td>\n",
       "      <td>15</td>\n",
       "      <td>36</td>\n",
       "      <td>40</td>\n",
       "      <td>33</td>\n",
       "      <td>...</td>\n",
       "      <td>74</td>\n",
       "      <td>26.3</td>\n",
       "      <td>189</td>\n",
       "      <td>67.3</td>\n",
       "      <td>5</td>\n",
       "      <td>1.8</td>\n",
       "      <td>158.0</td>\n",
       "      <td>56.2</td>\n",
       "      <td>123.0</td>\n",
       "      <td>43.8</td>\n",
       "    </tr>\n",
       "    <tr>\n",
       "      <th>1</th>\n",
       "      <td>01M015</td>\n",
       "      <td>P.S. 015 ROBERTO CLEMENTE</td>\n",
       "      <td>20062007</td>\n",
       "      <td>89.4</td>\n",
       "      <td>NaN</td>\n",
       "      <td>243</td>\n",
       "      <td>15</td>\n",
       "      <td>29</td>\n",
       "      <td>39</td>\n",
       "      <td>38</td>\n",
       "      <td>...</td>\n",
       "      <td>68</td>\n",
       "      <td>28.0</td>\n",
       "      <td>153</td>\n",
       "      <td>63.0</td>\n",
       "      <td>4</td>\n",
       "      <td>1.6</td>\n",
       "      <td>140.0</td>\n",
       "      <td>57.6</td>\n",
       "      <td>103.0</td>\n",
       "      <td>42.4</td>\n",
       "    </tr>\n",
       "    <tr>\n",
       "      <th>2</th>\n",
       "      <td>01M015</td>\n",
       "      <td>P.S. 015 ROBERTO CLEMENTE</td>\n",
       "      <td>20072008</td>\n",
       "      <td>89.4</td>\n",
       "      <td>NaN</td>\n",
       "      <td>261</td>\n",
       "      <td>18</td>\n",
       "      <td>43</td>\n",
       "      <td>39</td>\n",
       "      <td>36</td>\n",
       "      <td>...</td>\n",
       "      <td>77</td>\n",
       "      <td>29.5</td>\n",
       "      <td>157</td>\n",
       "      <td>60.2</td>\n",
       "      <td>7</td>\n",
       "      <td>2.7</td>\n",
       "      <td>143.0</td>\n",
       "      <td>54.8</td>\n",
       "      <td>118.0</td>\n",
       "      <td>45.2</td>\n",
       "    </tr>\n",
       "  </tbody>\n",
       "</table>\n",
       "<p>3 rows × 38 columns</p>\n",
       "</div>"
      ],
      "text/plain": [
       "      DBN                       Name  schoolyear fl_percent  frl_percent  \\\n",
       "0  01M015  P.S. 015 ROBERTO CLEMENTE    20052006       89.4          NaN   \n",
       "1  01M015  P.S. 015 ROBERTO CLEMENTE    20062007       89.4          NaN   \n",
       "2  01M015  P.S. 015 ROBERTO CLEMENTE    20072008       89.4          NaN   \n",
       "\n",
       "   total_enrollment prek   k grade1 grade2  ... black_num black_per  \\\n",
       "0               281   15  36     40     33  ...        74      26.3   \n",
       "1               243   15  29     39     38  ...        68      28.0   \n",
       "2               261   18  43     39     36  ...        77      29.5   \n",
       "\n",
       "  hispanic_num hispanic_per white_num white_per male_num male_per female_num  \\\n",
       "0          189         67.3         5       1.8    158.0     56.2      123.0   \n",
       "1          153         63.0         4       1.6    140.0     57.6      103.0   \n",
       "2          157         60.2         7       2.7    143.0     54.8      118.0   \n",
       "\n",
       "  female_per  \n",
       "0       43.8  \n",
       "1       42.4  \n",
       "2       45.2  \n",
       "\n",
       "[3 rows x 38 columns]"
      ]
     },
     "metadata": {},
     "output_type": "display_data"
    },
    {
     "data": {
      "text/html": [
       "<div>\n",
       "<style scoped>\n",
       "    .dataframe tbody tr th:only-of-type {\n",
       "        vertical-align: middle;\n",
       "    }\n",
       "\n",
       "    .dataframe tbody tr th {\n",
       "        vertical-align: top;\n",
       "    }\n",
       "\n",
       "    .dataframe thead th {\n",
       "        text-align: right;\n",
       "    }\n",
       "</style>\n",
       "<table border=\"1\" class=\"dataframe\">\n",
       "  <thead>\n",
       "    <tr style=\"text-align: right;\">\n",
       "      <th></th>\n",
       "      <th>Demographic</th>\n",
       "      <th>DBN</th>\n",
       "      <th>School Name</th>\n",
       "      <th>Cohort</th>\n",
       "      <th>Total Cohort</th>\n",
       "      <th>Total Grads - n</th>\n",
       "      <th>Total Grads - % of cohort</th>\n",
       "      <th>Total Regents - n</th>\n",
       "      <th>Total Regents - % of cohort</th>\n",
       "      <th>Total Regents - % of grads</th>\n",
       "      <th>...</th>\n",
       "      <th>Regents w/o Advanced - n</th>\n",
       "      <th>Regents w/o Advanced - % of cohort</th>\n",
       "      <th>Regents w/o Advanced - % of grads</th>\n",
       "      <th>Local - n</th>\n",
       "      <th>Local - % of cohort</th>\n",
       "      <th>Local - % of grads</th>\n",
       "      <th>Still Enrolled - n</th>\n",
       "      <th>Still Enrolled - % of cohort</th>\n",
       "      <th>Dropped Out - n</th>\n",
       "      <th>Dropped Out - % of cohort</th>\n",
       "    </tr>\n",
       "  </thead>\n",
       "  <tbody>\n",
       "    <tr>\n",
       "      <th>0</th>\n",
       "      <td>Total Cohort</td>\n",
       "      <td>01M292</td>\n",
       "      <td>HENRY STREET SCHOOL FOR INTERNATIONAL</td>\n",
       "      <td>2003</td>\n",
       "      <td>5</td>\n",
       "      <td>s</td>\n",
       "      <td>NaN</td>\n",
       "      <td>s</td>\n",
       "      <td>NaN</td>\n",
       "      <td>NaN</td>\n",
       "      <td>...</td>\n",
       "      <td>s</td>\n",
       "      <td>NaN</td>\n",
       "      <td>NaN</td>\n",
       "      <td>s</td>\n",
       "      <td>NaN</td>\n",
       "      <td>NaN</td>\n",
       "      <td>s</td>\n",
       "      <td>NaN</td>\n",
       "      <td>s</td>\n",
       "      <td>NaN</td>\n",
       "    </tr>\n",
       "    <tr>\n",
       "      <th>1</th>\n",
       "      <td>Total Cohort</td>\n",
       "      <td>01M292</td>\n",
       "      <td>HENRY STREET SCHOOL FOR INTERNATIONAL</td>\n",
       "      <td>2004</td>\n",
       "      <td>55</td>\n",
       "      <td>37</td>\n",
       "      <td>67.3</td>\n",
       "      <td>17</td>\n",
       "      <td>30.9</td>\n",
       "      <td>45.9</td>\n",
       "      <td>...</td>\n",
       "      <td>17</td>\n",
       "      <td>30.9</td>\n",
       "      <td>45.9</td>\n",
       "      <td>20</td>\n",
       "      <td>36.4</td>\n",
       "      <td>54.1</td>\n",
       "      <td>15</td>\n",
       "      <td>27.3</td>\n",
       "      <td>3</td>\n",
       "      <td>5.5</td>\n",
       "    </tr>\n",
       "    <tr>\n",
       "      <th>2</th>\n",
       "      <td>Total Cohort</td>\n",
       "      <td>01M292</td>\n",
       "      <td>HENRY STREET SCHOOL FOR INTERNATIONAL</td>\n",
       "      <td>2005</td>\n",
       "      <td>64</td>\n",
       "      <td>43</td>\n",
       "      <td>67.2</td>\n",
       "      <td>27</td>\n",
       "      <td>42.2</td>\n",
       "      <td>62.8</td>\n",
       "      <td>...</td>\n",
       "      <td>27</td>\n",
       "      <td>42.2</td>\n",
       "      <td>62.8</td>\n",
       "      <td>16</td>\n",
       "      <td>25.0</td>\n",
       "      <td>37.2</td>\n",
       "      <td>9</td>\n",
       "      <td>14.1</td>\n",
       "      <td>9</td>\n",
       "      <td>14.1</td>\n",
       "    </tr>\n",
       "  </tbody>\n",
       "</table>\n",
       "<p>3 rows × 23 columns</p>\n",
       "</div>"
      ],
      "text/plain": [
       "    Demographic     DBN                            School Name Cohort  \\\n",
       "0  Total Cohort  01M292  HENRY STREET SCHOOL FOR INTERNATIONAL   2003   \n",
       "1  Total Cohort  01M292  HENRY STREET SCHOOL FOR INTERNATIONAL   2004   \n",
       "2  Total Cohort  01M292  HENRY STREET SCHOOL FOR INTERNATIONAL   2005   \n",
       "\n",
       "   Total Cohort Total Grads - n  Total Grads - % of cohort Total Regents - n  \\\n",
       "0             5               s                        NaN                 s   \n",
       "1            55              37                       67.3                17   \n",
       "2            64              43                       67.2                27   \n",
       "\n",
       "   Total Regents - % of cohort  Total Regents - % of grads  ...  \\\n",
       "0                          NaN                         NaN  ...   \n",
       "1                         30.9                        45.9  ...   \n",
       "2                         42.2                        62.8  ...   \n",
       "\n",
       "  Regents w/o Advanced - n  Regents w/o Advanced - % of cohort  \\\n",
       "0                        s                                 NaN   \n",
       "1                       17                                30.9   \n",
       "2                       27                                42.2   \n",
       "\n",
       "   Regents w/o Advanced - % of grads Local - n  Local - % of cohort  \\\n",
       "0                                NaN         s                  NaN   \n",
       "1                               45.9        20                 36.4   \n",
       "2                               62.8        16                 25.0   \n",
       "\n",
       "   Local - % of grads Still Enrolled - n  Still Enrolled - % of cohort  \\\n",
       "0                 NaN                  s                           NaN   \n",
       "1                54.1                 15                          27.3   \n",
       "2                37.2                  9                          14.1   \n",
       "\n",
       "   Dropped Out - n Dropped Out - % of cohort  \n",
       "0                s                       NaN  \n",
       "1                3                       5.5  \n",
       "2                9                      14.1  \n",
       "\n",
       "[3 rows x 23 columns]"
      ]
     },
     "metadata": {},
     "output_type": "display_data"
    },
    {
     "data": {
      "text/html": [
       "<div>\n",
       "<style scoped>\n",
       "    .dataframe tbody tr th:only-of-type {\n",
       "        vertical-align: middle;\n",
       "    }\n",
       "\n",
       "    .dataframe tbody tr th {\n",
       "        vertical-align: top;\n",
       "    }\n",
       "\n",
       "    .dataframe thead th {\n",
       "        text-align: right;\n",
       "    }\n",
       "</style>\n",
       "<table border=\"1\" class=\"dataframe\">\n",
       "  <thead>\n",
       "    <tr style=\"text-align: right;\">\n",
       "      <th></th>\n",
       "      <th>dbn</th>\n",
       "      <th>school_name</th>\n",
       "      <th>borough</th>\n",
       "      <th>building_code</th>\n",
       "      <th>phone_number</th>\n",
       "      <th>fax_number</th>\n",
       "      <th>grade_span_min</th>\n",
       "      <th>grade_span_max</th>\n",
       "      <th>expgrade_span_min</th>\n",
       "      <th>expgrade_span_max</th>\n",
       "      <th>...</th>\n",
       "      <th>priority08</th>\n",
       "      <th>priority09</th>\n",
       "      <th>priority10</th>\n",
       "      <th>Location 1</th>\n",
       "      <th>Community Board</th>\n",
       "      <th>Council District</th>\n",
       "      <th>Census Tract</th>\n",
       "      <th>BIN</th>\n",
       "      <th>BBL</th>\n",
       "      <th>NTA</th>\n",
       "    </tr>\n",
       "  </thead>\n",
       "  <tbody>\n",
       "    <tr>\n",
       "      <th>0</th>\n",
       "      <td>27Q260</td>\n",
       "      <td>Frederick Douglass Academy VI High School</td>\n",
       "      <td>Queens</td>\n",
       "      <td>Q465</td>\n",
       "      <td>718-471-2154</td>\n",
       "      <td>718-471-2890</td>\n",
       "      <td>9.0</td>\n",
       "      <td>12</td>\n",
       "      <td>NaN</td>\n",
       "      <td>NaN</td>\n",
       "      <td>...</td>\n",
       "      <td>NaN</td>\n",
       "      <td>NaN</td>\n",
       "      <td>NaN</td>\n",
       "      <td>8 21 Bay 25 Street\\nFar Rockaway, NY 11691\\n(4...</td>\n",
       "      <td>14.0</td>\n",
       "      <td>31.0</td>\n",
       "      <td>100802.0</td>\n",
       "      <td>4300730.0</td>\n",
       "      <td>4.157360e+09</td>\n",
       "      <td>Far Rockaway-Bayswater                        ...</td>\n",
       "    </tr>\n",
       "    <tr>\n",
       "      <th>1</th>\n",
       "      <td>21K559</td>\n",
       "      <td>Life Academy High School for Film and Music</td>\n",
       "      <td>Brooklyn</td>\n",
       "      <td>K400</td>\n",
       "      <td>718-333-7750</td>\n",
       "      <td>718-333-7775</td>\n",
       "      <td>9.0</td>\n",
       "      <td>12</td>\n",
       "      <td>NaN</td>\n",
       "      <td>NaN</td>\n",
       "      <td>...</td>\n",
       "      <td>NaN</td>\n",
       "      <td>NaN</td>\n",
       "      <td>NaN</td>\n",
       "      <td>2630 Benson Avenue\\nBrooklyn, NY 11214\\n(40.59...</td>\n",
       "      <td>13.0</td>\n",
       "      <td>47.0</td>\n",
       "      <td>306.0</td>\n",
       "      <td>3186454.0</td>\n",
       "      <td>3.068830e+09</td>\n",
       "      <td>Gravesend                                     ...</td>\n",
       "    </tr>\n",
       "    <tr>\n",
       "      <th>2</th>\n",
       "      <td>16K393</td>\n",
       "      <td>Frederick Douglass Academy IV Secondary School</td>\n",
       "      <td>Brooklyn</td>\n",
       "      <td>K026</td>\n",
       "      <td>718-574-2820</td>\n",
       "      <td>718-574-2821</td>\n",
       "      <td>9.0</td>\n",
       "      <td>12</td>\n",
       "      <td>NaN</td>\n",
       "      <td>NaN</td>\n",
       "      <td>...</td>\n",
       "      <td>NaN</td>\n",
       "      <td>NaN</td>\n",
       "      <td>NaN</td>\n",
       "      <td>1014 Lafayette Avenue\\nBrooklyn, NY 11221\\n(40...</td>\n",
       "      <td>3.0</td>\n",
       "      <td>36.0</td>\n",
       "      <td>291.0</td>\n",
       "      <td>3393805.0</td>\n",
       "      <td>3.016160e+09</td>\n",
       "      <td>Stuyvesant Heights                            ...</td>\n",
       "    </tr>\n",
       "  </tbody>\n",
       "</table>\n",
       "<p>3 rows × 64 columns</p>\n",
       "</div>"
      ],
      "text/plain": [
       "      dbn                                     school_name   borough  \\\n",
       "0  27Q260       Frederick Douglass Academy VI High School    Queens   \n",
       "1  21K559     Life Academy High School for Film and Music  Brooklyn   \n",
       "2  16K393  Frederick Douglass Academy IV Secondary School  Brooklyn   \n",
       "\n",
       "  building_code  phone_number    fax_number  grade_span_min  grade_span_max  \\\n",
       "0          Q465  718-471-2154  718-471-2890             9.0              12   \n",
       "1          K400  718-333-7750  718-333-7775             9.0              12   \n",
       "2          K026  718-574-2820  718-574-2821             9.0              12   \n",
       "\n",
       "   expgrade_span_min  expgrade_span_max  ... priority08 priority09 priority10  \\\n",
       "0                NaN                NaN  ...        NaN        NaN        NaN   \n",
       "1                NaN                NaN  ...        NaN        NaN        NaN   \n",
       "2                NaN                NaN  ...        NaN        NaN        NaN   \n",
       "\n",
       "                                          Location 1 Community Board  \\\n",
       "0  8 21 Bay 25 Street\\nFar Rockaway, NY 11691\\n(4...            14.0   \n",
       "1  2630 Benson Avenue\\nBrooklyn, NY 11214\\n(40.59...            13.0   \n",
       "2  1014 Lafayette Avenue\\nBrooklyn, NY 11221\\n(40...             3.0   \n",
       "\n",
       "   Council District Census Tract        BIN           BBL  \\\n",
       "0              31.0     100802.0  4300730.0  4.157360e+09   \n",
       "1              47.0        306.0  3186454.0  3.068830e+09   \n",
       "2              36.0        291.0  3393805.0  3.016160e+09   \n",
       "\n",
       "                                                 NTA  \n",
       "0  Far Rockaway-Bayswater                        ...  \n",
       "1  Gravesend                                     ...  \n",
       "2  Stuyvesant Heights                            ...  \n",
       "\n",
       "[3 rows x 64 columns]"
      ]
     },
     "metadata": {},
     "output_type": "display_data"
    },
    {
     "data": {
      "text/html": [
       "<div>\n",
       "<style scoped>\n",
       "    .dataframe tbody tr th:only-of-type {\n",
       "        vertical-align: middle;\n",
       "    }\n",
       "\n",
       "    .dataframe tbody tr th {\n",
       "        vertical-align: top;\n",
       "    }\n",
       "\n",
       "    .dataframe thead th {\n",
       "        text-align: right;\n",
       "    }\n",
       "</style>\n",
       "<table border=\"1\" class=\"dataframe\">\n",
       "  <thead>\n",
       "    <tr style=\"text-align: right;\">\n",
       "      <th></th>\n",
       "      <th>DBN</th>\n",
       "      <th>SCHOOL NAME</th>\n",
       "      <th>Num of SAT Test Takers</th>\n",
       "      <th>SAT Critical Reading Avg. Score</th>\n",
       "      <th>SAT Math Avg. Score</th>\n",
       "      <th>SAT Writing Avg. Score</th>\n",
       "    </tr>\n",
       "  </thead>\n",
       "  <tbody>\n",
       "    <tr>\n",
       "      <th>0</th>\n",
       "      <td>01M292</td>\n",
       "      <td>HENRY STREET SCHOOL FOR INTERNATIONAL STUDIES</td>\n",
       "      <td>29</td>\n",
       "      <td>355</td>\n",
       "      <td>404</td>\n",
       "      <td>363</td>\n",
       "    </tr>\n",
       "    <tr>\n",
       "      <th>1</th>\n",
       "      <td>01M448</td>\n",
       "      <td>UNIVERSITY NEIGHBORHOOD HIGH SCHOOL</td>\n",
       "      <td>91</td>\n",
       "      <td>383</td>\n",
       "      <td>423</td>\n",
       "      <td>366</td>\n",
       "    </tr>\n",
       "    <tr>\n",
       "      <th>2</th>\n",
       "      <td>01M450</td>\n",
       "      <td>EAST SIDE COMMUNITY SCHOOL</td>\n",
       "      <td>70</td>\n",
       "      <td>377</td>\n",
       "      <td>402</td>\n",
       "      <td>370</td>\n",
       "    </tr>\n",
       "  </tbody>\n",
       "</table>\n",
       "</div>"
      ],
      "text/plain": [
       "      DBN                                    SCHOOL NAME  \\\n",
       "0  01M292  HENRY STREET SCHOOL FOR INTERNATIONAL STUDIES   \n",
       "1  01M448            UNIVERSITY NEIGHBORHOOD HIGH SCHOOL   \n",
       "2  01M450                     EAST SIDE COMMUNITY SCHOOL   \n",
       "\n",
       "  Num of SAT Test Takers SAT Critical Reading Avg. Score SAT Math Avg. Score  \\\n",
       "0                     29                             355                 404   \n",
       "1                     91                             383                 423   \n",
       "2                     70                             377                 402   \n",
       "\n",
       "  SAT Writing Avg. Score  \n",
       "0                    363  \n",
       "1                    366  \n",
       "2                    370  "
      ]
     },
     "metadata": {},
     "output_type": "display_data"
    }
   ],
   "source": [
    "for key in data:\n",
    "    display(data[key].head(3))"
   ]
  },
  {
   "cell_type": "code",
   "execution_count": 40,
   "id": "05dfc3c4",
   "metadata": {},
   "outputs": [
    {
     "data": {
      "text/html": [
       "<div>\n",
       "<style scoped>\n",
       "    .dataframe tbody tr th:only-of-type {\n",
       "        vertical-align: middle;\n",
       "    }\n",
       "\n",
       "    .dataframe tbody tr th {\n",
       "        vertical-align: top;\n",
       "    }\n",
       "\n",
       "    .dataframe thead th {\n",
       "        text-align: right;\n",
       "    }\n",
       "</style>\n",
       "<table border=\"1\" class=\"dataframe\">\n",
       "  <thead>\n",
       "    <tr style=\"text-align: right;\">\n",
       "      <th></th>\n",
       "      <th>CSD</th>\n",
       "      <th>BOROUGH</th>\n",
       "      <th>SCHOOL CODE</th>\n",
       "      <th>SCHOOL NAME</th>\n",
       "      <th>GRADE</th>\n",
       "      <th>PROGRAM TYPE</th>\n",
       "      <th>CORE SUBJECT (MS CORE and 9-12 ONLY)</th>\n",
       "      <th>CORE COURSE (MS CORE and 9-12 ONLY)</th>\n",
       "      <th>SERVICE CATEGORY(K-9* ONLY)</th>\n",
       "      <th>NUMBER OF STUDENTS / SEATS FILLED</th>\n",
       "      <th>NUMBER OF SECTIONS</th>\n",
       "      <th>AVERAGE CLASS SIZE</th>\n",
       "      <th>SIZE OF SMALLEST CLASS</th>\n",
       "      <th>SIZE OF LARGEST CLASS</th>\n",
       "      <th>DATA SOURCE</th>\n",
       "      <th>SCHOOLWIDE PUPIL-TEACHER RATIO</th>\n",
       "    </tr>\n",
       "  </thead>\n",
       "  <tbody>\n",
       "    <tr>\n",
       "      <th>0</th>\n",
       "      <td>1</td>\n",
       "      <td>M</td>\n",
       "      <td>M015</td>\n",
       "      <td>P.S. 015 Roberto Clemente</td>\n",
       "      <td>0K</td>\n",
       "      <td>GEN ED</td>\n",
       "      <td>-</td>\n",
       "      <td>-</td>\n",
       "      <td>-</td>\n",
       "      <td>19.0</td>\n",
       "      <td>1.0</td>\n",
       "      <td>19.0</td>\n",
       "      <td>19.0</td>\n",
       "      <td>19.0</td>\n",
       "      <td>ATS</td>\n",
       "      <td>NaN</td>\n",
       "    </tr>\n",
       "    <tr>\n",
       "      <th>1</th>\n",
       "      <td>1</td>\n",
       "      <td>M</td>\n",
       "      <td>M015</td>\n",
       "      <td>P.S. 015 Roberto Clemente</td>\n",
       "      <td>0K</td>\n",
       "      <td>CTT</td>\n",
       "      <td>-</td>\n",
       "      <td>-</td>\n",
       "      <td>-</td>\n",
       "      <td>21.0</td>\n",
       "      <td>1.0</td>\n",
       "      <td>21.0</td>\n",
       "      <td>21.0</td>\n",
       "      <td>21.0</td>\n",
       "      <td>ATS</td>\n",
       "      <td>NaN</td>\n",
       "    </tr>\n",
       "    <tr>\n",
       "      <th>2</th>\n",
       "      <td>1</td>\n",
       "      <td>M</td>\n",
       "      <td>M015</td>\n",
       "      <td>P.S. 015 Roberto Clemente</td>\n",
       "      <td>01</td>\n",
       "      <td>GEN ED</td>\n",
       "      <td>-</td>\n",
       "      <td>-</td>\n",
       "      <td>-</td>\n",
       "      <td>17.0</td>\n",
       "      <td>1.0</td>\n",
       "      <td>17.0</td>\n",
       "      <td>17.0</td>\n",
       "      <td>17.0</td>\n",
       "      <td>ATS</td>\n",
       "      <td>NaN</td>\n",
       "    </tr>\n",
       "  </tbody>\n",
       "</table>\n",
       "</div>"
      ],
      "text/plain": [
       "   CSD BOROUGH SCHOOL CODE                SCHOOL NAME GRADE  PROGRAM TYPE  \\\n",
       "0    1       M        M015  P.S. 015 Roberto Clemente     0K       GEN ED   \n",
       "1    1       M        M015  P.S. 015 Roberto Clemente     0K          CTT   \n",
       "2    1       M        M015  P.S. 015 Roberto Clemente     01       GEN ED   \n",
       "\n",
       "  CORE SUBJECT (MS CORE and 9-12 ONLY) CORE COURSE (MS CORE and 9-12 ONLY)  \\\n",
       "0                                    -                                   -   \n",
       "1                                    -                                   -   \n",
       "2                                    -                                   -   \n",
       "\n",
       "  SERVICE CATEGORY(K-9* ONLY)  NUMBER OF STUDENTS / SEATS FILLED  \\\n",
       "0                           -                               19.0   \n",
       "1                           -                               21.0   \n",
       "2                           -                               17.0   \n",
       "\n",
       "   NUMBER OF SECTIONS  AVERAGE CLASS SIZE  SIZE OF SMALLEST CLASS  \\\n",
       "0                 1.0                19.0                    19.0   \n",
       "1                 1.0                21.0                    21.0   \n",
       "2                 1.0                17.0                    17.0   \n",
       "\n",
       "   SIZE OF LARGEST CLASS DATA SOURCE  SCHOOLWIDE PUPIL-TEACHER RATIO  \n",
       "0                   19.0         ATS                             NaN  \n",
       "1                   21.0         ATS                             NaN  \n",
       "2                   17.0         ATS                             NaN  "
      ]
     },
     "execution_count": 40,
     "metadata": {},
     "output_type": "execute_result"
    }
   ],
   "source": [
    "# let's take a closer look at the second dataframe\n",
    "\n",
    "data['class_size'].head(3)"
   ]
  },
  {
   "cell_type": "markdown",
   "id": "87724875",
   "metadata": {},
   "source": [
    "We can make some observations based on the first few rows of the dataframes:\n",
    "\n",
    "-  Each dataset appears to either have a DBN column or the information we need to create one. That means we can use a DBN column to combine the datasets. First we'll pinpoint matching rows from different datasets by looking for identical DBNs, then group all of their columns together in a single dataset.\n",
    "- Some fields look interesting for mapping -- particularly Location 1, which contains coordinates inside a larger string.\n",
    "- Some of the datasets appear to contain multiple rows for each school (because the rows have duplicate DBN values). That means we’ll have to do some preprocessing to ensure that each DBN is unique within each dataset. If we don't do this, we'll run into problems when we combine the datasets, because we might be merging two rows in one data set with one row in another dataset."
   ]
  },
  {
   "cell_type": "code",
   "execution_count": 41,
   "id": "85d1eb1d",
   "metadata": {},
   "outputs": [
    {
     "data": {
      "text/html": [
       "<div>\n",
       "<style scoped>\n",
       "    .dataframe tbody tr th:only-of-type {\n",
       "        vertical-align: middle;\n",
       "    }\n",
       "\n",
       "    .dataframe tbody tr th {\n",
       "        vertical-align: top;\n",
       "    }\n",
       "\n",
       "    .dataframe thead th {\n",
       "        text-align: right;\n",
       "    }\n",
       "</style>\n",
       "<table border=\"1\" class=\"dataframe\">\n",
       "  <thead>\n",
       "    <tr style=\"text-align: right;\">\n",
       "      <th></th>\n",
       "      <th>dbn</th>\n",
       "      <th>bn</th>\n",
       "      <th>schoolname</th>\n",
       "      <th>d75</th>\n",
       "      <th>studentssurveyed</th>\n",
       "      <th>highschool</th>\n",
       "      <th>schooltype</th>\n",
       "      <th>rr_s</th>\n",
       "      <th>rr_t</th>\n",
       "      <th>rr_p</th>\n",
       "      <th>...</th>\n",
       "      <th>s_N_q14e_3</th>\n",
       "      <th>s_N_q14e_4</th>\n",
       "      <th>s_N_q14f_1</th>\n",
       "      <th>s_N_q14f_2</th>\n",
       "      <th>s_N_q14f_3</th>\n",
       "      <th>s_N_q14f_4</th>\n",
       "      <th>s_N_q14g_1</th>\n",
       "      <th>s_N_q14g_2</th>\n",
       "      <th>s_N_q14g_3</th>\n",
       "      <th>s_N_q14g_4</th>\n",
       "    </tr>\n",
       "  </thead>\n",
       "  <tbody>\n",
       "    <tr>\n",
       "      <th>0</th>\n",
       "      <td>75K004</td>\n",
       "      <td>K004</td>\n",
       "      <td>P.S. K004</td>\n",
       "      <td>1</td>\n",
       "      <td>Yes</td>\n",
       "      <td>0.0</td>\n",
       "      <td>District 75 Special Education</td>\n",
       "      <td>38.0</td>\n",
       "      <td>90</td>\n",
       "      <td>72</td>\n",
       "      <td>...</td>\n",
       "      <td>NaN</td>\n",
       "      <td>NaN</td>\n",
       "      <td>NaN</td>\n",
       "      <td>NaN</td>\n",
       "      <td>NaN</td>\n",
       "      <td>NaN</td>\n",
       "      <td>NaN</td>\n",
       "      <td>NaN</td>\n",
       "      <td>NaN</td>\n",
       "      <td>NaN</td>\n",
       "    </tr>\n",
       "    <tr>\n",
       "      <th>1</th>\n",
       "      <td>75K036</td>\n",
       "      <td>K036</td>\n",
       "      <td>P.S. 36</td>\n",
       "      <td>1</td>\n",
       "      <td>Yes</td>\n",
       "      <td>NaN</td>\n",
       "      <td>District 75 Special Education</td>\n",
       "      <td>70.0</td>\n",
       "      <td>69</td>\n",
       "      <td>44</td>\n",
       "      <td>...</td>\n",
       "      <td>NaN</td>\n",
       "      <td>NaN</td>\n",
       "      <td>NaN</td>\n",
       "      <td>NaN</td>\n",
       "      <td>NaN</td>\n",
       "      <td>NaN</td>\n",
       "      <td>NaN</td>\n",
       "      <td>NaN</td>\n",
       "      <td>NaN</td>\n",
       "      <td>NaN</td>\n",
       "    </tr>\n",
       "    <tr>\n",
       "      <th>2</th>\n",
       "      <td>75K053</td>\n",
       "      <td>K053</td>\n",
       "      <td>P.S. K053</td>\n",
       "      <td>1</td>\n",
       "      <td>Yes</td>\n",
       "      <td>NaN</td>\n",
       "      <td>District 75 Special Education</td>\n",
       "      <td>94.0</td>\n",
       "      <td>97</td>\n",
       "      <td>53</td>\n",
       "      <td>...</td>\n",
       "      <td>NaN</td>\n",
       "      <td>NaN</td>\n",
       "      <td>NaN</td>\n",
       "      <td>NaN</td>\n",
       "      <td>NaN</td>\n",
       "      <td>NaN</td>\n",
       "      <td>NaN</td>\n",
       "      <td>NaN</td>\n",
       "      <td>NaN</td>\n",
       "      <td>NaN</td>\n",
       "    </tr>\n",
       "    <tr>\n",
       "      <th>3</th>\n",
       "      <td>75K077</td>\n",
       "      <td>K077</td>\n",
       "      <td>P.S. K077</td>\n",
       "      <td>1</td>\n",
       "      <td>Yes</td>\n",
       "      <td>NaN</td>\n",
       "      <td>District 75 Special Education</td>\n",
       "      <td>95.0</td>\n",
       "      <td>65</td>\n",
       "      <td>55</td>\n",
       "      <td>...</td>\n",
       "      <td>NaN</td>\n",
       "      <td>NaN</td>\n",
       "      <td>NaN</td>\n",
       "      <td>NaN</td>\n",
       "      <td>NaN</td>\n",
       "      <td>NaN</td>\n",
       "      <td>NaN</td>\n",
       "      <td>NaN</td>\n",
       "      <td>NaN</td>\n",
       "      <td>NaN</td>\n",
       "    </tr>\n",
       "    <tr>\n",
       "      <th>4</th>\n",
       "      <td>75K140</td>\n",
       "      <td>K140</td>\n",
       "      <td>P.S. K140</td>\n",
       "      <td>1</td>\n",
       "      <td>Yes</td>\n",
       "      <td>0.0</td>\n",
       "      <td>District 75 Special Education</td>\n",
       "      <td>77.0</td>\n",
       "      <td>70</td>\n",
       "      <td>42</td>\n",
       "      <td>...</td>\n",
       "      <td>NaN</td>\n",
       "      <td>NaN</td>\n",
       "      <td>NaN</td>\n",
       "      <td>NaN</td>\n",
       "      <td>NaN</td>\n",
       "      <td>NaN</td>\n",
       "      <td>NaN</td>\n",
       "      <td>NaN</td>\n",
       "      <td>NaN</td>\n",
       "      <td>NaN</td>\n",
       "    </tr>\n",
       "  </tbody>\n",
       "</table>\n",
       "<p>5 rows × 2773 columns</p>\n",
       "</div>"
      ],
      "text/plain": [
       "      dbn    bn schoolname  d75 studentssurveyed  highschool  \\\n",
       "0  75K004  K004  P.S. K004    1              Yes         0.0   \n",
       "1  75K036  K036    P.S. 36    1              Yes         NaN   \n",
       "2  75K053  K053  P.S. K053    1              Yes         NaN   \n",
       "3  75K077  K077  P.S. K077    1              Yes         NaN   \n",
       "4  75K140  K140  P.S. K140    1              Yes         0.0   \n",
       "\n",
       "                      schooltype  rr_s  rr_t  rr_p  ...  s_N_q14e_3  \\\n",
       "0  District 75 Special Education  38.0    90    72  ...         NaN   \n",
       "1  District 75 Special Education  70.0    69    44  ...         NaN   \n",
       "2  District 75 Special Education  94.0    97    53  ...         NaN   \n",
       "3  District 75 Special Education  95.0    65    55  ...         NaN   \n",
       "4  District 75 Special Education  77.0    70    42  ...         NaN   \n",
       "\n",
       "   s_N_q14e_4  s_N_q14f_1  s_N_q14f_2  s_N_q14f_3  s_N_q14f_4  s_N_q14g_1  \\\n",
       "0         NaN         NaN         NaN         NaN         NaN         NaN   \n",
       "1         NaN         NaN         NaN         NaN         NaN         NaN   \n",
       "2         NaN         NaN         NaN         NaN         NaN         NaN   \n",
       "3         NaN         NaN         NaN         NaN         NaN         NaN   \n",
       "4         NaN         NaN         NaN         NaN         NaN         NaN   \n",
       "\n",
       "   s_N_q14g_2  s_N_q14g_3  s_N_q14g_4  \n",
       "0         NaN         NaN         NaN  \n",
       "1         NaN         NaN         NaN  \n",
       "2         NaN         NaN         NaN  \n",
       "3         NaN         NaN         NaN  \n",
       "4         NaN         NaN         NaN  \n",
       "\n",
       "[5 rows x 2773 columns]"
      ]
     },
     "execution_count": 41,
     "metadata": {},
     "output_type": "execute_result"
    }
   ],
   "source": [
    "# downloaded the surveys that will also be needed\n",
    "\n",
    "survey_d75 = pd.read_csv('survey_d75.txt', sep='\\t', encoding='Windows-1252')\n",
    "survey_all = pd.read_csv('survey_all.txt', sep='\\t', encoding='Windows-1252')\n",
    "\n",
    "# combined it into a single dataframe\n",
    "\n",
    "survey = pd.concat([survey_d75, survey_all], axis=0)\n",
    "survey.head(5)"
   ]
  },
  {
   "cell_type": "markdown",
   "id": "4ca14872",
   "metadata": {},
   "source": [
    "There are two immediate facts that we can see in the data:\n",
    "\n",
    "- There are over 2000 columns, nearly all of which we don't need. We'll have to filter the data to remove the unnecessary ones. Working with fewer columns makes it easier to print the dataframe out and find correlations within it.\n",
    "- The survey data has a dbn column that we'll want to convert to uppercase (DBN). The conversion makes the column name consistent with the other data sets.\n",
    "\n",
    "First, we'll need to filter the columns to remove the ones we don't need. Luckily, there's a data dictionary at the original data download location. The dictionary tells us what each column represents. Based on our knowledge of the problem and the analysis we're trying to do, we can use the data dictionary to determine which columns to use.\n",
    "\n",
    "Based on the dictionary(https://data.cityofnewyork.us/Education/2011-NYC-School-Survey/mnz3-dyi8), it looks like these are the relevant columns:\n",
    "\n",
    "[\"dbn\", \"rr_s\", \"rr_t\", \"rr_p\", \"N_s\", \"N_t\", \"N_p\", \"saf_p_11\", \"com_p_11\", \"eng_p_11\", \"aca_p_11\", \"saf_t_11\", \"com_t_11\", \"eng_t_11\", \"aca_t_11\", \"saf_s_11\", \"com_s_11\", \"eng_s_11\", \"aca_s_11\", \"saf_tot_11\", \"com_tot_11\", \"eng_tot_11\", \"aca_tot_11\"]\n",
    "\n",
    "Before we filter columns out, we'll want to copy the data from the dbn column into a new column called DBN."
   ]
  },
  {
   "cell_type": "code",
   "execution_count": 42,
   "id": "e0487ddd",
   "metadata": {},
   "outputs": [
    {
     "name": "stderr",
     "output_type": "stream",
     "text": [
      "C:\\Users\\nlero\\AppData\\Local\\Temp\\ipykernel_19412\\4233832798.py:3: PerformanceWarning:\n",
      "\n",
      "DataFrame is highly fragmented.  This is usually the result of calling `frame.insert` many times, which has poor performance.  Consider joining all columns at once using pd.concat(axis=1) instead. To get a de-fragmented frame, use `newframe = frame.copy()`\n",
      "\n"
     ]
    }
   ],
   "source": [
    "# let's change the 'dbn' column name to uppercase\n",
    "\n",
    "survey['DBN'] = survey['dbn']\n",
    "\n",
    "# reassigned the variable with only the necessary columns\n",
    "\n",
    "survey = survey[[\"DBN\", \"rr_s\", \"rr_t\", \"rr_p\", \"N_s\", \"N_t\", \"N_p\", \"saf_p_11\", \"com_p_11\", \"eng_p_11\", \"aca_p_11\", \"saf_t_11\", \"com_t_11\", \"eng_t_11\", \"aca_t_11\", \"saf_s_11\", \"com_s_11\", \"eng_s_11\", \"aca_s_11\", \"saf_tot_11\", \"com_tot_11\", \"eng_tot_11\", \"aca_tot_11\"]]\n",
    "\n",
    "# added the survey dataframe to the distionary data\n",
    "\n",
    "data['survey'] = survey"
   ]
  },
  {
   "cell_type": "code",
   "execution_count": 43,
   "id": "d8c0b67b",
   "metadata": {},
   "outputs": [],
   "source": [
    "# let's create \"DBN\" column in the class size dataframe by checking the \"CSD\" column on length \n",
    "# if it is less than two digits long add a leading 0. Then add the \"SCHOOL CODE\" column\n",
    "\n",
    "data['class_size']['DBN'] = data['class_size']['CSD'].apply(lambda x: str(x) if len(str(x)) > 1 else '0{}'.format(str(x))) \\\n",
    "                          + data['class_size']['SCHOOL CODE']"
   ]
  },
  {
   "cell_type": "code",
   "execution_count": 44,
   "id": "df8fcf8b",
   "metadata": {},
   "outputs": [
    {
     "data": {
      "text/plain": [
       "0        01M015\n",
       "1        01M015\n",
       "2        01M015\n",
       "3        01M015\n",
       "4        01M015\n",
       "          ...  \n",
       "27606    32K564\n",
       "27607    32K564\n",
       "27608    32K564\n",
       "27609    32K564\n",
       "27610    32K564\n",
       "Name: DBN, Length: 27611, dtype: object"
      ]
     },
     "execution_count": 44,
     "metadata": {},
     "output_type": "execute_result"
    }
   ],
   "source": [
    "data['class_size']['DBN']"
   ]
  },
  {
   "cell_type": "code",
   "execution_count": 45,
   "id": "8c1ff7fc",
   "metadata": {},
   "outputs": [],
   "source": [
    "# let's create a column that totals up the SAT scores for the different sections of the exam. \n",
    "# This makes it much easier to correlate scores with demographic factors because we'll be working with a single number, \n",
    "# rather than three different ones.\n",
    "\n",
    "data['sat_results']['sat_score'] = pd.to_numeric(data['sat_results']['SAT Math Avg. Score'],errors=\"coerce\")\\\n",
    "                                 + pd.to_numeric(data['sat_results']['SAT Critical Reading Avg. Score'],errors=\"coerce\")\\\n",
    "                                 + pd.to_numeric(data['sat_results']['SAT Writing Avg. Score'], errors=\"coerce\")"
   ]
  },
  {
   "cell_type": "code",
   "execution_count": 46,
   "id": "ae8f411e",
   "metadata": {},
   "outputs": [
    {
     "data": {
      "text/plain": [
       "0      40.601989336\n",
       "1      40.593593811\n",
       "2      40.692133704\n",
       "3      40.822303765\n",
       "4      40.773670507\n",
       "           ...     \n",
       "430    40.765026708\n",
       "431    40.840373398\n",
       "432    40.696961848\n",
       "433    40.732485378\n",
       "434     40.58211615\n",
       "Name: lat, Length: 435, dtype: object"
      ]
     },
     "execution_count": 46,
     "metadata": {},
     "output_type": "execute_result"
    }
   ],
   "source": [
    "# let's extract the latitude using regular expressions\n",
    "\n",
    "data['hs_directory']['lat'] = data['hs_directory']['Location 1']\\\n",
    "                              .apply(lambda x: re.findall(r'([.\\d-]+),\\s([.\\d-]+)',str(x))[0][0])\n",
    "\n",
    "data['hs_directory']['lat']"
   ]
  },
  {
   "cell_type": "code",
   "execution_count": 47,
   "id": "5135e24e",
   "metadata": {},
   "outputs": [
    {
     "data": {
      "text/plain": [
       "0      -73.762834323\n",
       "1      -73.984729232\n",
       "2      -73.931503172\n",
       "3       -73.85596139\n",
       "4      -73.985268558\n",
       "           ...      \n",
       "430    -73.992516578\n",
       "431    -73.910838008\n",
       "432    -73.910815939\n",
       "433    -73.983053388\n",
       "434    -73.972894492\n",
       "Name: lon, Length: 435, dtype: object"
      ]
     },
     "execution_count": 47,
     "metadata": {},
     "output_type": "execute_result"
    }
   ],
   "source": [
    "# then do the same with longitude\n",
    "\n",
    "data['hs_directory']['lon'] = data['hs_directory']['Location 1']\\\n",
    "                              .apply(lambda x: re.findall(r'([.\\d-]+),\\s([.\\d-]+)',str(x))[0][1])\n",
    "\n",
    "data['hs_directory']['lon']"
   ]
  },
  {
   "cell_type": "code",
   "execution_count": 48,
   "id": "179b0242",
   "metadata": {},
   "outputs": [],
   "source": [
    "# changed the lat and the lon columns to numeric\n",
    "\n",
    "data['hs_directory']['lat'] = pd.to_numeric(data['hs_directory']['lat'],errors=\"coerce\")\n",
    "data['hs_directory']['lon'] = pd.to_numeric(data['hs_directory']['lon'],errors=\"coerce\")"
   ]
  },
  {
   "cell_type": "code",
   "execution_count": 49,
   "id": "34d14589",
   "metadata": {},
   "outputs": [],
   "source": [
    "data['hs_directory'].rename(columns={'dbn':'DBN'}, inplace=True)"
   ]
  },
  {
   "cell_type": "markdown",
   "id": "45a50448",
   "metadata": {},
   "source": [
    "We noticed that the values in the DBN column were unique in the sat_results data set. Other data sets like class_size had duplicate DBN values.\n",
    "We'll need to condense these datasets so that each value in the DBN column is unique.\n",
    "To resolve this issue, we'll condense the class_size, graduation and demographics datasets so that each DBN is unique.\n",
    "The first dataset that we'll condense is class_size."
   ]
  },
  {
   "cell_type": "code",
   "execution_count": 50,
   "id": "97caf0ff",
   "metadata": {},
   "outputs": [
    {
     "data": {
      "text/html": [
       "<div>\n",
       "<style scoped>\n",
       "    .dataframe tbody tr th:only-of-type {\n",
       "        vertical-align: middle;\n",
       "    }\n",
       "\n",
       "    .dataframe tbody tr th {\n",
       "        vertical-align: top;\n",
       "    }\n",
       "\n",
       "    .dataframe thead th {\n",
       "        text-align: right;\n",
       "    }\n",
       "</style>\n",
       "<table border=\"1\" class=\"dataframe\">\n",
       "  <thead>\n",
       "    <tr style=\"text-align: right;\">\n",
       "      <th></th>\n",
       "      <th>CSD</th>\n",
       "      <th>BOROUGH</th>\n",
       "      <th>SCHOOL CODE</th>\n",
       "      <th>SCHOOL NAME</th>\n",
       "      <th>GRADE</th>\n",
       "      <th>PROGRAM TYPE</th>\n",
       "      <th>CORE SUBJECT (MS CORE and 9-12 ONLY)</th>\n",
       "      <th>CORE COURSE (MS CORE and 9-12 ONLY)</th>\n",
       "      <th>SERVICE CATEGORY(K-9* ONLY)</th>\n",
       "      <th>NUMBER OF STUDENTS / SEATS FILLED</th>\n",
       "      <th>NUMBER OF SECTIONS</th>\n",
       "      <th>AVERAGE CLASS SIZE</th>\n",
       "      <th>SIZE OF SMALLEST CLASS</th>\n",
       "      <th>SIZE OF LARGEST CLASS</th>\n",
       "      <th>DATA SOURCE</th>\n",
       "      <th>SCHOOLWIDE PUPIL-TEACHER RATIO</th>\n",
       "      <th>DBN</th>\n",
       "    </tr>\n",
       "  </thead>\n",
       "  <tbody>\n",
       "    <tr>\n",
       "      <th>0</th>\n",
       "      <td>1</td>\n",
       "      <td>M</td>\n",
       "      <td>M015</td>\n",
       "      <td>P.S. 015 Roberto Clemente</td>\n",
       "      <td>0K</td>\n",
       "      <td>GEN ED</td>\n",
       "      <td>-</td>\n",
       "      <td>-</td>\n",
       "      <td>-</td>\n",
       "      <td>19.0</td>\n",
       "      <td>1.0</td>\n",
       "      <td>19.0</td>\n",
       "      <td>19.0</td>\n",
       "      <td>19.0</td>\n",
       "      <td>ATS</td>\n",
       "      <td>NaN</td>\n",
       "      <td>01M015</td>\n",
       "    </tr>\n",
       "    <tr>\n",
       "      <th>1</th>\n",
       "      <td>1</td>\n",
       "      <td>M</td>\n",
       "      <td>M015</td>\n",
       "      <td>P.S. 015 Roberto Clemente</td>\n",
       "      <td>0K</td>\n",
       "      <td>CTT</td>\n",
       "      <td>-</td>\n",
       "      <td>-</td>\n",
       "      <td>-</td>\n",
       "      <td>21.0</td>\n",
       "      <td>1.0</td>\n",
       "      <td>21.0</td>\n",
       "      <td>21.0</td>\n",
       "      <td>21.0</td>\n",
       "      <td>ATS</td>\n",
       "      <td>NaN</td>\n",
       "      <td>01M015</td>\n",
       "    </tr>\n",
       "    <tr>\n",
       "      <th>2</th>\n",
       "      <td>1</td>\n",
       "      <td>M</td>\n",
       "      <td>M015</td>\n",
       "      <td>P.S. 015 Roberto Clemente</td>\n",
       "      <td>01</td>\n",
       "      <td>GEN ED</td>\n",
       "      <td>-</td>\n",
       "      <td>-</td>\n",
       "      <td>-</td>\n",
       "      <td>17.0</td>\n",
       "      <td>1.0</td>\n",
       "      <td>17.0</td>\n",
       "      <td>17.0</td>\n",
       "      <td>17.0</td>\n",
       "      <td>ATS</td>\n",
       "      <td>NaN</td>\n",
       "      <td>01M015</td>\n",
       "    </tr>\n",
       "    <tr>\n",
       "      <th>3</th>\n",
       "      <td>1</td>\n",
       "      <td>M</td>\n",
       "      <td>M015</td>\n",
       "      <td>P.S. 015 Roberto Clemente</td>\n",
       "      <td>01</td>\n",
       "      <td>CTT</td>\n",
       "      <td>-</td>\n",
       "      <td>-</td>\n",
       "      <td>-</td>\n",
       "      <td>17.0</td>\n",
       "      <td>1.0</td>\n",
       "      <td>17.0</td>\n",
       "      <td>17.0</td>\n",
       "      <td>17.0</td>\n",
       "      <td>ATS</td>\n",
       "      <td>NaN</td>\n",
       "      <td>01M015</td>\n",
       "    </tr>\n",
       "    <tr>\n",
       "      <th>4</th>\n",
       "      <td>1</td>\n",
       "      <td>M</td>\n",
       "      <td>M015</td>\n",
       "      <td>P.S. 015 Roberto Clemente</td>\n",
       "      <td>02</td>\n",
       "      <td>GEN ED</td>\n",
       "      <td>-</td>\n",
       "      <td>-</td>\n",
       "      <td>-</td>\n",
       "      <td>15.0</td>\n",
       "      <td>1.0</td>\n",
       "      <td>15.0</td>\n",
       "      <td>15.0</td>\n",
       "      <td>15.0</td>\n",
       "      <td>ATS</td>\n",
       "      <td>NaN</td>\n",
       "      <td>01M015</td>\n",
       "    </tr>\n",
       "  </tbody>\n",
       "</table>\n",
       "</div>"
      ],
      "text/plain": [
       "   CSD BOROUGH SCHOOL CODE                SCHOOL NAME GRADE  PROGRAM TYPE  \\\n",
       "0    1       M        M015  P.S. 015 Roberto Clemente     0K       GEN ED   \n",
       "1    1       M        M015  P.S. 015 Roberto Clemente     0K          CTT   \n",
       "2    1       M        M015  P.S. 015 Roberto Clemente     01       GEN ED   \n",
       "3    1       M        M015  P.S. 015 Roberto Clemente     01          CTT   \n",
       "4    1       M        M015  P.S. 015 Roberto Clemente     02       GEN ED   \n",
       "\n",
       "  CORE SUBJECT (MS CORE and 9-12 ONLY) CORE COURSE (MS CORE and 9-12 ONLY)  \\\n",
       "0                                    -                                   -   \n",
       "1                                    -                                   -   \n",
       "2                                    -                                   -   \n",
       "3                                    -                                   -   \n",
       "4                                    -                                   -   \n",
       "\n",
       "  SERVICE CATEGORY(K-9* ONLY)  NUMBER OF STUDENTS / SEATS FILLED  \\\n",
       "0                           -                               19.0   \n",
       "1                           -                               21.0   \n",
       "2                           -                               17.0   \n",
       "3                           -                               17.0   \n",
       "4                           -                               15.0   \n",
       "\n",
       "   NUMBER OF SECTIONS  AVERAGE CLASS SIZE  SIZE OF SMALLEST CLASS  \\\n",
       "0                 1.0                19.0                    19.0   \n",
       "1                 1.0                21.0                    21.0   \n",
       "2                 1.0                17.0                    17.0   \n",
       "3                 1.0                17.0                    17.0   \n",
       "4                 1.0                15.0                    15.0   \n",
       "\n",
       "   SIZE OF LARGEST CLASS DATA SOURCE  SCHOOLWIDE PUPIL-TEACHER RATIO     DBN  \n",
       "0                   19.0         ATS                             NaN  01M015  \n",
       "1                   21.0         ATS                             NaN  01M015  \n",
       "2                   17.0         ATS                             NaN  01M015  \n",
       "3                   17.0         ATS                             NaN  01M015  \n",
       "4                   15.0         ATS                             NaN  01M015  "
      ]
     },
     "execution_count": 50,
     "metadata": {},
     "output_type": "execute_result"
    }
   ],
   "source": [
    "data['class_size'].head()"
   ]
  },
  {
   "cell_type": "markdown",
   "id": "354aa99f",
   "metadata": {},
   "source": [
    "The first few rows all pertain to the same school, which is why the DBN appears more than once. It looks like each school has multiple values for GRADE, PROGRAM TYPE, CORE SUBJECT (MS CORE and 9-12 ONLY), and CORE COURSE (MS CORE and 9-12 ONLY).\n",
    "\n",
    "If we look at the unique values for GRADE, we get the following:"
   ]
  },
  {
   "cell_type": "code",
   "execution_count": 51,
   "id": "89a4487a",
   "metadata": {},
   "outputs": [
    {
     "data": {
      "text/plain": [
       "array(['0K', '01', '02', '03', '04', '05', '0K-09', nan, '06', '07', '08',\n",
       "       'MS Core', '09-12', '09'], dtype=object)"
      ]
     },
     "execution_count": 51,
     "metadata": {},
     "output_type": "execute_result"
    }
   ],
   "source": [
    "data['class_size'] = data['class_size'].rename(columns={'GRADE ':'GRADE'})\n",
    "data['class_size']['GRADE'].unique()"
   ]
  },
  {
   "cell_type": "markdown",
   "id": "e31e886b",
   "metadata": {},
   "source": [
    "Since we're dealing with high schools, we're only concerned with grades 9 through 12. That means we only want to pick rows where the value in the GRADE column is 09-12.\n",
    "\n",
    "If we look at the unique values for PROGRAM TYPE, we get the following:"
   ]
  },
  {
   "cell_type": "code",
   "execution_count": 52,
   "id": "ed20607d",
   "metadata": {},
   "outputs": [
    {
     "data": {
      "text/plain": [
       "array(['GEN ED', 'CTT', 'SPEC ED', nan, 'G&T'], dtype=object)"
      ]
     },
     "execution_count": 52,
     "metadata": {},
     "output_type": "execute_result"
    }
   ],
   "source": [
    "data['class_size']['PROGRAM TYPE'].unique()"
   ]
  },
  {
   "cell_type": "markdown",
   "id": "dd4d427d",
   "metadata": {},
   "source": [
    "Each school can have multiple program types. Since GEN ED is the largest category by far, let's only select rows where PROGRAM TYPE is GEN ED."
   ]
  },
  {
   "cell_type": "code",
   "execution_count": 59,
   "id": "711698f9",
   "metadata": {},
   "outputs": [
    {
     "data": {
      "text/html": [
       "<div>\n",
       "<style scoped>\n",
       "    .dataframe tbody tr th:only-of-type {\n",
       "        vertical-align: middle;\n",
       "    }\n",
       "\n",
       "    .dataframe tbody tr th {\n",
       "        vertical-align: top;\n",
       "    }\n",
       "\n",
       "    .dataframe thead th {\n",
       "        text-align: right;\n",
       "    }\n",
       "</style>\n",
       "<table border=\"1\" class=\"dataframe\">\n",
       "  <thead>\n",
       "    <tr style=\"text-align: right;\">\n",
       "      <th></th>\n",
       "      <th>CSD</th>\n",
       "      <th>BOROUGH</th>\n",
       "      <th>SCHOOL CODE</th>\n",
       "      <th>SCHOOL NAME</th>\n",
       "      <th>GRADE</th>\n",
       "      <th>PROGRAM TYPE</th>\n",
       "      <th>CORE SUBJECT (MS CORE and 9-12 ONLY)</th>\n",
       "      <th>CORE COURSE (MS CORE and 9-12 ONLY)</th>\n",
       "      <th>SERVICE CATEGORY(K-9* ONLY)</th>\n",
       "      <th>NUMBER OF STUDENTS / SEATS FILLED</th>\n",
       "      <th>NUMBER OF SECTIONS</th>\n",
       "      <th>AVERAGE CLASS SIZE</th>\n",
       "      <th>SIZE OF SMALLEST CLASS</th>\n",
       "      <th>SIZE OF LARGEST CLASS</th>\n",
       "      <th>DATA SOURCE</th>\n",
       "      <th>SCHOOLWIDE PUPIL-TEACHER RATIO</th>\n",
       "      <th>DBN</th>\n",
       "    </tr>\n",
       "  </thead>\n",
       "  <tbody>\n",
       "    <tr>\n",
       "      <th>225</th>\n",
       "      <td>1</td>\n",
       "      <td>M</td>\n",
       "      <td>M292</td>\n",
       "      <td>Henry Street School for International Studies</td>\n",
       "      <td>09-12</td>\n",
       "      <td>GEN ED</td>\n",
       "      <td>ENGLISH</td>\n",
       "      <td>English 9</td>\n",
       "      <td>-</td>\n",
       "      <td>63.0</td>\n",
       "      <td>3.0</td>\n",
       "      <td>21.0</td>\n",
       "      <td>19.0</td>\n",
       "      <td>25.0</td>\n",
       "      <td>STARS</td>\n",
       "      <td>NaN</td>\n",
       "      <td>01M292</td>\n",
       "    </tr>\n",
       "    <tr>\n",
       "      <th>226</th>\n",
       "      <td>1</td>\n",
       "      <td>M</td>\n",
       "      <td>M292</td>\n",
       "      <td>Henry Street School for International Studies</td>\n",
       "      <td>09-12</td>\n",
       "      <td>GEN ED</td>\n",
       "      <td>ENGLISH</td>\n",
       "      <td>English 10</td>\n",
       "      <td>-</td>\n",
       "      <td>79.0</td>\n",
       "      <td>3.0</td>\n",
       "      <td>26.3</td>\n",
       "      <td>24.0</td>\n",
       "      <td>31.0</td>\n",
       "      <td>STARS</td>\n",
       "      <td>NaN</td>\n",
       "      <td>01M292</td>\n",
       "    </tr>\n",
       "    <tr>\n",
       "      <th>227</th>\n",
       "      <td>1</td>\n",
       "      <td>M</td>\n",
       "      <td>M292</td>\n",
       "      <td>Henry Street School for International Studies</td>\n",
       "      <td>09-12</td>\n",
       "      <td>GEN ED</td>\n",
       "      <td>ENGLISH</td>\n",
       "      <td>English 11</td>\n",
       "      <td>-</td>\n",
       "      <td>38.0</td>\n",
       "      <td>2.0</td>\n",
       "      <td>19.0</td>\n",
       "      <td>16.0</td>\n",
       "      <td>22.0</td>\n",
       "      <td>STARS</td>\n",
       "      <td>NaN</td>\n",
       "      <td>01M292</td>\n",
       "    </tr>\n",
       "    <tr>\n",
       "      <th>228</th>\n",
       "      <td>1</td>\n",
       "      <td>M</td>\n",
       "      <td>M292</td>\n",
       "      <td>Henry Street School for International Studies</td>\n",
       "      <td>09-12</td>\n",
       "      <td>GEN ED</td>\n",
       "      <td>ENGLISH</td>\n",
       "      <td>English 12</td>\n",
       "      <td>-</td>\n",
       "      <td>69.0</td>\n",
       "      <td>3.0</td>\n",
       "      <td>23.0</td>\n",
       "      <td>13.0</td>\n",
       "      <td>30.0</td>\n",
       "      <td>STARS</td>\n",
       "      <td>NaN</td>\n",
       "      <td>01M292</td>\n",
       "    </tr>\n",
       "    <tr>\n",
       "      <th>229</th>\n",
       "      <td>1</td>\n",
       "      <td>M</td>\n",
       "      <td>M292</td>\n",
       "      <td>Henry Street School for International Studies</td>\n",
       "      <td>09-12</td>\n",
       "      <td>GEN ED</td>\n",
       "      <td>MATH</td>\n",
       "      <td>Integrated Algebra</td>\n",
       "      <td>-</td>\n",
       "      <td>53.0</td>\n",
       "      <td>3.0</td>\n",
       "      <td>17.7</td>\n",
       "      <td>16.0</td>\n",
       "      <td>21.0</td>\n",
       "      <td>STARS</td>\n",
       "      <td>NaN</td>\n",
       "      <td>01M292</td>\n",
       "    </tr>\n",
       "  </tbody>\n",
       "</table>\n",
       "</div>"
      ],
      "text/plain": [
       "     CSD BOROUGH SCHOOL CODE                                    SCHOOL NAME  \\\n",
       "225    1       M        M292  Henry Street School for International Studies   \n",
       "226    1       M        M292  Henry Street School for International Studies   \n",
       "227    1       M        M292  Henry Street School for International Studies   \n",
       "228    1       M        M292  Henry Street School for International Studies   \n",
       "229    1       M        M292  Henry Street School for International Studies   \n",
       "\n",
       "     GRADE PROGRAM TYPE CORE SUBJECT (MS CORE and 9-12 ONLY)  \\\n",
       "225  09-12       GEN ED                              ENGLISH   \n",
       "226  09-12       GEN ED                              ENGLISH   \n",
       "227  09-12       GEN ED                              ENGLISH   \n",
       "228  09-12       GEN ED                              ENGLISH   \n",
       "229  09-12       GEN ED                                 MATH   \n",
       "\n",
       "    CORE COURSE (MS CORE and 9-12 ONLY) SERVICE CATEGORY(K-9* ONLY)  \\\n",
       "225                           English 9                           -   \n",
       "226                          English 10                           -   \n",
       "227                          English 11                           -   \n",
       "228                          English 12                           -   \n",
       "229                  Integrated Algebra                           -   \n",
       "\n",
       "     NUMBER OF STUDENTS / SEATS FILLED  NUMBER OF SECTIONS  \\\n",
       "225                               63.0                 3.0   \n",
       "226                               79.0                 3.0   \n",
       "227                               38.0                 2.0   \n",
       "228                               69.0                 3.0   \n",
       "229                               53.0                 3.0   \n",
       "\n",
       "     AVERAGE CLASS SIZE  SIZE OF SMALLEST CLASS  SIZE OF LARGEST CLASS  \\\n",
       "225                21.0                    19.0                   25.0   \n",
       "226                26.3                    24.0                   31.0   \n",
       "227                19.0                    16.0                   22.0   \n",
       "228                23.0                    13.0                   30.0   \n",
       "229                17.7                    16.0                   21.0   \n",
       "\n",
       "    DATA SOURCE  SCHOOLWIDE PUPIL-TEACHER RATIO     DBN  \n",
       "225       STARS                             NaN  01M292  \n",
       "226       STARS                             NaN  01M292  \n",
       "227       STARS                             NaN  01M292  \n",
       "228       STARS                             NaN  01M292  \n",
       "229       STARS                             NaN  01M292  "
      ]
     },
     "execution_count": 59,
     "metadata": {},
     "output_type": "execute_result"
    }
   ],
   "source": [
    "class_size = data['class_size']\n",
    "class_size = class_size.query('GRADE  == \"09-12\" or GRADE  == \"09\"')              \n",
    "class_size = class_size.query('`PROGRAM TYPE` == \"GEN ED\"')\n",
    "class_size.head()"
   ]
  },
  {
   "cell_type": "markdown",
   "id": "a001635a",
   "metadata": {},
   "source": [
    "As we saw when we displayed class_size on the last screen, DBN still isn't completely unique. This is due to the CORE COURSE (MS CORE and 9-12 ONLY) and CORE SUBJECT (MS CORE and 9-12 ONLY) columns.\n",
    "\n",
    "CORE COURSE (MS CORE and 9-12 ONLY) and CORE SUBJECT (MS CORE and 9-12 ONLY) seem to pertain to different kinds of classes. For example, here are the unique values for CORE SUBJECT (MS CORE and 9-12 ONLY):"
   ]
  },
  {
   "cell_type": "code",
   "execution_count": 60,
   "id": "1342c6f8",
   "metadata": {},
   "outputs": [
    {
     "data": {
      "text/plain": [
       "array(['ENGLISH', 'MATH', 'SCIENCE', 'SOCIAL STUDIES', '-'], dtype=object)"
      ]
     },
     "execution_count": 60,
     "metadata": {},
     "output_type": "execute_result"
    }
   ],
   "source": [
    "class_size['CORE SUBJECT (MS CORE and 9-12 ONLY)'].unique()"
   ]
  },
  {
   "cell_type": "markdown",
   "id": "42c015c2",
   "metadata": {},
   "source": [
    "This column only seems to include certain subjects. We want our class size data to include every single class a school offers -- not just a subset of them. What we can do is take the average across all of the classes a school offers. This gives us unique DBN values, while also incorporating as much data as possible into the average."
   ]
  },
  {
   "cell_type": "code",
   "execution_count": 61,
   "id": "db72e7b3",
   "metadata": {},
   "outputs": [
    {
     "data": {
      "text/html": [
       "<div>\n",
       "<style scoped>\n",
       "    .dataframe tbody tr th:only-of-type {\n",
       "        vertical-align: middle;\n",
       "    }\n",
       "\n",
       "    .dataframe tbody tr th {\n",
       "        vertical-align: top;\n",
       "    }\n",
       "\n",
       "    .dataframe thead th {\n",
       "        text-align: right;\n",
       "    }\n",
       "</style>\n",
       "<table border=\"1\" class=\"dataframe\">\n",
       "  <thead>\n",
       "    <tr style=\"text-align: right;\">\n",
       "      <th></th>\n",
       "      <th>DBN</th>\n",
       "      <th>CSD</th>\n",
       "      <th>NUMBER OF STUDENTS / SEATS FILLED</th>\n",
       "      <th>NUMBER OF SECTIONS</th>\n",
       "      <th>AVERAGE CLASS SIZE</th>\n",
       "      <th>SIZE OF SMALLEST CLASS</th>\n",
       "      <th>SIZE OF LARGEST CLASS</th>\n",
       "      <th>SCHOOLWIDE PUPIL-TEACHER RATIO</th>\n",
       "    </tr>\n",
       "  </thead>\n",
       "  <tbody>\n",
       "    <tr>\n",
       "      <th>0</th>\n",
       "      <td>01M292</td>\n",
       "      <td>1.0</td>\n",
       "      <td>88.0000</td>\n",
       "      <td>4.000000</td>\n",
       "      <td>22.564286</td>\n",
       "      <td>18.50</td>\n",
       "      <td>26.571429</td>\n",
       "      <td>NaN</td>\n",
       "    </tr>\n",
       "    <tr>\n",
       "      <th>1</th>\n",
       "      <td>01M332</td>\n",
       "      <td>1.0</td>\n",
       "      <td>46.0000</td>\n",
       "      <td>2.000000</td>\n",
       "      <td>22.000000</td>\n",
       "      <td>21.00</td>\n",
       "      <td>23.500000</td>\n",
       "      <td>NaN</td>\n",
       "    </tr>\n",
       "    <tr>\n",
       "      <th>2</th>\n",
       "      <td>01M378</td>\n",
       "      <td>1.0</td>\n",
       "      <td>33.0000</td>\n",
       "      <td>1.000000</td>\n",
       "      <td>33.000000</td>\n",
       "      <td>33.00</td>\n",
       "      <td>33.000000</td>\n",
       "      <td>NaN</td>\n",
       "    </tr>\n",
       "    <tr>\n",
       "      <th>3</th>\n",
       "      <td>01M448</td>\n",
       "      <td>1.0</td>\n",
       "      <td>105.6875</td>\n",
       "      <td>4.750000</td>\n",
       "      <td>22.231250</td>\n",
       "      <td>18.25</td>\n",
       "      <td>27.062500</td>\n",
       "      <td>NaN</td>\n",
       "    </tr>\n",
       "    <tr>\n",
       "      <th>4</th>\n",
       "      <td>01M450</td>\n",
       "      <td>1.0</td>\n",
       "      <td>57.6000</td>\n",
       "      <td>2.733333</td>\n",
       "      <td>21.200000</td>\n",
       "      <td>19.40</td>\n",
       "      <td>22.866667</td>\n",
       "      <td>NaN</td>\n",
       "    </tr>\n",
       "  </tbody>\n",
       "</table>\n",
       "</div>"
      ],
      "text/plain": [
       "      DBN  CSD  NUMBER OF STUDENTS / SEATS FILLED  NUMBER OF SECTIONS  \\\n",
       "0  01M292  1.0                            88.0000            4.000000   \n",
       "1  01M332  1.0                            46.0000            2.000000   \n",
       "2  01M378  1.0                            33.0000            1.000000   \n",
       "3  01M448  1.0                           105.6875            4.750000   \n",
       "4  01M450  1.0                            57.6000            2.733333   \n",
       "\n",
       "   AVERAGE CLASS SIZE  SIZE OF SMALLEST CLASS  SIZE OF LARGEST CLASS  \\\n",
       "0           22.564286                   18.50              26.571429   \n",
       "1           22.000000                   21.00              23.500000   \n",
       "2           33.000000                   33.00              33.000000   \n",
       "3           22.231250                   18.25              27.062500   \n",
       "4           21.200000                   19.40              22.866667   \n",
       "\n",
       "   SCHOOLWIDE PUPIL-TEACHER RATIO  \n",
       "0                             NaN  \n",
       "1                             NaN  \n",
       "2                             NaN  \n",
       "3                             NaN  \n",
       "4                             NaN  "
      ]
     },
     "execution_count": 61,
     "metadata": {},
     "output_type": "execute_result"
    }
   ],
   "source": [
    "class_size = class_size.groupby('DBN', as_index=False).agg(np.mean)\n",
    "data['class_size'] = class_size\n",
    "class_size.head()"
   ]
  },
  {
   "cell_type": "markdown",
   "id": "7cd4c1c3",
   "metadata": {},
   "source": [
    "Let's condense demographics. The first few rows look like this:"
   ]
  },
  {
   "cell_type": "code",
   "execution_count": 62,
   "id": "285dbdc8",
   "metadata": {},
   "outputs": [
    {
     "data": {
      "text/html": [
       "<div>\n",
       "<style scoped>\n",
       "    .dataframe tbody tr th:only-of-type {\n",
       "        vertical-align: middle;\n",
       "    }\n",
       "\n",
       "    .dataframe tbody tr th {\n",
       "        vertical-align: top;\n",
       "    }\n",
       "\n",
       "    .dataframe thead th {\n",
       "        text-align: right;\n",
       "    }\n",
       "</style>\n",
       "<table border=\"1\" class=\"dataframe\">\n",
       "  <thead>\n",
       "    <tr style=\"text-align: right;\">\n",
       "      <th></th>\n",
       "      <th>DBN</th>\n",
       "      <th>Name</th>\n",
       "      <th>schoolyear</th>\n",
       "      <th>fl_percent</th>\n",
       "      <th>frl_percent</th>\n",
       "      <th>total_enrollment</th>\n",
       "      <th>prek</th>\n",
       "      <th>k</th>\n",
       "      <th>grade1</th>\n",
       "      <th>grade2</th>\n",
       "      <th>...</th>\n",
       "      <th>black_num</th>\n",
       "      <th>black_per</th>\n",
       "      <th>hispanic_num</th>\n",
       "      <th>hispanic_per</th>\n",
       "      <th>white_num</th>\n",
       "      <th>white_per</th>\n",
       "      <th>male_num</th>\n",
       "      <th>male_per</th>\n",
       "      <th>female_num</th>\n",
       "      <th>female_per</th>\n",
       "    </tr>\n",
       "  </thead>\n",
       "  <tbody>\n",
       "    <tr>\n",
       "      <th>0</th>\n",
       "      <td>01M015</td>\n",
       "      <td>P.S. 015 ROBERTO CLEMENTE</td>\n",
       "      <td>20052006</td>\n",
       "      <td>89.4</td>\n",
       "      <td>NaN</td>\n",
       "      <td>281</td>\n",
       "      <td>15</td>\n",
       "      <td>36</td>\n",
       "      <td>40</td>\n",
       "      <td>33</td>\n",
       "      <td>...</td>\n",
       "      <td>74</td>\n",
       "      <td>26.3</td>\n",
       "      <td>189</td>\n",
       "      <td>67.3</td>\n",
       "      <td>5</td>\n",
       "      <td>1.8</td>\n",
       "      <td>158.0</td>\n",
       "      <td>56.2</td>\n",
       "      <td>123.0</td>\n",
       "      <td>43.8</td>\n",
       "    </tr>\n",
       "    <tr>\n",
       "      <th>1</th>\n",
       "      <td>01M015</td>\n",
       "      <td>P.S. 015 ROBERTO CLEMENTE</td>\n",
       "      <td>20062007</td>\n",
       "      <td>89.4</td>\n",
       "      <td>NaN</td>\n",
       "      <td>243</td>\n",
       "      <td>15</td>\n",
       "      <td>29</td>\n",
       "      <td>39</td>\n",
       "      <td>38</td>\n",
       "      <td>...</td>\n",
       "      <td>68</td>\n",
       "      <td>28.0</td>\n",
       "      <td>153</td>\n",
       "      <td>63.0</td>\n",
       "      <td>4</td>\n",
       "      <td>1.6</td>\n",
       "      <td>140.0</td>\n",
       "      <td>57.6</td>\n",
       "      <td>103.0</td>\n",
       "      <td>42.4</td>\n",
       "    </tr>\n",
       "    <tr>\n",
       "      <th>2</th>\n",
       "      <td>01M015</td>\n",
       "      <td>P.S. 015 ROBERTO CLEMENTE</td>\n",
       "      <td>20072008</td>\n",
       "      <td>89.4</td>\n",
       "      <td>NaN</td>\n",
       "      <td>261</td>\n",
       "      <td>18</td>\n",
       "      <td>43</td>\n",
       "      <td>39</td>\n",
       "      <td>36</td>\n",
       "      <td>...</td>\n",
       "      <td>77</td>\n",
       "      <td>29.5</td>\n",
       "      <td>157</td>\n",
       "      <td>60.2</td>\n",
       "      <td>7</td>\n",
       "      <td>2.7</td>\n",
       "      <td>143.0</td>\n",
       "      <td>54.8</td>\n",
       "      <td>118.0</td>\n",
       "      <td>45.2</td>\n",
       "    </tr>\n",
       "  </tbody>\n",
       "</table>\n",
       "<p>3 rows × 38 columns</p>\n",
       "</div>"
      ],
      "text/plain": [
       "      DBN                       Name  schoolyear fl_percent  frl_percent  \\\n",
       "0  01M015  P.S. 015 ROBERTO CLEMENTE    20052006       89.4          NaN   \n",
       "1  01M015  P.S. 015 ROBERTO CLEMENTE    20062007       89.4          NaN   \n",
       "2  01M015  P.S. 015 ROBERTO CLEMENTE    20072008       89.4          NaN   \n",
       "\n",
       "   total_enrollment prek   k grade1 grade2  ... black_num black_per  \\\n",
       "0               281   15  36     40     33  ...        74      26.3   \n",
       "1               243   15  29     39     38  ...        68      28.0   \n",
       "2               261   18  43     39     36  ...        77      29.5   \n",
       "\n",
       "  hispanic_num hispanic_per white_num white_per male_num male_per female_num  \\\n",
       "0          189         67.3         5       1.8    158.0     56.2      123.0   \n",
       "1          153         63.0         4       1.6    140.0     57.6      103.0   \n",
       "2          157         60.2         7       2.7    143.0     54.8      118.0   \n",
       "\n",
       "  female_per  \n",
       "0       43.8  \n",
       "1       42.4  \n",
       "2       45.2  \n",
       "\n",
       "[3 rows x 38 columns]"
      ]
     },
     "execution_count": 62,
     "metadata": {},
     "output_type": "execute_result"
    }
   ],
   "source": [
    "data['demographics'].head(3)"
   ]
  },
  {
   "cell_type": "markdown",
   "id": "365c3047",
   "metadata": {},
   "source": [
    "In this case, the only column that prevents a given DBN from being unique is schoolyear. We only want to select rows where schoolyear is 20112012. This will give us the most recent year of data, and also match our SAT results data."
   ]
  },
  {
   "cell_type": "code",
   "execution_count": 63,
   "id": "cb5e143e",
   "metadata": {},
   "outputs": [
    {
     "data": {
      "text/html": [
       "<div>\n",
       "<style scoped>\n",
       "    .dataframe tbody tr th:only-of-type {\n",
       "        vertical-align: middle;\n",
       "    }\n",
       "\n",
       "    .dataframe tbody tr th {\n",
       "        vertical-align: top;\n",
       "    }\n",
       "\n",
       "    .dataframe thead th {\n",
       "        text-align: right;\n",
       "    }\n",
       "</style>\n",
       "<table border=\"1\" class=\"dataframe\">\n",
       "  <thead>\n",
       "    <tr style=\"text-align: right;\">\n",
       "      <th></th>\n",
       "      <th>DBN</th>\n",
       "      <th>Name</th>\n",
       "      <th>schoolyear</th>\n",
       "      <th>fl_percent</th>\n",
       "      <th>frl_percent</th>\n",
       "      <th>total_enrollment</th>\n",
       "      <th>prek</th>\n",
       "      <th>k</th>\n",
       "      <th>grade1</th>\n",
       "      <th>grade2</th>\n",
       "      <th>...</th>\n",
       "      <th>black_num</th>\n",
       "      <th>black_per</th>\n",
       "      <th>hispanic_num</th>\n",
       "      <th>hispanic_per</th>\n",
       "      <th>white_num</th>\n",
       "      <th>white_per</th>\n",
       "      <th>male_num</th>\n",
       "      <th>male_per</th>\n",
       "      <th>female_num</th>\n",
       "      <th>female_per</th>\n",
       "    </tr>\n",
       "  </thead>\n",
       "  <tbody>\n",
       "    <tr>\n",
       "      <th>6</th>\n",
       "      <td>01M015</td>\n",
       "      <td>P.S. 015 ROBERTO CLEMENTE</td>\n",
       "      <td>20112012</td>\n",
       "      <td>NaN</td>\n",
       "      <td>89.4</td>\n",
       "      <td>189</td>\n",
       "      <td>13</td>\n",
       "      <td>31</td>\n",
       "      <td>35</td>\n",
       "      <td>28</td>\n",
       "      <td>...</td>\n",
       "      <td>63</td>\n",
       "      <td>33.3</td>\n",
       "      <td>109</td>\n",
       "      <td>57.7</td>\n",
       "      <td>4</td>\n",
       "      <td>2.1</td>\n",
       "      <td>97.0</td>\n",
       "      <td>51.3</td>\n",
       "      <td>92.0</td>\n",
       "      <td>48.7</td>\n",
       "    </tr>\n",
       "    <tr>\n",
       "      <th>13</th>\n",
       "      <td>01M019</td>\n",
       "      <td>P.S. 019 ASHER LEVY</td>\n",
       "      <td>20112012</td>\n",
       "      <td>NaN</td>\n",
       "      <td>61.5</td>\n",
       "      <td>328</td>\n",
       "      <td>32</td>\n",
       "      <td>46</td>\n",
       "      <td>52</td>\n",
       "      <td>54</td>\n",
       "      <td>...</td>\n",
       "      <td>81</td>\n",
       "      <td>24.7</td>\n",
       "      <td>158</td>\n",
       "      <td>48.2</td>\n",
       "      <td>28</td>\n",
       "      <td>8.5</td>\n",
       "      <td>147.0</td>\n",
       "      <td>44.8</td>\n",
       "      <td>181.0</td>\n",
       "      <td>55.2</td>\n",
       "    </tr>\n",
       "    <tr>\n",
       "      <th>20</th>\n",
       "      <td>01M020</td>\n",
       "      <td>PS 020 ANNA SILVER</td>\n",
       "      <td>20112012</td>\n",
       "      <td>NaN</td>\n",
       "      <td>92.5</td>\n",
       "      <td>626</td>\n",
       "      <td>52</td>\n",
       "      <td>102</td>\n",
       "      <td>121</td>\n",
       "      <td>87</td>\n",
       "      <td>...</td>\n",
       "      <td>55</td>\n",
       "      <td>8.8</td>\n",
       "      <td>357</td>\n",
       "      <td>57.0</td>\n",
       "      <td>16</td>\n",
       "      <td>2.6</td>\n",
       "      <td>330.0</td>\n",
       "      <td>52.7</td>\n",
       "      <td>296.0</td>\n",
       "      <td>47.3</td>\n",
       "    </tr>\n",
       "  </tbody>\n",
       "</table>\n",
       "<p>3 rows × 38 columns</p>\n",
       "</div>"
      ],
      "text/plain": [
       "       DBN                                              Name  schoolyear  \\\n",
       "6   01M015  P.S. 015 ROBERTO CLEMENTE                           20112012   \n",
       "13  01M019  P.S. 019 ASHER LEVY                                 20112012   \n",
       "20  01M020  PS 020 ANNA SILVER                                  20112012   \n",
       "\n",
       "   fl_percent  frl_percent  total_enrollment prek    k grade1 grade2  ...  \\\n",
       "6         NaN         89.4               189   13   31     35     28  ...   \n",
       "13        NaN         61.5               328   32   46     52     54  ...   \n",
       "20        NaN         92.5               626   52  102    121     87  ...   \n",
       "\n",
       "   black_num black_per hispanic_num hispanic_per white_num white_per male_num  \\\n",
       "6         63      33.3          109         57.7         4       2.1     97.0   \n",
       "13        81      24.7          158         48.2        28       8.5    147.0   \n",
       "20        55       8.8          357         57.0        16       2.6    330.0   \n",
       "\n",
       "   male_per female_num female_per  \n",
       "6      51.3       92.0       48.7  \n",
       "13     44.8      181.0       55.2  \n",
       "20     52.7      296.0       47.3  \n",
       "\n",
       "[3 rows x 38 columns]"
      ]
     },
     "execution_count": 63,
     "metadata": {},
     "output_type": "execute_result"
    }
   ],
   "source": [
    "data['demographics'] = data['demographics'].query('schoolyear == 20112012')\n",
    "data['demographics'].head(3)"
   ]
  },
  {
   "cell_type": "markdown",
   "id": "64b70056",
   "metadata": {},
   "source": [
    "Finally, we'll need to condense the graduation dataset."
   ]
  },
  {
   "cell_type": "markdown",
   "id": "39a0dcd5",
   "metadata": {},
   "source": [
    "The Demographic and Cohort columns are what prevent DBN from being unique in the graduation data. A Cohort appears to refer to the year the data represents, and the Demographic appears to refer to a specific demographic group. In this case, we want to pick data from the most recent Cohort available, which is 2006. We also want data from the full cohort, so we'll only pick rows where Demographic is Total Cohort."
   ]
  },
  {
   "cell_type": "code",
   "execution_count": 64,
   "id": "d98eaa2a",
   "metadata": {},
   "outputs": [
    {
     "data": {
      "text/html": [
       "<div>\n",
       "<style scoped>\n",
       "    .dataframe tbody tr th:only-of-type {\n",
       "        vertical-align: middle;\n",
       "    }\n",
       "\n",
       "    .dataframe tbody tr th {\n",
       "        vertical-align: top;\n",
       "    }\n",
       "\n",
       "    .dataframe thead th {\n",
       "        text-align: right;\n",
       "    }\n",
       "</style>\n",
       "<table border=\"1\" class=\"dataframe\">\n",
       "  <thead>\n",
       "    <tr style=\"text-align: right;\">\n",
       "      <th></th>\n",
       "      <th>Demographic</th>\n",
       "      <th>DBN</th>\n",
       "      <th>School Name</th>\n",
       "      <th>Cohort</th>\n",
       "      <th>Total Cohort</th>\n",
       "      <th>Total Grads - n</th>\n",
       "      <th>Total Grads - % of cohort</th>\n",
       "      <th>Total Regents - n</th>\n",
       "      <th>Total Regents - % of cohort</th>\n",
       "      <th>Total Regents - % of grads</th>\n",
       "      <th>...</th>\n",
       "      <th>Regents w/o Advanced - n</th>\n",
       "      <th>Regents w/o Advanced - % of cohort</th>\n",
       "      <th>Regents w/o Advanced - % of grads</th>\n",
       "      <th>Local - n</th>\n",
       "      <th>Local - % of cohort</th>\n",
       "      <th>Local - % of grads</th>\n",
       "      <th>Still Enrolled - n</th>\n",
       "      <th>Still Enrolled - % of cohort</th>\n",
       "      <th>Dropped Out - n</th>\n",
       "      <th>Dropped Out - % of cohort</th>\n",
       "    </tr>\n",
       "  </thead>\n",
       "  <tbody>\n",
       "    <tr>\n",
       "      <th>3</th>\n",
       "      <td>Total Cohort</td>\n",
       "      <td>01M292</td>\n",
       "      <td>HENRY STREET SCHOOL FOR INTERNATIONAL</td>\n",
       "      <td>2006</td>\n",
       "      <td>78</td>\n",
       "      <td>43</td>\n",
       "      <td>55.1</td>\n",
       "      <td>36</td>\n",
       "      <td>46.2</td>\n",
       "      <td>83.7</td>\n",
       "      <td>...</td>\n",
       "      <td>36</td>\n",
       "      <td>46.2</td>\n",
       "      <td>83.7</td>\n",
       "      <td>7</td>\n",
       "      <td>9.0</td>\n",
       "      <td>16.3</td>\n",
       "      <td>16</td>\n",
       "      <td>20.5</td>\n",
       "      <td>11</td>\n",
       "      <td>14.1</td>\n",
       "    </tr>\n",
       "    <tr>\n",
       "      <th>4</th>\n",
       "      <td>Total Cohort</td>\n",
       "      <td>01M292</td>\n",
       "      <td>HENRY STREET SCHOOL FOR INTERNATIONAL</td>\n",
       "      <td>2006 Aug</td>\n",
       "      <td>78</td>\n",
       "      <td>44</td>\n",
       "      <td>56.4</td>\n",
       "      <td>37</td>\n",
       "      <td>47.4</td>\n",
       "      <td>84.1</td>\n",
       "      <td>...</td>\n",
       "      <td>37</td>\n",
       "      <td>47.4</td>\n",
       "      <td>84.1</td>\n",
       "      <td>7</td>\n",
       "      <td>9.0</td>\n",
       "      <td>15.9</td>\n",
       "      <td>15</td>\n",
       "      <td>19.2</td>\n",
       "      <td>11</td>\n",
       "      <td>14.1</td>\n",
       "    </tr>\n",
       "    <tr>\n",
       "      <th>10</th>\n",
       "      <td>Total Cohort</td>\n",
       "      <td>01M448</td>\n",
       "      <td>UNIVERSITY NEIGHBORHOOD HIGH SCHOOL</td>\n",
       "      <td>2006</td>\n",
       "      <td>124</td>\n",
       "      <td>53</td>\n",
       "      <td>42.7</td>\n",
       "      <td>42</td>\n",
       "      <td>33.9</td>\n",
       "      <td>79.2</td>\n",
       "      <td>...</td>\n",
       "      <td>34</td>\n",
       "      <td>27.4</td>\n",
       "      <td>64.2</td>\n",
       "      <td>11</td>\n",
       "      <td>8.9</td>\n",
       "      <td>20.8</td>\n",
       "      <td>46</td>\n",
       "      <td>37.1</td>\n",
       "      <td>20</td>\n",
       "      <td>16.1</td>\n",
       "    </tr>\n",
       "  </tbody>\n",
       "</table>\n",
       "<p>3 rows × 23 columns</p>\n",
       "</div>"
      ],
      "text/plain": [
       "     Demographic     DBN                            School Name    Cohort  \\\n",
       "3   Total Cohort  01M292  HENRY STREET SCHOOL FOR INTERNATIONAL      2006   \n",
       "4   Total Cohort  01M292  HENRY STREET SCHOOL FOR INTERNATIONAL  2006 Aug   \n",
       "10  Total Cohort  01M448    UNIVERSITY NEIGHBORHOOD HIGH SCHOOL      2006   \n",
       "\n",
       "    Total Cohort Total Grads - n  Total Grads - % of cohort Total Regents - n  \\\n",
       "3             78              43                       55.1                36   \n",
       "4             78              44                       56.4                37   \n",
       "10           124              53                       42.7                42   \n",
       "\n",
       "    Total Regents - % of cohort  Total Regents - % of grads  ...  \\\n",
       "3                          46.2                        83.7  ...   \n",
       "4                          47.4                        84.1  ...   \n",
       "10                         33.9                        79.2  ...   \n",
       "\n",
       "   Regents w/o Advanced - n  Regents w/o Advanced - % of cohort  \\\n",
       "3                        36                                46.2   \n",
       "4                        37                                47.4   \n",
       "10                       34                                27.4   \n",
       "\n",
       "    Regents w/o Advanced - % of grads Local - n  Local - % of cohort  \\\n",
       "3                                83.7         7                  9.0   \n",
       "4                                84.1         7                  9.0   \n",
       "10                               64.2        11                  8.9   \n",
       "\n",
       "    Local - % of grads Still Enrolled - n  Still Enrolled - % of cohort  \\\n",
       "3                 16.3                 16                          20.5   \n",
       "4                 15.9                 15                          19.2   \n",
       "10                20.8                 46                          37.1   \n",
       "\n",
       "    Dropped Out - n Dropped Out - % of cohort  \n",
       "3                11                      14.1  \n",
       "4                11                      14.1  \n",
       "10               20                      16.1  \n",
       "\n",
       "[3 rows x 23 columns]"
      ]
     },
     "execution_count": 64,
     "metadata": {},
     "output_type": "execute_result"
    }
   ],
   "source": [
    "data['graduation'] = data['graduation'].query('Cohort == \"2006\" | Cohort == \"2006 Aug\"')\n",
    "data['graduation'] = data['graduation'].query('Demographic == \"Total Cohort\"')\n",
    "data['graduation'].head(3)"
   ]
  },
  {
   "cell_type": "code",
   "execution_count": 65,
   "id": "fe7fb234",
   "metadata": {},
   "outputs": [
    {
     "data": {
      "text/html": [
       "<div>\n",
       "<style scoped>\n",
       "    .dataframe tbody tr th:only-of-type {\n",
       "        vertical-align: middle;\n",
       "    }\n",
       "\n",
       "    .dataframe tbody tr th {\n",
       "        vertical-align: top;\n",
       "    }\n",
       "\n",
       "    .dataframe thead th {\n",
       "        text-align: right;\n",
       "    }\n",
       "</style>\n",
       "<table border=\"1\" class=\"dataframe\">\n",
       "  <thead>\n",
       "    <tr style=\"text-align: right;\">\n",
       "      <th></th>\n",
       "      <th>Demographic</th>\n",
       "      <th>DBN</th>\n",
       "      <th>School Name</th>\n",
       "      <th>Cohort</th>\n",
       "      <th>Total Cohort</th>\n",
       "      <th>Total Grads - n</th>\n",
       "      <th>Total Grads - % of cohort</th>\n",
       "      <th>Total Regents - n</th>\n",
       "      <th>Total Regents - % of cohort</th>\n",
       "      <th>Total Regents - % of grads</th>\n",
       "      <th>...</th>\n",
       "      <th>Regents w/o Advanced - n</th>\n",
       "      <th>Regents w/o Advanced - % of cohort</th>\n",
       "      <th>Regents w/o Advanced - % of grads</th>\n",
       "      <th>Local - n</th>\n",
       "      <th>Local - % of cohort</th>\n",
       "      <th>Local - % of grads</th>\n",
       "      <th>Still Enrolled - n</th>\n",
       "      <th>Still Enrolled - % of cohort</th>\n",
       "      <th>Dropped Out - n</th>\n",
       "      <th>Dropped Out - % of cohort</th>\n",
       "    </tr>\n",
       "  </thead>\n",
       "  <tbody>\n",
       "    <tr>\n",
       "      <th>3</th>\n",
       "      <td>Total Cohort</td>\n",
       "      <td>01M292</td>\n",
       "      <td>HENRY STREET SCHOOL FOR INTERNATIONAL</td>\n",
       "      <td>2006</td>\n",
       "      <td>78</td>\n",
       "      <td>43</td>\n",
       "      <td>55.1</td>\n",
       "      <td>36</td>\n",
       "      <td>46.2</td>\n",
       "      <td>83.7</td>\n",
       "      <td>...</td>\n",
       "      <td>36</td>\n",
       "      <td>46.2</td>\n",
       "      <td>83.7</td>\n",
       "      <td>7</td>\n",
       "      <td>9.0</td>\n",
       "      <td>16.3</td>\n",
       "      <td>16</td>\n",
       "      <td>20.5</td>\n",
       "      <td>11</td>\n",
       "      <td>14.1</td>\n",
       "    </tr>\n",
       "    <tr>\n",
       "      <th>4</th>\n",
       "      <td>Total Cohort</td>\n",
       "      <td>01M292</td>\n",
       "      <td>HENRY STREET SCHOOL FOR INTERNATIONAL</td>\n",
       "      <td>2006</td>\n",
       "      <td>78</td>\n",
       "      <td>44</td>\n",
       "      <td>56.4</td>\n",
       "      <td>37</td>\n",
       "      <td>47.4</td>\n",
       "      <td>84.1</td>\n",
       "      <td>...</td>\n",
       "      <td>37</td>\n",
       "      <td>47.4</td>\n",
       "      <td>84.1</td>\n",
       "      <td>7</td>\n",
       "      <td>9.0</td>\n",
       "      <td>15.9</td>\n",
       "      <td>15</td>\n",
       "      <td>19.2</td>\n",
       "      <td>11</td>\n",
       "      <td>14.1</td>\n",
       "    </tr>\n",
       "    <tr>\n",
       "      <th>10</th>\n",
       "      <td>Total Cohort</td>\n",
       "      <td>01M448</td>\n",
       "      <td>UNIVERSITY NEIGHBORHOOD HIGH SCHOOL</td>\n",
       "      <td>2006</td>\n",
       "      <td>124</td>\n",
       "      <td>53</td>\n",
       "      <td>42.7</td>\n",
       "      <td>42</td>\n",
       "      <td>33.9</td>\n",
       "      <td>79.2</td>\n",
       "      <td>...</td>\n",
       "      <td>34</td>\n",
       "      <td>27.4</td>\n",
       "      <td>64.2</td>\n",
       "      <td>11</td>\n",
       "      <td>8.9</td>\n",
       "      <td>20.8</td>\n",
       "      <td>46</td>\n",
       "      <td>37.1</td>\n",
       "      <td>20</td>\n",
       "      <td>16.1</td>\n",
       "    </tr>\n",
       "  </tbody>\n",
       "</table>\n",
       "<p>3 rows × 23 columns</p>\n",
       "</div>"
      ],
      "text/plain": [
       "     Demographic     DBN                            School Name Cohort  \\\n",
       "3   Total Cohort  01M292  HENRY STREET SCHOOL FOR INTERNATIONAL   2006   \n",
       "4   Total Cohort  01M292  HENRY STREET SCHOOL FOR INTERNATIONAL   2006   \n",
       "10  Total Cohort  01M448    UNIVERSITY NEIGHBORHOOD HIGH SCHOOL   2006   \n",
       "\n",
       "    Total Cohort Total Grads - n  Total Grads - % of cohort Total Regents - n  \\\n",
       "3             78              43                       55.1                36   \n",
       "4             78              44                       56.4                37   \n",
       "10           124              53                       42.7                42   \n",
       "\n",
       "    Total Regents - % of cohort  Total Regents - % of grads  ...  \\\n",
       "3                          46.2                        83.7  ...   \n",
       "4                          47.4                        84.1  ...   \n",
       "10                         33.9                        79.2  ...   \n",
       "\n",
       "   Regents w/o Advanced - n  Regents w/o Advanced - % of cohort  \\\n",
       "3                        36                                46.2   \n",
       "4                        37                                47.4   \n",
       "10                       34                                27.4   \n",
       "\n",
       "    Regents w/o Advanced - % of grads Local - n  Local - % of cohort  \\\n",
       "3                                83.7         7                  9.0   \n",
       "4                                84.1         7                  9.0   \n",
       "10                               64.2        11                  8.9   \n",
       "\n",
       "    Local - % of grads Still Enrolled - n  Still Enrolled - % of cohort  \\\n",
       "3                 16.3                 16                          20.5   \n",
       "4                 15.9                 15                          19.2   \n",
       "10                20.8                 46                          37.1   \n",
       "\n",
       "    Dropped Out - n Dropped Out - % of cohort  \n",
       "3                11                      14.1  \n",
       "4                11                      14.1  \n",
       "10               20                      16.1  \n",
       "\n",
       "[3 rows x 23 columns]"
      ]
     },
     "execution_count": 65,
     "metadata": {},
     "output_type": "execute_result"
    }
   ],
   "source": [
    "data['graduation']['Cohort'].replace({'2006 Aug':'2006'}, inplace=True)\n",
    "data['graduation'].head(3)"
   ]
  },
  {
   "cell_type": "code",
   "execution_count": 66,
   "id": "46353b79",
   "metadata": {},
   "outputs": [
    {
     "data": {
      "text/html": [
       "<div>\n",
       "<style scoped>\n",
       "    .dataframe tbody tr th:only-of-type {\n",
       "        vertical-align: middle;\n",
       "    }\n",
       "\n",
       "    .dataframe tbody tr th {\n",
       "        vertical-align: top;\n",
       "    }\n",
       "\n",
       "    .dataframe thead th {\n",
       "        text-align: right;\n",
       "    }\n",
       "</style>\n",
       "<table border=\"1\" class=\"dataframe\">\n",
       "  <thead>\n",
       "    <tr style=\"text-align: right;\">\n",
       "      <th></th>\n",
       "      <th>DBN</th>\n",
       "      <th>Total Cohort</th>\n",
       "      <th>Total Grads - % of cohort</th>\n",
       "      <th>Total Regents - % of cohort</th>\n",
       "      <th>Total Regents - % of grads</th>\n",
       "      <th>Advanced Regents - % of cohort</th>\n",
       "      <th>Advanced Regents - % of grads</th>\n",
       "      <th>Regents w/o Advanced - % of cohort</th>\n",
       "      <th>Regents w/o Advanced - % of grads</th>\n",
       "      <th>Local - % of cohort</th>\n",
       "      <th>Local - % of grads</th>\n",
       "      <th>Still Enrolled - % of cohort</th>\n",
       "      <th>Dropped Out - % of cohort</th>\n",
       "    </tr>\n",
       "  </thead>\n",
       "  <tbody>\n",
       "    <tr>\n",
       "      <th>0</th>\n",
       "      <td>01M292</td>\n",
       "      <td>78.0</td>\n",
       "      <td>55.75</td>\n",
       "      <td>46.8</td>\n",
       "      <td>83.90</td>\n",
       "      <td>0.0</td>\n",
       "      <td>0.0</td>\n",
       "      <td>46.8</td>\n",
       "      <td>83.90</td>\n",
       "      <td>9.0</td>\n",
       "      <td>16.10</td>\n",
       "      <td>19.85</td>\n",
       "      <td>14.1</td>\n",
       "    </tr>\n",
       "    <tr>\n",
       "      <th>1</th>\n",
       "      <td>01M448</td>\n",
       "      <td>124.0</td>\n",
       "      <td>45.55</td>\n",
       "      <td>33.9</td>\n",
       "      <td>74.60</td>\n",
       "      <td>6.5</td>\n",
       "      <td>14.2</td>\n",
       "      <td>27.4</td>\n",
       "      <td>60.45</td>\n",
       "      <td>11.7</td>\n",
       "      <td>25.40</td>\n",
       "      <td>34.30</td>\n",
       "      <td>16.1</td>\n",
       "    </tr>\n",
       "    <tr>\n",
       "      <th>2</th>\n",
       "      <td>01M450</td>\n",
       "      <td>90.0</td>\n",
       "      <td>78.35</td>\n",
       "      <td>75.0</td>\n",
       "      <td>95.75</td>\n",
       "      <td>0.0</td>\n",
       "      <td>0.0</td>\n",
       "      <td>75.0</td>\n",
       "      <td>95.75</td>\n",
       "      <td>3.3</td>\n",
       "      <td>4.25</td>\n",
       "      <td>16.15</td>\n",
       "      <td>5.6</td>\n",
       "    </tr>\n",
       "  </tbody>\n",
       "</table>\n",
       "</div>"
      ],
      "text/plain": [
       "      DBN  Total Cohort  Total Grads - % of cohort  \\\n",
       "0  01M292          78.0                      55.75   \n",
       "1  01M448         124.0                      45.55   \n",
       "2  01M450          90.0                      78.35   \n",
       "\n",
       "   Total Regents - % of cohort  Total Regents - % of grads  \\\n",
       "0                         46.8                       83.90   \n",
       "1                         33.9                       74.60   \n",
       "2                         75.0                       95.75   \n",
       "\n",
       "   Advanced Regents - % of cohort  Advanced Regents - % of grads  \\\n",
       "0                             0.0                            0.0   \n",
       "1                             6.5                           14.2   \n",
       "2                             0.0                            0.0   \n",
       "\n",
       "   Regents w/o Advanced - % of cohort  Regents w/o Advanced - % of grads  \\\n",
       "0                                46.8                              83.90   \n",
       "1                                27.4                              60.45   \n",
       "2                                75.0                              95.75   \n",
       "\n",
       "   Local - % of cohort  Local - % of grads  Still Enrolled - % of cohort  \\\n",
       "0                  9.0               16.10                         19.85   \n",
       "1                 11.7               25.40                         34.30   \n",
       "2                  3.3                4.25                         16.15   \n",
       "\n",
       "   Dropped Out - % of cohort  \n",
       "0                       14.1  \n",
       "1                       16.1  \n",
       "2                        5.6  "
      ]
     },
     "execution_count": 66,
     "metadata": {},
     "output_type": "execute_result"
    }
   ],
   "source": [
    "data['graduation'] = data['graduation'].groupby('DBN', as_index=False).agg(np.mean)\n",
    "data['graduation'].head(3)"
   ]
  },
  {
   "cell_type": "markdown",
   "id": "c95dc835",
   "metadata": {},
   "source": [
    "#### AP exams have a 1 to 5 scale; 3 or higher is a passing score. Many high school students take AP exams -- particularly those who attend academically challenging institutions. AP exams are rarer in schools that lack funding or academic rigor.\n",
    "\n",
    "It will be interesting to find out whether AP exam scores are correlated with SAT scores across high schools. To determine this, we'll need to convert the AP exam scores in the ap_2010 data set to numeric values first."
   ]
  },
  {
   "cell_type": "code",
   "execution_count": 67,
   "id": "b342de64",
   "metadata": {},
   "outputs": [],
   "source": [
    "cols = ['AP Test Takers ', 'Total Exams Taken', 'Number of Exams with scores 3 4 or 5']\n",
    "for col in cols:\n",
    "    data[\"ap_2010\"][col] = pd.to_numeric(data[\"ap_2010\"][col], errors=\"coerce\")"
   ]
  },
  {
   "cell_type": "code",
   "execution_count": 68,
   "id": "f1db8c15",
   "metadata": {},
   "outputs": [],
   "source": [
    "combined = data[\"sat_results\"]\n",
    "\n",
    "combined = combined.merge(data['ap_2010'],how='left', on='DBN')\n",
    "combined = combined.merge(data['graduation'],how='left', on='DBN')"
   ]
  },
  {
   "cell_type": "code",
   "execution_count": 69,
   "id": "972d13c7",
   "metadata": {},
   "outputs": [
    {
     "data": {
      "text/plain": [
       "(479, 23)"
      ]
     },
     "execution_count": 69,
     "metadata": {},
     "output_type": "execute_result"
    }
   ],
   "source": [
    "combined.shape"
   ]
  },
  {
   "cell_type": "code",
   "execution_count": 70,
   "id": "203ff4cf",
   "metadata": {},
   "outputs": [
    {
     "data": {
      "text/html": [
       "<div>\n",
       "<style scoped>\n",
       "    .dataframe tbody tr th:only-of-type {\n",
       "        vertical-align: middle;\n",
       "    }\n",
       "\n",
       "    .dataframe tbody tr th {\n",
       "        vertical-align: top;\n",
       "    }\n",
       "\n",
       "    .dataframe thead th {\n",
       "        text-align: right;\n",
       "    }\n",
       "</style>\n",
       "<table border=\"1\" class=\"dataframe\">\n",
       "  <thead>\n",
       "    <tr style=\"text-align: right;\">\n",
       "      <th></th>\n",
       "      <th>DBN</th>\n",
       "      <th>SCHOOL NAME</th>\n",
       "      <th>Num of SAT Test Takers</th>\n",
       "      <th>SAT Critical Reading Avg. Score</th>\n",
       "      <th>SAT Math Avg. Score</th>\n",
       "      <th>SAT Writing Avg. Score</th>\n",
       "      <th>sat_score</th>\n",
       "      <th>SchoolName</th>\n",
       "      <th>AP Test Takers</th>\n",
       "      <th>Total Exams Taken</th>\n",
       "      <th>...</th>\n",
       "      <th>Total Regents - % of cohort</th>\n",
       "      <th>Total Regents - % of grads</th>\n",
       "      <th>Advanced Regents - % of cohort</th>\n",
       "      <th>Advanced Regents - % of grads</th>\n",
       "      <th>Regents w/o Advanced - % of cohort</th>\n",
       "      <th>Regents w/o Advanced - % of grads</th>\n",
       "      <th>Local - % of cohort</th>\n",
       "      <th>Local - % of grads</th>\n",
       "      <th>Still Enrolled - % of cohort</th>\n",
       "      <th>Dropped Out - % of cohort</th>\n",
       "    </tr>\n",
       "  </thead>\n",
       "  <tbody>\n",
       "    <tr>\n",
       "      <th>0</th>\n",
       "      <td>01M292</td>\n",
       "      <td>HENRY STREET SCHOOL FOR INTERNATIONAL STUDIES</td>\n",
       "      <td>29</td>\n",
       "      <td>355</td>\n",
       "      <td>404</td>\n",
       "      <td>363</td>\n",
       "      <td>1122.0</td>\n",
       "      <td>NaN</td>\n",
       "      <td>NaN</td>\n",
       "      <td>NaN</td>\n",
       "      <td>...</td>\n",
       "      <td>46.8</td>\n",
       "      <td>83.9</td>\n",
       "      <td>0.0</td>\n",
       "      <td>0.0</td>\n",
       "      <td>46.8</td>\n",
       "      <td>83.90</td>\n",
       "      <td>9.0</td>\n",
       "      <td>16.1</td>\n",
       "      <td>19.85</td>\n",
       "      <td>14.1</td>\n",
       "    </tr>\n",
       "    <tr>\n",
       "      <th>1</th>\n",
       "      <td>01M448</td>\n",
       "      <td>UNIVERSITY NEIGHBORHOOD HIGH SCHOOL</td>\n",
       "      <td>91</td>\n",
       "      <td>383</td>\n",
       "      <td>423</td>\n",
       "      <td>366</td>\n",
       "      <td>1172.0</td>\n",
       "      <td>UNIVERSITY NEIGHBORHOOD H.S.</td>\n",
       "      <td>39.0</td>\n",
       "      <td>49.0</td>\n",
       "      <td>...</td>\n",
       "      <td>33.9</td>\n",
       "      <td>74.6</td>\n",
       "      <td>6.5</td>\n",
       "      <td>14.2</td>\n",
       "      <td>27.4</td>\n",
       "      <td>60.45</td>\n",
       "      <td>11.7</td>\n",
       "      <td>25.4</td>\n",
       "      <td>34.30</td>\n",
       "      <td>16.1</td>\n",
       "    </tr>\n",
       "  </tbody>\n",
       "</table>\n",
       "<p>2 rows × 23 columns</p>\n",
       "</div>"
      ],
      "text/plain": [
       "      DBN                                    SCHOOL NAME  \\\n",
       "0  01M292  HENRY STREET SCHOOL FOR INTERNATIONAL STUDIES   \n",
       "1  01M448            UNIVERSITY NEIGHBORHOOD HIGH SCHOOL   \n",
       "\n",
       "  Num of SAT Test Takers SAT Critical Reading Avg. Score SAT Math Avg. Score  \\\n",
       "0                     29                             355                 404   \n",
       "1                     91                             383                 423   \n",
       "\n",
       "  SAT Writing Avg. Score  sat_score                    SchoolName  \\\n",
       "0                    363     1122.0                           NaN   \n",
       "1                    366     1172.0  UNIVERSITY NEIGHBORHOOD H.S.   \n",
       "\n",
       "   AP Test Takers   Total Exams Taken  ...  Total Regents - % of cohort  \\\n",
       "0              NaN                NaN  ...                         46.8   \n",
       "1             39.0               49.0  ...                         33.9   \n",
       "\n",
       "   Total Regents - % of grads  Advanced Regents - % of cohort  \\\n",
       "0                        83.9                             0.0   \n",
       "1                        74.6                             6.5   \n",
       "\n",
       "   Advanced Regents - % of grads  Regents w/o Advanced - % of cohort  \\\n",
       "0                            0.0                                46.8   \n",
       "1                           14.2                                27.4   \n",
       "\n",
       "   Regents w/o Advanced - % of grads  Local - % of cohort  Local - % of grads  \\\n",
       "0                              83.90                  9.0                16.1   \n",
       "1                              60.45                 11.7                25.4   \n",
       "\n",
       "   Still Enrolled - % of cohort  Dropped Out - % of cohort  \n",
       "0                         19.85                       14.1  \n",
       "1                         34.30                       16.1  \n",
       "\n",
       "[2 rows x 23 columns]"
      ]
     },
     "execution_count": 70,
     "metadata": {},
     "output_type": "execute_result"
    }
   ],
   "source": [
    "combined.head(2)"
   ]
  },
  {
   "cell_type": "code",
   "execution_count": 71,
   "id": "406a83e8",
   "metadata": {},
   "outputs": [
    {
     "data": {
      "text/plain": [
       "(364, 154)"
      ]
     },
     "execution_count": 71,
     "metadata": {},
     "output_type": "execute_result"
    }
   ],
   "source": [
    "to_merge = [\"class_size\", \"demographics\", \"survey\", \"hs_directory\"]\n",
    "\n",
    "for m in to_merge:\n",
    "    combined = combined.merge(data[m], on=\"DBN\", how=\"inner\")\n",
    "combined.shape\n"
   ]
  },
  {
   "cell_type": "code",
   "execution_count": 72,
   "id": "23620509",
   "metadata": {},
   "outputs": [
    {
     "name": "stderr",
     "output_type": "stream",
     "text": [
      "C:\\Users\\nlero\\AppData\\Local\\Temp\\ipykernel_19412\\3616125232.py:1: FutureWarning:\n",
      "\n",
      "Dropping of nuisance columns in DataFrame reductions (with 'numeric_only=None') is deprecated; in a future version this will raise TypeError.  Select only valid columns before calling the reduction.\n",
      "\n"
     ]
    }
   ],
   "source": [
    "combined = combined.fillna(combined.mean())\n",
    "combined = combined.fillna(0)"
   ]
  },
  {
   "cell_type": "code",
   "execution_count": 73,
   "id": "dd54eb69",
   "metadata": {
    "scrolled": true
   },
   "outputs": [
    {
     "data": {
      "text/html": [
       "<div>\n",
       "<style scoped>\n",
       "    .dataframe tbody tr th:only-of-type {\n",
       "        vertical-align: middle;\n",
       "    }\n",
       "\n",
       "    .dataframe tbody tr th {\n",
       "        vertical-align: top;\n",
       "    }\n",
       "\n",
       "    .dataframe thead th {\n",
       "        text-align: right;\n",
       "    }\n",
       "</style>\n",
       "<table border=\"1\" class=\"dataframe\">\n",
       "  <thead>\n",
       "    <tr style=\"text-align: right;\">\n",
       "      <th></th>\n",
       "      <th>DBN</th>\n",
       "      <th>SCHOOL NAME</th>\n",
       "      <th>Num of SAT Test Takers</th>\n",
       "      <th>SAT Critical Reading Avg. Score</th>\n",
       "      <th>SAT Math Avg. Score</th>\n",
       "      <th>SAT Writing Avg. Score</th>\n",
       "      <th>sat_score</th>\n",
       "      <th>SchoolName</th>\n",
       "      <th>AP Test Takers</th>\n",
       "      <th>Total Exams Taken</th>\n",
       "      <th>...</th>\n",
       "      <th>priority10</th>\n",
       "      <th>Location 1</th>\n",
       "      <th>Community Board</th>\n",
       "      <th>Council District</th>\n",
       "      <th>Census Tract</th>\n",
       "      <th>BIN</th>\n",
       "      <th>BBL</th>\n",
       "      <th>NTA</th>\n",
       "      <th>lat</th>\n",
       "      <th>lon</th>\n",
       "    </tr>\n",
       "  </thead>\n",
       "  <tbody>\n",
       "    <tr>\n",
       "      <th>0</th>\n",
       "      <td>01M292</td>\n",
       "      <td>HENRY STREET SCHOOL FOR INTERNATIONAL STUDIES</td>\n",
       "      <td>29</td>\n",
       "      <td>355</td>\n",
       "      <td>404</td>\n",
       "      <td>363</td>\n",
       "      <td>1122.0</td>\n",
       "      <td>0</td>\n",
       "      <td>129.028846</td>\n",
       "      <td>197.038462</td>\n",
       "      <td>...</td>\n",
       "      <td>0.0</td>\n",
       "      <td>220 Henry Street\\nNew York, NY 10002\\n(40.7137...</td>\n",
       "      <td>3.0</td>\n",
       "      <td>1.0</td>\n",
       "      <td>201.0</td>\n",
       "      <td>1003223.0</td>\n",
       "      <td>1.002690e+09</td>\n",
       "      <td>Lower East Side                               ...</td>\n",
       "      <td>40.713764</td>\n",
       "      <td>-73.985260</td>\n",
       "    </tr>\n",
       "    <tr>\n",
       "      <th>1</th>\n",
       "      <td>01M448</td>\n",
       "      <td>UNIVERSITY NEIGHBORHOOD HIGH SCHOOL</td>\n",
       "      <td>91</td>\n",
       "      <td>383</td>\n",
       "      <td>423</td>\n",
       "      <td>366</td>\n",
       "      <td>1172.0</td>\n",
       "      <td>UNIVERSITY NEIGHBORHOOD H.S.</td>\n",
       "      <td>39.000000</td>\n",
       "      <td>49.000000</td>\n",
       "      <td>...</td>\n",
       "      <td>0.0</td>\n",
       "      <td>200 Monroe Street\\nNew York, NY 10002\\n(40.712...</td>\n",
       "      <td>3.0</td>\n",
       "      <td>1.0</td>\n",
       "      <td>202.0</td>\n",
       "      <td>1003214.0</td>\n",
       "      <td>1.002590e+09</td>\n",
       "      <td>Lower East Side                               ...</td>\n",
       "      <td>40.712332</td>\n",
       "      <td>-73.984797</td>\n",
       "    </tr>\n",
       "    <tr>\n",
       "      <th>2</th>\n",
       "      <td>01M450</td>\n",
       "      <td>EAST SIDE COMMUNITY SCHOOL</td>\n",
       "      <td>70</td>\n",
       "      <td>377</td>\n",
       "      <td>402</td>\n",
       "      <td>370</td>\n",
       "      <td>1149.0</td>\n",
       "      <td>EAST SIDE COMMUNITY HS</td>\n",
       "      <td>19.000000</td>\n",
       "      <td>21.000000</td>\n",
       "      <td>...</td>\n",
       "      <td>0.0</td>\n",
       "      <td>420 East 12 Street\\nNew York, NY 10009\\n(40.72...</td>\n",
       "      <td>3.0</td>\n",
       "      <td>2.0</td>\n",
       "      <td>34.0</td>\n",
       "      <td>1005974.0</td>\n",
       "      <td>1.004390e+09</td>\n",
       "      <td>East Village                                  ...</td>\n",
       "      <td>40.729783</td>\n",
       "      <td>-73.983041</td>\n",
       "    </tr>\n",
       "    <tr>\n",
       "      <th>3</th>\n",
       "      <td>01M509</td>\n",
       "      <td>MARTA VALLE HIGH SCHOOL</td>\n",
       "      <td>44</td>\n",
       "      <td>390</td>\n",
       "      <td>433</td>\n",
       "      <td>384</td>\n",
       "      <td>1207.0</td>\n",
       "      <td>0</td>\n",
       "      <td>129.028846</td>\n",
       "      <td>197.038462</td>\n",
       "      <td>...</td>\n",
       "      <td>0.0</td>\n",
       "      <td>145 Stanton Street\\nNew York, NY 10002\\n(40.72...</td>\n",
       "      <td>3.0</td>\n",
       "      <td>1.0</td>\n",
       "      <td>3001.0</td>\n",
       "      <td>1004323.0</td>\n",
       "      <td>1.003540e+09</td>\n",
       "      <td>Chinatown                                     ...</td>\n",
       "      <td>40.720569</td>\n",
       "      <td>-73.985673</td>\n",
       "    </tr>\n",
       "    <tr>\n",
       "      <th>4</th>\n",
       "      <td>01M539</td>\n",
       "      <td>NEW EXPLORATIONS INTO SCIENCE, TECHNOLOGY AND ...</td>\n",
       "      <td>159</td>\n",
       "      <td>522</td>\n",
       "      <td>574</td>\n",
       "      <td>525</td>\n",
       "      <td>1621.0</td>\n",
       "      <td>NEW EXPLORATIONS SCI,TECH,MATH</td>\n",
       "      <td>255.000000</td>\n",
       "      <td>377.000000</td>\n",
       "      <td>...</td>\n",
       "      <td>0.0</td>\n",
       "      <td>111 Columbia Street\\nNew York, NY 10002\\n(40.7...</td>\n",
       "      <td>3.0</td>\n",
       "      <td>2.0</td>\n",
       "      <td>2201.0</td>\n",
       "      <td>1004070.0</td>\n",
       "      <td>1.003350e+09</td>\n",
       "      <td>Lower East Side                               ...</td>\n",
       "      <td>40.718725</td>\n",
       "      <td>-73.979426</td>\n",
       "    </tr>\n",
       "  </tbody>\n",
       "</table>\n",
       "<p>5 rows × 154 columns</p>\n",
       "</div>"
      ],
      "text/plain": [
       "      DBN                                        SCHOOL NAME  \\\n",
       "0  01M292      HENRY STREET SCHOOL FOR INTERNATIONAL STUDIES   \n",
       "1  01M448                UNIVERSITY NEIGHBORHOOD HIGH SCHOOL   \n",
       "2  01M450                         EAST SIDE COMMUNITY SCHOOL   \n",
       "3  01M509                            MARTA VALLE HIGH SCHOOL   \n",
       "4  01M539  NEW EXPLORATIONS INTO SCIENCE, TECHNOLOGY AND ...   \n",
       "\n",
       "  Num of SAT Test Takers SAT Critical Reading Avg. Score SAT Math Avg. Score  \\\n",
       "0                     29                             355                 404   \n",
       "1                     91                             383                 423   \n",
       "2                     70                             377                 402   \n",
       "3                     44                             390                 433   \n",
       "4                    159                             522                 574   \n",
       "\n",
       "  SAT Writing Avg. Score  sat_score                      SchoolName  \\\n",
       "0                    363     1122.0                               0   \n",
       "1                    366     1172.0    UNIVERSITY NEIGHBORHOOD H.S.   \n",
       "2                    370     1149.0          EAST SIDE COMMUNITY HS   \n",
       "3                    384     1207.0                               0   \n",
       "4                    525     1621.0  NEW EXPLORATIONS SCI,TECH,MATH   \n",
       "\n",
       "   AP Test Takers   Total Exams Taken  ...  priority10  \\\n",
       "0       129.028846         197.038462  ...         0.0   \n",
       "1        39.000000          49.000000  ...         0.0   \n",
       "2        19.000000          21.000000  ...         0.0   \n",
       "3       129.028846         197.038462  ...         0.0   \n",
       "4       255.000000         377.000000  ...         0.0   \n",
       "\n",
       "                                          Location 1  Community Board  \\\n",
       "0  220 Henry Street\\nNew York, NY 10002\\n(40.7137...              3.0   \n",
       "1  200 Monroe Street\\nNew York, NY 10002\\n(40.712...              3.0   \n",
       "2  420 East 12 Street\\nNew York, NY 10009\\n(40.72...              3.0   \n",
       "3  145 Stanton Street\\nNew York, NY 10002\\n(40.72...              3.0   \n",
       "4  111 Columbia Street\\nNew York, NY 10002\\n(40.7...              3.0   \n",
       "\n",
       "   Council District  Census Tract        BIN           BBL  \\\n",
       "0               1.0         201.0  1003223.0  1.002690e+09   \n",
       "1               1.0         202.0  1003214.0  1.002590e+09   \n",
       "2               2.0          34.0  1005974.0  1.004390e+09   \n",
       "3               1.0        3001.0  1004323.0  1.003540e+09   \n",
       "4               2.0        2201.0  1004070.0  1.003350e+09   \n",
       "\n",
       "                                                 NTA        lat        lon  \n",
       "0  Lower East Side                               ...  40.713764 -73.985260  \n",
       "1  Lower East Side                               ...  40.712332 -73.984797  \n",
       "2  East Village                                  ...  40.729783 -73.983041  \n",
       "3  Chinatown                                     ...  40.720569 -73.985673  \n",
       "4  Lower East Side                               ...  40.718725 -73.979426  \n",
       "\n",
       "[5 rows x 154 columns]"
      ]
     },
     "execution_count": 73,
     "metadata": {},
     "output_type": "execute_result"
    }
   ],
   "source": [
    "combined.head()"
   ]
  },
  {
   "cell_type": "code",
   "execution_count": 76,
   "id": "a3e9aaca",
   "metadata": {},
   "outputs": [],
   "source": [
    "combined = combined.drop(columns=['SCHOOLWIDE PUPIL-TEACHER RATIO','priority08','priority09','priority10'])"
   ]
  },
  {
   "cell_type": "markdown",
   "id": "934a9a91",
   "metadata": {},
   "source": [
    "#### We now have a clean dataset we can base our analysis. Mapping the statistics out on a school district level might be an interesting way to analyze them. Adding a column to the dataset that specifies the school district helps us accomplish this.\n",
    "\n",
    "The school district is just the first two characters of the DBN. We can apply a function over the DBN column of combined that pulls out the first two letters."
   ]
  },
  {
   "cell_type": "code",
   "execution_count": 77,
   "id": "6c924b33",
   "metadata": {},
   "outputs": [
    {
     "data": {
      "text/plain": [
       "0      01\n",
       "1      01\n",
       "2      01\n",
       "3      01\n",
       "4      01\n",
       "       ..\n",
       "359    32\n",
       "360    32\n",
       "361    32\n",
       "362    32\n",
       "363    32\n",
       "Name: school_dist, Length: 364, dtype: object"
      ]
     },
     "execution_count": 77,
     "metadata": {},
     "output_type": "execute_result"
    }
   ],
   "source": [
    "def extract(data):\n",
    "    return data[0:2]\n",
    "\n",
    "combined['school_dist'] = combined['DBN'].apply(extract)\n",
    "combined['school_dist']"
   ]
  },
  {
   "cell_type": "code",
   "execution_count": 78,
   "id": "dd50ef28",
   "metadata": {},
   "outputs": [
    {
     "name": "stdout",
     "output_type": "stream",
     "text": [
      "sat_score                               1.000000\n",
      "AP Test Takers                          0.523140\n",
      "Total Exams Taken                       0.514333\n",
      "Number of Exams with scores 3 4 or 5    0.463245\n",
      "Total Cohort                            0.325144\n",
      "Total Grads - % of cohort               0.601881\n",
      "Total Regents - % of cohort             0.672783\n",
      "Total Regents - % of grads              0.504936\n",
      "Advanced Regents - % of cohort          0.771664\n",
      "Advanced Regents - % of grads           0.742616\n",
      "Regents w/o Advanced - % of cohort     -0.151933\n",
      "Regents w/o Advanced - % of grads      -0.447797\n",
      "Local - % of cohort                    -0.482090\n",
      "Local - % of grads                     -0.504936\n",
      "Still Enrolled - % of cohort           -0.522865\n",
      "Dropped Out - % of cohort              -0.458809\n",
      "CSD                                     0.042923\n",
      "NUMBER OF STUDENTS / SEATS FILLED       0.394671\n",
      "NUMBER OF SECTIONS                      0.362489\n",
      "AVERAGE CLASS SIZE                      0.382280\n",
      "SIZE OF SMALLEST CLASS                  0.250563\n",
      "SIZE OF LARGEST CLASS                   0.312665\n",
      "schoolyear                                   NaN\n",
      "fl_percent                                   NaN\n",
      "frl_percent                            -0.720576\n",
      "total_enrollment                        0.367799\n",
      "ell_num                                -0.153726\n",
      "ell_percent                            -0.398593\n",
      "sped_num                                0.034933\n",
      "sped_percent                           -0.447477\n",
      "asian_num                               0.475367\n",
      "asian_per                               0.570534\n",
      "black_num                               0.027977\n",
      "black_per                              -0.284138\n",
      "hispanic_num                            0.025744\n",
      "hispanic_per                           -0.396756\n",
      "white_num                               0.449488\n",
      "white_per                               0.620538\n",
      "male_num                                0.325503\n",
      "male_per                               -0.111937\n",
      "female_num                              0.388509\n",
      "female_per                              0.111982\n",
      "rr_s                                    0.232152\n",
      "rr_t                                   -0.023364\n",
      "rr_p                                    0.047907\n",
      "N_s                                     0.423338\n",
      "N_t                                     0.291448\n",
      "N_p                                     0.421501\n",
      "saf_p_11                                0.122897\n",
      "com_p_11                               -0.114971\n",
      "eng_p_11                                0.020252\n",
      "aca_p_11                                0.035137\n",
      "saf_t_11                                0.312991\n",
      "com_t_11                                0.082135\n",
      "eng_t_11                                0.036800\n",
      "aca_t_11                                0.131814\n",
      "saf_s_11                                0.336845\n",
      "com_s_11                                0.187221\n",
      "eng_s_11                                0.213770\n",
      "aca_s_11                                0.339109\n",
      "saf_tot_11                              0.318030\n",
      "com_tot_11                              0.077065\n",
      "eng_tot_11                              0.099905\n",
      "aca_tot_11                              0.190386\n",
      "grade_span_min                         -0.021235\n",
      "grade_span_max                               NaN\n",
      "expgrade_span_min                            NaN\n",
      "expgrade_span_max                            NaN\n",
      "postcode                               -0.063957\n",
      "total_students                          0.407810\n",
      "number_programs                         0.116972\n",
      "Community Board                        -0.060903\n",
      "Council District                       -0.076139\n",
      "Census Tract                            0.048735\n",
      "BIN                                     0.052221\n",
      "BBL                                     0.044421\n",
      "lat                                    -0.120902\n",
      "lon                                    -0.132054\n"
     ]
    }
   ],
   "source": [
    "correlations = combined.corr()\n",
    "correlations = correlations['sat_score']\n",
    "print(correlations.to_string())"
   ]
  },
  {
   "cell_type": "markdown",
   "id": "c5923851",
   "metadata": {},
   "source": [
    "Unsurprisingly, SAT Critical Reading Avg. Score, SAT Math Avg. Score, SAT Writing Avg. Score, and sat_score are strongly correlated with sat_score.\n",
    "\n",
    "We can also make some other observations:\n",
    "\n",
    "- total_enrollment has a strong positive correlation with sat_score. This is surprising because we'd expect smaller schools where students receive more attention to have higher scores. However, it looks like the opposite is true - larger schools tend to do better on the SAT.\n",
    "- Other columns that are proxies for enrollment correlate similarly. These include total_students, N_s, N_p, N_t, AP Test Takers, Total Exams Taken, and NUMBER OF SECTIONS.\n",
    "- Both the percentage of females (female_per) and number of females (female_num) at a school correlate positively with SAT score, whereas the percentage of males (male_per) and the number of males (male_num) correlate negatively. This could indicate that women do better on the SAT than men.\n",
    "- Teacher and student ratings of school safety (saf_t_11, and saf_s_11) correlate with sat_score.\n",
    "- Student ratings of school academic standards (aca_s_11) correlate with sat_score, but this does not hold for ratings from teachers and parents (aca_p_11 and aca_t_11).\n",
    "- There is significant racial inequality in SAT scores (white_per, asian_per, black_per, hispanic_per).\n",
    "- The percentage of English language learners at the school (ell_percent, frl_percent) has a strong negative correlation with SAT scores.\n",
    "- Since enrollment seems to have such a strong correlation, let's make a scatterplot of total_enrollment vs sat_score. Each point in the scatterplot represents a high school, so we'll be able to see if there are any interesting patterns."
   ]
  },
  {
   "cell_type": "code",
   "execution_count": 79,
   "id": "e5fda034",
   "metadata": {},
   "outputs": [
    {
     "data": {
      "application/vnd.plotly.v1+json": {
       "config": {
        "plotlyServerURL": "https://plot.ly"
       },
       "data": [
        {
         "hovertemplate": "total_enrollment=%{x}<br>sat_score=%{y}<extra></extra>",
         "legendgroup": "",
         "marker": {
          "color": "#636efa",
          "symbol": "circle"
         },
         "mode": "markers",
         "name": "",
         "orientation": "v",
         "showlegend": false,
         "type": "scatter",
         "x": [
          422,
          394,
          598,
          367,
          1613,
          617,
          174,
          433,
          343,
          419,
          414,
          431,
          451,
          312,
          336,
          378,
          495,
          433,
          332,
          304,
          244,
          1394,
          502,
          432,
          579,
          436,
          507,
          626,
          421,
          1768,
          607,
          175,
          226,
          176,
          429,
          444,
          325,
          3297,
          809,
          237,
          491,
          2073,
          724,
          217,
          541,
          423,
          353,
          430,
          610,
          1599,
          192,
          466,
          1344,
          717,
          418,
          366,
          283,
          358,
          516,
          219,
          1162,
          2605,
          541,
          603,
          453,
          413,
          349,
          1650,
          349,
          445,
          449,
          449,
          294,
          426,
          474,
          425,
          374,
          1556,
          580,
          406,
          586,
          520,
          602,
          178,
          630,
          572,
          694,
          679,
          1285,
          472,
          622,
          393,
          319,
          363,
          465,
          538,
          311,
          502,
          383,
          477,
          555,
          738,
          587,
          500,
          379,
          469,
          359,
          496,
          333,
          500,
          432,
          3593,
          155,
          363,
          451,
          355,
          550,
          606,
          356,
          354,
          444,
          365,
          230,
          450,
          493,
          349,
          336,
          403,
          386,
          401,
          455,
          763,
          532,
          705,
          323,
          1337,
          444,
          524,
          540,
          636,
          497,
          422,
          606,
          1126,
          324,
          473,
          407,
          387,
          451,
          432,
          4159,
          423,
          3013,
          456,
          445,
          529,
          377,
          377,
          422,
          482,
          606,
          550,
          543,
          483,
          498,
          483,
          1773,
          402,
          416,
          507,
          479,
          416,
          339,
          362,
          418,
          619,
          231,
          406,
          223,
          244,
          369,
          477,
          538,
          466,
          443,
          431,
          462,
          517,
          5332,
          367,
          450,
          731,
          469,
          367,
          927,
          895,
          335,
          865,
          141,
          468,
          392,
          1068,
          759,
          976,
          400,
          500,
          577,
          527,
          723,
          173,
          218,
          354,
          692,
          473,
          336,
          394,
          486,
          663,
          678,
          988,
          439,
          1631,
          405,
          159,
          565,
          319,
          401,
          343,
          386,
          406,
          385,
          422,
          521,
          417,
          471,
          412,
          1104,
          1608,
          382,
          331,
          382,
          294,
          325,
          293,
          310,
          299,
          460,
          274,
          305,
          433,
          381,
          401,
          453,
          380,
          406,
          1317,
          404,
          397,
          437,
          590,
          311,
          3276,
          1280,
          4275,
          3108,
          374,
          343,
          481,
          370,
          2595,
          472,
          4022,
          2168,
          251,
          226,
          956,
          876,
          3842,
          3076,
          1022,
          630,
          580,
          365,
          566,
          420,
          388,
          449,
          366,
          631,
          2572,
          2069,
          497,
          493,
          828,
          601,
          1368,
          2201,
          587,
          422,
          616,
          595,
          3660,
          3113,
          1140,
          721,
          3912,
          4152,
          2390,
          3308,
          1196,
          445,
          636,
          310,
          578,
          527,
          1062,
          1029,
          2585,
          3386,
          924,
          489,
          529,
          200,
          3834,
          3103,
          2252,
          783,
          663,
          418,
          536,
          510,
          441,
          555,
          443,
          474,
          473,
          147,
          412,
          481,
          495,
          419,
          2945,
          3386,
          756,
          917,
          932,
          704,
          440,
          532,
          408,
          1308,
          2658,
          2151,
          2552,
          3875,
          3243,
          675,
          1104,
          362,
          606,
          434,
          398,
          263,
          462
         ],
         "xaxis": "x",
         "y": [
          1122,
          1172,
          1149,
          1207,
          1621,
          1856,
          1182,
          1194,
          1156,
          1111,
          1293,
          1269,
          1051,
          1148,
          1200,
          1127,
          1176,
          1435,
          1223.4388059701494,
          1223.4388059701494,
          1223.4388059701494,
          1419,
          1522,
          1577,
          1677,
          1419,
          1758,
          1614,
          1170,
          1306,
          1233,
          1223.4388059701494,
          1223.4388059701494,
          1223.4388059701494,
          1372,
          1199,
          1227,
          2096,
          1374,
          1070,
          1416,
          1240,
          1239,
          1253,
          1058,
          1168,
          1424,
          1212,
          1195,
          1257,
          1255,
          1207,
          1315,
          1236,
          1132,
          1144,
          1223.4388059701494,
          1223.4388059701494,
          1109,
          1223.4388059701494,
          1744,
          1707,
          1196,
          1277,
          1446,
          1096,
          1084,
          1430,
          1128,
          1221,
          1326,
          1326,
          1054,
          1210,
          1223.4388059701494,
          1062,
          1077,
          1374,
          1202,
          1847,
          1270,
          1105,
          1174,
          1223.4388059701494,
          1127,
          1098,
          1102,
          1224,
          1309,
          1014,
          1090,
          945,
          1077,
          1097,
          1201,
          1257,
          1186,
          1103,
          1084,
          1181,
          1201,
          1158,
          1095,
          1223.4388059701494,
          1171,
          1158,
          1038,
          1164,
          1084,
          1223.4388059701494,
          1223.4388059701494,
          1241,
          1223.4388059701494,
          1099,
          1131,
          1049,
          1134,
          1290,
          1169,
          1092,
          1396,
          1075,
          1081,
          1148,
          1223.4388059701494,
          1138,
          951,
          965,
          1074,
          1083,
          1221,
          1224,
          1121,
          1166,
          1039,
          1333,
          1150,
          1190,
          1157,
          1158,
          962,
          1182,
          934,
          1181,
          1180,
          1106,
          1222,
          1077,
          1119,
          1082,
          1255,
          1270,
          1969,
          1263,
          1064,
          1115,
          1920,
          1133,
          1147,
          1135,
          1141,
          1111,
          1348,
          1135,
          1169,
          1268,
          1151,
          1048,
          1112,
          1288,
          1126,
          1163,
          1055,
          1122,
          1251,
          1102,
          1155,
          970,
          1223.4388059701494,
          1223.4388059701494,
          939,
          1029,
          1114,
          1038,
          1074,
          1080,
          1114,
          1211,
          1833,
          981,
          1206,
          1116,
          1223.4388059701494,
          1312,
          1189,
          1391,
          1353,
          1085,
          1223.4388059701494,
          1740,
          1189,
          1114,
          1204,
          1215,
          1090,
          1112,
          1187,
          1103,
          1093,
          1122,
          1035,
          1111,
          1179,
          1203,
          1169,
          1175,
          1212,
          1185,
          1258,
          1223.4388059701494,
          1068,
          1097,
          1092,
          1223.4388059701494,
          1139,
          1045,
          913,
          1176,
          1088,
          1153,
          1027,
          1105,
          1360,
          1273,
          1143,
          1151,
          1436,
          1251,
          963,
          1145,
          1118,
          1092,
          1143,
          1080,
          1183,
          1169,
          1159,
          1111,
          1135,
          1242,
          1023,
          1054,
          1149,
          1106,
          887,
          1193,
          1096,
          1108,
          1129,
          1102,
          1157,
          1272,
          1323,
          1306,
          1244,
          1223.4388059701494,
          1026,
          1237,
          1164,
          1226,
          1223.4388059701494,
          1431,
          1262,
          1124,
          1079,
          1184,
          1313,
          1473,
          1350,
          1627,
          1352,
          1185,
          1091,
          1196,
          1280,
          1219,
          1240,
          951,
          1663,
          1203,
          1211,
          1177,
          1064,
          1174,
          1330,
          1270,
          1364,
          1396,
          1049,
          1271,
          1441,
          1243,
          1216,
          1910,
          1330,
          1514,
          1474,
          1172,
          1449,
          1279,
          1145,
          1252,
          1156,
          1265,
          1094,
          1532,
          1108,
          1154,
          1192,
          1345,
          1223.4388059701494,
          1265,
          1223.4388059701494,
          1407,
          1194,
          1372,
          1538,
          1223.4388059701494,
          1868,
          1196,
          1316,
          1099,
          1173,
          1202,
          1287,
          1100,
          1223.4388059701494,
          1220,
          1151,
          1223.4388059701494,
          1255,
          1275,
          1218,
          1494,
          1239,
          1127,
          1470,
          1636,
          1353,
          1195,
          1426,
          1277,
          1279,
          1301,
          1418,
          1388,
          1235,
          1953,
          1098,
          1154,
          1035,
          1060,
          1315,
          1055
         ],
         "yaxis": "y"
        }
       ],
       "layout": {
        "legend": {
         "tracegroupgap": 0
        },
        "margin": {
         "t": 60
        },
        "template": {
         "data": {
          "bar": [
           {
            "error_x": {
             "color": "#2a3f5f"
            },
            "error_y": {
             "color": "#2a3f5f"
            },
            "marker": {
             "line": {
              "color": "#E5ECF6",
              "width": 0.5
             },
             "pattern": {
              "fillmode": "overlay",
              "size": 10,
              "solidity": 0.2
             }
            },
            "type": "bar"
           }
          ],
          "barpolar": [
           {
            "marker": {
             "line": {
              "color": "#E5ECF6",
              "width": 0.5
             },
             "pattern": {
              "fillmode": "overlay",
              "size": 10,
              "solidity": 0.2
             }
            },
            "type": "barpolar"
           }
          ],
          "carpet": [
           {
            "aaxis": {
             "endlinecolor": "#2a3f5f",
             "gridcolor": "white",
             "linecolor": "white",
             "minorgridcolor": "white",
             "startlinecolor": "#2a3f5f"
            },
            "baxis": {
             "endlinecolor": "#2a3f5f",
             "gridcolor": "white",
             "linecolor": "white",
             "minorgridcolor": "white",
             "startlinecolor": "#2a3f5f"
            },
            "type": "carpet"
           }
          ],
          "choropleth": [
           {
            "colorbar": {
             "outlinewidth": 0,
             "ticks": ""
            },
            "type": "choropleth"
           }
          ],
          "contour": [
           {
            "colorbar": {
             "outlinewidth": 0,
             "ticks": ""
            },
            "colorscale": [
             [
              0,
              "#0d0887"
             ],
             [
              0.1111111111111111,
              "#46039f"
             ],
             [
              0.2222222222222222,
              "#7201a8"
             ],
             [
              0.3333333333333333,
              "#9c179e"
             ],
             [
              0.4444444444444444,
              "#bd3786"
             ],
             [
              0.5555555555555556,
              "#d8576b"
             ],
             [
              0.6666666666666666,
              "#ed7953"
             ],
             [
              0.7777777777777778,
              "#fb9f3a"
             ],
             [
              0.8888888888888888,
              "#fdca26"
             ],
             [
              1,
              "#f0f921"
             ]
            ],
            "type": "contour"
           }
          ],
          "contourcarpet": [
           {
            "colorbar": {
             "outlinewidth": 0,
             "ticks": ""
            },
            "type": "contourcarpet"
           }
          ],
          "heatmap": [
           {
            "colorbar": {
             "outlinewidth": 0,
             "ticks": ""
            },
            "colorscale": [
             [
              0,
              "#0d0887"
             ],
             [
              0.1111111111111111,
              "#46039f"
             ],
             [
              0.2222222222222222,
              "#7201a8"
             ],
             [
              0.3333333333333333,
              "#9c179e"
             ],
             [
              0.4444444444444444,
              "#bd3786"
             ],
             [
              0.5555555555555556,
              "#d8576b"
             ],
             [
              0.6666666666666666,
              "#ed7953"
             ],
             [
              0.7777777777777778,
              "#fb9f3a"
             ],
             [
              0.8888888888888888,
              "#fdca26"
             ],
             [
              1,
              "#f0f921"
             ]
            ],
            "type": "heatmap"
           }
          ],
          "heatmapgl": [
           {
            "colorbar": {
             "outlinewidth": 0,
             "ticks": ""
            },
            "colorscale": [
             [
              0,
              "#0d0887"
             ],
             [
              0.1111111111111111,
              "#46039f"
             ],
             [
              0.2222222222222222,
              "#7201a8"
             ],
             [
              0.3333333333333333,
              "#9c179e"
             ],
             [
              0.4444444444444444,
              "#bd3786"
             ],
             [
              0.5555555555555556,
              "#d8576b"
             ],
             [
              0.6666666666666666,
              "#ed7953"
             ],
             [
              0.7777777777777778,
              "#fb9f3a"
             ],
             [
              0.8888888888888888,
              "#fdca26"
             ],
             [
              1,
              "#f0f921"
             ]
            ],
            "type": "heatmapgl"
           }
          ],
          "histogram": [
           {
            "marker": {
             "pattern": {
              "fillmode": "overlay",
              "size": 10,
              "solidity": 0.2
             }
            },
            "type": "histogram"
           }
          ],
          "histogram2d": [
           {
            "colorbar": {
             "outlinewidth": 0,
             "ticks": ""
            },
            "colorscale": [
             [
              0,
              "#0d0887"
             ],
             [
              0.1111111111111111,
              "#46039f"
             ],
             [
              0.2222222222222222,
              "#7201a8"
             ],
             [
              0.3333333333333333,
              "#9c179e"
             ],
             [
              0.4444444444444444,
              "#bd3786"
             ],
             [
              0.5555555555555556,
              "#d8576b"
             ],
             [
              0.6666666666666666,
              "#ed7953"
             ],
             [
              0.7777777777777778,
              "#fb9f3a"
             ],
             [
              0.8888888888888888,
              "#fdca26"
             ],
             [
              1,
              "#f0f921"
             ]
            ],
            "type": "histogram2d"
           }
          ],
          "histogram2dcontour": [
           {
            "colorbar": {
             "outlinewidth": 0,
             "ticks": ""
            },
            "colorscale": [
             [
              0,
              "#0d0887"
             ],
             [
              0.1111111111111111,
              "#46039f"
             ],
             [
              0.2222222222222222,
              "#7201a8"
             ],
             [
              0.3333333333333333,
              "#9c179e"
             ],
             [
              0.4444444444444444,
              "#bd3786"
             ],
             [
              0.5555555555555556,
              "#d8576b"
             ],
             [
              0.6666666666666666,
              "#ed7953"
             ],
             [
              0.7777777777777778,
              "#fb9f3a"
             ],
             [
              0.8888888888888888,
              "#fdca26"
             ],
             [
              1,
              "#f0f921"
             ]
            ],
            "type": "histogram2dcontour"
           }
          ],
          "mesh3d": [
           {
            "colorbar": {
             "outlinewidth": 0,
             "ticks": ""
            },
            "type": "mesh3d"
           }
          ],
          "parcoords": [
           {
            "line": {
             "colorbar": {
              "outlinewidth": 0,
              "ticks": ""
             }
            },
            "type": "parcoords"
           }
          ],
          "pie": [
           {
            "automargin": true,
            "type": "pie"
           }
          ],
          "scatter": [
           {
            "fillpattern": {
             "fillmode": "overlay",
             "size": 10,
             "solidity": 0.2
            },
            "type": "scatter"
           }
          ],
          "scatter3d": [
           {
            "line": {
             "colorbar": {
              "outlinewidth": 0,
              "ticks": ""
             }
            },
            "marker": {
             "colorbar": {
              "outlinewidth": 0,
              "ticks": ""
             }
            },
            "type": "scatter3d"
           }
          ],
          "scattercarpet": [
           {
            "marker": {
             "colorbar": {
              "outlinewidth": 0,
              "ticks": ""
             }
            },
            "type": "scattercarpet"
           }
          ],
          "scattergeo": [
           {
            "marker": {
             "colorbar": {
              "outlinewidth": 0,
              "ticks": ""
             }
            },
            "type": "scattergeo"
           }
          ],
          "scattergl": [
           {
            "marker": {
             "colorbar": {
              "outlinewidth": 0,
              "ticks": ""
             }
            },
            "type": "scattergl"
           }
          ],
          "scattermapbox": [
           {
            "marker": {
             "colorbar": {
              "outlinewidth": 0,
              "ticks": ""
             }
            },
            "type": "scattermapbox"
           }
          ],
          "scatterpolar": [
           {
            "marker": {
             "colorbar": {
              "outlinewidth": 0,
              "ticks": ""
             }
            },
            "type": "scatterpolar"
           }
          ],
          "scatterpolargl": [
           {
            "marker": {
             "colorbar": {
              "outlinewidth": 0,
              "ticks": ""
             }
            },
            "type": "scatterpolargl"
           }
          ],
          "scatterternary": [
           {
            "marker": {
             "colorbar": {
              "outlinewidth": 0,
              "ticks": ""
             }
            },
            "type": "scatterternary"
           }
          ],
          "surface": [
           {
            "colorbar": {
             "outlinewidth": 0,
             "ticks": ""
            },
            "colorscale": [
             [
              0,
              "#0d0887"
             ],
             [
              0.1111111111111111,
              "#46039f"
             ],
             [
              0.2222222222222222,
              "#7201a8"
             ],
             [
              0.3333333333333333,
              "#9c179e"
             ],
             [
              0.4444444444444444,
              "#bd3786"
             ],
             [
              0.5555555555555556,
              "#d8576b"
             ],
             [
              0.6666666666666666,
              "#ed7953"
             ],
             [
              0.7777777777777778,
              "#fb9f3a"
             ],
             [
              0.8888888888888888,
              "#fdca26"
             ],
             [
              1,
              "#f0f921"
             ]
            ],
            "type": "surface"
           }
          ],
          "table": [
           {
            "cells": {
             "fill": {
              "color": "#EBF0F8"
             },
             "line": {
              "color": "white"
             }
            },
            "header": {
             "fill": {
              "color": "#C8D4E3"
             },
             "line": {
              "color": "white"
             }
            },
            "type": "table"
           }
          ]
         },
         "layout": {
          "annotationdefaults": {
           "arrowcolor": "#2a3f5f",
           "arrowhead": 0,
           "arrowwidth": 1
          },
          "autotypenumbers": "strict",
          "coloraxis": {
           "colorbar": {
            "outlinewidth": 0,
            "ticks": ""
           }
          },
          "colorscale": {
           "diverging": [
            [
             0,
             "#8e0152"
            ],
            [
             0.1,
             "#c51b7d"
            ],
            [
             0.2,
             "#de77ae"
            ],
            [
             0.3,
             "#f1b6da"
            ],
            [
             0.4,
             "#fde0ef"
            ],
            [
             0.5,
             "#f7f7f7"
            ],
            [
             0.6,
             "#e6f5d0"
            ],
            [
             0.7,
             "#b8e186"
            ],
            [
             0.8,
             "#7fbc41"
            ],
            [
             0.9,
             "#4d9221"
            ],
            [
             1,
             "#276419"
            ]
           ],
           "sequential": [
            [
             0,
             "#0d0887"
            ],
            [
             0.1111111111111111,
             "#46039f"
            ],
            [
             0.2222222222222222,
             "#7201a8"
            ],
            [
             0.3333333333333333,
             "#9c179e"
            ],
            [
             0.4444444444444444,
             "#bd3786"
            ],
            [
             0.5555555555555556,
             "#d8576b"
            ],
            [
             0.6666666666666666,
             "#ed7953"
            ],
            [
             0.7777777777777778,
             "#fb9f3a"
            ],
            [
             0.8888888888888888,
             "#fdca26"
            ],
            [
             1,
             "#f0f921"
            ]
           ],
           "sequentialminus": [
            [
             0,
             "#0d0887"
            ],
            [
             0.1111111111111111,
             "#46039f"
            ],
            [
             0.2222222222222222,
             "#7201a8"
            ],
            [
             0.3333333333333333,
             "#9c179e"
            ],
            [
             0.4444444444444444,
             "#bd3786"
            ],
            [
             0.5555555555555556,
             "#d8576b"
            ],
            [
             0.6666666666666666,
             "#ed7953"
            ],
            [
             0.7777777777777778,
             "#fb9f3a"
            ],
            [
             0.8888888888888888,
             "#fdca26"
            ],
            [
             1,
             "#f0f921"
            ]
           ]
          },
          "colorway": [
           "#636efa",
           "#EF553B",
           "#00cc96",
           "#ab63fa",
           "#FFA15A",
           "#19d3f3",
           "#FF6692",
           "#B6E880",
           "#FF97FF",
           "#FECB52"
          ],
          "font": {
           "color": "#2a3f5f"
          },
          "geo": {
           "bgcolor": "white",
           "lakecolor": "white",
           "landcolor": "#E5ECF6",
           "showlakes": true,
           "showland": true,
           "subunitcolor": "white"
          },
          "hoverlabel": {
           "align": "left"
          },
          "hovermode": "closest",
          "mapbox": {
           "style": "light"
          },
          "paper_bgcolor": "white",
          "plot_bgcolor": "#E5ECF6",
          "polar": {
           "angularaxis": {
            "gridcolor": "white",
            "linecolor": "white",
            "ticks": ""
           },
           "bgcolor": "#E5ECF6",
           "radialaxis": {
            "gridcolor": "white",
            "linecolor": "white",
            "ticks": ""
           }
          },
          "scene": {
           "xaxis": {
            "backgroundcolor": "#E5ECF6",
            "gridcolor": "white",
            "gridwidth": 2,
            "linecolor": "white",
            "showbackground": true,
            "ticks": "",
            "zerolinecolor": "white"
           },
           "yaxis": {
            "backgroundcolor": "#E5ECF6",
            "gridcolor": "white",
            "gridwidth": 2,
            "linecolor": "white",
            "showbackground": true,
            "ticks": "",
            "zerolinecolor": "white"
           },
           "zaxis": {
            "backgroundcolor": "#E5ECF6",
            "gridcolor": "white",
            "gridwidth": 2,
            "linecolor": "white",
            "showbackground": true,
            "ticks": "",
            "zerolinecolor": "white"
           }
          },
          "shapedefaults": {
           "line": {
            "color": "#2a3f5f"
           }
          },
          "ternary": {
           "aaxis": {
            "gridcolor": "white",
            "linecolor": "white",
            "ticks": ""
           },
           "baxis": {
            "gridcolor": "white",
            "linecolor": "white",
            "ticks": ""
           },
           "bgcolor": "#E5ECF6",
           "caxis": {
            "gridcolor": "white",
            "linecolor": "white",
            "ticks": ""
           }
          },
          "title": {
           "x": 0.05
          },
          "xaxis": {
           "automargin": true,
           "gridcolor": "white",
           "linecolor": "white",
           "ticks": "",
           "title": {
            "standoff": 15
           },
           "zerolinecolor": "white",
           "zerolinewidth": 2
          },
          "yaxis": {
           "automargin": true,
           "gridcolor": "white",
           "linecolor": "white",
           "ticks": "",
           "title": {
            "standoff": 15
           },
           "zerolinecolor": "white",
           "zerolinewidth": 2
          }
         }
        },
        "xaxis": {
         "anchor": "y",
         "domain": [
          0,
          1
         ],
         "title": {
          "text": "total_enrollment"
         }
        },
        "yaxis": {
         "anchor": "x",
         "domain": [
          0,
          1
         ],
         "title": {
          "text": "sat_score"
         }
        }
       }
      },
      "text/html": [
       "<div>                            <div id=\"def68aa7-7534-42bc-9d01-931e48463514\" class=\"plotly-graph-div\" style=\"height:525px; width:100%;\"></div>            <script type=\"text/javascript\">                require([\"plotly\"], function(Plotly) {                    window.PLOTLYENV=window.PLOTLYENV || {};                                    if (document.getElementById(\"def68aa7-7534-42bc-9d01-931e48463514\")) {                    Plotly.newPlot(                        \"def68aa7-7534-42bc-9d01-931e48463514\",                        [{\"hovertemplate\":\"total_enrollment=%{x}<br>sat_score=%{y}<extra></extra>\",\"legendgroup\":\"\",\"marker\":{\"color\":\"#636efa\",\"symbol\":\"circle\"},\"mode\":\"markers\",\"name\":\"\",\"orientation\":\"v\",\"showlegend\":false,\"x\":[422,394,598,367,1613,617,174,433,343,419,414,431,451,312,336,378,495,433,332,304,244,1394,502,432,579,436,507,626,421,1768,607,175,226,176,429,444,325,3297,809,237,491,2073,724,217,541,423,353,430,610,1599,192,466,1344,717,418,366,283,358,516,219,1162,2605,541,603,453,413,349,1650,349,445,449,449,294,426,474,425,374,1556,580,406,586,520,602,178,630,572,694,679,1285,472,622,393,319,363,465,538,311,502,383,477,555,738,587,500,379,469,359,496,333,500,432,3593,155,363,451,355,550,606,356,354,444,365,230,450,493,349,336,403,386,401,455,763,532,705,323,1337,444,524,540,636,497,422,606,1126,324,473,407,387,451,432,4159,423,3013,456,445,529,377,377,422,482,606,550,543,483,498,483,1773,402,416,507,479,416,339,362,418,619,231,406,223,244,369,477,538,466,443,431,462,517,5332,367,450,731,469,367,927,895,335,865,141,468,392,1068,759,976,400,500,577,527,723,173,218,354,692,473,336,394,486,663,678,988,439,1631,405,159,565,319,401,343,386,406,385,422,521,417,471,412,1104,1608,382,331,382,294,325,293,310,299,460,274,305,433,381,401,453,380,406,1317,404,397,437,590,311,3276,1280,4275,3108,374,343,481,370,2595,472,4022,2168,251,226,956,876,3842,3076,1022,630,580,365,566,420,388,449,366,631,2572,2069,497,493,828,601,1368,2201,587,422,616,595,3660,3113,1140,721,3912,4152,2390,3308,1196,445,636,310,578,527,1062,1029,2585,3386,924,489,529,200,3834,3103,2252,783,663,418,536,510,441,555,443,474,473,147,412,481,495,419,2945,3386,756,917,932,704,440,532,408,1308,2658,2151,2552,3875,3243,675,1104,362,606,434,398,263,462],\"xaxis\":\"x\",\"y\":[1122.0,1172.0,1149.0,1207.0,1621.0,1856.0,1182.0,1194.0,1156.0,1111.0,1293.0,1269.0,1051.0,1148.0,1200.0,1127.0,1176.0,1435.0,1223.4388059701494,1223.4388059701494,1223.4388059701494,1419.0,1522.0,1577.0,1677.0,1419.0,1758.0,1614.0,1170.0,1306.0,1233.0,1223.4388059701494,1223.4388059701494,1223.4388059701494,1372.0,1199.0,1227.0,2096.0,1374.0,1070.0,1416.0,1240.0,1239.0,1253.0,1058.0,1168.0,1424.0,1212.0,1195.0,1257.0,1255.0,1207.0,1315.0,1236.0,1132.0,1144.0,1223.4388059701494,1223.4388059701494,1109.0,1223.4388059701494,1744.0,1707.0,1196.0,1277.0,1446.0,1096.0,1084.0,1430.0,1128.0,1221.0,1326.0,1326.0,1054.0,1210.0,1223.4388059701494,1062.0,1077.0,1374.0,1202.0,1847.0,1270.0,1105.0,1174.0,1223.4388059701494,1127.0,1098.0,1102.0,1224.0,1309.0,1014.0,1090.0,945.0,1077.0,1097.0,1201.0,1257.0,1186.0,1103.0,1084.0,1181.0,1201.0,1158.0,1095.0,1223.4388059701494,1171.0,1158.0,1038.0,1164.0,1084.0,1223.4388059701494,1223.4388059701494,1241.0,1223.4388059701494,1099.0,1131.0,1049.0,1134.0,1290.0,1169.0,1092.0,1396.0,1075.0,1081.0,1148.0,1223.4388059701494,1138.0,951.0,965.0,1074.0,1083.0,1221.0,1224.0,1121.0,1166.0,1039.0,1333.0,1150.0,1190.0,1157.0,1158.0,962.0,1182.0,934.0,1181.0,1180.0,1106.0,1222.0,1077.0,1119.0,1082.0,1255.0,1270.0,1969.0,1263.0,1064.0,1115.0,1920.0,1133.0,1147.0,1135.0,1141.0,1111.0,1348.0,1135.0,1169.0,1268.0,1151.0,1048.0,1112.0,1288.0,1126.0,1163.0,1055.0,1122.0,1251.0,1102.0,1155.0,970.0,1223.4388059701494,1223.4388059701494,939.0,1029.0,1114.0,1038.0,1074.0,1080.0,1114.0,1211.0,1833.0,981.0,1206.0,1116.0,1223.4388059701494,1312.0,1189.0,1391.0,1353.0,1085.0,1223.4388059701494,1740.0,1189.0,1114.0,1204.0,1215.0,1090.0,1112.0,1187.0,1103.0,1093.0,1122.0,1035.0,1111.0,1179.0,1203.0,1169.0,1175.0,1212.0,1185.0,1258.0,1223.4388059701494,1068.0,1097.0,1092.0,1223.4388059701494,1139.0,1045.0,913.0,1176.0,1088.0,1153.0,1027.0,1105.0,1360.0,1273.0,1143.0,1151.0,1436.0,1251.0,963.0,1145.0,1118.0,1092.0,1143.0,1080.0,1183.0,1169.0,1159.0,1111.0,1135.0,1242.0,1023.0,1054.0,1149.0,1106.0,887.0,1193.0,1096.0,1108.0,1129.0,1102.0,1157.0,1272.0,1323.0,1306.0,1244.0,1223.4388059701494,1026.0,1237.0,1164.0,1226.0,1223.4388059701494,1431.0,1262.0,1124.0,1079.0,1184.0,1313.0,1473.0,1350.0,1627.0,1352.0,1185.0,1091.0,1196.0,1280.0,1219.0,1240.0,951.0,1663.0,1203.0,1211.0,1177.0,1064.0,1174.0,1330.0,1270.0,1364.0,1396.0,1049.0,1271.0,1441.0,1243.0,1216.0,1910.0,1330.0,1514.0,1474.0,1172.0,1449.0,1279.0,1145.0,1252.0,1156.0,1265.0,1094.0,1532.0,1108.0,1154.0,1192.0,1345.0,1223.4388059701494,1265.0,1223.4388059701494,1407.0,1194.0,1372.0,1538.0,1223.4388059701494,1868.0,1196.0,1316.0,1099.0,1173.0,1202.0,1287.0,1100.0,1223.4388059701494,1220.0,1151.0,1223.4388059701494,1255.0,1275.0,1218.0,1494.0,1239.0,1127.0,1470.0,1636.0,1353.0,1195.0,1426.0,1277.0,1279.0,1301.0,1418.0,1388.0,1235.0,1953.0,1098.0,1154.0,1035.0,1060.0,1315.0,1055.0],\"yaxis\":\"y\",\"type\":\"scatter\"}],                        {\"template\":{\"data\":{\"histogram2dcontour\":[{\"type\":\"histogram2dcontour\",\"colorbar\":{\"outlinewidth\":0,\"ticks\":\"\"},\"colorscale\":[[0.0,\"#0d0887\"],[0.1111111111111111,\"#46039f\"],[0.2222222222222222,\"#7201a8\"],[0.3333333333333333,\"#9c179e\"],[0.4444444444444444,\"#bd3786\"],[0.5555555555555556,\"#d8576b\"],[0.6666666666666666,\"#ed7953\"],[0.7777777777777778,\"#fb9f3a\"],[0.8888888888888888,\"#fdca26\"],[1.0,\"#f0f921\"]]}],\"choropleth\":[{\"type\":\"choropleth\",\"colorbar\":{\"outlinewidth\":0,\"ticks\":\"\"}}],\"histogram2d\":[{\"type\":\"histogram2d\",\"colorbar\":{\"outlinewidth\":0,\"ticks\":\"\"},\"colorscale\":[[0.0,\"#0d0887\"],[0.1111111111111111,\"#46039f\"],[0.2222222222222222,\"#7201a8\"],[0.3333333333333333,\"#9c179e\"],[0.4444444444444444,\"#bd3786\"],[0.5555555555555556,\"#d8576b\"],[0.6666666666666666,\"#ed7953\"],[0.7777777777777778,\"#fb9f3a\"],[0.8888888888888888,\"#fdca26\"],[1.0,\"#f0f921\"]]}],\"heatmap\":[{\"type\":\"heatmap\",\"colorbar\":{\"outlinewidth\":0,\"ticks\":\"\"},\"colorscale\":[[0.0,\"#0d0887\"],[0.1111111111111111,\"#46039f\"],[0.2222222222222222,\"#7201a8\"],[0.3333333333333333,\"#9c179e\"],[0.4444444444444444,\"#bd3786\"],[0.5555555555555556,\"#d8576b\"],[0.6666666666666666,\"#ed7953\"],[0.7777777777777778,\"#fb9f3a\"],[0.8888888888888888,\"#fdca26\"],[1.0,\"#f0f921\"]]}],\"heatmapgl\":[{\"type\":\"heatmapgl\",\"colorbar\":{\"outlinewidth\":0,\"ticks\":\"\"},\"colorscale\":[[0.0,\"#0d0887\"],[0.1111111111111111,\"#46039f\"],[0.2222222222222222,\"#7201a8\"],[0.3333333333333333,\"#9c179e\"],[0.4444444444444444,\"#bd3786\"],[0.5555555555555556,\"#d8576b\"],[0.6666666666666666,\"#ed7953\"],[0.7777777777777778,\"#fb9f3a\"],[0.8888888888888888,\"#fdca26\"],[1.0,\"#f0f921\"]]}],\"contourcarpet\":[{\"type\":\"contourcarpet\",\"colorbar\":{\"outlinewidth\":0,\"ticks\":\"\"}}],\"contour\":[{\"type\":\"contour\",\"colorbar\":{\"outlinewidth\":0,\"ticks\":\"\"},\"colorscale\":[[0.0,\"#0d0887\"],[0.1111111111111111,\"#46039f\"],[0.2222222222222222,\"#7201a8\"],[0.3333333333333333,\"#9c179e\"],[0.4444444444444444,\"#bd3786\"],[0.5555555555555556,\"#d8576b\"],[0.6666666666666666,\"#ed7953\"],[0.7777777777777778,\"#fb9f3a\"],[0.8888888888888888,\"#fdca26\"],[1.0,\"#f0f921\"]]}],\"surface\":[{\"type\":\"surface\",\"colorbar\":{\"outlinewidth\":0,\"ticks\":\"\"},\"colorscale\":[[0.0,\"#0d0887\"],[0.1111111111111111,\"#46039f\"],[0.2222222222222222,\"#7201a8\"],[0.3333333333333333,\"#9c179e\"],[0.4444444444444444,\"#bd3786\"],[0.5555555555555556,\"#d8576b\"],[0.6666666666666666,\"#ed7953\"],[0.7777777777777778,\"#fb9f3a\"],[0.8888888888888888,\"#fdca26\"],[1.0,\"#f0f921\"]]}],\"mesh3d\":[{\"type\":\"mesh3d\",\"colorbar\":{\"outlinewidth\":0,\"ticks\":\"\"}}],\"scatter\":[{\"fillpattern\":{\"fillmode\":\"overlay\",\"size\":10,\"solidity\":0.2},\"type\":\"scatter\"}],\"parcoords\":[{\"type\":\"parcoords\",\"line\":{\"colorbar\":{\"outlinewidth\":0,\"ticks\":\"\"}}}],\"scatterpolargl\":[{\"type\":\"scatterpolargl\",\"marker\":{\"colorbar\":{\"outlinewidth\":0,\"ticks\":\"\"}}}],\"bar\":[{\"error_x\":{\"color\":\"#2a3f5f\"},\"error_y\":{\"color\":\"#2a3f5f\"},\"marker\":{\"line\":{\"color\":\"#E5ECF6\",\"width\":0.5},\"pattern\":{\"fillmode\":\"overlay\",\"size\":10,\"solidity\":0.2}},\"type\":\"bar\"}],\"scattergeo\":[{\"type\":\"scattergeo\",\"marker\":{\"colorbar\":{\"outlinewidth\":0,\"ticks\":\"\"}}}],\"scatterpolar\":[{\"type\":\"scatterpolar\",\"marker\":{\"colorbar\":{\"outlinewidth\":0,\"ticks\":\"\"}}}],\"histogram\":[{\"marker\":{\"pattern\":{\"fillmode\":\"overlay\",\"size\":10,\"solidity\":0.2}},\"type\":\"histogram\"}],\"scattergl\":[{\"type\":\"scattergl\",\"marker\":{\"colorbar\":{\"outlinewidth\":0,\"ticks\":\"\"}}}],\"scatter3d\":[{\"type\":\"scatter3d\",\"line\":{\"colorbar\":{\"outlinewidth\":0,\"ticks\":\"\"}},\"marker\":{\"colorbar\":{\"outlinewidth\":0,\"ticks\":\"\"}}}],\"scattermapbox\":[{\"type\":\"scattermapbox\",\"marker\":{\"colorbar\":{\"outlinewidth\":0,\"ticks\":\"\"}}}],\"scatterternary\":[{\"type\":\"scatterternary\",\"marker\":{\"colorbar\":{\"outlinewidth\":0,\"ticks\":\"\"}}}],\"scattercarpet\":[{\"type\":\"scattercarpet\",\"marker\":{\"colorbar\":{\"outlinewidth\":0,\"ticks\":\"\"}}}],\"carpet\":[{\"aaxis\":{\"endlinecolor\":\"#2a3f5f\",\"gridcolor\":\"white\",\"linecolor\":\"white\",\"minorgridcolor\":\"white\",\"startlinecolor\":\"#2a3f5f\"},\"baxis\":{\"endlinecolor\":\"#2a3f5f\",\"gridcolor\":\"white\",\"linecolor\":\"white\",\"minorgridcolor\":\"white\",\"startlinecolor\":\"#2a3f5f\"},\"type\":\"carpet\"}],\"table\":[{\"cells\":{\"fill\":{\"color\":\"#EBF0F8\"},\"line\":{\"color\":\"white\"}},\"header\":{\"fill\":{\"color\":\"#C8D4E3\"},\"line\":{\"color\":\"white\"}},\"type\":\"table\"}],\"barpolar\":[{\"marker\":{\"line\":{\"color\":\"#E5ECF6\",\"width\":0.5},\"pattern\":{\"fillmode\":\"overlay\",\"size\":10,\"solidity\":0.2}},\"type\":\"barpolar\"}],\"pie\":[{\"automargin\":true,\"type\":\"pie\"}]},\"layout\":{\"autotypenumbers\":\"strict\",\"colorway\":[\"#636efa\",\"#EF553B\",\"#00cc96\",\"#ab63fa\",\"#FFA15A\",\"#19d3f3\",\"#FF6692\",\"#B6E880\",\"#FF97FF\",\"#FECB52\"],\"font\":{\"color\":\"#2a3f5f\"},\"hovermode\":\"closest\",\"hoverlabel\":{\"align\":\"left\"},\"paper_bgcolor\":\"white\",\"plot_bgcolor\":\"#E5ECF6\",\"polar\":{\"bgcolor\":\"#E5ECF6\",\"angularaxis\":{\"gridcolor\":\"white\",\"linecolor\":\"white\",\"ticks\":\"\"},\"radialaxis\":{\"gridcolor\":\"white\",\"linecolor\":\"white\",\"ticks\":\"\"}},\"ternary\":{\"bgcolor\":\"#E5ECF6\",\"aaxis\":{\"gridcolor\":\"white\",\"linecolor\":\"white\",\"ticks\":\"\"},\"baxis\":{\"gridcolor\":\"white\",\"linecolor\":\"white\",\"ticks\":\"\"},\"caxis\":{\"gridcolor\":\"white\",\"linecolor\":\"white\",\"ticks\":\"\"}},\"coloraxis\":{\"colorbar\":{\"outlinewidth\":0,\"ticks\":\"\"}},\"colorscale\":{\"sequential\":[[0.0,\"#0d0887\"],[0.1111111111111111,\"#46039f\"],[0.2222222222222222,\"#7201a8\"],[0.3333333333333333,\"#9c179e\"],[0.4444444444444444,\"#bd3786\"],[0.5555555555555556,\"#d8576b\"],[0.6666666666666666,\"#ed7953\"],[0.7777777777777778,\"#fb9f3a\"],[0.8888888888888888,\"#fdca26\"],[1.0,\"#f0f921\"]],\"sequentialminus\":[[0.0,\"#0d0887\"],[0.1111111111111111,\"#46039f\"],[0.2222222222222222,\"#7201a8\"],[0.3333333333333333,\"#9c179e\"],[0.4444444444444444,\"#bd3786\"],[0.5555555555555556,\"#d8576b\"],[0.6666666666666666,\"#ed7953\"],[0.7777777777777778,\"#fb9f3a\"],[0.8888888888888888,\"#fdca26\"],[1.0,\"#f0f921\"]],\"diverging\":[[0,\"#8e0152\"],[0.1,\"#c51b7d\"],[0.2,\"#de77ae\"],[0.3,\"#f1b6da\"],[0.4,\"#fde0ef\"],[0.5,\"#f7f7f7\"],[0.6,\"#e6f5d0\"],[0.7,\"#b8e186\"],[0.8,\"#7fbc41\"],[0.9,\"#4d9221\"],[1,\"#276419\"]]},\"xaxis\":{\"gridcolor\":\"white\",\"linecolor\":\"white\",\"ticks\":\"\",\"title\":{\"standoff\":15},\"zerolinecolor\":\"white\",\"automargin\":true,\"zerolinewidth\":2},\"yaxis\":{\"gridcolor\":\"white\",\"linecolor\":\"white\",\"ticks\":\"\",\"title\":{\"standoff\":15},\"zerolinecolor\":\"white\",\"automargin\":true,\"zerolinewidth\":2},\"scene\":{\"xaxis\":{\"backgroundcolor\":\"#E5ECF6\",\"gridcolor\":\"white\",\"linecolor\":\"white\",\"showbackground\":true,\"ticks\":\"\",\"zerolinecolor\":\"white\",\"gridwidth\":2},\"yaxis\":{\"backgroundcolor\":\"#E5ECF6\",\"gridcolor\":\"white\",\"linecolor\":\"white\",\"showbackground\":true,\"ticks\":\"\",\"zerolinecolor\":\"white\",\"gridwidth\":2},\"zaxis\":{\"backgroundcolor\":\"#E5ECF6\",\"gridcolor\":\"white\",\"linecolor\":\"white\",\"showbackground\":true,\"ticks\":\"\",\"zerolinecolor\":\"white\",\"gridwidth\":2}},\"shapedefaults\":{\"line\":{\"color\":\"#2a3f5f\"}},\"annotationdefaults\":{\"arrowcolor\":\"#2a3f5f\",\"arrowhead\":0,\"arrowwidth\":1},\"geo\":{\"bgcolor\":\"white\",\"landcolor\":\"#E5ECF6\",\"subunitcolor\":\"white\",\"showland\":true,\"showlakes\":true,\"lakecolor\":\"white\"},\"title\":{\"x\":0.05},\"mapbox\":{\"style\":\"light\"}}},\"xaxis\":{\"anchor\":\"y\",\"domain\":[0.0,1.0],\"title\":{\"text\":\"total_enrollment\"}},\"yaxis\":{\"anchor\":\"x\",\"domain\":[0.0,1.0],\"title\":{\"text\":\"sat_score\"}},\"legend\":{\"tracegroupgap\":0},\"margin\":{\"t\":60}},                        {\"responsive\": true}                    ).then(function(){\n",
       "                            \n",
       "var gd = document.getElementById('def68aa7-7534-42bc-9d01-931e48463514');\n",
       "var x = new MutationObserver(function (mutations, observer) {{\n",
       "        var display = window.getComputedStyle(gd).display;\n",
       "        if (!display || display === 'none') {{\n",
       "            console.log([gd, 'removed!']);\n",
       "            Plotly.purge(gd);\n",
       "            observer.disconnect();\n",
       "        }}\n",
       "}});\n",
       "\n",
       "// Listen for the removal of the full notebook cells\n",
       "var notebookContainer = gd.closest('#notebook-container');\n",
       "if (notebookContainer) {{\n",
       "    x.observe(notebookContainer, {childList: true});\n",
       "}}\n",
       "\n",
       "// Listen for the clearing of the current output cell\n",
       "var outputEl = gd.closest('.output');\n",
       "if (outputEl) {{\n",
       "    x.observe(outputEl, {childList: true});\n",
       "}}\n",
       "\n",
       "                        })                };                });            </script>        </div>"
      ]
     },
     "metadata": {},
     "output_type": "display_data"
    }
   ],
   "source": [
    "px.scatter(combined, x='total_enrollment', y='sat_score')"
   ]
  },
  {
   "cell_type": "markdown",
   "id": "f8a50c67",
   "metadata": {},
   "source": [
    "Judging from the plot we just created, it doesn't appear there's a strong correlation between sat_score and total_enrollment.\n",
    "However, there's an interesting cluster of points at the bottom left where total_enrollment and sat_score are both low. This cluster may be what's making the r value so high. It's worth extracting the names of the schools in this cluster so we can research them."
   ]
  },
  {
   "cell_type": "code",
   "execution_count": 80,
   "id": "f2e97288",
   "metadata": {},
   "outputs": [
    {
     "data": {
      "text/plain": [
       "91                  INTERNATIONAL COMMUNITY HIGH SCHOOL\n",
       "126                 ACADEMY FOR LANGUAGE AND TECHNOLOGY\n",
       "127                     BRONX INTERNATIONAL HIGH SCHOOL\n",
       "140               KINGSBRIDGE INTERNATIONAL HIGH SCHOOL\n",
       "142               INTERNATIONAL SCHOOL FOR LIBERAL ARTS\n",
       "177    PAN AMERICAN INTERNATIONAL HIGH SCHOOL AT MONROE\n",
       "180                       HIGH SCHOOL OF WORLD CULTURES\n",
       "189                  BROOKLYN INTERNATIONAL HIGH SCHOOL\n",
       "226       INTERNATIONAL HIGH SCHOOL AT PROSPECT HEIGHTS\n",
       "238                          IT TAKES A VILLAGE ACADEMY\n",
       "254                           MULTICULTURAL HIGH SCHOOL\n",
       "287              PAN AMERICAN INTERNATIONAL HIGH SCHOOL\n",
       "Name: SCHOOL NAME, dtype: object"
      ]
     },
     "execution_count": 80,
     "metadata": {},
     "output_type": "execute_result"
    }
   ],
   "source": [
    "low_enrollment = combined[combined[\"total_enrollment\"] < 1000]\n",
    "low_enrollment = low_enrollment[low_enrollment[\"sat_score\"] < 1000]\n",
    "low_enrollment[\"SCHOOL NAME\"]"
   ]
  },
  {
   "cell_type": "markdown",
   "id": "660e8264",
   "metadata": {},
   "source": [
    "#### Our research revealed that most of the high schools with low total enrollment and low SAT scores have high percentages of English language learners. This indicates that it's actually ell_percent that correlates strongly with sat_score, rather than total_enrollment."
   ]
  },
  {
   "cell_type": "code",
   "execution_count": 81,
   "id": "ba5e0ce7",
   "metadata": {},
   "outputs": [
    {
     "data": {
      "application/vnd.plotly.v1+json": {
       "config": {
        "plotlyServerURL": "https://plot.ly"
       },
       "data": [
        {
         "hovertemplate": "ell_percent=%{x}<br>sat_score=%{y}<extra></extra>",
         "legendgroup": "",
         "marker": {
          "color": "#636efa",
          "symbol": "circle"
         },
         "mode": "markers",
         "name": "",
         "orientation": "v",
         "showlegend": false,
         "type": "scatter",
         "x": [
          22.3,
          21.1,
          5,
          11.2,
          0.2,
          0.2,
          8,
          2.1,
          3.8,
          9.5,
          2.2,
          10.9,
          20.8,
          6.1,
          3.9,
          2.6,
          3,
          0.5,
          9.9,
          7.6,
          28.3,
          7.1,
          2,
          1.6,
          1.6,
          0.5,
          0.2,
          0.2,
          15.7,
          4,
          5.4,
          86.9,
          8.8,
          94.9,
          3.7,
          6.1,
          77.5,
          0,
          6.3,
          15.6,
          0.2,
          10.2,
          9.8,
          0.5,
          72.6,
          5.4,
          38.2,
          4.2,
          6.4,
          2.8,
          1,
          6.2,
          1.6,
          7.9,
          14.4,
          12.8,
          25.1,
          19.3,
          7.4,
          0.9,
          0.2,
          0.2,
          10.5,
          10.4,
          1.3,
          5.8,
          9.7,
          2.7,
          4.3,
          4,
          2.2,
          2.2,
          6.8,
          8.7,
          0.6,
          9.9,
          6.1,
          2.4,
          1.4,
          0,
          6.1,
          30,
          19.6,
          19.7,
          43,
          26.9,
          32,
          31.2,
          2.3,
          89.6,
          8.8,
          90.1,
          13.2,
          9.6,
          3.7,
          5.6,
          21.9,
          14.1,
          15.7,
          5,
          9.4,
          9.1,
          10.4,
          9.2,
          2.6,
          4.5,
          15.9,
          5.4,
          12.6,
          2.6,
          7.4,
          9.2,
          79.4,
          14,
          13.5,
          29.3,
          4,
          9.4,
          8.1,
          8.8,
          1.6,
          12.1,
          16.5,
          19.1,
          11,
          24.4,
          86.6,
          87.1,
          20.7,
          23.2,
          5.7,
          6.6,
          6.4,
          9.6,
          8.7,
          6.7,
          15.5,
          4.4,
          6.7,
          13.2,
          88.7,
          7.1,
          79.9,
          12.1,
          9.3,
          17.8,
          11.3,
          12.4,
          16.6,
          13.4,
          19,
          3.5,
          0.1,
          32.2,
          9.4,
          20.6,
          0,
          6.1,
          8.5,
          3.7,
          6.3,
          10.2,
          3.3,
          7.7,
          7.6,
          5.2,
          9.2,
          80.1,
          7,
          2.2,
          10.2,
          14.7,
          21.8,
          19.9,
          13.6,
          11.6,
          13.9,
          92.9,
          4,
          16.8,
          86.4,
          11.5,
          4.5,
          28.8,
          4.3,
          4.6,
          2.4,
          7,
          0.1,
          83.1,
          0.9,
          2.9,
          1.5,
          1.1,
          1.9,
          0,
          3.6,
          24.9,
          5.7,
          0.4,
          11.5,
          16.1,
          5.7,
          9.9,
          2.7,
          7,
          2.8,
          14.6,
          4.7,
          9.8,
          17,
          5.9,
          4.5,
          6.3,
          16.7,
          9.6,
          14.6,
          7.5,
          0.1,
          14.4,
          1.4,
          2.5,
          4.7,
          6.3,
          5,
          12.9,
          91,
          5.2,
          6.2,
          3.7,
          9.1,
          8.8,
          0,
          0.5,
          6.8,
          0.5,
          0,
          8.3,
          30.4,
          5.7,
          5,
          9.5,
          5.2,
          3.4,
          8.1,
          7.7,
          3.3,
          6.9,
          11.1,
          0.5,
          5,
          9.7,
          4.9,
          4.2,
          94.6,
          2.4,
          12.1,
          15.4,
          16.2,
          5.3,
          9,
          23,
          4.9,
          21.2,
          39.4,
          15.5,
          89.2,
          11,
          2.4,
          16.7,
          2.8,
          9.1,
          19.6,
          4.8,
          21.7,
          3.1,
          8.4,
          3.7,
          13.2,
          0.5,
          0.2,
          1.6,
          1.4,
          1.8,
          7.9,
          10.3,
          9.1,
          91.3,
          0.3,
          30,
          21.6,
          0.2,
          76.5,
          13.3,
          3.8,
          6.4,
          3.2,
          2.7,
          88.6,
          13.6,
          0.8,
          24.7,
          20,
          0,
          7.5,
          6.1,
          13.2,
          9.9,
          5.7,
          2.5,
          4,
          1.3,
          10.6,
          3.6,
          10.6,
          0,
          4.3,
          17.4,
          16,
          0.4,
          0,
          8.1,
          12.5,
          8.9,
          15,
          1.4,
          0.1,
          3.6,
          0.2,
          2.1,
          2.7,
          4.5,
          2.3,
          2.3,
          1.7,
          1.9,
          2,
          5.1,
          3.5,
          5.5,
          2.9,
          17.9,
          13.2,
          0.1,
          9.6,
          90.3,
          5.7,
          0,
          0.2,
          1,
          1.6,
          5.9,
          5.3,
          6.1,
          1.4,
          3.4,
          3.6,
          0.1,
          32.9,
          15.3,
          18.2,
          23.9,
          2.7,
          18.2
         ],
         "xaxis": "x",
         "y": [
          1122,
          1172,
          1149,
          1207,
          1621,
          1856,
          1182,
          1194,
          1156,
          1111,
          1293,
          1269,
          1051,
          1148,
          1200,
          1127,
          1176,
          1435,
          1223.4388059701494,
          1223.4388059701494,
          1223.4388059701494,
          1419,
          1522,
          1577,
          1677,
          1419,
          1758,
          1614,
          1170,
          1306,
          1233,
          1223.4388059701494,
          1223.4388059701494,
          1223.4388059701494,
          1372,
          1199,
          1227,
          2096,
          1374,
          1070,
          1416,
          1240,
          1239,
          1253,
          1058,
          1168,
          1424,
          1212,
          1195,
          1257,
          1255,
          1207,
          1315,
          1236,
          1132,
          1144,
          1223.4388059701494,
          1223.4388059701494,
          1109,
          1223.4388059701494,
          1744,
          1707,
          1196,
          1277,
          1446,
          1096,
          1084,
          1430,
          1128,
          1221,
          1326,
          1326,
          1054,
          1210,
          1223.4388059701494,
          1062,
          1077,
          1374,
          1202,
          1847,
          1270,
          1105,
          1174,
          1223.4388059701494,
          1127,
          1098,
          1102,
          1224,
          1309,
          1014,
          1090,
          945,
          1077,
          1097,
          1201,
          1257,
          1186,
          1103,
          1084,
          1181,
          1201,
          1158,
          1095,
          1223.4388059701494,
          1171,
          1158,
          1038,
          1164,
          1084,
          1223.4388059701494,
          1223.4388059701494,
          1241,
          1223.4388059701494,
          1099,
          1131,
          1049,
          1134,
          1290,
          1169,
          1092,
          1396,
          1075,
          1081,
          1148,
          1223.4388059701494,
          1138,
          951,
          965,
          1074,
          1083,
          1221,
          1224,
          1121,
          1166,
          1039,
          1333,
          1150,
          1190,
          1157,
          1158,
          962,
          1182,
          934,
          1181,
          1180,
          1106,
          1222,
          1077,
          1119,
          1082,
          1255,
          1270,
          1969,
          1263,
          1064,
          1115,
          1920,
          1133,
          1147,
          1135,
          1141,
          1111,
          1348,
          1135,
          1169,
          1268,
          1151,
          1048,
          1112,
          1288,
          1126,
          1163,
          1055,
          1122,
          1251,
          1102,
          1155,
          970,
          1223.4388059701494,
          1223.4388059701494,
          939,
          1029,
          1114,
          1038,
          1074,
          1080,
          1114,
          1211,
          1833,
          981,
          1206,
          1116,
          1223.4388059701494,
          1312,
          1189,
          1391,
          1353,
          1085,
          1223.4388059701494,
          1740,
          1189,
          1114,
          1204,
          1215,
          1090,
          1112,
          1187,
          1103,
          1093,
          1122,
          1035,
          1111,
          1179,
          1203,
          1169,
          1175,
          1212,
          1185,
          1258,
          1223.4388059701494,
          1068,
          1097,
          1092,
          1223.4388059701494,
          1139,
          1045,
          913,
          1176,
          1088,
          1153,
          1027,
          1105,
          1360,
          1273,
          1143,
          1151,
          1436,
          1251,
          963,
          1145,
          1118,
          1092,
          1143,
          1080,
          1183,
          1169,
          1159,
          1111,
          1135,
          1242,
          1023,
          1054,
          1149,
          1106,
          887,
          1193,
          1096,
          1108,
          1129,
          1102,
          1157,
          1272,
          1323,
          1306,
          1244,
          1223.4388059701494,
          1026,
          1237,
          1164,
          1226,
          1223.4388059701494,
          1431,
          1262,
          1124,
          1079,
          1184,
          1313,
          1473,
          1350,
          1627,
          1352,
          1185,
          1091,
          1196,
          1280,
          1219,
          1240,
          951,
          1663,
          1203,
          1211,
          1177,
          1064,
          1174,
          1330,
          1270,
          1364,
          1396,
          1049,
          1271,
          1441,
          1243,
          1216,
          1910,
          1330,
          1514,
          1474,
          1172,
          1449,
          1279,
          1145,
          1252,
          1156,
          1265,
          1094,
          1532,
          1108,
          1154,
          1192,
          1345,
          1223.4388059701494,
          1265,
          1223.4388059701494,
          1407,
          1194,
          1372,
          1538,
          1223.4388059701494,
          1868,
          1196,
          1316,
          1099,
          1173,
          1202,
          1287,
          1100,
          1223.4388059701494,
          1220,
          1151,
          1223.4388059701494,
          1255,
          1275,
          1218,
          1494,
          1239,
          1127,
          1470,
          1636,
          1353,
          1195,
          1426,
          1277,
          1279,
          1301,
          1418,
          1388,
          1235,
          1953,
          1098,
          1154,
          1035,
          1060,
          1315,
          1055
         ],
         "yaxis": "y"
        },
        {
         "hovertemplate": "<b>OLS trendline</b><br>sat_score = -3.53352 * ell_percent + 1270.45<br>R<sup>2</sup>=0.158876<br><br>ell_percent=%{x}<br>sat_score=%{y} <b>(trend)</b><extra></extra>",
         "legendgroup": "",
         "marker": {
          "color": "#636efa",
          "symbol": "circle"
         },
         "mode": "lines",
         "name": "",
         "showlegend": false,
         "type": "scatter",
         "x": [
          0,
          0,
          0,
          0,
          0,
          0,
          0,
          0,
          0,
          0,
          0.1,
          0.1,
          0.1,
          0.1,
          0.1,
          0.1,
          0.2,
          0.2,
          0.2,
          0.2,
          0.2,
          0.2,
          0.2,
          0.2,
          0.2,
          0.2,
          0.2,
          0.3,
          0.4,
          0.4,
          0.5,
          0.5,
          0.5,
          0.5,
          0.5,
          0.5,
          0.5,
          0.6,
          0.8,
          0.9,
          0.9,
          1,
          1,
          1.1,
          1.3,
          1.3,
          1.4,
          1.4,
          1.4,
          1.4,
          1.4,
          1.5,
          1.6,
          1.6,
          1.6,
          1.6,
          1.6,
          1.6,
          1.7,
          1.8,
          1.9,
          1.9,
          2,
          2,
          2.1,
          2.1,
          2.2,
          2.2,
          2.2,
          2.2,
          2.3,
          2.3,
          2.3,
          2.4,
          2.4,
          2.4,
          2.4,
          2.5,
          2.5,
          2.6,
          2.6,
          2.6,
          2.7,
          2.7,
          2.7,
          2.7,
          2.7,
          2.8,
          2.8,
          2.8,
          2.9,
          2.9,
          3,
          3.1,
          3.2,
          3.3,
          3.3,
          3.4,
          3.4,
          3.5,
          3.5,
          3.6,
          3.6,
          3.6,
          3.6,
          3.7,
          3.7,
          3.7,
          3.7,
          3.7,
          3.8,
          3.8,
          3.9,
          4,
          4,
          4,
          4,
          4,
          4.2,
          4.2,
          4.3,
          4.3,
          4.3,
          4.4,
          4.5,
          4.5,
          4.5,
          4.5,
          4.6,
          4.7,
          4.7,
          4.8,
          4.9,
          4.9,
          5,
          5,
          5,
          5,
          5,
          5.1,
          5.2,
          5.2,
          5.2,
          5.3,
          5.3,
          5.4,
          5.4,
          5.4,
          5.5,
          5.6,
          5.7,
          5.7,
          5.7,
          5.7,
          5.7,
          5.7,
          5.8,
          5.9,
          5.9,
          6.1,
          6.1,
          6.1,
          6.1,
          6.1,
          6.1,
          6.1,
          6.2,
          6.2,
          6.3,
          6.3,
          6.3,
          6.3,
          6.4,
          6.4,
          6.4,
          6.6,
          6.7,
          6.7,
          6.8,
          6.8,
          6.9,
          7,
          7,
          7,
          7.1,
          7.1,
          7.4,
          7.4,
          7.5,
          7.5,
          7.6,
          7.6,
          7.7,
          7.7,
          7.9,
          7.9,
          8,
          8.1,
          8.1,
          8.1,
          8.3,
          8.4,
          8.5,
          8.7,
          8.7,
          8.8,
          8.8,
          8.8,
          8.8,
          8.9,
          9,
          9.1,
          9.1,
          9.1,
          9.1,
          9.2,
          9.2,
          9.2,
          9.3,
          9.4,
          9.4,
          9.4,
          9.5,
          9.5,
          9.6,
          9.6,
          9.6,
          9.6,
          9.7,
          9.7,
          9.8,
          9.8,
          9.9,
          9.9,
          9.9,
          9.9,
          10.2,
          10.2,
          10.2,
          10.3,
          10.4,
          10.4,
          10.5,
          10.6,
          10.6,
          10.9,
          11,
          11,
          11.1,
          11.2,
          11.3,
          11.5,
          11.5,
          11.6,
          12.1,
          12.1,
          12.1,
          12.4,
          12.5,
          12.6,
          12.8,
          12.9,
          13.2,
          13.2,
          13.2,
          13.2,
          13.2,
          13.3,
          13.4,
          13.5,
          13.6,
          13.6,
          13.9,
          14,
          14.1,
          14.4,
          14.4,
          14.6,
          14.6,
          14.7,
          15,
          15.3,
          15.4,
          15.5,
          15.5,
          15.6,
          15.7,
          15.7,
          15.9,
          16,
          16.1,
          16.2,
          16.5,
          16.6,
          16.7,
          16.7,
          16.8,
          17,
          17.4,
          17.8,
          17.9,
          18.2,
          18.2,
          19,
          19.1,
          19.3,
          19.6,
          19.6,
          19.7,
          19.9,
          20,
          20.6,
          20.7,
          20.8,
          21.1,
          21.2,
          21.6,
          21.7,
          21.8,
          21.9,
          22.3,
          23,
          23.2,
          23.9,
          24.4,
          24.7,
          24.9,
          25.1,
          26.9,
          28.3,
          28.8,
          29.3,
          30,
          30,
          30.4,
          31.2,
          32,
          32.2,
          32.9,
          38.2,
          39.4,
          43,
          72.6,
          76.5,
          77.5,
          79.4,
          79.9,
          80.1,
          83.1,
          86.4,
          86.6,
          86.9,
          87.1,
          88.6,
          88.7,
          89.2,
          89.6,
          90.1,
          90.3,
          91,
          91.3,
          92.9,
          94.6,
          94.9
         ],
         "xaxis": "x",
         "y": [
          1270.4539912925693,
          1270.4539912925693,
          1270.4539912925693,
          1270.4539912925693,
          1270.4539912925693,
          1270.4539912925693,
          1270.4539912925693,
          1270.4539912925693,
          1270.4539912925693,
          1270.4539912925693,
          1270.100639635455,
          1270.100639635455,
          1270.100639635455,
          1270.100639635455,
          1270.100639635455,
          1270.100639635455,
          1269.7472879783406,
          1269.7472879783406,
          1269.7472879783406,
          1269.7472879783406,
          1269.7472879783406,
          1269.7472879783406,
          1269.7472879783406,
          1269.7472879783406,
          1269.7472879783406,
          1269.7472879783406,
          1269.7472879783406,
          1269.3939363212264,
          1269.040584664112,
          1269.040584664112,
          1268.6872330069978,
          1268.6872330069978,
          1268.6872330069978,
          1268.6872330069978,
          1268.6872330069978,
          1268.6872330069978,
          1268.6872330069978,
          1268.3338813498833,
          1267.6271780356547,
          1267.2738263785404,
          1267.2738263785404,
          1266.920474721426,
          1266.920474721426,
          1266.5671230643118,
          1265.860419750083,
          1265.860419750083,
          1265.507068092969,
          1265.507068092969,
          1265.507068092969,
          1265.507068092969,
          1265.507068092969,
          1265.1537164358544,
          1264.8003647787402,
          1264.8003647787402,
          1264.8003647787402,
          1264.8003647787402,
          1264.8003647787402,
          1264.8003647787402,
          1264.4470131216258,
          1264.0936614645116,
          1263.7403098073971,
          1263.7403098073971,
          1263.386958150283,
          1263.386958150283,
          1263.0336064931687,
          1263.0336064931687,
          1262.6802548360542,
          1262.6802548360542,
          1262.6802548360542,
          1262.6802548360542,
          1262.32690317894,
          1262.32690317894,
          1262.32690317894,
          1261.9735515218256,
          1261.9735515218256,
          1261.9735515218256,
          1261.9735515218256,
          1261.6201998647114,
          1261.6201998647114,
          1261.266848207597,
          1261.266848207597,
          1261.266848207597,
          1260.9134965504827,
          1260.9134965504827,
          1260.9134965504827,
          1260.9134965504827,
          1260.9134965504827,
          1260.5601448933683,
          1260.5601448933683,
          1260.5601448933683,
          1260.206793236254,
          1260.206793236254,
          1259.8534415791396,
          1259.5000899220254,
          1259.1467382649112,
          1258.7933866077967,
          1258.7933866077967,
          1258.4400349506825,
          1258.4400349506825,
          1258.086683293568,
          1258.086683293568,
          1257.7333316364538,
          1257.7333316364538,
          1257.7333316364538,
          1257.7333316364538,
          1257.3799799793394,
          1257.3799799793394,
          1257.3799799793394,
          1257.3799799793394,
          1257.3799799793394,
          1257.0266283222252,
          1257.0266283222252,
          1256.6732766651107,
          1256.3199250079965,
          1256.3199250079965,
          1256.3199250079965,
          1256.3199250079965,
          1256.3199250079965,
          1255.6132216937679,
          1255.6132216937679,
          1255.2598700366536,
          1255.2598700366536,
          1255.2598700366536,
          1254.9065183795392,
          1254.553166722425,
          1254.553166722425,
          1254.553166722425,
          1254.553166722425,
          1254.1998150653105,
          1253.8464634081963,
          1253.8464634081963,
          1253.4931117510819,
          1253.1397600939677,
          1253.1397600939677,
          1252.7864084368532,
          1252.7864084368532,
          1252.7864084368532,
          1252.7864084368532,
          1252.7864084368532,
          1252.433056779739,
          1252.0797051226248,
          1252.0797051226248,
          1252.0797051226248,
          1251.7263534655103,
          1251.7263534655103,
          1251.373001808396,
          1251.373001808396,
          1251.373001808396,
          1251.0196501512817,
          1250.6662984941674,
          1250.312946837053,
          1250.312946837053,
          1250.312946837053,
          1250.312946837053,
          1250.312946837053,
          1250.312946837053,
          1249.9595951799388,
          1249.6062435228243,
          1249.6062435228243,
          1248.8995402085957,
          1248.8995402085957,
          1248.8995402085957,
          1248.8995402085957,
          1248.8995402085957,
          1248.8995402085957,
          1248.8995402085957,
          1248.5461885514815,
          1248.5461885514815,
          1248.1928368943672,
          1248.1928368943672,
          1248.1928368943672,
          1248.1928368943672,
          1247.8394852372528,
          1247.8394852372528,
          1247.8394852372528,
          1247.1327819230241,
          1246.77943026591,
          1246.77943026591,
          1246.4260786087955,
          1246.4260786087955,
          1246.0727269516813,
          1245.7193752945668,
          1245.7193752945668,
          1245.7193752945668,
          1245.3660236374526,
          1245.3660236374526,
          1244.3059686661097,
          1244.3059686661097,
          1243.9526170089953,
          1243.9526170089953,
          1243.599265351881,
          1243.599265351881,
          1243.2459136947666,
          1243.2459136947666,
          1242.539210380538,
          1242.539210380538,
          1242.1858587234237,
          1241.8325070663093,
          1241.8325070663093,
          1241.8325070663093,
          1241.1258037520809,
          1240.7724520949664,
          1240.4191004378522,
          1239.7123971236235,
          1239.7123971236235,
          1239.359045466509,
          1239.359045466509,
          1239.359045466509,
          1239.359045466509,
          1239.0056938093949,
          1238.6523421522804,
          1238.2989904951662,
          1238.2989904951662,
          1238.2989904951662,
          1238.2989904951662,
          1237.9456388380518,
          1237.9456388380518,
          1237.9456388380518,
          1237.5922871809375,
          1237.2389355238233,
          1237.2389355238233,
          1237.2389355238233,
          1236.8855838667089,
          1236.8855838667089,
          1236.5322322095947,
          1236.5322322095947,
          1236.5322322095947,
          1236.5322322095947,
          1236.1788805524802,
          1236.1788805524802,
          1235.825528895366,
          1235.825528895366,
          1235.4721772382516,
          1235.4721772382516,
          1235.4721772382516,
          1235.4721772382516,
          1234.4121222669087,
          1234.4121222669087,
          1234.4121222669087,
          1234.0587706097942,
          1233.70541895268,
          1233.70541895268,
          1233.3520672955658,
          1232.9987156384514,
          1232.9987156384514,
          1231.9386606671085,
          1231.585309009994,
          1231.585309009994,
          1231.2319573528798,
          1230.8786056957654,
          1230.5252540386512,
          1229.8185507244225,
          1229.8185507244225,
          1229.4651990673083,
          1227.6984407817365,
          1227.6984407817365,
          1227.6984407817365,
          1226.6383858103936,
          1226.2850341532794,
          1225.931682496165,
          1225.2249791819363,
          1224.871627524822,
          1223.811572553479,
          1223.811572553479,
          1223.811572553479,
          1223.811572553479,
          1223.811572553479,
          1223.4582208963648,
          1223.1048692392505,
          1222.751517582136,
          1222.3981659250219,
          1222.3981659250219,
          1221.3381109536788,
          1220.9847592965646,
          1220.6314076394501,
          1219.5713526681072,
          1219.5713526681072,
          1218.8646493538786,
          1218.8646493538786,
          1218.5112976967644,
          1217.4512427254213,
          1216.3911877540784,
          1216.037836096964,
          1215.6844844398497,
          1215.6844844398497,
          1215.3311327827355,
          1214.977781125621,
          1214.977781125621,
          1214.2710778113924,
          1213.9177261542782,
          1213.5643744971637,
          1213.2110228400495,
          1212.1509678687066,
          1211.7976162115922,
          1211.444264554478,
          1211.444264554478,
          1211.0909128973635,
          1210.3842095831349,
          1208.9708029546775,
          1207.5573963262204,
          1207.204044669106,
          1206.1439896977631,
          1206.1439896977631,
          1203.3171764408485,
          1202.9638247837343,
          1202.2571214695056,
          1201.1970664981627,
          1201.1970664981627,
          1200.8437148410483,
          1200.1370115268196,
          1199.7836598697054,
          1197.6635499270194,
          1197.3101982699052,
          1196.9568466127907,
          1195.8967916414479,
          1195.5434399843334,
          1194.130033355876,
          1193.7766816987619,
          1193.4233300416477,
          1193.0699783845332,
          1191.656571756076,
          1189.1831101562757,
          1188.476406842047,
          1186.0029452422468,
          1184.2361869566753,
          1183.1761319853322,
          1182.4694286711037,
          1181.762725356875,
          1175.4023955288174,
          1170.4554723292167,
          1168.6887140436452,
          1166.9219557580736,
          1164.4484941582732,
          1164.4484941582732,
          1163.035087529816,
          1160.2082742729015,
          1157.381461015987,
          1156.6747577017584,
          1154.201296101958,
          1135.4736582748992,
          1131.2334383895272,
          1118.5127787334118,
          1013.920688227573,
          1000.1399736001146,
          996.6064570289714,
          989.8927755437992,
          988.1260172582276,
          987.4193139439991,
          976.8187642305695,
          965.1581595457969,
          964.4514562315683,
          963.3914012602253,
          962.6846979459967,
          957.3844230892819,
          957.0310714321676,
          955.2643131465959,
          953.8509065181387,
          952.084148232567,
          951.3774449183384,
          948.9039833185382,
          947.8439283471953,
          942.1903018333661,
          936.1833236624227,
          935.1232686910797
         ],
         "yaxis": "y"
        }
       ],
       "layout": {
        "legend": {
         "tracegroupgap": 0
        },
        "margin": {
         "t": 60
        },
        "template": {
         "data": {
          "bar": [
           {
            "error_x": {
             "color": "#2a3f5f"
            },
            "error_y": {
             "color": "#2a3f5f"
            },
            "marker": {
             "line": {
              "color": "#E5ECF6",
              "width": 0.5
             },
             "pattern": {
              "fillmode": "overlay",
              "size": 10,
              "solidity": 0.2
             }
            },
            "type": "bar"
           }
          ],
          "barpolar": [
           {
            "marker": {
             "line": {
              "color": "#E5ECF6",
              "width": 0.5
             },
             "pattern": {
              "fillmode": "overlay",
              "size": 10,
              "solidity": 0.2
             }
            },
            "type": "barpolar"
           }
          ],
          "carpet": [
           {
            "aaxis": {
             "endlinecolor": "#2a3f5f",
             "gridcolor": "white",
             "linecolor": "white",
             "minorgridcolor": "white",
             "startlinecolor": "#2a3f5f"
            },
            "baxis": {
             "endlinecolor": "#2a3f5f",
             "gridcolor": "white",
             "linecolor": "white",
             "minorgridcolor": "white",
             "startlinecolor": "#2a3f5f"
            },
            "type": "carpet"
           }
          ],
          "choropleth": [
           {
            "colorbar": {
             "outlinewidth": 0,
             "ticks": ""
            },
            "type": "choropleth"
           }
          ],
          "contour": [
           {
            "colorbar": {
             "outlinewidth": 0,
             "ticks": ""
            },
            "colorscale": [
             [
              0,
              "#0d0887"
             ],
             [
              0.1111111111111111,
              "#46039f"
             ],
             [
              0.2222222222222222,
              "#7201a8"
             ],
             [
              0.3333333333333333,
              "#9c179e"
             ],
             [
              0.4444444444444444,
              "#bd3786"
             ],
             [
              0.5555555555555556,
              "#d8576b"
             ],
             [
              0.6666666666666666,
              "#ed7953"
             ],
             [
              0.7777777777777778,
              "#fb9f3a"
             ],
             [
              0.8888888888888888,
              "#fdca26"
             ],
             [
              1,
              "#f0f921"
             ]
            ],
            "type": "contour"
           }
          ],
          "contourcarpet": [
           {
            "colorbar": {
             "outlinewidth": 0,
             "ticks": ""
            },
            "type": "contourcarpet"
           }
          ],
          "heatmap": [
           {
            "colorbar": {
             "outlinewidth": 0,
             "ticks": ""
            },
            "colorscale": [
             [
              0,
              "#0d0887"
             ],
             [
              0.1111111111111111,
              "#46039f"
             ],
             [
              0.2222222222222222,
              "#7201a8"
             ],
             [
              0.3333333333333333,
              "#9c179e"
             ],
             [
              0.4444444444444444,
              "#bd3786"
             ],
             [
              0.5555555555555556,
              "#d8576b"
             ],
             [
              0.6666666666666666,
              "#ed7953"
             ],
             [
              0.7777777777777778,
              "#fb9f3a"
             ],
             [
              0.8888888888888888,
              "#fdca26"
             ],
             [
              1,
              "#f0f921"
             ]
            ],
            "type": "heatmap"
           }
          ],
          "heatmapgl": [
           {
            "colorbar": {
             "outlinewidth": 0,
             "ticks": ""
            },
            "colorscale": [
             [
              0,
              "#0d0887"
             ],
             [
              0.1111111111111111,
              "#46039f"
             ],
             [
              0.2222222222222222,
              "#7201a8"
             ],
             [
              0.3333333333333333,
              "#9c179e"
             ],
             [
              0.4444444444444444,
              "#bd3786"
             ],
             [
              0.5555555555555556,
              "#d8576b"
             ],
             [
              0.6666666666666666,
              "#ed7953"
             ],
             [
              0.7777777777777778,
              "#fb9f3a"
             ],
             [
              0.8888888888888888,
              "#fdca26"
             ],
             [
              1,
              "#f0f921"
             ]
            ],
            "type": "heatmapgl"
           }
          ],
          "histogram": [
           {
            "marker": {
             "pattern": {
              "fillmode": "overlay",
              "size": 10,
              "solidity": 0.2
             }
            },
            "type": "histogram"
           }
          ],
          "histogram2d": [
           {
            "colorbar": {
             "outlinewidth": 0,
             "ticks": ""
            },
            "colorscale": [
             [
              0,
              "#0d0887"
             ],
             [
              0.1111111111111111,
              "#46039f"
             ],
             [
              0.2222222222222222,
              "#7201a8"
             ],
             [
              0.3333333333333333,
              "#9c179e"
             ],
             [
              0.4444444444444444,
              "#bd3786"
             ],
             [
              0.5555555555555556,
              "#d8576b"
             ],
             [
              0.6666666666666666,
              "#ed7953"
             ],
             [
              0.7777777777777778,
              "#fb9f3a"
             ],
             [
              0.8888888888888888,
              "#fdca26"
             ],
             [
              1,
              "#f0f921"
             ]
            ],
            "type": "histogram2d"
           }
          ],
          "histogram2dcontour": [
           {
            "colorbar": {
             "outlinewidth": 0,
             "ticks": ""
            },
            "colorscale": [
             [
              0,
              "#0d0887"
             ],
             [
              0.1111111111111111,
              "#46039f"
             ],
             [
              0.2222222222222222,
              "#7201a8"
             ],
             [
              0.3333333333333333,
              "#9c179e"
             ],
             [
              0.4444444444444444,
              "#bd3786"
             ],
             [
              0.5555555555555556,
              "#d8576b"
             ],
             [
              0.6666666666666666,
              "#ed7953"
             ],
             [
              0.7777777777777778,
              "#fb9f3a"
             ],
             [
              0.8888888888888888,
              "#fdca26"
             ],
             [
              1,
              "#f0f921"
             ]
            ],
            "type": "histogram2dcontour"
           }
          ],
          "mesh3d": [
           {
            "colorbar": {
             "outlinewidth": 0,
             "ticks": ""
            },
            "type": "mesh3d"
           }
          ],
          "parcoords": [
           {
            "line": {
             "colorbar": {
              "outlinewidth": 0,
              "ticks": ""
             }
            },
            "type": "parcoords"
           }
          ],
          "pie": [
           {
            "automargin": true,
            "type": "pie"
           }
          ],
          "scatter": [
           {
            "fillpattern": {
             "fillmode": "overlay",
             "size": 10,
             "solidity": 0.2
            },
            "type": "scatter"
           }
          ],
          "scatter3d": [
           {
            "line": {
             "colorbar": {
              "outlinewidth": 0,
              "ticks": ""
             }
            },
            "marker": {
             "colorbar": {
              "outlinewidth": 0,
              "ticks": ""
             }
            },
            "type": "scatter3d"
           }
          ],
          "scattercarpet": [
           {
            "marker": {
             "colorbar": {
              "outlinewidth": 0,
              "ticks": ""
             }
            },
            "type": "scattercarpet"
           }
          ],
          "scattergeo": [
           {
            "marker": {
             "colorbar": {
              "outlinewidth": 0,
              "ticks": ""
             }
            },
            "type": "scattergeo"
           }
          ],
          "scattergl": [
           {
            "marker": {
             "colorbar": {
              "outlinewidth": 0,
              "ticks": ""
             }
            },
            "type": "scattergl"
           }
          ],
          "scattermapbox": [
           {
            "marker": {
             "colorbar": {
              "outlinewidth": 0,
              "ticks": ""
             }
            },
            "type": "scattermapbox"
           }
          ],
          "scatterpolar": [
           {
            "marker": {
             "colorbar": {
              "outlinewidth": 0,
              "ticks": ""
             }
            },
            "type": "scatterpolar"
           }
          ],
          "scatterpolargl": [
           {
            "marker": {
             "colorbar": {
              "outlinewidth": 0,
              "ticks": ""
             }
            },
            "type": "scatterpolargl"
           }
          ],
          "scatterternary": [
           {
            "marker": {
             "colorbar": {
              "outlinewidth": 0,
              "ticks": ""
             }
            },
            "type": "scatterternary"
           }
          ],
          "surface": [
           {
            "colorbar": {
             "outlinewidth": 0,
             "ticks": ""
            },
            "colorscale": [
             [
              0,
              "#0d0887"
             ],
             [
              0.1111111111111111,
              "#46039f"
             ],
             [
              0.2222222222222222,
              "#7201a8"
             ],
             [
              0.3333333333333333,
              "#9c179e"
             ],
             [
              0.4444444444444444,
              "#bd3786"
             ],
             [
              0.5555555555555556,
              "#d8576b"
             ],
             [
              0.6666666666666666,
              "#ed7953"
             ],
             [
              0.7777777777777778,
              "#fb9f3a"
             ],
             [
              0.8888888888888888,
              "#fdca26"
             ],
             [
              1,
              "#f0f921"
             ]
            ],
            "type": "surface"
           }
          ],
          "table": [
           {
            "cells": {
             "fill": {
              "color": "#EBF0F8"
             },
             "line": {
              "color": "white"
             }
            },
            "header": {
             "fill": {
              "color": "#C8D4E3"
             },
             "line": {
              "color": "white"
             }
            },
            "type": "table"
           }
          ]
         },
         "layout": {
          "annotationdefaults": {
           "arrowcolor": "#2a3f5f",
           "arrowhead": 0,
           "arrowwidth": 1
          },
          "autotypenumbers": "strict",
          "coloraxis": {
           "colorbar": {
            "outlinewidth": 0,
            "ticks": ""
           }
          },
          "colorscale": {
           "diverging": [
            [
             0,
             "#8e0152"
            ],
            [
             0.1,
             "#c51b7d"
            ],
            [
             0.2,
             "#de77ae"
            ],
            [
             0.3,
             "#f1b6da"
            ],
            [
             0.4,
             "#fde0ef"
            ],
            [
             0.5,
             "#f7f7f7"
            ],
            [
             0.6,
             "#e6f5d0"
            ],
            [
             0.7,
             "#b8e186"
            ],
            [
             0.8,
             "#7fbc41"
            ],
            [
             0.9,
             "#4d9221"
            ],
            [
             1,
             "#276419"
            ]
           ],
           "sequential": [
            [
             0,
             "#0d0887"
            ],
            [
             0.1111111111111111,
             "#46039f"
            ],
            [
             0.2222222222222222,
             "#7201a8"
            ],
            [
             0.3333333333333333,
             "#9c179e"
            ],
            [
             0.4444444444444444,
             "#bd3786"
            ],
            [
             0.5555555555555556,
             "#d8576b"
            ],
            [
             0.6666666666666666,
             "#ed7953"
            ],
            [
             0.7777777777777778,
             "#fb9f3a"
            ],
            [
             0.8888888888888888,
             "#fdca26"
            ],
            [
             1,
             "#f0f921"
            ]
           ],
           "sequentialminus": [
            [
             0,
             "#0d0887"
            ],
            [
             0.1111111111111111,
             "#46039f"
            ],
            [
             0.2222222222222222,
             "#7201a8"
            ],
            [
             0.3333333333333333,
             "#9c179e"
            ],
            [
             0.4444444444444444,
             "#bd3786"
            ],
            [
             0.5555555555555556,
             "#d8576b"
            ],
            [
             0.6666666666666666,
             "#ed7953"
            ],
            [
             0.7777777777777778,
             "#fb9f3a"
            ],
            [
             0.8888888888888888,
             "#fdca26"
            ],
            [
             1,
             "#f0f921"
            ]
           ]
          },
          "colorway": [
           "#636efa",
           "#EF553B",
           "#00cc96",
           "#ab63fa",
           "#FFA15A",
           "#19d3f3",
           "#FF6692",
           "#B6E880",
           "#FF97FF",
           "#FECB52"
          ],
          "font": {
           "color": "#2a3f5f"
          },
          "geo": {
           "bgcolor": "white",
           "lakecolor": "white",
           "landcolor": "#E5ECF6",
           "showlakes": true,
           "showland": true,
           "subunitcolor": "white"
          },
          "hoverlabel": {
           "align": "left"
          },
          "hovermode": "closest",
          "mapbox": {
           "style": "light"
          },
          "paper_bgcolor": "white",
          "plot_bgcolor": "#E5ECF6",
          "polar": {
           "angularaxis": {
            "gridcolor": "white",
            "linecolor": "white",
            "ticks": ""
           },
           "bgcolor": "#E5ECF6",
           "radialaxis": {
            "gridcolor": "white",
            "linecolor": "white",
            "ticks": ""
           }
          },
          "scene": {
           "xaxis": {
            "backgroundcolor": "#E5ECF6",
            "gridcolor": "white",
            "gridwidth": 2,
            "linecolor": "white",
            "showbackground": true,
            "ticks": "",
            "zerolinecolor": "white"
           },
           "yaxis": {
            "backgroundcolor": "#E5ECF6",
            "gridcolor": "white",
            "gridwidth": 2,
            "linecolor": "white",
            "showbackground": true,
            "ticks": "",
            "zerolinecolor": "white"
           },
           "zaxis": {
            "backgroundcolor": "#E5ECF6",
            "gridcolor": "white",
            "gridwidth": 2,
            "linecolor": "white",
            "showbackground": true,
            "ticks": "",
            "zerolinecolor": "white"
           }
          },
          "shapedefaults": {
           "line": {
            "color": "#2a3f5f"
           }
          },
          "ternary": {
           "aaxis": {
            "gridcolor": "white",
            "linecolor": "white",
            "ticks": ""
           },
           "baxis": {
            "gridcolor": "white",
            "linecolor": "white",
            "ticks": ""
           },
           "bgcolor": "#E5ECF6",
           "caxis": {
            "gridcolor": "white",
            "linecolor": "white",
            "ticks": ""
           }
          },
          "title": {
           "x": 0.05
          },
          "xaxis": {
           "automargin": true,
           "gridcolor": "white",
           "linecolor": "white",
           "ticks": "",
           "title": {
            "standoff": 15
           },
           "zerolinecolor": "white",
           "zerolinewidth": 2
          },
          "yaxis": {
           "automargin": true,
           "gridcolor": "white",
           "linecolor": "white",
           "ticks": "",
           "title": {
            "standoff": 15
           },
           "zerolinecolor": "white",
           "zerolinewidth": 2
          }
         }
        },
        "xaxis": {
         "anchor": "y",
         "domain": [
          0,
          1
         ],
         "title": {
          "text": "ell_percent"
         }
        },
        "yaxis": {
         "anchor": "x",
         "domain": [
          0,
          1
         ],
         "title": {
          "text": "sat_score"
         }
        }
       }
      },
      "text/html": [
       "<div>                            <div id=\"06d295ae-b67f-431d-9a4b-eed0f1b8a9a1\" class=\"plotly-graph-div\" style=\"height:525px; width:100%;\"></div>            <script type=\"text/javascript\">                require([\"plotly\"], function(Plotly) {                    window.PLOTLYENV=window.PLOTLYENV || {};                                    if (document.getElementById(\"06d295ae-b67f-431d-9a4b-eed0f1b8a9a1\")) {                    Plotly.newPlot(                        \"06d295ae-b67f-431d-9a4b-eed0f1b8a9a1\",                        [{\"hovertemplate\":\"ell_percent=%{x}<br>sat_score=%{y}<extra></extra>\",\"legendgroup\":\"\",\"marker\":{\"color\":\"#636efa\",\"symbol\":\"circle\"},\"mode\":\"markers\",\"name\":\"\",\"orientation\":\"v\",\"showlegend\":false,\"x\":[22.3,21.1,5.0,11.2,0.2,0.2,8.0,2.1,3.8,9.5,2.2,10.9,20.8,6.1,3.9,2.6,3.0,0.5,9.9,7.6,28.3,7.1,2.0,1.6,1.6,0.5,0.2,0.2,15.7,4.0,5.4,86.9,8.8,94.9,3.7,6.1,77.5,0.0,6.3,15.6,0.2,10.2,9.8,0.5,72.6,5.4,38.2,4.2,6.4,2.8,1.0,6.2,1.6,7.9,14.4,12.8,25.1,19.3,7.4,0.9,0.2,0.2,10.5,10.4,1.3,5.8,9.7,2.7,4.3,4.0,2.2,2.2,6.8,8.7,0.6,9.9,6.1,2.4,1.4,0.0,6.1,30.0,19.6,19.7,43.0,26.9,32.0,31.2,2.3,89.6,8.8,90.1,13.2,9.6,3.7,5.6,21.9,14.1,15.7,5.0,9.4,9.1,10.4,9.2,2.6,4.5,15.9,5.4,12.6,2.6,7.4,9.2,79.4,14.0,13.5,29.3,4.0,9.4,8.1,8.8,1.6,12.1,16.5,19.1,11.0,24.4,86.6,87.1,20.7,23.2,5.7,6.6,6.4,9.6,8.7,6.7,15.5,4.4,6.7,13.2,88.7,7.1,79.9,12.1,9.3,17.8,11.3,12.4,16.6,13.4,19.0,3.5,0.1,32.2,9.4,20.6,0.0,6.1,8.5,3.7,6.3,10.2,3.3,7.7,7.6,5.2,9.2,80.1,7.0,2.2,10.2,14.7,21.8,19.9,13.6,11.6,13.9,92.9,4.0,16.8,86.4,11.5,4.5,28.8,4.3,4.6,2.4,7.0,0.1,83.1,0.9,2.9,1.5,1.1,1.9,0.0,3.6,24.9,5.7,0.4,11.5,16.1,5.7,9.9,2.7,7.0,2.8,14.6,4.7,9.8,17.0,5.9,4.5,6.3,16.7,9.6,14.6,7.5,0.1,14.4,1.4,2.5,4.7,6.3,5.0,12.9,91.0,5.2,6.2,3.7,9.1,8.8,0.0,0.5,6.8,0.5,0.0,8.3,30.4,5.7,5.0,9.5,5.2,3.4,8.1,7.7,3.3,6.9,11.1,0.5,5.0,9.7,4.9,4.2,94.6,2.4,12.1,15.4,16.2,5.3,9.0,23.0,4.9,21.2,39.4,15.5,89.2,11.0,2.4,16.7,2.8,9.1,19.6,4.8,21.7,3.1,8.4,3.7,13.2,0.5,0.2,1.6,1.4,1.8,7.9,10.3,9.1,91.3,0.3,30.0,21.6,0.2,76.5,13.3,3.8,6.4,3.2,2.7,88.6,13.6,0.8,24.7,20.0,0.0,7.5,6.1,13.2,9.9,5.7,2.5,4.0,1.3,10.6,3.6,10.6,0.0,4.3,17.4,16.0,0.4,0.0,8.1,12.5,8.9,15.0,1.4,0.1,3.6,0.2,2.1,2.7,4.5,2.3,2.3,1.7,1.9,2.0,5.1,3.5,5.5,2.9,17.9,13.2,0.1,9.6,90.3,5.7,0.0,0.2,1.0,1.6,5.9,5.3,6.1,1.4,3.4,3.6,0.1,32.9,15.3,18.2,23.9,2.7,18.2],\"xaxis\":\"x\",\"y\":[1122.0,1172.0,1149.0,1207.0,1621.0,1856.0,1182.0,1194.0,1156.0,1111.0,1293.0,1269.0,1051.0,1148.0,1200.0,1127.0,1176.0,1435.0,1223.4388059701494,1223.4388059701494,1223.4388059701494,1419.0,1522.0,1577.0,1677.0,1419.0,1758.0,1614.0,1170.0,1306.0,1233.0,1223.4388059701494,1223.4388059701494,1223.4388059701494,1372.0,1199.0,1227.0,2096.0,1374.0,1070.0,1416.0,1240.0,1239.0,1253.0,1058.0,1168.0,1424.0,1212.0,1195.0,1257.0,1255.0,1207.0,1315.0,1236.0,1132.0,1144.0,1223.4388059701494,1223.4388059701494,1109.0,1223.4388059701494,1744.0,1707.0,1196.0,1277.0,1446.0,1096.0,1084.0,1430.0,1128.0,1221.0,1326.0,1326.0,1054.0,1210.0,1223.4388059701494,1062.0,1077.0,1374.0,1202.0,1847.0,1270.0,1105.0,1174.0,1223.4388059701494,1127.0,1098.0,1102.0,1224.0,1309.0,1014.0,1090.0,945.0,1077.0,1097.0,1201.0,1257.0,1186.0,1103.0,1084.0,1181.0,1201.0,1158.0,1095.0,1223.4388059701494,1171.0,1158.0,1038.0,1164.0,1084.0,1223.4388059701494,1223.4388059701494,1241.0,1223.4388059701494,1099.0,1131.0,1049.0,1134.0,1290.0,1169.0,1092.0,1396.0,1075.0,1081.0,1148.0,1223.4388059701494,1138.0,951.0,965.0,1074.0,1083.0,1221.0,1224.0,1121.0,1166.0,1039.0,1333.0,1150.0,1190.0,1157.0,1158.0,962.0,1182.0,934.0,1181.0,1180.0,1106.0,1222.0,1077.0,1119.0,1082.0,1255.0,1270.0,1969.0,1263.0,1064.0,1115.0,1920.0,1133.0,1147.0,1135.0,1141.0,1111.0,1348.0,1135.0,1169.0,1268.0,1151.0,1048.0,1112.0,1288.0,1126.0,1163.0,1055.0,1122.0,1251.0,1102.0,1155.0,970.0,1223.4388059701494,1223.4388059701494,939.0,1029.0,1114.0,1038.0,1074.0,1080.0,1114.0,1211.0,1833.0,981.0,1206.0,1116.0,1223.4388059701494,1312.0,1189.0,1391.0,1353.0,1085.0,1223.4388059701494,1740.0,1189.0,1114.0,1204.0,1215.0,1090.0,1112.0,1187.0,1103.0,1093.0,1122.0,1035.0,1111.0,1179.0,1203.0,1169.0,1175.0,1212.0,1185.0,1258.0,1223.4388059701494,1068.0,1097.0,1092.0,1223.4388059701494,1139.0,1045.0,913.0,1176.0,1088.0,1153.0,1027.0,1105.0,1360.0,1273.0,1143.0,1151.0,1436.0,1251.0,963.0,1145.0,1118.0,1092.0,1143.0,1080.0,1183.0,1169.0,1159.0,1111.0,1135.0,1242.0,1023.0,1054.0,1149.0,1106.0,887.0,1193.0,1096.0,1108.0,1129.0,1102.0,1157.0,1272.0,1323.0,1306.0,1244.0,1223.4388059701494,1026.0,1237.0,1164.0,1226.0,1223.4388059701494,1431.0,1262.0,1124.0,1079.0,1184.0,1313.0,1473.0,1350.0,1627.0,1352.0,1185.0,1091.0,1196.0,1280.0,1219.0,1240.0,951.0,1663.0,1203.0,1211.0,1177.0,1064.0,1174.0,1330.0,1270.0,1364.0,1396.0,1049.0,1271.0,1441.0,1243.0,1216.0,1910.0,1330.0,1514.0,1474.0,1172.0,1449.0,1279.0,1145.0,1252.0,1156.0,1265.0,1094.0,1532.0,1108.0,1154.0,1192.0,1345.0,1223.4388059701494,1265.0,1223.4388059701494,1407.0,1194.0,1372.0,1538.0,1223.4388059701494,1868.0,1196.0,1316.0,1099.0,1173.0,1202.0,1287.0,1100.0,1223.4388059701494,1220.0,1151.0,1223.4388059701494,1255.0,1275.0,1218.0,1494.0,1239.0,1127.0,1470.0,1636.0,1353.0,1195.0,1426.0,1277.0,1279.0,1301.0,1418.0,1388.0,1235.0,1953.0,1098.0,1154.0,1035.0,1060.0,1315.0,1055.0],\"yaxis\":\"y\",\"type\":\"scatter\"},{\"hovertemplate\":\"<b>OLS trendline</b><br>sat_score = -3.53352 * ell_percent + 1270.45<br>R<sup>2</sup>=0.158876<br><br>ell_percent=%{x}<br>sat_score=%{y} <b>(trend)</b><extra></extra>\",\"legendgroup\":\"\",\"marker\":{\"color\":\"#636efa\",\"symbol\":\"circle\"},\"mode\":\"lines\",\"name\":\"\",\"showlegend\":false,\"x\":[0.0,0.0,0.0,0.0,0.0,0.0,0.0,0.0,0.0,0.0,0.1,0.1,0.1,0.1,0.1,0.1,0.2,0.2,0.2,0.2,0.2,0.2,0.2,0.2,0.2,0.2,0.2,0.3,0.4,0.4,0.5,0.5,0.5,0.5,0.5,0.5,0.5,0.6,0.8,0.9,0.9,1.0,1.0,1.1,1.3,1.3,1.4,1.4,1.4,1.4,1.4,1.5,1.6,1.6,1.6,1.6,1.6,1.6,1.7,1.8,1.9,1.9,2.0,2.0,2.1,2.1,2.2,2.2,2.2,2.2,2.3,2.3,2.3,2.4,2.4,2.4,2.4,2.5,2.5,2.6,2.6,2.6,2.7,2.7,2.7,2.7,2.7,2.8,2.8,2.8,2.9,2.9,3.0,3.1,3.2,3.3,3.3,3.4,3.4,3.5,3.5,3.6,3.6,3.6,3.6,3.7,3.7,3.7,3.7,3.7,3.8,3.8,3.9,4.0,4.0,4.0,4.0,4.0,4.2,4.2,4.3,4.3,4.3,4.4,4.5,4.5,4.5,4.5,4.6,4.7,4.7,4.8,4.9,4.9,5.0,5.0,5.0,5.0,5.0,5.1,5.2,5.2,5.2,5.3,5.3,5.4,5.4,5.4,5.5,5.6,5.7,5.7,5.7,5.7,5.7,5.7,5.8,5.9,5.9,6.1,6.1,6.1,6.1,6.1,6.1,6.1,6.2,6.2,6.3,6.3,6.3,6.3,6.4,6.4,6.4,6.6,6.7,6.7,6.8,6.8,6.9,7.0,7.0,7.0,7.1,7.1,7.4,7.4,7.5,7.5,7.6,7.6,7.7,7.7,7.9,7.9,8.0,8.1,8.1,8.1,8.3,8.4,8.5,8.7,8.7,8.8,8.8,8.8,8.8,8.9,9.0,9.1,9.1,9.1,9.1,9.2,9.2,9.2,9.3,9.4,9.4,9.4,9.5,9.5,9.6,9.6,9.6,9.6,9.7,9.7,9.8,9.8,9.9,9.9,9.9,9.9,10.2,10.2,10.2,10.3,10.4,10.4,10.5,10.6,10.6,10.9,11.0,11.0,11.1,11.2,11.3,11.5,11.5,11.6,12.1,12.1,12.1,12.4,12.5,12.6,12.8,12.9,13.2,13.2,13.2,13.2,13.2,13.3,13.4,13.5,13.6,13.6,13.9,14.0,14.1,14.4,14.4,14.6,14.6,14.7,15.0,15.3,15.4,15.5,15.5,15.6,15.7,15.7,15.9,16.0,16.1,16.2,16.5,16.6,16.7,16.7,16.8,17.0,17.4,17.8,17.9,18.2,18.2,19.0,19.1,19.3,19.6,19.6,19.7,19.9,20.0,20.6,20.7,20.8,21.1,21.2,21.6,21.7,21.8,21.9,22.3,23.0,23.2,23.9,24.4,24.7,24.9,25.1,26.9,28.3,28.8,29.3,30.0,30.0,30.4,31.2,32.0,32.2,32.9,38.2,39.4,43.0,72.6,76.5,77.5,79.4,79.9,80.1,83.1,86.4,86.6,86.9,87.1,88.6,88.7,89.2,89.6,90.1,90.3,91.0,91.3,92.9,94.6,94.9],\"xaxis\":\"x\",\"y\":[1270.4539912925693,1270.4539912925693,1270.4539912925693,1270.4539912925693,1270.4539912925693,1270.4539912925693,1270.4539912925693,1270.4539912925693,1270.4539912925693,1270.4539912925693,1270.100639635455,1270.100639635455,1270.100639635455,1270.100639635455,1270.100639635455,1270.100639635455,1269.7472879783406,1269.7472879783406,1269.7472879783406,1269.7472879783406,1269.7472879783406,1269.7472879783406,1269.7472879783406,1269.7472879783406,1269.7472879783406,1269.7472879783406,1269.7472879783406,1269.3939363212264,1269.040584664112,1269.040584664112,1268.6872330069978,1268.6872330069978,1268.6872330069978,1268.6872330069978,1268.6872330069978,1268.6872330069978,1268.6872330069978,1268.3338813498833,1267.6271780356547,1267.2738263785404,1267.2738263785404,1266.920474721426,1266.920474721426,1266.5671230643118,1265.860419750083,1265.860419750083,1265.507068092969,1265.507068092969,1265.507068092969,1265.507068092969,1265.507068092969,1265.1537164358544,1264.8003647787402,1264.8003647787402,1264.8003647787402,1264.8003647787402,1264.8003647787402,1264.8003647787402,1264.4470131216258,1264.0936614645116,1263.7403098073971,1263.7403098073971,1263.386958150283,1263.386958150283,1263.0336064931687,1263.0336064931687,1262.6802548360542,1262.6802548360542,1262.6802548360542,1262.6802548360542,1262.32690317894,1262.32690317894,1262.32690317894,1261.9735515218256,1261.9735515218256,1261.9735515218256,1261.9735515218256,1261.6201998647114,1261.6201998647114,1261.266848207597,1261.266848207597,1261.266848207597,1260.9134965504827,1260.9134965504827,1260.9134965504827,1260.9134965504827,1260.9134965504827,1260.5601448933683,1260.5601448933683,1260.5601448933683,1260.206793236254,1260.206793236254,1259.8534415791396,1259.5000899220254,1259.1467382649112,1258.7933866077967,1258.7933866077967,1258.4400349506825,1258.4400349506825,1258.086683293568,1258.086683293568,1257.7333316364538,1257.7333316364538,1257.7333316364538,1257.7333316364538,1257.3799799793394,1257.3799799793394,1257.3799799793394,1257.3799799793394,1257.3799799793394,1257.0266283222252,1257.0266283222252,1256.6732766651107,1256.3199250079965,1256.3199250079965,1256.3199250079965,1256.3199250079965,1256.3199250079965,1255.6132216937679,1255.6132216937679,1255.2598700366536,1255.2598700366536,1255.2598700366536,1254.9065183795392,1254.553166722425,1254.553166722425,1254.553166722425,1254.553166722425,1254.1998150653105,1253.8464634081963,1253.8464634081963,1253.4931117510819,1253.1397600939677,1253.1397600939677,1252.7864084368532,1252.7864084368532,1252.7864084368532,1252.7864084368532,1252.7864084368532,1252.433056779739,1252.0797051226248,1252.0797051226248,1252.0797051226248,1251.7263534655103,1251.7263534655103,1251.373001808396,1251.373001808396,1251.373001808396,1251.0196501512817,1250.6662984941674,1250.312946837053,1250.312946837053,1250.312946837053,1250.312946837053,1250.312946837053,1250.312946837053,1249.9595951799388,1249.6062435228243,1249.6062435228243,1248.8995402085957,1248.8995402085957,1248.8995402085957,1248.8995402085957,1248.8995402085957,1248.8995402085957,1248.8995402085957,1248.5461885514815,1248.5461885514815,1248.1928368943672,1248.1928368943672,1248.1928368943672,1248.1928368943672,1247.8394852372528,1247.8394852372528,1247.8394852372528,1247.1327819230241,1246.77943026591,1246.77943026591,1246.4260786087955,1246.4260786087955,1246.0727269516813,1245.7193752945668,1245.7193752945668,1245.7193752945668,1245.3660236374526,1245.3660236374526,1244.3059686661097,1244.3059686661097,1243.9526170089953,1243.9526170089953,1243.599265351881,1243.599265351881,1243.2459136947666,1243.2459136947666,1242.539210380538,1242.539210380538,1242.1858587234237,1241.8325070663093,1241.8325070663093,1241.8325070663093,1241.1258037520809,1240.7724520949664,1240.4191004378522,1239.7123971236235,1239.7123971236235,1239.359045466509,1239.359045466509,1239.359045466509,1239.359045466509,1239.0056938093949,1238.6523421522804,1238.2989904951662,1238.2989904951662,1238.2989904951662,1238.2989904951662,1237.9456388380518,1237.9456388380518,1237.9456388380518,1237.5922871809375,1237.2389355238233,1237.2389355238233,1237.2389355238233,1236.8855838667089,1236.8855838667089,1236.5322322095947,1236.5322322095947,1236.5322322095947,1236.5322322095947,1236.1788805524802,1236.1788805524802,1235.825528895366,1235.825528895366,1235.4721772382516,1235.4721772382516,1235.4721772382516,1235.4721772382516,1234.4121222669087,1234.4121222669087,1234.4121222669087,1234.0587706097942,1233.70541895268,1233.70541895268,1233.3520672955658,1232.9987156384514,1232.9987156384514,1231.9386606671085,1231.585309009994,1231.585309009994,1231.2319573528798,1230.8786056957654,1230.5252540386512,1229.8185507244225,1229.8185507244225,1229.4651990673083,1227.6984407817365,1227.6984407817365,1227.6984407817365,1226.6383858103936,1226.2850341532794,1225.931682496165,1225.2249791819363,1224.871627524822,1223.811572553479,1223.811572553479,1223.811572553479,1223.811572553479,1223.811572553479,1223.4582208963648,1223.1048692392505,1222.751517582136,1222.3981659250219,1222.3981659250219,1221.3381109536788,1220.9847592965646,1220.6314076394501,1219.5713526681072,1219.5713526681072,1218.8646493538786,1218.8646493538786,1218.5112976967644,1217.4512427254213,1216.3911877540784,1216.037836096964,1215.6844844398497,1215.6844844398497,1215.3311327827355,1214.977781125621,1214.977781125621,1214.2710778113924,1213.9177261542782,1213.5643744971637,1213.2110228400495,1212.1509678687066,1211.7976162115922,1211.444264554478,1211.444264554478,1211.0909128973635,1210.3842095831349,1208.9708029546775,1207.5573963262204,1207.204044669106,1206.1439896977631,1206.1439896977631,1203.3171764408485,1202.9638247837343,1202.2571214695056,1201.1970664981627,1201.1970664981627,1200.8437148410483,1200.1370115268196,1199.7836598697054,1197.6635499270194,1197.3101982699052,1196.9568466127907,1195.8967916414479,1195.5434399843334,1194.130033355876,1193.7766816987619,1193.4233300416477,1193.0699783845332,1191.656571756076,1189.1831101562757,1188.476406842047,1186.0029452422468,1184.2361869566753,1183.1761319853322,1182.4694286711037,1181.762725356875,1175.4023955288174,1170.4554723292167,1168.6887140436452,1166.9219557580736,1164.4484941582732,1164.4484941582732,1163.035087529816,1160.2082742729015,1157.381461015987,1156.6747577017584,1154.201296101958,1135.4736582748992,1131.2334383895272,1118.5127787334118,1013.920688227573,1000.1399736001146,996.6064570289714,989.8927755437992,988.1260172582276,987.4193139439991,976.8187642305695,965.1581595457969,964.4514562315683,963.3914012602253,962.6846979459967,957.3844230892819,957.0310714321676,955.2643131465959,953.8509065181387,952.084148232567,951.3774449183384,948.9039833185382,947.8439283471953,942.1903018333661,936.1833236624227,935.1232686910797],\"yaxis\":\"y\",\"type\":\"scatter\"}],                        {\"template\":{\"data\":{\"histogram2dcontour\":[{\"type\":\"histogram2dcontour\",\"colorbar\":{\"outlinewidth\":0,\"ticks\":\"\"},\"colorscale\":[[0.0,\"#0d0887\"],[0.1111111111111111,\"#46039f\"],[0.2222222222222222,\"#7201a8\"],[0.3333333333333333,\"#9c179e\"],[0.4444444444444444,\"#bd3786\"],[0.5555555555555556,\"#d8576b\"],[0.6666666666666666,\"#ed7953\"],[0.7777777777777778,\"#fb9f3a\"],[0.8888888888888888,\"#fdca26\"],[1.0,\"#f0f921\"]]}],\"choropleth\":[{\"type\":\"choropleth\",\"colorbar\":{\"outlinewidth\":0,\"ticks\":\"\"}}],\"histogram2d\":[{\"type\":\"histogram2d\",\"colorbar\":{\"outlinewidth\":0,\"ticks\":\"\"},\"colorscale\":[[0.0,\"#0d0887\"],[0.1111111111111111,\"#46039f\"],[0.2222222222222222,\"#7201a8\"],[0.3333333333333333,\"#9c179e\"],[0.4444444444444444,\"#bd3786\"],[0.5555555555555556,\"#d8576b\"],[0.6666666666666666,\"#ed7953\"],[0.7777777777777778,\"#fb9f3a\"],[0.8888888888888888,\"#fdca26\"],[1.0,\"#f0f921\"]]}],\"heatmap\":[{\"type\":\"heatmap\",\"colorbar\":{\"outlinewidth\":0,\"ticks\":\"\"},\"colorscale\":[[0.0,\"#0d0887\"],[0.1111111111111111,\"#46039f\"],[0.2222222222222222,\"#7201a8\"],[0.3333333333333333,\"#9c179e\"],[0.4444444444444444,\"#bd3786\"],[0.5555555555555556,\"#d8576b\"],[0.6666666666666666,\"#ed7953\"],[0.7777777777777778,\"#fb9f3a\"],[0.8888888888888888,\"#fdca26\"],[1.0,\"#f0f921\"]]}],\"heatmapgl\":[{\"type\":\"heatmapgl\",\"colorbar\":{\"outlinewidth\":0,\"ticks\":\"\"},\"colorscale\":[[0.0,\"#0d0887\"],[0.1111111111111111,\"#46039f\"],[0.2222222222222222,\"#7201a8\"],[0.3333333333333333,\"#9c179e\"],[0.4444444444444444,\"#bd3786\"],[0.5555555555555556,\"#d8576b\"],[0.6666666666666666,\"#ed7953\"],[0.7777777777777778,\"#fb9f3a\"],[0.8888888888888888,\"#fdca26\"],[1.0,\"#f0f921\"]]}],\"contourcarpet\":[{\"type\":\"contourcarpet\",\"colorbar\":{\"outlinewidth\":0,\"ticks\":\"\"}}],\"contour\":[{\"type\":\"contour\",\"colorbar\":{\"outlinewidth\":0,\"ticks\":\"\"},\"colorscale\":[[0.0,\"#0d0887\"],[0.1111111111111111,\"#46039f\"],[0.2222222222222222,\"#7201a8\"],[0.3333333333333333,\"#9c179e\"],[0.4444444444444444,\"#bd3786\"],[0.5555555555555556,\"#d8576b\"],[0.6666666666666666,\"#ed7953\"],[0.7777777777777778,\"#fb9f3a\"],[0.8888888888888888,\"#fdca26\"],[1.0,\"#f0f921\"]]}],\"surface\":[{\"type\":\"surface\",\"colorbar\":{\"outlinewidth\":0,\"ticks\":\"\"},\"colorscale\":[[0.0,\"#0d0887\"],[0.1111111111111111,\"#46039f\"],[0.2222222222222222,\"#7201a8\"],[0.3333333333333333,\"#9c179e\"],[0.4444444444444444,\"#bd3786\"],[0.5555555555555556,\"#d8576b\"],[0.6666666666666666,\"#ed7953\"],[0.7777777777777778,\"#fb9f3a\"],[0.8888888888888888,\"#fdca26\"],[1.0,\"#f0f921\"]]}],\"mesh3d\":[{\"type\":\"mesh3d\",\"colorbar\":{\"outlinewidth\":0,\"ticks\":\"\"}}],\"scatter\":[{\"fillpattern\":{\"fillmode\":\"overlay\",\"size\":10,\"solidity\":0.2},\"type\":\"scatter\"}],\"parcoords\":[{\"type\":\"parcoords\",\"line\":{\"colorbar\":{\"outlinewidth\":0,\"ticks\":\"\"}}}],\"scatterpolargl\":[{\"type\":\"scatterpolargl\",\"marker\":{\"colorbar\":{\"outlinewidth\":0,\"ticks\":\"\"}}}],\"bar\":[{\"error_x\":{\"color\":\"#2a3f5f\"},\"error_y\":{\"color\":\"#2a3f5f\"},\"marker\":{\"line\":{\"color\":\"#E5ECF6\",\"width\":0.5},\"pattern\":{\"fillmode\":\"overlay\",\"size\":10,\"solidity\":0.2}},\"type\":\"bar\"}],\"scattergeo\":[{\"type\":\"scattergeo\",\"marker\":{\"colorbar\":{\"outlinewidth\":0,\"ticks\":\"\"}}}],\"scatterpolar\":[{\"type\":\"scatterpolar\",\"marker\":{\"colorbar\":{\"outlinewidth\":0,\"ticks\":\"\"}}}],\"histogram\":[{\"marker\":{\"pattern\":{\"fillmode\":\"overlay\",\"size\":10,\"solidity\":0.2}},\"type\":\"histogram\"}],\"scattergl\":[{\"type\":\"scattergl\",\"marker\":{\"colorbar\":{\"outlinewidth\":0,\"ticks\":\"\"}}}],\"scatter3d\":[{\"type\":\"scatter3d\",\"line\":{\"colorbar\":{\"outlinewidth\":0,\"ticks\":\"\"}},\"marker\":{\"colorbar\":{\"outlinewidth\":0,\"ticks\":\"\"}}}],\"scattermapbox\":[{\"type\":\"scattermapbox\",\"marker\":{\"colorbar\":{\"outlinewidth\":0,\"ticks\":\"\"}}}],\"scatterternary\":[{\"type\":\"scatterternary\",\"marker\":{\"colorbar\":{\"outlinewidth\":0,\"ticks\":\"\"}}}],\"scattercarpet\":[{\"type\":\"scattercarpet\",\"marker\":{\"colorbar\":{\"outlinewidth\":0,\"ticks\":\"\"}}}],\"carpet\":[{\"aaxis\":{\"endlinecolor\":\"#2a3f5f\",\"gridcolor\":\"white\",\"linecolor\":\"white\",\"minorgridcolor\":\"white\",\"startlinecolor\":\"#2a3f5f\"},\"baxis\":{\"endlinecolor\":\"#2a3f5f\",\"gridcolor\":\"white\",\"linecolor\":\"white\",\"minorgridcolor\":\"white\",\"startlinecolor\":\"#2a3f5f\"},\"type\":\"carpet\"}],\"table\":[{\"cells\":{\"fill\":{\"color\":\"#EBF0F8\"},\"line\":{\"color\":\"white\"}},\"header\":{\"fill\":{\"color\":\"#C8D4E3\"},\"line\":{\"color\":\"white\"}},\"type\":\"table\"}],\"barpolar\":[{\"marker\":{\"line\":{\"color\":\"#E5ECF6\",\"width\":0.5},\"pattern\":{\"fillmode\":\"overlay\",\"size\":10,\"solidity\":0.2}},\"type\":\"barpolar\"}],\"pie\":[{\"automargin\":true,\"type\":\"pie\"}]},\"layout\":{\"autotypenumbers\":\"strict\",\"colorway\":[\"#636efa\",\"#EF553B\",\"#00cc96\",\"#ab63fa\",\"#FFA15A\",\"#19d3f3\",\"#FF6692\",\"#B6E880\",\"#FF97FF\",\"#FECB52\"],\"font\":{\"color\":\"#2a3f5f\"},\"hovermode\":\"closest\",\"hoverlabel\":{\"align\":\"left\"},\"paper_bgcolor\":\"white\",\"plot_bgcolor\":\"#E5ECF6\",\"polar\":{\"bgcolor\":\"#E5ECF6\",\"angularaxis\":{\"gridcolor\":\"white\",\"linecolor\":\"white\",\"ticks\":\"\"},\"radialaxis\":{\"gridcolor\":\"white\",\"linecolor\":\"white\",\"ticks\":\"\"}},\"ternary\":{\"bgcolor\":\"#E5ECF6\",\"aaxis\":{\"gridcolor\":\"white\",\"linecolor\":\"white\",\"ticks\":\"\"},\"baxis\":{\"gridcolor\":\"white\",\"linecolor\":\"white\",\"ticks\":\"\"},\"caxis\":{\"gridcolor\":\"white\",\"linecolor\":\"white\",\"ticks\":\"\"}},\"coloraxis\":{\"colorbar\":{\"outlinewidth\":0,\"ticks\":\"\"}},\"colorscale\":{\"sequential\":[[0.0,\"#0d0887\"],[0.1111111111111111,\"#46039f\"],[0.2222222222222222,\"#7201a8\"],[0.3333333333333333,\"#9c179e\"],[0.4444444444444444,\"#bd3786\"],[0.5555555555555556,\"#d8576b\"],[0.6666666666666666,\"#ed7953\"],[0.7777777777777778,\"#fb9f3a\"],[0.8888888888888888,\"#fdca26\"],[1.0,\"#f0f921\"]],\"sequentialminus\":[[0.0,\"#0d0887\"],[0.1111111111111111,\"#46039f\"],[0.2222222222222222,\"#7201a8\"],[0.3333333333333333,\"#9c179e\"],[0.4444444444444444,\"#bd3786\"],[0.5555555555555556,\"#d8576b\"],[0.6666666666666666,\"#ed7953\"],[0.7777777777777778,\"#fb9f3a\"],[0.8888888888888888,\"#fdca26\"],[1.0,\"#f0f921\"]],\"diverging\":[[0,\"#8e0152\"],[0.1,\"#c51b7d\"],[0.2,\"#de77ae\"],[0.3,\"#f1b6da\"],[0.4,\"#fde0ef\"],[0.5,\"#f7f7f7\"],[0.6,\"#e6f5d0\"],[0.7,\"#b8e186\"],[0.8,\"#7fbc41\"],[0.9,\"#4d9221\"],[1,\"#276419\"]]},\"xaxis\":{\"gridcolor\":\"white\",\"linecolor\":\"white\",\"ticks\":\"\",\"title\":{\"standoff\":15},\"zerolinecolor\":\"white\",\"automargin\":true,\"zerolinewidth\":2},\"yaxis\":{\"gridcolor\":\"white\",\"linecolor\":\"white\",\"ticks\":\"\",\"title\":{\"standoff\":15},\"zerolinecolor\":\"white\",\"automargin\":true,\"zerolinewidth\":2},\"scene\":{\"xaxis\":{\"backgroundcolor\":\"#E5ECF6\",\"gridcolor\":\"white\",\"linecolor\":\"white\",\"showbackground\":true,\"ticks\":\"\",\"zerolinecolor\":\"white\",\"gridwidth\":2},\"yaxis\":{\"backgroundcolor\":\"#E5ECF6\",\"gridcolor\":\"white\",\"linecolor\":\"white\",\"showbackground\":true,\"ticks\":\"\",\"zerolinecolor\":\"white\",\"gridwidth\":2},\"zaxis\":{\"backgroundcolor\":\"#E5ECF6\",\"gridcolor\":\"white\",\"linecolor\":\"white\",\"showbackground\":true,\"ticks\":\"\",\"zerolinecolor\":\"white\",\"gridwidth\":2}},\"shapedefaults\":{\"line\":{\"color\":\"#2a3f5f\"}},\"annotationdefaults\":{\"arrowcolor\":\"#2a3f5f\",\"arrowhead\":0,\"arrowwidth\":1},\"geo\":{\"bgcolor\":\"white\",\"landcolor\":\"#E5ECF6\",\"subunitcolor\":\"white\",\"showland\":true,\"showlakes\":true,\"lakecolor\":\"white\"},\"title\":{\"x\":0.05},\"mapbox\":{\"style\":\"light\"}}},\"xaxis\":{\"anchor\":\"y\",\"domain\":[0.0,1.0],\"title\":{\"text\":\"ell_percent\"}},\"yaxis\":{\"anchor\":\"x\",\"domain\":[0.0,1.0],\"title\":{\"text\":\"sat_score\"}},\"legend\":{\"tracegroupgap\":0},\"margin\":{\"t\":60}},                        {\"responsive\": true}                    ).then(function(){\n",
       "                            \n",
       "var gd = document.getElementById('06d295ae-b67f-431d-9a4b-eed0f1b8a9a1');\n",
       "var x = new MutationObserver(function (mutations, observer) {{\n",
       "        var display = window.getComputedStyle(gd).display;\n",
       "        if (!display || display === 'none') {{\n",
       "            console.log([gd, 'removed!']);\n",
       "            Plotly.purge(gd);\n",
       "            observer.disconnect();\n",
       "        }}\n",
       "}});\n",
       "\n",
       "// Listen for the removal of the full notebook cells\n",
       "var notebookContainer = gd.closest('#notebook-container');\n",
       "if (notebookContainer) {{\n",
       "    x.observe(notebookContainer, {childList: true});\n",
       "}}\n",
       "\n",
       "// Listen for the clearing of the current output cell\n",
       "var outputEl = gd.closest('.output');\n",
       "if (outputEl) {{\n",
       "    x.observe(outputEl, {childList: true});\n",
       "}}\n",
       "\n",
       "                        })                };                });            </script>        </div>"
      ]
     },
     "metadata": {},
     "output_type": "display_data"
    }
   ],
   "source": [
    "px.scatter(combined, x='ell_percent', y='sat_score', trendline='ols')"
   ]
  },
  {
   "cell_type": "markdown",
   "id": "4fa751b6",
   "metadata": {},
   "source": [
    "One way to make very granular statistics easier to read is to aggregate them. In this case, we aggregate by district, which enables us to understand how ell_percent varies district-by-district instead of the unintelligibly granular school-by-school variation."
   ]
  },
  {
   "cell_type": "code",
   "execution_count": 82,
   "id": "765c9961",
   "metadata": {},
   "outputs": [
    {
     "data": {
      "text/html": [
       "<div>\n",
       "<style scoped>\n",
       "    .dataframe tbody tr th:only-of-type {\n",
       "        vertical-align: middle;\n",
       "    }\n",
       "\n",
       "    .dataframe tbody tr th {\n",
       "        vertical-align: top;\n",
       "    }\n",
       "\n",
       "    .dataframe thead th {\n",
       "        text-align: right;\n",
       "    }\n",
       "</style>\n",
       "<table border=\"1\" class=\"dataframe\">\n",
       "  <thead>\n",
       "    <tr style=\"text-align: right;\">\n",
       "      <th></th>\n",
       "      <th>school_dist</th>\n",
       "      <th>sat_score</th>\n",
       "      <th>AP Test Takers</th>\n",
       "      <th>Total Exams Taken</th>\n",
       "      <th>Number of Exams with scores 3 4 or 5</th>\n",
       "      <th>Total Cohort</th>\n",
       "      <th>Total Grads - % of cohort</th>\n",
       "      <th>Total Regents - % of cohort</th>\n",
       "      <th>Total Regents - % of grads</th>\n",
       "      <th>Advanced Regents - % of cohort</th>\n",
       "      <th>...</th>\n",
       "      <th>postcode</th>\n",
       "      <th>total_students</th>\n",
       "      <th>number_programs</th>\n",
       "      <th>Community Board</th>\n",
       "      <th>Council District</th>\n",
       "      <th>Census Tract</th>\n",
       "      <th>BIN</th>\n",
       "      <th>BBL</th>\n",
       "      <th>lat</th>\n",
       "      <th>lon</th>\n",
       "    </tr>\n",
       "  </thead>\n",
       "  <tbody>\n",
       "    <tr>\n",
       "      <th>0</th>\n",
       "      <td>01</td>\n",
       "      <td>1354.500000</td>\n",
       "      <td>116.681090</td>\n",
       "      <td>173.019231</td>\n",
       "      <td>135.800000</td>\n",
       "      <td>93.500000</td>\n",
       "      <td>72.416667</td>\n",
       "      <td>66.833333</td>\n",
       "      <td>89.633333</td>\n",
       "      <td>15.783333</td>\n",
       "      <td>...</td>\n",
       "      <td>10003.166667</td>\n",
       "      <td>659.500000</td>\n",
       "      <td>1.333333</td>\n",
       "      <td>3.000000</td>\n",
       "      <td>1.500000</td>\n",
       "      <td>1106.833333</td>\n",
       "      <td>1.004144e+06</td>\n",
       "      <td>1.003302e+09</td>\n",
       "      <td>40.719022</td>\n",
       "      <td>-73.982377</td>\n",
       "    </tr>\n",
       "    <tr>\n",
       "      <th>1</th>\n",
       "      <td>02</td>\n",
       "      <td>1295.638184</td>\n",
       "      <td>128.908454</td>\n",
       "      <td>201.516827</td>\n",
       "      <td>157.495833</td>\n",
       "      <td>158.647849</td>\n",
       "      <td>77.383722</td>\n",
       "      <td>65.300228</td>\n",
       "      <td>83.571090</td>\n",
       "      <td>17.940832</td>\n",
       "      <td>...</td>\n",
       "      <td>10023.770833</td>\n",
       "      <td>621.395833</td>\n",
       "      <td>1.416667</td>\n",
       "      <td>4.204132</td>\n",
       "      <td>2.963052</td>\n",
       "      <td>1132.263582</td>\n",
       "      <td>1.103797e+06</td>\n",
       "      <td>1.070382e+09</td>\n",
       "      <td>40.739699</td>\n",
       "      <td>-73.991386</td>\n",
       "    </tr>\n",
       "    <tr>\n",
       "      <th>2</th>\n",
       "      <td>03</td>\n",
       "      <td>1293.443035</td>\n",
       "      <td>156.183494</td>\n",
       "      <td>244.522436</td>\n",
       "      <td>193.087500</td>\n",
       "      <td>183.384409</td>\n",
       "      <td>76.400071</td>\n",
       "      <td>65.174201</td>\n",
       "      <td>83.731393</td>\n",
       "      <td>16.397974</td>\n",
       "      <td>...</td>\n",
       "      <td>10023.750000</td>\n",
       "      <td>717.916667</td>\n",
       "      <td>2.000000</td>\n",
       "      <td>7.500000</td>\n",
       "      <td>6.500000</td>\n",
       "      <td>166.666667</td>\n",
       "      <td>1.034931e+06</td>\n",
       "      <td>1.012833e+09</td>\n",
       "      <td>40.781574</td>\n",
       "      <td>-73.977370</td>\n",
       "    </tr>\n",
       "    <tr>\n",
       "      <th>3</th>\n",
       "      <td>04</td>\n",
       "      <td>1224.142857</td>\n",
       "      <td>129.016484</td>\n",
       "      <td>183.879121</td>\n",
       "      <td>151.035714</td>\n",
       "      <td>113.857143</td>\n",
       "      <td>77.885714</td>\n",
       "      <td>58.071429</td>\n",
       "      <td>71.600000</td>\n",
       "      <td>14.114286</td>\n",
       "      <td>...</td>\n",
       "      <td>10029.857143</td>\n",
       "      <td>580.857143</td>\n",
       "      <td>1.142857</td>\n",
       "      <td>11.000000</td>\n",
       "      <td>8.000000</td>\n",
       "      <td>2637.000000</td>\n",
       "      <td>1.055874e+06</td>\n",
       "      <td>1.016681e+09</td>\n",
       "      <td>40.793449</td>\n",
       "      <td>-73.943215</td>\n",
       "    </tr>\n",
       "    <tr>\n",
       "      <th>4</th>\n",
       "      <td>05</td>\n",
       "      <td>1285.062687</td>\n",
       "      <td>85.722527</td>\n",
       "      <td>115.725275</td>\n",
       "      <td>142.464286</td>\n",
       "      <td>143.677419</td>\n",
       "      <td>77.197701</td>\n",
       "      <td>70.158611</td>\n",
       "      <td>89.888258</td>\n",
       "      <td>22.316732</td>\n",
       "      <td>...</td>\n",
       "      <td>10030.142857</td>\n",
       "      <td>609.857143</td>\n",
       "      <td>1.142857</td>\n",
       "      <td>9.428571</td>\n",
       "      <td>8.142857</td>\n",
       "      <td>9372.571429</td>\n",
       "      <td>1.063080e+06</td>\n",
       "      <td>1.019721e+09</td>\n",
       "      <td>40.817077</td>\n",
       "      <td>-73.949251</td>\n",
       "    </tr>\n",
       "  </tbody>\n",
       "</table>\n",
       "<p>5 rows × 79 columns</p>\n",
       "</div>"
      ],
      "text/plain": [
       "  school_dist    sat_score  AP Test Takers   Total Exams Taken  \\\n",
       "0          01  1354.500000       116.681090         173.019231   \n",
       "1          02  1295.638184       128.908454         201.516827   \n",
       "2          03  1293.443035       156.183494         244.522436   \n",
       "3          04  1224.142857       129.016484         183.879121   \n",
       "4          05  1285.062687        85.722527         115.725275   \n",
       "\n",
       "   Number of Exams with scores 3 4 or 5  Total Cohort  \\\n",
       "0                            135.800000     93.500000   \n",
       "1                            157.495833    158.647849   \n",
       "2                            193.087500    183.384409   \n",
       "3                            151.035714    113.857143   \n",
       "4                            142.464286    143.677419   \n",
       "\n",
       "   Total Grads - % of cohort  Total Regents - % of cohort  \\\n",
       "0                  72.416667                    66.833333   \n",
       "1                  77.383722                    65.300228   \n",
       "2                  76.400071                    65.174201   \n",
       "3                  77.885714                    58.071429   \n",
       "4                  77.197701                    70.158611   \n",
       "\n",
       "   Total Regents - % of grads  Advanced Regents - % of cohort  ...  \\\n",
       "0                   89.633333                       15.783333  ...   \n",
       "1                   83.571090                       17.940832  ...   \n",
       "2                   83.731393                       16.397974  ...   \n",
       "3                   71.600000                       14.114286  ...   \n",
       "4                   89.888258                       22.316732  ...   \n",
       "\n",
       "       postcode  total_students  number_programs  Community Board  \\\n",
       "0  10003.166667      659.500000         1.333333         3.000000   \n",
       "1  10023.770833      621.395833         1.416667         4.204132   \n",
       "2  10023.750000      717.916667         2.000000         7.500000   \n",
       "3  10029.857143      580.857143         1.142857        11.000000   \n",
       "4  10030.142857      609.857143         1.142857         9.428571   \n",
       "\n",
       "   Council District  Census Tract           BIN           BBL        lat  \\\n",
       "0          1.500000   1106.833333  1.004144e+06  1.003302e+09  40.719022   \n",
       "1          2.963052   1132.263582  1.103797e+06  1.070382e+09  40.739699   \n",
       "2          6.500000    166.666667  1.034931e+06  1.012833e+09  40.781574   \n",
       "3          8.000000   2637.000000  1.055874e+06  1.016681e+09  40.793449   \n",
       "4          8.142857   9372.571429  1.063080e+06  1.019721e+09  40.817077   \n",
       "\n",
       "         lon  \n",
       "0 -73.982377  \n",
       "1 -73.991386  \n",
       "2 -73.977370  \n",
       "3 -73.943215  \n",
       "4 -73.949251  \n",
       "\n",
       "[5 rows x 79 columns]"
      ]
     },
     "execution_count": 82,
     "metadata": {},
     "output_type": "execute_result"
    }
   ],
   "source": [
    "districts = combined.groupby('school_dist', as_index=False).agg(np.mean)\n",
    "districts.head()"
   ]
  },
  {
   "cell_type": "code",
   "execution_count": 83,
   "id": "dd9226a9",
   "metadata": {},
   "outputs": [],
   "source": [
    "survey_fields = [\n",
    "    'sat_score',\n",
    "    \"rr_s\", \n",
    "    \"rr_t\", \n",
    "    \"rr_p\", \n",
    "    \"N_s\", \n",
    "    \"N_t\", \n",
    "    \"N_p\", \n",
    "    \"saf_p_11\",  \n",
    "    \"eng_p_11\", \n",
    "    \"aca_p_11\", \n",
    "    \"saf_t_11\", \n",
    "    \"com_t_11\", \n",
    "    \"eng_t_11\", \n",
    "    \"aca_t_11\", \n",
    "    \"saf_s_11\", \n",
    "    \"com_s_11\", \n",
    "    \"eng_s_11\", \n",
    "    \"aca_s_11\", \n",
    "    \"saf_tot_11\", \n",
    "    \"com_tot_11\", \n",
    "    \"eng_tot_11\", \n",
    "    \"aca_tot_11\",\n",
    "]\n",
    "survey_corr = combined.loc[:,survey_fields]\n",
    "sat_survey = pd.DataFrame(survey_corr.corr()['sat_score'])"
   ]
  },
  {
   "cell_type": "code",
   "execution_count": 84,
   "id": "ac503ca1",
   "metadata": {},
   "outputs": [],
   "source": [
    "sat_survey.reset_index(inplace=True)"
   ]
  },
  {
   "cell_type": "code",
   "execution_count": 85,
   "id": "cceec0fd",
   "metadata": {},
   "outputs": [
    {
     "data": {
      "application/vnd.plotly.v1+json": {
       "config": {
        "plotlyServerURL": "https://plot.ly"
       },
       "data": [
        {
         "alignmentgroup": "True",
         "hovertemplate": "sat_score=%{marker.color}<br>index=%{y}<extra></extra>",
         "legendgroup": "",
         "marker": {
          "color": [
           1,
           0.23215221033953876,
           -0.023364082586790118,
           0.047906532541257985,
           0.4233378704809223,
           0.2914476584392154,
           0.4215007505764832,
           0.12289692717924999,
           0.02025220748016843,
           0.035136804982591634,
           0.31299128154816563,
           0.08213536678204274,
           0.036799567401367486,
           0.1318140372241473,
           0.33684496740009967,
           0.18722068628313096,
           0.21377048616692573,
           0.33910906387626455,
           0.31803001057857466,
           0.07706501312347491,
           0.09990484556612075,
           0.19038634076799033
          ],
          "coloraxis": "coloraxis",
          "pattern": {
           "shape": ""
          }
         },
         "name": "",
         "offsetgroup": "",
         "orientation": "h",
         "showlegend": false,
         "textposition": "auto",
         "type": "bar",
         "x": [
          1,
          0.23215221033953876,
          -0.023364082586790118,
          0.047906532541257985,
          0.4233378704809223,
          0.2914476584392154,
          0.4215007505764832,
          0.12289692717924999,
          0.02025220748016843,
          0.035136804982591634,
          0.31299128154816563,
          0.08213536678204274,
          0.036799567401367486,
          0.1318140372241473,
          0.33684496740009967,
          0.18722068628313096,
          0.21377048616692573,
          0.33910906387626455,
          0.31803001057857466,
          0.07706501312347491,
          0.09990484556612075,
          0.19038634076799033
         ],
         "xaxis": "x",
         "y": [
          "sat_score",
          "rr_s",
          "rr_t",
          "rr_p",
          "N_s",
          "N_t",
          "N_p",
          "saf_p_11",
          "eng_p_11",
          "aca_p_11",
          "saf_t_11",
          "com_t_11",
          "eng_t_11",
          "aca_t_11",
          "saf_s_11",
          "com_s_11",
          "eng_s_11",
          "aca_s_11",
          "saf_tot_11",
          "com_tot_11",
          "eng_tot_11",
          "aca_tot_11"
         ],
         "yaxis": "y"
        }
       ],
       "layout": {
        "barmode": "relative",
        "coloraxis": {
         "colorbar": {
          "title": {
           "text": "sat_score"
          }
         },
         "colorscale": [
          [
           0,
           "#0d0887"
          ],
          [
           0.1111111111111111,
           "#46039f"
          ],
          [
           0.2222222222222222,
           "#7201a8"
          ],
          [
           0.3333333333333333,
           "#9c179e"
          ],
          [
           0.4444444444444444,
           "#bd3786"
          ],
          [
           0.5555555555555556,
           "#d8576b"
          ],
          [
           0.6666666666666666,
           "#ed7953"
          ],
          [
           0.7777777777777778,
           "#fb9f3a"
          ],
          [
           0.8888888888888888,
           "#fdca26"
          ],
          [
           1,
           "#f0f921"
          ]
         ]
        },
        "legend": {
         "tracegroupgap": 0
        },
        "margin": {
         "t": 60
        },
        "template": {
         "data": {
          "bar": [
           {
            "error_x": {
             "color": "#2a3f5f"
            },
            "error_y": {
             "color": "#2a3f5f"
            },
            "marker": {
             "line": {
              "color": "#E5ECF6",
              "width": 0.5
             },
             "pattern": {
              "fillmode": "overlay",
              "size": 10,
              "solidity": 0.2
             }
            },
            "type": "bar"
           }
          ],
          "barpolar": [
           {
            "marker": {
             "line": {
              "color": "#E5ECF6",
              "width": 0.5
             },
             "pattern": {
              "fillmode": "overlay",
              "size": 10,
              "solidity": 0.2
             }
            },
            "type": "barpolar"
           }
          ],
          "carpet": [
           {
            "aaxis": {
             "endlinecolor": "#2a3f5f",
             "gridcolor": "white",
             "linecolor": "white",
             "minorgridcolor": "white",
             "startlinecolor": "#2a3f5f"
            },
            "baxis": {
             "endlinecolor": "#2a3f5f",
             "gridcolor": "white",
             "linecolor": "white",
             "minorgridcolor": "white",
             "startlinecolor": "#2a3f5f"
            },
            "type": "carpet"
           }
          ],
          "choropleth": [
           {
            "colorbar": {
             "outlinewidth": 0,
             "ticks": ""
            },
            "type": "choropleth"
           }
          ],
          "contour": [
           {
            "colorbar": {
             "outlinewidth": 0,
             "ticks": ""
            },
            "colorscale": [
             [
              0,
              "#0d0887"
             ],
             [
              0.1111111111111111,
              "#46039f"
             ],
             [
              0.2222222222222222,
              "#7201a8"
             ],
             [
              0.3333333333333333,
              "#9c179e"
             ],
             [
              0.4444444444444444,
              "#bd3786"
             ],
             [
              0.5555555555555556,
              "#d8576b"
             ],
             [
              0.6666666666666666,
              "#ed7953"
             ],
             [
              0.7777777777777778,
              "#fb9f3a"
             ],
             [
              0.8888888888888888,
              "#fdca26"
             ],
             [
              1,
              "#f0f921"
             ]
            ],
            "type": "contour"
           }
          ],
          "contourcarpet": [
           {
            "colorbar": {
             "outlinewidth": 0,
             "ticks": ""
            },
            "type": "contourcarpet"
           }
          ],
          "heatmap": [
           {
            "colorbar": {
             "outlinewidth": 0,
             "ticks": ""
            },
            "colorscale": [
             [
              0,
              "#0d0887"
             ],
             [
              0.1111111111111111,
              "#46039f"
             ],
             [
              0.2222222222222222,
              "#7201a8"
             ],
             [
              0.3333333333333333,
              "#9c179e"
             ],
             [
              0.4444444444444444,
              "#bd3786"
             ],
             [
              0.5555555555555556,
              "#d8576b"
             ],
             [
              0.6666666666666666,
              "#ed7953"
             ],
             [
              0.7777777777777778,
              "#fb9f3a"
             ],
             [
              0.8888888888888888,
              "#fdca26"
             ],
             [
              1,
              "#f0f921"
             ]
            ],
            "type": "heatmap"
           }
          ],
          "heatmapgl": [
           {
            "colorbar": {
             "outlinewidth": 0,
             "ticks": ""
            },
            "colorscale": [
             [
              0,
              "#0d0887"
             ],
             [
              0.1111111111111111,
              "#46039f"
             ],
             [
              0.2222222222222222,
              "#7201a8"
             ],
             [
              0.3333333333333333,
              "#9c179e"
             ],
             [
              0.4444444444444444,
              "#bd3786"
             ],
             [
              0.5555555555555556,
              "#d8576b"
             ],
             [
              0.6666666666666666,
              "#ed7953"
             ],
             [
              0.7777777777777778,
              "#fb9f3a"
             ],
             [
              0.8888888888888888,
              "#fdca26"
             ],
             [
              1,
              "#f0f921"
             ]
            ],
            "type": "heatmapgl"
           }
          ],
          "histogram": [
           {
            "marker": {
             "pattern": {
              "fillmode": "overlay",
              "size": 10,
              "solidity": 0.2
             }
            },
            "type": "histogram"
           }
          ],
          "histogram2d": [
           {
            "colorbar": {
             "outlinewidth": 0,
             "ticks": ""
            },
            "colorscale": [
             [
              0,
              "#0d0887"
             ],
             [
              0.1111111111111111,
              "#46039f"
             ],
             [
              0.2222222222222222,
              "#7201a8"
             ],
             [
              0.3333333333333333,
              "#9c179e"
             ],
             [
              0.4444444444444444,
              "#bd3786"
             ],
             [
              0.5555555555555556,
              "#d8576b"
             ],
             [
              0.6666666666666666,
              "#ed7953"
             ],
             [
              0.7777777777777778,
              "#fb9f3a"
             ],
             [
              0.8888888888888888,
              "#fdca26"
             ],
             [
              1,
              "#f0f921"
             ]
            ],
            "type": "histogram2d"
           }
          ],
          "histogram2dcontour": [
           {
            "colorbar": {
             "outlinewidth": 0,
             "ticks": ""
            },
            "colorscale": [
             [
              0,
              "#0d0887"
             ],
             [
              0.1111111111111111,
              "#46039f"
             ],
             [
              0.2222222222222222,
              "#7201a8"
             ],
             [
              0.3333333333333333,
              "#9c179e"
             ],
             [
              0.4444444444444444,
              "#bd3786"
             ],
             [
              0.5555555555555556,
              "#d8576b"
             ],
             [
              0.6666666666666666,
              "#ed7953"
             ],
             [
              0.7777777777777778,
              "#fb9f3a"
             ],
             [
              0.8888888888888888,
              "#fdca26"
             ],
             [
              1,
              "#f0f921"
             ]
            ],
            "type": "histogram2dcontour"
           }
          ],
          "mesh3d": [
           {
            "colorbar": {
             "outlinewidth": 0,
             "ticks": ""
            },
            "type": "mesh3d"
           }
          ],
          "parcoords": [
           {
            "line": {
             "colorbar": {
              "outlinewidth": 0,
              "ticks": ""
             }
            },
            "type": "parcoords"
           }
          ],
          "pie": [
           {
            "automargin": true,
            "type": "pie"
           }
          ],
          "scatter": [
           {
            "fillpattern": {
             "fillmode": "overlay",
             "size": 10,
             "solidity": 0.2
            },
            "type": "scatter"
           }
          ],
          "scatter3d": [
           {
            "line": {
             "colorbar": {
              "outlinewidth": 0,
              "ticks": ""
             }
            },
            "marker": {
             "colorbar": {
              "outlinewidth": 0,
              "ticks": ""
             }
            },
            "type": "scatter3d"
           }
          ],
          "scattercarpet": [
           {
            "marker": {
             "colorbar": {
              "outlinewidth": 0,
              "ticks": ""
             }
            },
            "type": "scattercarpet"
           }
          ],
          "scattergeo": [
           {
            "marker": {
             "colorbar": {
              "outlinewidth": 0,
              "ticks": ""
             }
            },
            "type": "scattergeo"
           }
          ],
          "scattergl": [
           {
            "marker": {
             "colorbar": {
              "outlinewidth": 0,
              "ticks": ""
             }
            },
            "type": "scattergl"
           }
          ],
          "scattermapbox": [
           {
            "marker": {
             "colorbar": {
              "outlinewidth": 0,
              "ticks": ""
             }
            },
            "type": "scattermapbox"
           }
          ],
          "scatterpolar": [
           {
            "marker": {
             "colorbar": {
              "outlinewidth": 0,
              "ticks": ""
             }
            },
            "type": "scatterpolar"
           }
          ],
          "scatterpolargl": [
           {
            "marker": {
             "colorbar": {
              "outlinewidth": 0,
              "ticks": ""
             }
            },
            "type": "scatterpolargl"
           }
          ],
          "scatterternary": [
           {
            "marker": {
             "colorbar": {
              "outlinewidth": 0,
              "ticks": ""
             }
            },
            "type": "scatterternary"
           }
          ],
          "surface": [
           {
            "colorbar": {
             "outlinewidth": 0,
             "ticks": ""
            },
            "colorscale": [
             [
              0,
              "#0d0887"
             ],
             [
              0.1111111111111111,
              "#46039f"
             ],
             [
              0.2222222222222222,
              "#7201a8"
             ],
             [
              0.3333333333333333,
              "#9c179e"
             ],
             [
              0.4444444444444444,
              "#bd3786"
             ],
             [
              0.5555555555555556,
              "#d8576b"
             ],
             [
              0.6666666666666666,
              "#ed7953"
             ],
             [
              0.7777777777777778,
              "#fb9f3a"
             ],
             [
              0.8888888888888888,
              "#fdca26"
             ],
             [
              1,
              "#f0f921"
             ]
            ],
            "type": "surface"
           }
          ],
          "table": [
           {
            "cells": {
             "fill": {
              "color": "#EBF0F8"
             },
             "line": {
              "color": "white"
             }
            },
            "header": {
             "fill": {
              "color": "#C8D4E3"
             },
             "line": {
              "color": "white"
             }
            },
            "type": "table"
           }
          ]
         },
         "layout": {
          "annotationdefaults": {
           "arrowcolor": "#2a3f5f",
           "arrowhead": 0,
           "arrowwidth": 1
          },
          "autotypenumbers": "strict",
          "coloraxis": {
           "colorbar": {
            "outlinewidth": 0,
            "ticks": ""
           }
          },
          "colorscale": {
           "diverging": [
            [
             0,
             "#8e0152"
            ],
            [
             0.1,
             "#c51b7d"
            ],
            [
             0.2,
             "#de77ae"
            ],
            [
             0.3,
             "#f1b6da"
            ],
            [
             0.4,
             "#fde0ef"
            ],
            [
             0.5,
             "#f7f7f7"
            ],
            [
             0.6,
             "#e6f5d0"
            ],
            [
             0.7,
             "#b8e186"
            ],
            [
             0.8,
             "#7fbc41"
            ],
            [
             0.9,
             "#4d9221"
            ],
            [
             1,
             "#276419"
            ]
           ],
           "sequential": [
            [
             0,
             "#0d0887"
            ],
            [
             0.1111111111111111,
             "#46039f"
            ],
            [
             0.2222222222222222,
             "#7201a8"
            ],
            [
             0.3333333333333333,
             "#9c179e"
            ],
            [
             0.4444444444444444,
             "#bd3786"
            ],
            [
             0.5555555555555556,
             "#d8576b"
            ],
            [
             0.6666666666666666,
             "#ed7953"
            ],
            [
             0.7777777777777778,
             "#fb9f3a"
            ],
            [
             0.8888888888888888,
             "#fdca26"
            ],
            [
             1,
             "#f0f921"
            ]
           ],
           "sequentialminus": [
            [
             0,
             "#0d0887"
            ],
            [
             0.1111111111111111,
             "#46039f"
            ],
            [
             0.2222222222222222,
             "#7201a8"
            ],
            [
             0.3333333333333333,
             "#9c179e"
            ],
            [
             0.4444444444444444,
             "#bd3786"
            ],
            [
             0.5555555555555556,
             "#d8576b"
            ],
            [
             0.6666666666666666,
             "#ed7953"
            ],
            [
             0.7777777777777778,
             "#fb9f3a"
            ],
            [
             0.8888888888888888,
             "#fdca26"
            ],
            [
             1,
             "#f0f921"
            ]
           ]
          },
          "colorway": [
           "#636efa",
           "#EF553B",
           "#00cc96",
           "#ab63fa",
           "#FFA15A",
           "#19d3f3",
           "#FF6692",
           "#B6E880",
           "#FF97FF",
           "#FECB52"
          ],
          "font": {
           "color": "#2a3f5f"
          },
          "geo": {
           "bgcolor": "white",
           "lakecolor": "white",
           "landcolor": "#E5ECF6",
           "showlakes": true,
           "showland": true,
           "subunitcolor": "white"
          },
          "hoverlabel": {
           "align": "left"
          },
          "hovermode": "closest",
          "mapbox": {
           "style": "light"
          },
          "paper_bgcolor": "white",
          "plot_bgcolor": "#E5ECF6",
          "polar": {
           "angularaxis": {
            "gridcolor": "white",
            "linecolor": "white",
            "ticks": ""
           },
           "bgcolor": "#E5ECF6",
           "radialaxis": {
            "gridcolor": "white",
            "linecolor": "white",
            "ticks": ""
           }
          },
          "scene": {
           "xaxis": {
            "backgroundcolor": "#E5ECF6",
            "gridcolor": "white",
            "gridwidth": 2,
            "linecolor": "white",
            "showbackground": true,
            "ticks": "",
            "zerolinecolor": "white"
           },
           "yaxis": {
            "backgroundcolor": "#E5ECF6",
            "gridcolor": "white",
            "gridwidth": 2,
            "linecolor": "white",
            "showbackground": true,
            "ticks": "",
            "zerolinecolor": "white"
           },
           "zaxis": {
            "backgroundcolor": "#E5ECF6",
            "gridcolor": "white",
            "gridwidth": 2,
            "linecolor": "white",
            "showbackground": true,
            "ticks": "",
            "zerolinecolor": "white"
           }
          },
          "shapedefaults": {
           "line": {
            "color": "#2a3f5f"
           }
          },
          "ternary": {
           "aaxis": {
            "gridcolor": "white",
            "linecolor": "white",
            "ticks": ""
           },
           "baxis": {
            "gridcolor": "white",
            "linecolor": "white",
            "ticks": ""
           },
           "bgcolor": "#E5ECF6",
           "caxis": {
            "gridcolor": "white",
            "linecolor": "white",
            "ticks": ""
           }
          },
          "title": {
           "x": 0.05
          },
          "xaxis": {
           "automargin": true,
           "gridcolor": "white",
           "linecolor": "white",
           "ticks": "",
           "title": {
            "standoff": 15
           },
           "zerolinecolor": "white",
           "zerolinewidth": 2
          },
          "yaxis": {
           "automargin": true,
           "gridcolor": "white",
           "linecolor": "white",
           "ticks": "",
           "title": {
            "standoff": 15
           },
           "zerolinecolor": "white",
           "zerolinewidth": 2
          }
         }
        },
        "xaxis": {
         "anchor": "y",
         "domain": [
          0,
          1
         ],
         "title": {
          "text": "sat_score"
         }
        },
        "yaxis": {
         "anchor": "x",
         "domain": [
          0,
          1
         ],
         "title": {
          "text": "index"
         }
        }
       }
      },
      "text/html": [
       "<div>                            <div id=\"fb6a7bb1-46e8-4c6d-b935-9136246db7bc\" class=\"plotly-graph-div\" style=\"height:525px; width:100%;\"></div>            <script type=\"text/javascript\">                require([\"plotly\"], function(Plotly) {                    window.PLOTLYENV=window.PLOTLYENV || {};                                    if (document.getElementById(\"fb6a7bb1-46e8-4c6d-b935-9136246db7bc\")) {                    Plotly.newPlot(                        \"fb6a7bb1-46e8-4c6d-b935-9136246db7bc\",                        [{\"alignmentgroup\":\"True\",\"hovertemplate\":\"sat_score=%{marker.color}<br>index=%{y}<extra></extra>\",\"legendgroup\":\"\",\"marker\":{\"color\":[1.0,0.23215221033953876,-0.023364082586790118,0.047906532541257985,0.4233378704809223,0.2914476584392154,0.4215007505764832,0.12289692717924999,0.02025220748016843,0.035136804982591634,0.31299128154816563,0.08213536678204274,0.036799567401367486,0.1318140372241473,0.33684496740009967,0.18722068628313096,0.21377048616692573,0.33910906387626455,0.31803001057857466,0.07706501312347491,0.09990484556612075,0.19038634076799033],\"coloraxis\":\"coloraxis\",\"pattern\":{\"shape\":\"\"}},\"name\":\"\",\"offsetgroup\":\"\",\"orientation\":\"h\",\"showlegend\":false,\"textposition\":\"auto\",\"x\":[1.0,0.23215221033953876,-0.023364082586790118,0.047906532541257985,0.4233378704809223,0.2914476584392154,0.4215007505764832,0.12289692717924999,0.02025220748016843,0.035136804982591634,0.31299128154816563,0.08213536678204274,0.036799567401367486,0.1318140372241473,0.33684496740009967,0.18722068628313096,0.21377048616692573,0.33910906387626455,0.31803001057857466,0.07706501312347491,0.09990484556612075,0.19038634076799033],\"xaxis\":\"x\",\"y\":[\"sat_score\",\"rr_s\",\"rr_t\",\"rr_p\",\"N_s\",\"N_t\",\"N_p\",\"saf_p_11\",\"eng_p_11\",\"aca_p_11\",\"saf_t_11\",\"com_t_11\",\"eng_t_11\",\"aca_t_11\",\"saf_s_11\",\"com_s_11\",\"eng_s_11\",\"aca_s_11\",\"saf_tot_11\",\"com_tot_11\",\"eng_tot_11\",\"aca_tot_11\"],\"yaxis\":\"y\",\"type\":\"bar\"}],                        {\"template\":{\"data\":{\"histogram2dcontour\":[{\"type\":\"histogram2dcontour\",\"colorbar\":{\"outlinewidth\":0,\"ticks\":\"\"},\"colorscale\":[[0.0,\"#0d0887\"],[0.1111111111111111,\"#46039f\"],[0.2222222222222222,\"#7201a8\"],[0.3333333333333333,\"#9c179e\"],[0.4444444444444444,\"#bd3786\"],[0.5555555555555556,\"#d8576b\"],[0.6666666666666666,\"#ed7953\"],[0.7777777777777778,\"#fb9f3a\"],[0.8888888888888888,\"#fdca26\"],[1.0,\"#f0f921\"]]}],\"choropleth\":[{\"type\":\"choropleth\",\"colorbar\":{\"outlinewidth\":0,\"ticks\":\"\"}}],\"histogram2d\":[{\"type\":\"histogram2d\",\"colorbar\":{\"outlinewidth\":0,\"ticks\":\"\"},\"colorscale\":[[0.0,\"#0d0887\"],[0.1111111111111111,\"#46039f\"],[0.2222222222222222,\"#7201a8\"],[0.3333333333333333,\"#9c179e\"],[0.4444444444444444,\"#bd3786\"],[0.5555555555555556,\"#d8576b\"],[0.6666666666666666,\"#ed7953\"],[0.7777777777777778,\"#fb9f3a\"],[0.8888888888888888,\"#fdca26\"],[1.0,\"#f0f921\"]]}],\"heatmap\":[{\"type\":\"heatmap\",\"colorbar\":{\"outlinewidth\":0,\"ticks\":\"\"},\"colorscale\":[[0.0,\"#0d0887\"],[0.1111111111111111,\"#46039f\"],[0.2222222222222222,\"#7201a8\"],[0.3333333333333333,\"#9c179e\"],[0.4444444444444444,\"#bd3786\"],[0.5555555555555556,\"#d8576b\"],[0.6666666666666666,\"#ed7953\"],[0.7777777777777778,\"#fb9f3a\"],[0.8888888888888888,\"#fdca26\"],[1.0,\"#f0f921\"]]}],\"heatmapgl\":[{\"type\":\"heatmapgl\",\"colorbar\":{\"outlinewidth\":0,\"ticks\":\"\"},\"colorscale\":[[0.0,\"#0d0887\"],[0.1111111111111111,\"#46039f\"],[0.2222222222222222,\"#7201a8\"],[0.3333333333333333,\"#9c179e\"],[0.4444444444444444,\"#bd3786\"],[0.5555555555555556,\"#d8576b\"],[0.6666666666666666,\"#ed7953\"],[0.7777777777777778,\"#fb9f3a\"],[0.8888888888888888,\"#fdca26\"],[1.0,\"#f0f921\"]]}],\"contourcarpet\":[{\"type\":\"contourcarpet\",\"colorbar\":{\"outlinewidth\":0,\"ticks\":\"\"}}],\"contour\":[{\"type\":\"contour\",\"colorbar\":{\"outlinewidth\":0,\"ticks\":\"\"},\"colorscale\":[[0.0,\"#0d0887\"],[0.1111111111111111,\"#46039f\"],[0.2222222222222222,\"#7201a8\"],[0.3333333333333333,\"#9c179e\"],[0.4444444444444444,\"#bd3786\"],[0.5555555555555556,\"#d8576b\"],[0.6666666666666666,\"#ed7953\"],[0.7777777777777778,\"#fb9f3a\"],[0.8888888888888888,\"#fdca26\"],[1.0,\"#f0f921\"]]}],\"surface\":[{\"type\":\"surface\",\"colorbar\":{\"outlinewidth\":0,\"ticks\":\"\"},\"colorscale\":[[0.0,\"#0d0887\"],[0.1111111111111111,\"#46039f\"],[0.2222222222222222,\"#7201a8\"],[0.3333333333333333,\"#9c179e\"],[0.4444444444444444,\"#bd3786\"],[0.5555555555555556,\"#d8576b\"],[0.6666666666666666,\"#ed7953\"],[0.7777777777777778,\"#fb9f3a\"],[0.8888888888888888,\"#fdca26\"],[1.0,\"#f0f921\"]]}],\"mesh3d\":[{\"type\":\"mesh3d\",\"colorbar\":{\"outlinewidth\":0,\"ticks\":\"\"}}],\"scatter\":[{\"fillpattern\":{\"fillmode\":\"overlay\",\"size\":10,\"solidity\":0.2},\"type\":\"scatter\"}],\"parcoords\":[{\"type\":\"parcoords\",\"line\":{\"colorbar\":{\"outlinewidth\":0,\"ticks\":\"\"}}}],\"scatterpolargl\":[{\"type\":\"scatterpolargl\",\"marker\":{\"colorbar\":{\"outlinewidth\":0,\"ticks\":\"\"}}}],\"bar\":[{\"error_x\":{\"color\":\"#2a3f5f\"},\"error_y\":{\"color\":\"#2a3f5f\"},\"marker\":{\"line\":{\"color\":\"#E5ECF6\",\"width\":0.5},\"pattern\":{\"fillmode\":\"overlay\",\"size\":10,\"solidity\":0.2}},\"type\":\"bar\"}],\"scattergeo\":[{\"type\":\"scattergeo\",\"marker\":{\"colorbar\":{\"outlinewidth\":0,\"ticks\":\"\"}}}],\"scatterpolar\":[{\"type\":\"scatterpolar\",\"marker\":{\"colorbar\":{\"outlinewidth\":0,\"ticks\":\"\"}}}],\"histogram\":[{\"marker\":{\"pattern\":{\"fillmode\":\"overlay\",\"size\":10,\"solidity\":0.2}},\"type\":\"histogram\"}],\"scattergl\":[{\"type\":\"scattergl\",\"marker\":{\"colorbar\":{\"outlinewidth\":0,\"ticks\":\"\"}}}],\"scatter3d\":[{\"type\":\"scatter3d\",\"line\":{\"colorbar\":{\"outlinewidth\":0,\"ticks\":\"\"}},\"marker\":{\"colorbar\":{\"outlinewidth\":0,\"ticks\":\"\"}}}],\"scattermapbox\":[{\"type\":\"scattermapbox\",\"marker\":{\"colorbar\":{\"outlinewidth\":0,\"ticks\":\"\"}}}],\"scatterternary\":[{\"type\":\"scatterternary\",\"marker\":{\"colorbar\":{\"outlinewidth\":0,\"ticks\":\"\"}}}],\"scattercarpet\":[{\"type\":\"scattercarpet\",\"marker\":{\"colorbar\":{\"outlinewidth\":0,\"ticks\":\"\"}}}],\"carpet\":[{\"aaxis\":{\"endlinecolor\":\"#2a3f5f\",\"gridcolor\":\"white\",\"linecolor\":\"white\",\"minorgridcolor\":\"white\",\"startlinecolor\":\"#2a3f5f\"},\"baxis\":{\"endlinecolor\":\"#2a3f5f\",\"gridcolor\":\"white\",\"linecolor\":\"white\",\"minorgridcolor\":\"white\",\"startlinecolor\":\"#2a3f5f\"},\"type\":\"carpet\"}],\"table\":[{\"cells\":{\"fill\":{\"color\":\"#EBF0F8\"},\"line\":{\"color\":\"white\"}},\"header\":{\"fill\":{\"color\":\"#C8D4E3\"},\"line\":{\"color\":\"white\"}},\"type\":\"table\"}],\"barpolar\":[{\"marker\":{\"line\":{\"color\":\"#E5ECF6\",\"width\":0.5},\"pattern\":{\"fillmode\":\"overlay\",\"size\":10,\"solidity\":0.2}},\"type\":\"barpolar\"}],\"pie\":[{\"automargin\":true,\"type\":\"pie\"}]},\"layout\":{\"autotypenumbers\":\"strict\",\"colorway\":[\"#636efa\",\"#EF553B\",\"#00cc96\",\"#ab63fa\",\"#FFA15A\",\"#19d3f3\",\"#FF6692\",\"#B6E880\",\"#FF97FF\",\"#FECB52\"],\"font\":{\"color\":\"#2a3f5f\"},\"hovermode\":\"closest\",\"hoverlabel\":{\"align\":\"left\"},\"paper_bgcolor\":\"white\",\"plot_bgcolor\":\"#E5ECF6\",\"polar\":{\"bgcolor\":\"#E5ECF6\",\"angularaxis\":{\"gridcolor\":\"white\",\"linecolor\":\"white\",\"ticks\":\"\"},\"radialaxis\":{\"gridcolor\":\"white\",\"linecolor\":\"white\",\"ticks\":\"\"}},\"ternary\":{\"bgcolor\":\"#E5ECF6\",\"aaxis\":{\"gridcolor\":\"white\",\"linecolor\":\"white\",\"ticks\":\"\"},\"baxis\":{\"gridcolor\":\"white\",\"linecolor\":\"white\",\"ticks\":\"\"},\"caxis\":{\"gridcolor\":\"white\",\"linecolor\":\"white\",\"ticks\":\"\"}},\"coloraxis\":{\"colorbar\":{\"outlinewidth\":0,\"ticks\":\"\"}},\"colorscale\":{\"sequential\":[[0.0,\"#0d0887\"],[0.1111111111111111,\"#46039f\"],[0.2222222222222222,\"#7201a8\"],[0.3333333333333333,\"#9c179e\"],[0.4444444444444444,\"#bd3786\"],[0.5555555555555556,\"#d8576b\"],[0.6666666666666666,\"#ed7953\"],[0.7777777777777778,\"#fb9f3a\"],[0.8888888888888888,\"#fdca26\"],[1.0,\"#f0f921\"]],\"sequentialminus\":[[0.0,\"#0d0887\"],[0.1111111111111111,\"#46039f\"],[0.2222222222222222,\"#7201a8\"],[0.3333333333333333,\"#9c179e\"],[0.4444444444444444,\"#bd3786\"],[0.5555555555555556,\"#d8576b\"],[0.6666666666666666,\"#ed7953\"],[0.7777777777777778,\"#fb9f3a\"],[0.8888888888888888,\"#fdca26\"],[1.0,\"#f0f921\"]],\"diverging\":[[0,\"#8e0152\"],[0.1,\"#c51b7d\"],[0.2,\"#de77ae\"],[0.3,\"#f1b6da\"],[0.4,\"#fde0ef\"],[0.5,\"#f7f7f7\"],[0.6,\"#e6f5d0\"],[0.7,\"#b8e186\"],[0.8,\"#7fbc41\"],[0.9,\"#4d9221\"],[1,\"#276419\"]]},\"xaxis\":{\"gridcolor\":\"white\",\"linecolor\":\"white\",\"ticks\":\"\",\"title\":{\"standoff\":15},\"zerolinecolor\":\"white\",\"automargin\":true,\"zerolinewidth\":2},\"yaxis\":{\"gridcolor\":\"white\",\"linecolor\":\"white\",\"ticks\":\"\",\"title\":{\"standoff\":15},\"zerolinecolor\":\"white\",\"automargin\":true,\"zerolinewidth\":2},\"scene\":{\"xaxis\":{\"backgroundcolor\":\"#E5ECF6\",\"gridcolor\":\"white\",\"linecolor\":\"white\",\"showbackground\":true,\"ticks\":\"\",\"zerolinecolor\":\"white\",\"gridwidth\":2},\"yaxis\":{\"backgroundcolor\":\"#E5ECF6\",\"gridcolor\":\"white\",\"linecolor\":\"white\",\"showbackground\":true,\"ticks\":\"\",\"zerolinecolor\":\"white\",\"gridwidth\":2},\"zaxis\":{\"backgroundcolor\":\"#E5ECF6\",\"gridcolor\":\"white\",\"linecolor\":\"white\",\"showbackground\":true,\"ticks\":\"\",\"zerolinecolor\":\"white\",\"gridwidth\":2}},\"shapedefaults\":{\"line\":{\"color\":\"#2a3f5f\"}},\"annotationdefaults\":{\"arrowcolor\":\"#2a3f5f\",\"arrowhead\":0,\"arrowwidth\":1},\"geo\":{\"bgcolor\":\"white\",\"landcolor\":\"#E5ECF6\",\"subunitcolor\":\"white\",\"showland\":true,\"showlakes\":true,\"lakecolor\":\"white\"},\"title\":{\"x\":0.05},\"mapbox\":{\"style\":\"light\"}}},\"xaxis\":{\"anchor\":\"y\",\"domain\":[0.0,1.0],\"title\":{\"text\":\"sat_score\"}},\"yaxis\":{\"anchor\":\"x\",\"domain\":[0.0,1.0],\"title\":{\"text\":\"index\"}},\"coloraxis\":{\"colorbar\":{\"title\":{\"text\":\"sat_score\"}},\"colorscale\":[[0.0,\"#0d0887\"],[0.1111111111111111,\"#46039f\"],[0.2222222222222222,\"#7201a8\"],[0.3333333333333333,\"#9c179e\"],[0.4444444444444444,\"#bd3786\"],[0.5555555555555556,\"#d8576b\"],[0.6666666666666666,\"#ed7953\"],[0.7777777777777778,\"#fb9f3a\"],[0.8888888888888888,\"#fdca26\"],[1.0,\"#f0f921\"]]},\"legend\":{\"tracegroupgap\":0},\"margin\":{\"t\":60},\"barmode\":\"relative\"},                        {\"responsive\": true}                    ).then(function(){\n",
       "                            \n",
       "var gd = document.getElementById('fb6a7bb1-46e8-4c6d-b935-9136246db7bc');\n",
       "var x = new MutationObserver(function (mutations, observer) {{\n",
       "        var display = window.getComputedStyle(gd).display;\n",
       "        if (!display || display === 'none') {{\n",
       "            console.log([gd, 'removed!']);\n",
       "            Plotly.purge(gd);\n",
       "            observer.disconnect();\n",
       "        }}\n",
       "}});\n",
       "\n",
       "// Listen for the removal of the full notebook cells\n",
       "var notebookContainer = gd.closest('#notebook-container');\n",
       "if (notebookContainer) {{\n",
       "    x.observe(notebookContainer, {childList: true});\n",
       "}}\n",
       "\n",
       "// Listen for the clearing of the current output cell\n",
       "var outputEl = gd.closest('.output');\n",
       "if (outputEl) {{\n",
       "    x.observe(outputEl, {childList: true});\n",
       "}}\n",
       "\n",
       "                        })                };                });            </script>        </div>"
      ]
     },
     "metadata": {},
     "output_type": "display_data"
    }
   ],
   "source": [
    "px.bar(sat_survey, x='sat_score', y='index', orientation='h', color='sat_score')"
   ]
  },
  {
   "cell_type": "markdown",
   "id": "3d1e1556",
   "metadata": {},
   "source": [
    "#### We can observe a rather medium correlation of sat_score and the number of parent respondents and the number of student respondents."
   ]
  },
  {
   "cell_type": "markdown",
   "id": "44ba2d95",
   "metadata": {},
   "source": [
    "### <center> Now let's take a close look at the safety score."
   ]
  },
  {
   "cell_type": "code",
   "execution_count": 86,
   "id": "f111fa16",
   "metadata": {
    "scrolled": true
   },
   "outputs": [
    {
     "data": {
      "application/vnd.plotly.v1+json": {
       "config": {
        "plotlyServerURL": "https://plot.ly"
       },
       "data": [
        {
         "hovertemplate": "sat_score=%{x}<br>saf_s_11=%{y}<extra></extra>",
         "legendgroup": "",
         "marker": {
          "color": "#636efa",
          "symbol": "circle"
         },
         "mode": "markers",
         "name": "",
         "orientation": "v",
         "showlegend": false,
         "type": "scatter",
         "x": [
          1122,
          1172,
          1149,
          1207,
          1621,
          1856,
          1182,
          1194,
          1156,
          1111,
          1293,
          1269,
          1051,
          1148,
          1200,
          1127,
          1176,
          1435,
          1223.4388059701494,
          1223.4388059701494,
          1223.4388059701494,
          1419,
          1522,
          1577,
          1677,
          1419,
          1758,
          1614,
          1170,
          1306,
          1233,
          1223.4388059701494,
          1223.4388059701494,
          1223.4388059701494,
          1372,
          1199,
          1227,
          2096,
          1374,
          1070,
          1416,
          1240,
          1239,
          1253,
          1058,
          1168,
          1424,
          1212,
          1195,
          1257,
          1255,
          1207,
          1315,
          1236,
          1132,
          1144,
          1223.4388059701494,
          1223.4388059701494,
          1109,
          1223.4388059701494,
          1744,
          1707,
          1196,
          1277,
          1446,
          1096,
          1084,
          1430,
          1128,
          1221,
          1326,
          1326,
          1054,
          1210,
          1223.4388059701494,
          1062,
          1077,
          1374,
          1202,
          1847,
          1270,
          1105,
          1174,
          1223.4388059701494,
          1127,
          1098,
          1102,
          1224,
          1309,
          1014,
          1090,
          945,
          1077,
          1097,
          1201,
          1257,
          1186,
          1103,
          1084,
          1181,
          1201,
          1158,
          1095,
          1223.4388059701494,
          1171,
          1158,
          1038,
          1164,
          1084,
          1223.4388059701494,
          1223.4388059701494,
          1241,
          1223.4388059701494,
          1099,
          1131,
          1049,
          1134,
          1290,
          1169,
          1092,
          1396,
          1075,
          1081,
          1148,
          1223.4388059701494,
          1138,
          951,
          965,
          1074,
          1083,
          1221,
          1224,
          1121,
          1166,
          1039,
          1333,
          1150,
          1190,
          1157,
          1158,
          962,
          1182,
          934,
          1181,
          1180,
          1106,
          1222,
          1077,
          1119,
          1082,
          1255,
          1270,
          1969,
          1263,
          1064,
          1115,
          1920,
          1133,
          1147,
          1135,
          1141,
          1111,
          1348,
          1135,
          1169,
          1268,
          1151,
          1048,
          1112,
          1288,
          1126,
          1163,
          1055,
          1122,
          1251,
          1102,
          1155,
          970,
          1223.4388059701494,
          1223.4388059701494,
          939,
          1029,
          1114,
          1038,
          1074,
          1080,
          1114,
          1211,
          1833,
          981,
          1206,
          1116,
          1223.4388059701494,
          1312,
          1189,
          1391,
          1353,
          1085,
          1223.4388059701494,
          1740,
          1189,
          1114,
          1204,
          1215,
          1090,
          1112,
          1187,
          1103,
          1093,
          1122,
          1035,
          1111,
          1179,
          1203,
          1169,
          1175,
          1212,
          1185,
          1258,
          1223.4388059701494,
          1068,
          1097,
          1092,
          1223.4388059701494,
          1139,
          1045,
          913,
          1176,
          1088,
          1153,
          1027,
          1105,
          1360,
          1273,
          1143,
          1151,
          1436,
          1251,
          963,
          1145,
          1118,
          1092,
          1143,
          1080,
          1183,
          1169,
          1159,
          1111,
          1135,
          1242,
          1023,
          1054,
          1149,
          1106,
          887,
          1193,
          1096,
          1108,
          1129,
          1102,
          1157,
          1272,
          1323,
          1306,
          1244,
          1223.4388059701494,
          1026,
          1237,
          1164,
          1226,
          1223.4388059701494,
          1431,
          1262,
          1124,
          1079,
          1184,
          1313,
          1473,
          1350,
          1627,
          1352,
          1185,
          1091,
          1196,
          1280,
          1219,
          1240,
          951,
          1663,
          1203,
          1211,
          1177,
          1064,
          1174,
          1330,
          1270,
          1364,
          1396,
          1049,
          1271,
          1441,
          1243,
          1216,
          1910,
          1330,
          1514,
          1474,
          1172,
          1449,
          1279,
          1145,
          1252,
          1156,
          1265,
          1094,
          1532,
          1108,
          1154,
          1192,
          1345,
          1223.4388059701494,
          1265,
          1223.4388059701494,
          1407,
          1194,
          1372,
          1538,
          1223.4388059701494,
          1868,
          1196,
          1316,
          1099,
          1173,
          1202,
          1287,
          1100,
          1223.4388059701494,
          1220,
          1151,
          1223.4388059701494,
          1255,
          1275,
          1218,
          1494,
          1239,
          1127,
          1470,
          1636,
          1353,
          1195,
          1426,
          1277,
          1279,
          1301,
          1418,
          1388,
          1235,
          1953,
          1098,
          1154,
          1035,
          1060,
          1315,
          1055
         ],
         "xaxis": "x",
         "y": [
          6,
          6,
          6.609141274238226,
          6.4,
          7.3,
          8.3,
          7.3,
          6.2,
          7.4,
          7.1,
          6.6,
          6.5,
          7,
          6,
          6.6,
          6.8,
          6.1,
          7.8,
          6.9,
          6.2,
          6.6,
          7.1,
          7.1,
          7.8,
          7.5,
          7.1,
          8.1,
          7.5,
          6.7,
          6.5,
          6.1,
          7.7,
          7,
          7.5,
          7.6,
          7,
          7.8,
          7.5,
          6.6,
          7.9,
          7,
          5.7,
          7.1,
          5.9,
          7.2,
          7,
          6.609141274238226,
          6.8,
          6.6,
          6.5,
          7,
          6.5,
          6.7,
          5.9,
          6.5,
          6.9,
          6.3,
          7,
          6,
          7.3,
          7.8,
          7.1,
          6.2,
          6.4,
          7.3,
          5.8,
          6.6,
          6.6,
          7,
          6.6,
          7.5,
          7.5,
          6.4,
          6.2,
          6.9,
          5.7,
          5.2,
          5.7,
          6.7,
          7.8,
          7.8,
          6.4,
          7.5,
          7.6,
          7.1,
          6.4,
          6.5,
          6.4,
          6.1,
          7.7,
          7.1,
          7.3,
          7.2,
          6.9,
          7.2,
          6.8,
          6,
          6.7,
          7.7,
          7.2,
          6.3,
          5.7,
          6.3,
          6.609141274238226,
          6.3,
          6.9,
          6.3,
          6.4,
          6.8,
          5.7,
          5.6,
          5.5,
          6.9,
          5.7,
          7,
          6.5,
          5.8,
          6.8,
          7.3,
          6.6,
          7.1,
          7.6,
          7.1,
          6.4,
          6.7,
          6,
          7.5,
          7,
          6.9,
          6.1,
          6,
          6.5,
          6.5,
          6.1,
          6.6,
          5.9,
          6.5,
          7.7,
          5.9,
          6.6,
          6.9,
          6.1,
          7.4,
          6.5,
          7.2,
          5.9,
          6,
          7,
          5.8,
          6,
          5.2,
          6.5,
          6.8,
          7.1,
          7.4,
          6.2,
          8.1,
          6.3,
          5.5,
          6.4,
          5.2,
          6.3,
          7.2,
          5.9,
          5.9,
          6.3,
          6,
          7.1,
          6,
          6.4,
          6.7,
          5.6,
          6.8,
          6.9,
          8.5,
          6.8,
          8.6,
          6.8,
          7.5,
          6.5,
          7.8,
          6.6,
          5.9,
          6.7,
          6.1,
          6.5,
          6.1,
          6,
          7,
          7.9,
          6.8,
          6,
          5.8,
          6.6,
          5.5,
          6.6,
          6.4,
          6.1,
          6.9,
          7.5,
          6.8,
          6.4,
          5.4,
          6,
          6.4,
          7.8,
          7.2,
          6.9,
          5.3,
          7.1,
          7.8,
          6.1,
          6.7,
          5.5,
          5.8,
          6.2,
          6.7,
          5.6,
          6.6,
          6.4,
          6.1,
          6.1,
          6.4,
          4.9,
          5.5,
          5.5,
          7.4,
          6.1,
          6.8,
          5.6,
          5.5,
          5.5,
          6.6,
          6.4,
          5.7,
          5.9,
          5.7,
          5.9,
          6.1,
          6,
          5.8,
          6.3,
          6.6,
          6.2,
          6.6,
          6,
          6.3,
          6.1,
          6.1,
          6.7,
          5.4,
          6.4,
          6.5,
          5.3,
          7.1,
          5.3,
          6.4,
          5.6,
          6.6,
          5.8,
          6.7,
          7,
          7,
          7.1,
          6.8,
          7.7,
          7.6,
          6.3,
          6,
          6,
          6.4,
          7,
          6.4,
          6.2,
          6.4,
          5.5,
          6.5,
          6.5,
          6.5,
          7.6,
          7.5,
          6.1,
          6.2,
          6.4,
          7.3,
          6.8,
          7.3,
          7.3,
          7.9,
          6.4,
          6.4,
          7.3,
          8,
          7,
          7.2,
          6.6,
          6.9,
          7,
          7.4,
          6.7,
          6.9,
          6.8,
          5.6,
          7.8,
          7.1,
          6.5,
          8.8,
          5,
          7.1,
          6.4,
          6,
          7.1,
          6.3,
          6.6,
          6.2,
          7.9,
          5,
          6,
          6.2,
          6.6,
          6.6,
          6.9,
          6.4,
          6.7,
          7,
          6.7,
          6.9,
          6.2,
          7.2,
          6.1,
          6.2,
          6.1,
          5.3,
          5.7,
          5.9,
          7,
          7.1,
          6,
          5.5,
          8.1,
          7.3,
          6.6,
          5.6,
          7,
          6.5,
          7.4,
          6.8,
          8,
          6.9,
          6.4,
          6.7,
          6.1,
          5.2,
          6,
          7.1,
          6.7,
          6,
          8.2,
          5.8,
          6.4,
          6.5,
          6.4,
          8.9,
          6.6
         ],
         "yaxis": "y"
        },
        {
         "hovertemplate": "<b>OLS trendline</b><br>saf_s_11 = 0.00132554 * sat_score + 4.98742<br>R<sup>2</sup>=0.113465<br><br>sat_score=%{x}<br>saf_s_11=%{y} <b>(trend)</b><extra></extra>",
         "legendgroup": "",
         "marker": {
          "color": "#636efa",
          "symbol": "circle"
         },
         "mode": "lines",
         "name": "",
         "showlegend": false,
         "type": "scatter",
         "x": [
          887,
          913,
          934,
          939,
          945,
          951,
          951,
          962,
          963,
          965,
          970,
          981,
          1014,
          1023,
          1026,
          1027,
          1029,
          1035,
          1035,
          1038,
          1038,
          1039,
          1045,
          1048,
          1049,
          1049,
          1051,
          1054,
          1054,
          1055,
          1055,
          1058,
          1060,
          1062,
          1064,
          1064,
          1068,
          1070,
          1074,
          1074,
          1075,
          1077,
          1077,
          1077,
          1079,
          1080,
          1080,
          1081,
          1082,
          1083,
          1084,
          1084,
          1084,
          1085,
          1088,
          1090,
          1090,
          1091,
          1092,
          1092,
          1092,
          1093,
          1094,
          1095,
          1096,
          1096,
          1097,
          1097,
          1098,
          1098,
          1099,
          1099,
          1100,
          1102,
          1102,
          1102,
          1103,
          1103,
          1105,
          1105,
          1106,
          1106,
          1108,
          1108,
          1109,
          1111,
          1111,
          1111,
          1111,
          1112,
          1112,
          1114,
          1114,
          1114,
          1115,
          1116,
          1118,
          1119,
          1121,
          1122,
          1122,
          1122,
          1124,
          1126,
          1127,
          1127,
          1127,
          1128,
          1129,
          1131,
          1132,
          1133,
          1134,
          1135,
          1135,
          1135,
          1138,
          1139,
          1141,
          1143,
          1143,
          1144,
          1145,
          1145,
          1147,
          1148,
          1148,
          1149,
          1149,
          1150,
          1151,
          1151,
          1151,
          1153,
          1154,
          1154,
          1155,
          1156,
          1156,
          1157,
          1157,
          1158,
          1158,
          1158,
          1159,
          1163,
          1164,
          1164,
          1166,
          1168,
          1169,
          1169,
          1169,
          1169,
          1170,
          1171,
          1172,
          1172,
          1173,
          1174,
          1174,
          1175,
          1176,
          1176,
          1177,
          1179,
          1180,
          1181,
          1181,
          1182,
          1182,
          1183,
          1184,
          1185,
          1185,
          1186,
          1187,
          1189,
          1189,
          1190,
          1192,
          1193,
          1194,
          1194,
          1195,
          1195,
          1196,
          1196,
          1196,
          1199,
          1200,
          1201,
          1201,
          1202,
          1202,
          1203,
          1203,
          1204,
          1206,
          1207,
          1207,
          1210,
          1211,
          1211,
          1212,
          1212,
          1215,
          1216,
          1218,
          1219,
          1220,
          1221,
          1221,
          1222,
          1223.4388059701494,
          1223.4388059701494,
          1223.4388059701494,
          1223.4388059701494,
          1223.4388059701494,
          1223.4388059701494,
          1223.4388059701494,
          1223.4388059701494,
          1223.4388059701494,
          1223.4388059701494,
          1223.4388059701494,
          1223.4388059701494,
          1223.4388059701494,
          1223.4388059701494,
          1223.4388059701494,
          1223.4388059701494,
          1223.4388059701494,
          1223.4388059701494,
          1223.4388059701494,
          1223.4388059701494,
          1223.4388059701494,
          1223.4388059701494,
          1223.4388059701494,
          1223.4388059701494,
          1223.4388059701494,
          1223.4388059701494,
          1223.4388059701494,
          1223.4388059701494,
          1223.4388059701494,
          1224,
          1224,
          1226,
          1227,
          1233,
          1235,
          1236,
          1237,
          1239,
          1239,
          1240,
          1240,
          1241,
          1242,
          1243,
          1244,
          1251,
          1251,
          1252,
          1253,
          1255,
          1255,
          1255,
          1257,
          1257,
          1258,
          1262,
          1263,
          1265,
          1265,
          1268,
          1269,
          1270,
          1270,
          1270,
          1271,
          1272,
          1273,
          1275,
          1277,
          1277,
          1279,
          1279,
          1280,
          1287,
          1288,
          1290,
          1293,
          1301,
          1306,
          1306,
          1309,
          1312,
          1313,
          1315,
          1315,
          1316,
          1323,
          1326,
          1326,
          1330,
          1330,
          1333,
          1345,
          1348,
          1350,
          1352,
          1353,
          1353,
          1360,
          1364,
          1372,
          1372,
          1374,
          1374,
          1388,
          1391,
          1396,
          1396,
          1407,
          1416,
          1418,
          1419,
          1419,
          1424,
          1426,
          1430,
          1431,
          1435,
          1436,
          1441,
          1446,
          1449,
          1470,
          1473,
          1474,
          1494,
          1514,
          1522,
          1532,
          1538,
          1577,
          1614,
          1621,
          1627,
          1636,
          1663,
          1677,
          1707,
          1740,
          1744,
          1758,
          1833,
          1847,
          1856,
          1868,
          1910,
          1920,
          1953,
          1969,
          2096
         ],
         "xaxis": "x",
         "y": [
          6.163177888716924,
          6.197641951178798,
          6.225478309321081,
          6.2321060136406725,
          6.240059258824181,
          6.248012504007691,
          6.248012504007691,
          6.262593453510791,
          6.263918994374709,
          6.266570076102546,
          6.273197780422137,
          6.287778729925238,
          6.33152157843454,
          6.343451446209803,
          6.347428068801558,
          6.348753609665477,
          6.351404691393313,
          6.3593579365768225,
          6.3593579365768225,
          6.363334559168576,
          6.363334559168576,
          6.364660100032495,
          6.3726133452160045,
          6.376589967807759,
          6.377915508671677,
          6.377915508671677,
          6.380566590399514,
          6.384543212991268,
          6.384543212991268,
          6.385868753855187,
          6.385868753855187,
          6.389845376446941,
          6.392496458174778,
          6.395147539902615,
          6.397798621630451,
          6.397798621630451,
          6.4031007850861235,
          6.40575186681396,
          6.411054030269633,
          6.411054030269633,
          6.412379571133552,
          6.415030652861388,
          6.415030652861388,
          6.415030652861388,
          6.417681734589224,
          6.419007275453143,
          6.419007275453143,
          6.42033281631706,
          6.421658357180979,
          6.422983898044897,
          6.424309438908815,
          6.424309438908815,
          6.424309438908815,
          6.425634979772734,
          6.4296116023644885,
          6.432262684092325,
          6.432262684092325,
          6.433588224956243,
          6.434913765820161,
          6.434913765820161,
          6.434913765820161,
          6.4362393066840795,
          6.437564847547998,
          6.438890388411916,
          6.440215929275834,
          6.440215929275834,
          6.441541470139752,
          6.441541470139752,
          6.4428670110036705,
          6.4428670110036705,
          6.444192551867589,
          6.444192551867589,
          6.445518092731508,
          6.448169174459344,
          6.448169174459344,
          6.448169174459344,
          6.449494715323262,
          6.449494715323262,
          6.452145797051099,
          6.452145797051099,
          6.453471337915016,
          6.453471337915016,
          6.456122419642853,
          6.456122419642853,
          6.457447960506771,
          6.460099042234607,
          6.460099042234607,
          6.460099042234607,
          6.460099042234607,
          6.461424583098526,
          6.461424583098526,
          6.464075664826362,
          6.464075664826362,
          6.464075664826362,
          6.465401205690281,
          6.466726746554199,
          6.469377828282036,
          6.470703369145953,
          6.47335445087379,
          6.474679991737708,
          6.474679991737708,
          6.474679991737708,
          6.477331073465544,
          6.479982155193381,
          6.481307696057299,
          6.481307696057299,
          6.481307696057299,
          6.482633236921218,
          6.483958777785135,
          6.486609859512972,
          6.487935400376891,
          6.489260941240809,
          6.490586482104727,
          6.491912022968645,
          6.491912022968645,
          6.491912022968645,
          6.4958886455604,
          6.497214186424318,
          6.4998652681521545,
          6.502516349879991,
          6.502516349879991,
          6.503841890743909,
          6.505167431607827,
          6.505167431607827,
          6.507818513335664,
          6.509144054199583,
          6.509144054199583,
          6.5104695950635,
          6.5104695950635,
          6.511795135927419,
          6.5131206767913365,
          6.5131206767913365,
          6.5131206767913365,
          6.515771758519174,
          6.517097299383091,
          6.517097299383091,
          6.51842284024701,
          6.519748381110928,
          6.519748381110928,
          6.521073921974846,
          6.521073921974846,
          6.522399462838765,
          6.522399462838765,
          6.522399462838765,
          6.523725003702682,
          6.529027167158356,
          6.530352708022274,
          6.530352708022274,
          6.5330037897501105,
          6.535654871477947,
          6.536980412341865,
          6.536980412341865,
          6.536980412341865,
          6.536980412341865,
          6.538305953205783,
          6.539631494069702,
          6.540957034933619,
          6.540957034933619,
          6.542282575797538,
          6.543608116661456,
          6.543608116661456,
          6.544933657525375,
          6.546259198389293,
          6.546259198389293,
          6.547584739253211,
          6.550235820981047,
          6.551561361844966,
          6.552886902708884,
          6.552886902708884,
          6.554212443572802,
          6.554212443572802,
          6.55553798443672,
          6.556863525300638,
          6.558189066164557,
          6.558189066164557,
          6.559514607028475,
          6.560840147892393,
          6.5634912296202295,
          6.5634912296202295,
          6.564816770484148,
          6.567467852211984,
          6.568793393075903,
          6.5701189339398205,
          6.5701189339398205,
          6.571444474803739,
          6.571444474803739,
          6.572770015667658,
          6.572770015667658,
          6.572770015667658,
          6.5767466382594115,
          6.57807217912333,
          6.579397719987249,
          6.579397719987249,
          6.580723260851166,
          6.580723260851166,
          6.582048801715085,
          6.582048801715085,
          6.583374342579003,
          6.58602542430684,
          6.587350965170758,
          6.587350965170758,
          6.591327587762512,
          6.592653128626431,
          6.592653128626431,
          6.593978669490349,
          6.593978669490349,
          6.597955292082103,
          6.599280832946022,
          6.601931914673858,
          6.6032574555377765,
          6.604582996401694,
          6.605908537265613,
          6.605908537265613,
          6.607234078129531,
          6.609141274238214,
          6.609141274238214,
          6.609141274238214,
          6.609141274238214,
          6.609141274238214,
          6.609141274238214,
          6.609141274238214,
          6.609141274238214,
          6.609141274238214,
          6.609141274238214,
          6.609141274238214,
          6.609141274238214,
          6.609141274238214,
          6.609141274238214,
          6.609141274238214,
          6.609141274238214,
          6.609141274238214,
          6.609141274238214,
          6.609141274238214,
          6.609141274238214,
          6.609141274238214,
          6.609141274238214,
          6.609141274238214,
          6.609141274238214,
          6.609141274238214,
          6.609141274238214,
          6.609141274238214,
          6.609141274238214,
          6.609141274238214,
          6.609885159857368,
          6.609885159857368,
          6.612536241585204,
          6.613861782449122,
          6.621815027632632,
          6.624466109360468,
          6.625791650224386,
          6.627117191088304,
          6.629768272816142,
          6.629768272816142,
          6.631093813680059,
          6.631093813680059,
          6.632419354543978,
          6.6337448954078955,
          6.635070436271814,
          6.636395977135733,
          6.64567476318316,
          6.64567476318316,
          6.647000304047078,
          6.648325844910996,
          6.650976926638833,
          6.650976926638833,
          6.650976926638833,
          6.6536280083666695,
          6.6536280083666695,
          6.654953549230587,
          6.6602557126862605,
          6.661581253550178,
          6.664232335278015,
          6.664232335278015,
          6.66820895786977,
          6.669534498733688,
          6.670860039597606,
          6.670860039597606,
          6.670860039597606,
          6.672185580461525,
          6.6735111213254426,
          6.674836662189361,
          6.677487743917197,
          6.680138825645034,
          6.680138825645034,
          6.68278990737287,
          6.68278990737287,
          6.684115448236788,
          6.6933942342842165,
          6.694719775148134,
          6.6973708568759704,
          6.701347479467725,
          6.711951806379071,
          6.718579510698662,
          6.718579510698662,
          6.722556133290417,
          6.726532755882172,
          6.72785829674609,
          6.7305093784739265,
          6.7305093784739265,
          6.731834919337845,
          6.741113705385272,
          6.745090327977027,
          6.745090327977027,
          6.7503924914327005,
          6.7503924914327005,
          6.754369114024454,
          6.770275604391474,
          6.774252226983228,
          6.776903308711065,
          6.779554390438901,
          6.780879931302819,
          6.780879931302819,
          6.790158717350247,
          6.79546088080592,
          6.806065207717266,
          6.806065207717266,
          6.808716289445102,
          6.808716289445102,
          6.8272738615399575,
          6.831250484131712,
          6.837878188451303,
          6.837878188451303,
          6.852459137954404,
          6.864389005729668,
          6.867040087457505,
          6.868365628321422,
          6.868365628321422,
          6.874993332641013,
          6.87764441436885,
          6.882946577824523,
          6.8842721186884415,
          6.889574282144114,
          6.8908998230080325,
          6.8975275273276235,
          6.904155231647215,
          6.908131854238969,
          6.935968212381252,
          6.939944834973007,
          6.941270375836925,
          6.9677811931152895,
          6.994292010393655,
          7.004896337305,
          7.0181517459441825,
          7.026104991127692,
          7.0778010848205035,
          7.126846096785478,
          7.136124882832905,
          7.144078128016414,
          7.156007995791679,
          7.1917975991174705,
          7.210355171212326,
          7.250121397129873,
          7.293864245639174,
          7.299166409094847,
          7.317723981189703,
          7.41713954598357,
          7.435697118078425,
          7.447626985853689,
          7.463533476220707,
          7.519206192505274,
          7.5324616011444565,
          7.5762044496537575,
          7.597413103476449,
          7.765756793194065
         ],
         "yaxis": "y"
        }
       ],
       "layout": {
        "legend": {
         "tracegroupgap": 0
        },
        "margin": {
         "t": 60
        },
        "template": {
         "data": {
          "bar": [
           {
            "error_x": {
             "color": "#2a3f5f"
            },
            "error_y": {
             "color": "#2a3f5f"
            },
            "marker": {
             "line": {
              "color": "#E5ECF6",
              "width": 0.5
             },
             "pattern": {
              "fillmode": "overlay",
              "size": 10,
              "solidity": 0.2
             }
            },
            "type": "bar"
           }
          ],
          "barpolar": [
           {
            "marker": {
             "line": {
              "color": "#E5ECF6",
              "width": 0.5
             },
             "pattern": {
              "fillmode": "overlay",
              "size": 10,
              "solidity": 0.2
             }
            },
            "type": "barpolar"
           }
          ],
          "carpet": [
           {
            "aaxis": {
             "endlinecolor": "#2a3f5f",
             "gridcolor": "white",
             "linecolor": "white",
             "minorgridcolor": "white",
             "startlinecolor": "#2a3f5f"
            },
            "baxis": {
             "endlinecolor": "#2a3f5f",
             "gridcolor": "white",
             "linecolor": "white",
             "minorgridcolor": "white",
             "startlinecolor": "#2a3f5f"
            },
            "type": "carpet"
           }
          ],
          "choropleth": [
           {
            "colorbar": {
             "outlinewidth": 0,
             "ticks": ""
            },
            "type": "choropleth"
           }
          ],
          "contour": [
           {
            "colorbar": {
             "outlinewidth": 0,
             "ticks": ""
            },
            "colorscale": [
             [
              0,
              "#0d0887"
             ],
             [
              0.1111111111111111,
              "#46039f"
             ],
             [
              0.2222222222222222,
              "#7201a8"
             ],
             [
              0.3333333333333333,
              "#9c179e"
             ],
             [
              0.4444444444444444,
              "#bd3786"
             ],
             [
              0.5555555555555556,
              "#d8576b"
             ],
             [
              0.6666666666666666,
              "#ed7953"
             ],
             [
              0.7777777777777778,
              "#fb9f3a"
             ],
             [
              0.8888888888888888,
              "#fdca26"
             ],
             [
              1,
              "#f0f921"
             ]
            ],
            "type": "contour"
           }
          ],
          "contourcarpet": [
           {
            "colorbar": {
             "outlinewidth": 0,
             "ticks": ""
            },
            "type": "contourcarpet"
           }
          ],
          "heatmap": [
           {
            "colorbar": {
             "outlinewidth": 0,
             "ticks": ""
            },
            "colorscale": [
             [
              0,
              "#0d0887"
             ],
             [
              0.1111111111111111,
              "#46039f"
             ],
             [
              0.2222222222222222,
              "#7201a8"
             ],
             [
              0.3333333333333333,
              "#9c179e"
             ],
             [
              0.4444444444444444,
              "#bd3786"
             ],
             [
              0.5555555555555556,
              "#d8576b"
             ],
             [
              0.6666666666666666,
              "#ed7953"
             ],
             [
              0.7777777777777778,
              "#fb9f3a"
             ],
             [
              0.8888888888888888,
              "#fdca26"
             ],
             [
              1,
              "#f0f921"
             ]
            ],
            "type": "heatmap"
           }
          ],
          "heatmapgl": [
           {
            "colorbar": {
             "outlinewidth": 0,
             "ticks": ""
            },
            "colorscale": [
             [
              0,
              "#0d0887"
             ],
             [
              0.1111111111111111,
              "#46039f"
             ],
             [
              0.2222222222222222,
              "#7201a8"
             ],
             [
              0.3333333333333333,
              "#9c179e"
             ],
             [
              0.4444444444444444,
              "#bd3786"
             ],
             [
              0.5555555555555556,
              "#d8576b"
             ],
             [
              0.6666666666666666,
              "#ed7953"
             ],
             [
              0.7777777777777778,
              "#fb9f3a"
             ],
             [
              0.8888888888888888,
              "#fdca26"
             ],
             [
              1,
              "#f0f921"
             ]
            ],
            "type": "heatmapgl"
           }
          ],
          "histogram": [
           {
            "marker": {
             "pattern": {
              "fillmode": "overlay",
              "size": 10,
              "solidity": 0.2
             }
            },
            "type": "histogram"
           }
          ],
          "histogram2d": [
           {
            "colorbar": {
             "outlinewidth": 0,
             "ticks": ""
            },
            "colorscale": [
             [
              0,
              "#0d0887"
             ],
             [
              0.1111111111111111,
              "#46039f"
             ],
             [
              0.2222222222222222,
              "#7201a8"
             ],
             [
              0.3333333333333333,
              "#9c179e"
             ],
             [
              0.4444444444444444,
              "#bd3786"
             ],
             [
              0.5555555555555556,
              "#d8576b"
             ],
             [
              0.6666666666666666,
              "#ed7953"
             ],
             [
              0.7777777777777778,
              "#fb9f3a"
             ],
             [
              0.8888888888888888,
              "#fdca26"
             ],
             [
              1,
              "#f0f921"
             ]
            ],
            "type": "histogram2d"
           }
          ],
          "histogram2dcontour": [
           {
            "colorbar": {
             "outlinewidth": 0,
             "ticks": ""
            },
            "colorscale": [
             [
              0,
              "#0d0887"
             ],
             [
              0.1111111111111111,
              "#46039f"
             ],
             [
              0.2222222222222222,
              "#7201a8"
             ],
             [
              0.3333333333333333,
              "#9c179e"
             ],
             [
              0.4444444444444444,
              "#bd3786"
             ],
             [
              0.5555555555555556,
              "#d8576b"
             ],
             [
              0.6666666666666666,
              "#ed7953"
             ],
             [
              0.7777777777777778,
              "#fb9f3a"
             ],
             [
              0.8888888888888888,
              "#fdca26"
             ],
             [
              1,
              "#f0f921"
             ]
            ],
            "type": "histogram2dcontour"
           }
          ],
          "mesh3d": [
           {
            "colorbar": {
             "outlinewidth": 0,
             "ticks": ""
            },
            "type": "mesh3d"
           }
          ],
          "parcoords": [
           {
            "line": {
             "colorbar": {
              "outlinewidth": 0,
              "ticks": ""
             }
            },
            "type": "parcoords"
           }
          ],
          "pie": [
           {
            "automargin": true,
            "type": "pie"
           }
          ],
          "scatter": [
           {
            "fillpattern": {
             "fillmode": "overlay",
             "size": 10,
             "solidity": 0.2
            },
            "type": "scatter"
           }
          ],
          "scatter3d": [
           {
            "line": {
             "colorbar": {
              "outlinewidth": 0,
              "ticks": ""
             }
            },
            "marker": {
             "colorbar": {
              "outlinewidth": 0,
              "ticks": ""
             }
            },
            "type": "scatter3d"
           }
          ],
          "scattercarpet": [
           {
            "marker": {
             "colorbar": {
              "outlinewidth": 0,
              "ticks": ""
             }
            },
            "type": "scattercarpet"
           }
          ],
          "scattergeo": [
           {
            "marker": {
             "colorbar": {
              "outlinewidth": 0,
              "ticks": ""
             }
            },
            "type": "scattergeo"
           }
          ],
          "scattergl": [
           {
            "marker": {
             "colorbar": {
              "outlinewidth": 0,
              "ticks": ""
             }
            },
            "type": "scattergl"
           }
          ],
          "scattermapbox": [
           {
            "marker": {
             "colorbar": {
              "outlinewidth": 0,
              "ticks": ""
             }
            },
            "type": "scattermapbox"
           }
          ],
          "scatterpolar": [
           {
            "marker": {
             "colorbar": {
              "outlinewidth": 0,
              "ticks": ""
             }
            },
            "type": "scatterpolar"
           }
          ],
          "scatterpolargl": [
           {
            "marker": {
             "colorbar": {
              "outlinewidth": 0,
              "ticks": ""
             }
            },
            "type": "scatterpolargl"
           }
          ],
          "scatterternary": [
           {
            "marker": {
             "colorbar": {
              "outlinewidth": 0,
              "ticks": ""
             }
            },
            "type": "scatterternary"
           }
          ],
          "surface": [
           {
            "colorbar": {
             "outlinewidth": 0,
             "ticks": ""
            },
            "colorscale": [
             [
              0,
              "#0d0887"
             ],
             [
              0.1111111111111111,
              "#46039f"
             ],
             [
              0.2222222222222222,
              "#7201a8"
             ],
             [
              0.3333333333333333,
              "#9c179e"
             ],
             [
              0.4444444444444444,
              "#bd3786"
             ],
             [
              0.5555555555555556,
              "#d8576b"
             ],
             [
              0.6666666666666666,
              "#ed7953"
             ],
             [
              0.7777777777777778,
              "#fb9f3a"
             ],
             [
              0.8888888888888888,
              "#fdca26"
             ],
             [
              1,
              "#f0f921"
             ]
            ],
            "type": "surface"
           }
          ],
          "table": [
           {
            "cells": {
             "fill": {
              "color": "#EBF0F8"
             },
             "line": {
              "color": "white"
             }
            },
            "header": {
             "fill": {
              "color": "#C8D4E3"
             },
             "line": {
              "color": "white"
             }
            },
            "type": "table"
           }
          ]
         },
         "layout": {
          "annotationdefaults": {
           "arrowcolor": "#2a3f5f",
           "arrowhead": 0,
           "arrowwidth": 1
          },
          "autotypenumbers": "strict",
          "coloraxis": {
           "colorbar": {
            "outlinewidth": 0,
            "ticks": ""
           }
          },
          "colorscale": {
           "diverging": [
            [
             0,
             "#8e0152"
            ],
            [
             0.1,
             "#c51b7d"
            ],
            [
             0.2,
             "#de77ae"
            ],
            [
             0.3,
             "#f1b6da"
            ],
            [
             0.4,
             "#fde0ef"
            ],
            [
             0.5,
             "#f7f7f7"
            ],
            [
             0.6,
             "#e6f5d0"
            ],
            [
             0.7,
             "#b8e186"
            ],
            [
             0.8,
             "#7fbc41"
            ],
            [
             0.9,
             "#4d9221"
            ],
            [
             1,
             "#276419"
            ]
           ],
           "sequential": [
            [
             0,
             "#0d0887"
            ],
            [
             0.1111111111111111,
             "#46039f"
            ],
            [
             0.2222222222222222,
             "#7201a8"
            ],
            [
             0.3333333333333333,
             "#9c179e"
            ],
            [
             0.4444444444444444,
             "#bd3786"
            ],
            [
             0.5555555555555556,
             "#d8576b"
            ],
            [
             0.6666666666666666,
             "#ed7953"
            ],
            [
             0.7777777777777778,
             "#fb9f3a"
            ],
            [
             0.8888888888888888,
             "#fdca26"
            ],
            [
             1,
             "#f0f921"
            ]
           ],
           "sequentialminus": [
            [
             0,
             "#0d0887"
            ],
            [
             0.1111111111111111,
             "#46039f"
            ],
            [
             0.2222222222222222,
             "#7201a8"
            ],
            [
             0.3333333333333333,
             "#9c179e"
            ],
            [
             0.4444444444444444,
             "#bd3786"
            ],
            [
             0.5555555555555556,
             "#d8576b"
            ],
            [
             0.6666666666666666,
             "#ed7953"
            ],
            [
             0.7777777777777778,
             "#fb9f3a"
            ],
            [
             0.8888888888888888,
             "#fdca26"
            ],
            [
             1,
             "#f0f921"
            ]
           ]
          },
          "colorway": [
           "#636efa",
           "#EF553B",
           "#00cc96",
           "#ab63fa",
           "#FFA15A",
           "#19d3f3",
           "#FF6692",
           "#B6E880",
           "#FF97FF",
           "#FECB52"
          ],
          "font": {
           "color": "#2a3f5f"
          },
          "geo": {
           "bgcolor": "white",
           "lakecolor": "white",
           "landcolor": "#E5ECF6",
           "showlakes": true,
           "showland": true,
           "subunitcolor": "white"
          },
          "hoverlabel": {
           "align": "left"
          },
          "hovermode": "closest",
          "mapbox": {
           "style": "light"
          },
          "paper_bgcolor": "white",
          "plot_bgcolor": "#E5ECF6",
          "polar": {
           "angularaxis": {
            "gridcolor": "white",
            "linecolor": "white",
            "ticks": ""
           },
           "bgcolor": "#E5ECF6",
           "radialaxis": {
            "gridcolor": "white",
            "linecolor": "white",
            "ticks": ""
           }
          },
          "scene": {
           "xaxis": {
            "backgroundcolor": "#E5ECF6",
            "gridcolor": "white",
            "gridwidth": 2,
            "linecolor": "white",
            "showbackground": true,
            "ticks": "",
            "zerolinecolor": "white"
           },
           "yaxis": {
            "backgroundcolor": "#E5ECF6",
            "gridcolor": "white",
            "gridwidth": 2,
            "linecolor": "white",
            "showbackground": true,
            "ticks": "",
            "zerolinecolor": "white"
           },
           "zaxis": {
            "backgroundcolor": "#E5ECF6",
            "gridcolor": "white",
            "gridwidth": 2,
            "linecolor": "white",
            "showbackground": true,
            "ticks": "",
            "zerolinecolor": "white"
           }
          },
          "shapedefaults": {
           "line": {
            "color": "#2a3f5f"
           }
          },
          "ternary": {
           "aaxis": {
            "gridcolor": "white",
            "linecolor": "white",
            "ticks": ""
           },
           "baxis": {
            "gridcolor": "white",
            "linecolor": "white",
            "ticks": ""
           },
           "bgcolor": "#E5ECF6",
           "caxis": {
            "gridcolor": "white",
            "linecolor": "white",
            "ticks": ""
           }
          },
          "title": {
           "x": 0.05
          },
          "xaxis": {
           "automargin": true,
           "gridcolor": "white",
           "linecolor": "white",
           "ticks": "",
           "title": {
            "standoff": 15
           },
           "zerolinecolor": "white",
           "zerolinewidth": 2
          },
          "yaxis": {
           "automargin": true,
           "gridcolor": "white",
           "linecolor": "white",
           "ticks": "",
           "title": {
            "standoff": 15
           },
           "zerolinecolor": "white",
           "zerolinewidth": 2
          }
         }
        },
        "xaxis": {
         "anchor": "y",
         "domain": [
          0,
          1
         ],
         "title": {
          "text": "sat_score"
         }
        },
        "yaxis": {
         "anchor": "x",
         "domain": [
          0,
          1
         ],
         "title": {
          "text": "saf_s_11"
         }
        }
       }
      },
      "text/html": [
       "<div>                            <div id=\"58ba9086-ee0f-46b1-97c5-c0abdbaf30f1\" class=\"plotly-graph-div\" style=\"height:525px; width:100%;\"></div>            <script type=\"text/javascript\">                require([\"plotly\"], function(Plotly) {                    window.PLOTLYENV=window.PLOTLYENV || {};                                    if (document.getElementById(\"58ba9086-ee0f-46b1-97c5-c0abdbaf30f1\")) {                    Plotly.newPlot(                        \"58ba9086-ee0f-46b1-97c5-c0abdbaf30f1\",                        [{\"hovertemplate\":\"sat_score=%{x}<br>saf_s_11=%{y}<extra></extra>\",\"legendgroup\":\"\",\"marker\":{\"color\":\"#636efa\",\"symbol\":\"circle\"},\"mode\":\"markers\",\"name\":\"\",\"orientation\":\"v\",\"showlegend\":false,\"x\":[1122.0,1172.0,1149.0,1207.0,1621.0,1856.0,1182.0,1194.0,1156.0,1111.0,1293.0,1269.0,1051.0,1148.0,1200.0,1127.0,1176.0,1435.0,1223.4388059701494,1223.4388059701494,1223.4388059701494,1419.0,1522.0,1577.0,1677.0,1419.0,1758.0,1614.0,1170.0,1306.0,1233.0,1223.4388059701494,1223.4388059701494,1223.4388059701494,1372.0,1199.0,1227.0,2096.0,1374.0,1070.0,1416.0,1240.0,1239.0,1253.0,1058.0,1168.0,1424.0,1212.0,1195.0,1257.0,1255.0,1207.0,1315.0,1236.0,1132.0,1144.0,1223.4388059701494,1223.4388059701494,1109.0,1223.4388059701494,1744.0,1707.0,1196.0,1277.0,1446.0,1096.0,1084.0,1430.0,1128.0,1221.0,1326.0,1326.0,1054.0,1210.0,1223.4388059701494,1062.0,1077.0,1374.0,1202.0,1847.0,1270.0,1105.0,1174.0,1223.4388059701494,1127.0,1098.0,1102.0,1224.0,1309.0,1014.0,1090.0,945.0,1077.0,1097.0,1201.0,1257.0,1186.0,1103.0,1084.0,1181.0,1201.0,1158.0,1095.0,1223.4388059701494,1171.0,1158.0,1038.0,1164.0,1084.0,1223.4388059701494,1223.4388059701494,1241.0,1223.4388059701494,1099.0,1131.0,1049.0,1134.0,1290.0,1169.0,1092.0,1396.0,1075.0,1081.0,1148.0,1223.4388059701494,1138.0,951.0,965.0,1074.0,1083.0,1221.0,1224.0,1121.0,1166.0,1039.0,1333.0,1150.0,1190.0,1157.0,1158.0,962.0,1182.0,934.0,1181.0,1180.0,1106.0,1222.0,1077.0,1119.0,1082.0,1255.0,1270.0,1969.0,1263.0,1064.0,1115.0,1920.0,1133.0,1147.0,1135.0,1141.0,1111.0,1348.0,1135.0,1169.0,1268.0,1151.0,1048.0,1112.0,1288.0,1126.0,1163.0,1055.0,1122.0,1251.0,1102.0,1155.0,970.0,1223.4388059701494,1223.4388059701494,939.0,1029.0,1114.0,1038.0,1074.0,1080.0,1114.0,1211.0,1833.0,981.0,1206.0,1116.0,1223.4388059701494,1312.0,1189.0,1391.0,1353.0,1085.0,1223.4388059701494,1740.0,1189.0,1114.0,1204.0,1215.0,1090.0,1112.0,1187.0,1103.0,1093.0,1122.0,1035.0,1111.0,1179.0,1203.0,1169.0,1175.0,1212.0,1185.0,1258.0,1223.4388059701494,1068.0,1097.0,1092.0,1223.4388059701494,1139.0,1045.0,913.0,1176.0,1088.0,1153.0,1027.0,1105.0,1360.0,1273.0,1143.0,1151.0,1436.0,1251.0,963.0,1145.0,1118.0,1092.0,1143.0,1080.0,1183.0,1169.0,1159.0,1111.0,1135.0,1242.0,1023.0,1054.0,1149.0,1106.0,887.0,1193.0,1096.0,1108.0,1129.0,1102.0,1157.0,1272.0,1323.0,1306.0,1244.0,1223.4388059701494,1026.0,1237.0,1164.0,1226.0,1223.4388059701494,1431.0,1262.0,1124.0,1079.0,1184.0,1313.0,1473.0,1350.0,1627.0,1352.0,1185.0,1091.0,1196.0,1280.0,1219.0,1240.0,951.0,1663.0,1203.0,1211.0,1177.0,1064.0,1174.0,1330.0,1270.0,1364.0,1396.0,1049.0,1271.0,1441.0,1243.0,1216.0,1910.0,1330.0,1514.0,1474.0,1172.0,1449.0,1279.0,1145.0,1252.0,1156.0,1265.0,1094.0,1532.0,1108.0,1154.0,1192.0,1345.0,1223.4388059701494,1265.0,1223.4388059701494,1407.0,1194.0,1372.0,1538.0,1223.4388059701494,1868.0,1196.0,1316.0,1099.0,1173.0,1202.0,1287.0,1100.0,1223.4388059701494,1220.0,1151.0,1223.4388059701494,1255.0,1275.0,1218.0,1494.0,1239.0,1127.0,1470.0,1636.0,1353.0,1195.0,1426.0,1277.0,1279.0,1301.0,1418.0,1388.0,1235.0,1953.0,1098.0,1154.0,1035.0,1060.0,1315.0,1055.0],\"xaxis\":\"x\",\"y\":[6.0,6.0,6.609141274238226,6.4,7.3,8.3,7.3,6.2,7.4,7.1,6.6,6.5,7.0,6.0,6.6,6.8,6.1,7.8,6.9,6.2,6.6,7.1,7.1,7.8,7.5,7.1,8.1,7.5,6.7,6.5,6.1,7.7,7.0,7.5,7.6,7.0,7.8,7.5,6.6,7.9,7.0,5.7,7.1,5.9,7.2,7.0,6.609141274238226,6.8,6.6,6.5,7.0,6.5,6.7,5.9,6.5,6.9,6.3,7.0,6.0,7.3,7.8,7.1,6.2,6.4,7.3,5.8,6.6,6.6,7.0,6.6,7.5,7.5,6.4,6.2,6.9,5.7,5.2,5.7,6.7,7.8,7.8,6.4,7.5,7.6,7.1,6.4,6.5,6.4,6.1,7.7,7.1,7.3,7.2,6.9,7.2,6.8,6.0,6.7,7.7,7.2,6.3,5.7,6.3,6.609141274238226,6.3,6.9,6.3,6.4,6.8,5.7,5.6,5.5,6.9,5.7,7.0,6.5,5.8,6.8,7.3,6.6,7.1,7.6,7.1,6.4,6.7,6.0,7.5,7.0,6.9,6.1,6.0,6.5,6.5,6.1,6.6,5.9,6.5,7.7,5.9,6.6,6.9,6.1,7.4,6.5,7.2,5.9,6.0,7.0,5.8,6.0,5.2,6.5,6.8,7.1,7.4,6.2,8.1,6.3,5.5,6.4,5.2,6.3,7.2,5.9,5.9,6.3,6.0,7.1,6.0,6.4,6.7,5.6,6.8,6.9,8.5,6.8,8.6,6.8,7.5,6.5,7.8,6.6,5.9,6.7,6.1,6.5,6.1,6.0,7.0,7.9,6.8,6.0,5.8,6.6,5.5,6.6,6.4,6.1,6.9,7.5,6.8,6.4,5.4,6.0,6.4,7.8,7.2,6.9,5.3,7.1,7.8,6.1,6.7,5.5,5.8,6.2,6.7,5.6,6.6,6.4,6.1,6.1,6.4,4.9,5.5,5.5,7.4,6.1,6.8,5.6,5.5,5.5,6.6,6.4,5.7,5.9,5.7,5.9,6.1,6.0,5.8,6.3,6.6,6.2,6.6,6.0,6.3,6.1,6.1,6.7,5.4,6.4,6.5,5.3,7.1,5.3,6.4,5.6,6.6,5.8,6.7,7.0,7.0,7.1,6.8,7.7,7.6,6.3,6.0,6.0,6.4,7.0,6.4,6.2,6.4,5.5,6.5,6.5,6.5,7.6,7.5,6.1,6.2,6.4,7.3,6.8,7.3,7.3,7.9,6.4,6.4,7.3,8.0,7.0,7.2,6.6,6.9,7.0,7.4,6.7,6.9,6.8,5.6,7.8,7.1,6.5,8.8,5.0,7.1,6.4,6.0,7.1,6.3,6.6,6.2,7.9,5.0,6.0,6.2,6.6,6.6,6.9,6.4,6.7,7.0,6.7,6.9,6.2,7.2,6.1,6.2,6.1,5.3,5.7,5.9,7.0,7.1,6.0,5.5,8.1,7.3,6.6,5.6,7.0,6.5,7.4,6.8,8.0,6.9,6.4,6.7,6.1,5.2,6.0,7.1,6.7,6.0,8.2,5.8,6.4,6.5,6.4,8.9,6.6],\"yaxis\":\"y\",\"type\":\"scatter\"},{\"hovertemplate\":\"<b>OLS trendline</b><br>saf_s_11 = 0.00132554 * sat_score + 4.98742<br>R<sup>2</sup>=0.113465<br><br>sat_score=%{x}<br>saf_s_11=%{y} <b>(trend)</b><extra></extra>\",\"legendgroup\":\"\",\"marker\":{\"color\":\"#636efa\",\"symbol\":\"circle\"},\"mode\":\"lines\",\"name\":\"\",\"showlegend\":false,\"x\":[887.0,913.0,934.0,939.0,945.0,951.0,951.0,962.0,963.0,965.0,970.0,981.0,1014.0,1023.0,1026.0,1027.0,1029.0,1035.0,1035.0,1038.0,1038.0,1039.0,1045.0,1048.0,1049.0,1049.0,1051.0,1054.0,1054.0,1055.0,1055.0,1058.0,1060.0,1062.0,1064.0,1064.0,1068.0,1070.0,1074.0,1074.0,1075.0,1077.0,1077.0,1077.0,1079.0,1080.0,1080.0,1081.0,1082.0,1083.0,1084.0,1084.0,1084.0,1085.0,1088.0,1090.0,1090.0,1091.0,1092.0,1092.0,1092.0,1093.0,1094.0,1095.0,1096.0,1096.0,1097.0,1097.0,1098.0,1098.0,1099.0,1099.0,1100.0,1102.0,1102.0,1102.0,1103.0,1103.0,1105.0,1105.0,1106.0,1106.0,1108.0,1108.0,1109.0,1111.0,1111.0,1111.0,1111.0,1112.0,1112.0,1114.0,1114.0,1114.0,1115.0,1116.0,1118.0,1119.0,1121.0,1122.0,1122.0,1122.0,1124.0,1126.0,1127.0,1127.0,1127.0,1128.0,1129.0,1131.0,1132.0,1133.0,1134.0,1135.0,1135.0,1135.0,1138.0,1139.0,1141.0,1143.0,1143.0,1144.0,1145.0,1145.0,1147.0,1148.0,1148.0,1149.0,1149.0,1150.0,1151.0,1151.0,1151.0,1153.0,1154.0,1154.0,1155.0,1156.0,1156.0,1157.0,1157.0,1158.0,1158.0,1158.0,1159.0,1163.0,1164.0,1164.0,1166.0,1168.0,1169.0,1169.0,1169.0,1169.0,1170.0,1171.0,1172.0,1172.0,1173.0,1174.0,1174.0,1175.0,1176.0,1176.0,1177.0,1179.0,1180.0,1181.0,1181.0,1182.0,1182.0,1183.0,1184.0,1185.0,1185.0,1186.0,1187.0,1189.0,1189.0,1190.0,1192.0,1193.0,1194.0,1194.0,1195.0,1195.0,1196.0,1196.0,1196.0,1199.0,1200.0,1201.0,1201.0,1202.0,1202.0,1203.0,1203.0,1204.0,1206.0,1207.0,1207.0,1210.0,1211.0,1211.0,1212.0,1212.0,1215.0,1216.0,1218.0,1219.0,1220.0,1221.0,1221.0,1222.0,1223.4388059701494,1223.4388059701494,1223.4388059701494,1223.4388059701494,1223.4388059701494,1223.4388059701494,1223.4388059701494,1223.4388059701494,1223.4388059701494,1223.4388059701494,1223.4388059701494,1223.4388059701494,1223.4388059701494,1223.4388059701494,1223.4388059701494,1223.4388059701494,1223.4388059701494,1223.4388059701494,1223.4388059701494,1223.4388059701494,1223.4388059701494,1223.4388059701494,1223.4388059701494,1223.4388059701494,1223.4388059701494,1223.4388059701494,1223.4388059701494,1223.4388059701494,1223.4388059701494,1224.0,1224.0,1226.0,1227.0,1233.0,1235.0,1236.0,1237.0,1239.0,1239.0,1240.0,1240.0,1241.0,1242.0,1243.0,1244.0,1251.0,1251.0,1252.0,1253.0,1255.0,1255.0,1255.0,1257.0,1257.0,1258.0,1262.0,1263.0,1265.0,1265.0,1268.0,1269.0,1270.0,1270.0,1270.0,1271.0,1272.0,1273.0,1275.0,1277.0,1277.0,1279.0,1279.0,1280.0,1287.0,1288.0,1290.0,1293.0,1301.0,1306.0,1306.0,1309.0,1312.0,1313.0,1315.0,1315.0,1316.0,1323.0,1326.0,1326.0,1330.0,1330.0,1333.0,1345.0,1348.0,1350.0,1352.0,1353.0,1353.0,1360.0,1364.0,1372.0,1372.0,1374.0,1374.0,1388.0,1391.0,1396.0,1396.0,1407.0,1416.0,1418.0,1419.0,1419.0,1424.0,1426.0,1430.0,1431.0,1435.0,1436.0,1441.0,1446.0,1449.0,1470.0,1473.0,1474.0,1494.0,1514.0,1522.0,1532.0,1538.0,1577.0,1614.0,1621.0,1627.0,1636.0,1663.0,1677.0,1707.0,1740.0,1744.0,1758.0,1833.0,1847.0,1856.0,1868.0,1910.0,1920.0,1953.0,1969.0,2096.0],\"xaxis\":\"x\",\"y\":[6.163177888716924,6.197641951178798,6.225478309321081,6.2321060136406725,6.240059258824181,6.248012504007691,6.248012504007691,6.262593453510791,6.263918994374709,6.266570076102546,6.273197780422137,6.287778729925238,6.33152157843454,6.343451446209803,6.347428068801558,6.348753609665477,6.351404691393313,6.3593579365768225,6.3593579365768225,6.363334559168576,6.363334559168576,6.364660100032495,6.3726133452160045,6.376589967807759,6.377915508671677,6.377915508671677,6.380566590399514,6.384543212991268,6.384543212991268,6.385868753855187,6.385868753855187,6.389845376446941,6.392496458174778,6.395147539902615,6.397798621630451,6.397798621630451,6.4031007850861235,6.40575186681396,6.411054030269633,6.411054030269633,6.412379571133552,6.415030652861388,6.415030652861388,6.415030652861388,6.417681734589224,6.419007275453143,6.419007275453143,6.42033281631706,6.421658357180979,6.422983898044897,6.424309438908815,6.424309438908815,6.424309438908815,6.425634979772734,6.4296116023644885,6.432262684092325,6.432262684092325,6.433588224956243,6.434913765820161,6.434913765820161,6.434913765820161,6.4362393066840795,6.437564847547998,6.438890388411916,6.440215929275834,6.440215929275834,6.441541470139752,6.441541470139752,6.4428670110036705,6.4428670110036705,6.444192551867589,6.444192551867589,6.445518092731508,6.448169174459344,6.448169174459344,6.448169174459344,6.449494715323262,6.449494715323262,6.452145797051099,6.452145797051099,6.453471337915016,6.453471337915016,6.456122419642853,6.456122419642853,6.457447960506771,6.460099042234607,6.460099042234607,6.460099042234607,6.460099042234607,6.461424583098526,6.461424583098526,6.464075664826362,6.464075664826362,6.464075664826362,6.465401205690281,6.466726746554199,6.469377828282036,6.470703369145953,6.47335445087379,6.474679991737708,6.474679991737708,6.474679991737708,6.477331073465544,6.479982155193381,6.481307696057299,6.481307696057299,6.481307696057299,6.482633236921218,6.483958777785135,6.486609859512972,6.487935400376891,6.489260941240809,6.490586482104727,6.491912022968645,6.491912022968645,6.491912022968645,6.4958886455604,6.497214186424318,6.4998652681521545,6.502516349879991,6.502516349879991,6.503841890743909,6.505167431607827,6.505167431607827,6.507818513335664,6.509144054199583,6.509144054199583,6.5104695950635,6.5104695950635,6.511795135927419,6.5131206767913365,6.5131206767913365,6.5131206767913365,6.515771758519174,6.517097299383091,6.517097299383091,6.51842284024701,6.519748381110928,6.519748381110928,6.521073921974846,6.521073921974846,6.522399462838765,6.522399462838765,6.522399462838765,6.523725003702682,6.529027167158356,6.530352708022274,6.530352708022274,6.5330037897501105,6.535654871477947,6.536980412341865,6.536980412341865,6.536980412341865,6.536980412341865,6.538305953205783,6.539631494069702,6.540957034933619,6.540957034933619,6.542282575797538,6.543608116661456,6.543608116661456,6.544933657525375,6.546259198389293,6.546259198389293,6.547584739253211,6.550235820981047,6.551561361844966,6.552886902708884,6.552886902708884,6.554212443572802,6.554212443572802,6.55553798443672,6.556863525300638,6.558189066164557,6.558189066164557,6.559514607028475,6.560840147892393,6.5634912296202295,6.5634912296202295,6.564816770484148,6.567467852211984,6.568793393075903,6.5701189339398205,6.5701189339398205,6.571444474803739,6.571444474803739,6.572770015667658,6.572770015667658,6.572770015667658,6.5767466382594115,6.57807217912333,6.579397719987249,6.579397719987249,6.580723260851166,6.580723260851166,6.582048801715085,6.582048801715085,6.583374342579003,6.58602542430684,6.587350965170758,6.587350965170758,6.591327587762512,6.592653128626431,6.592653128626431,6.593978669490349,6.593978669490349,6.597955292082103,6.599280832946022,6.601931914673858,6.6032574555377765,6.604582996401694,6.605908537265613,6.605908537265613,6.607234078129531,6.609141274238214,6.609141274238214,6.609141274238214,6.609141274238214,6.609141274238214,6.609141274238214,6.609141274238214,6.609141274238214,6.609141274238214,6.609141274238214,6.609141274238214,6.609141274238214,6.609141274238214,6.609141274238214,6.609141274238214,6.609141274238214,6.609141274238214,6.609141274238214,6.609141274238214,6.609141274238214,6.609141274238214,6.609141274238214,6.609141274238214,6.609141274238214,6.609141274238214,6.609141274238214,6.609141274238214,6.609141274238214,6.609141274238214,6.609885159857368,6.609885159857368,6.612536241585204,6.613861782449122,6.621815027632632,6.624466109360468,6.625791650224386,6.627117191088304,6.629768272816142,6.629768272816142,6.631093813680059,6.631093813680059,6.632419354543978,6.6337448954078955,6.635070436271814,6.636395977135733,6.64567476318316,6.64567476318316,6.647000304047078,6.648325844910996,6.650976926638833,6.650976926638833,6.650976926638833,6.6536280083666695,6.6536280083666695,6.654953549230587,6.6602557126862605,6.661581253550178,6.664232335278015,6.664232335278015,6.66820895786977,6.669534498733688,6.670860039597606,6.670860039597606,6.670860039597606,6.672185580461525,6.6735111213254426,6.674836662189361,6.677487743917197,6.680138825645034,6.680138825645034,6.68278990737287,6.68278990737287,6.684115448236788,6.6933942342842165,6.694719775148134,6.6973708568759704,6.701347479467725,6.711951806379071,6.718579510698662,6.718579510698662,6.722556133290417,6.726532755882172,6.72785829674609,6.7305093784739265,6.7305093784739265,6.731834919337845,6.741113705385272,6.745090327977027,6.745090327977027,6.7503924914327005,6.7503924914327005,6.754369114024454,6.770275604391474,6.774252226983228,6.776903308711065,6.779554390438901,6.780879931302819,6.780879931302819,6.790158717350247,6.79546088080592,6.806065207717266,6.806065207717266,6.808716289445102,6.808716289445102,6.8272738615399575,6.831250484131712,6.837878188451303,6.837878188451303,6.852459137954404,6.864389005729668,6.867040087457505,6.868365628321422,6.868365628321422,6.874993332641013,6.87764441436885,6.882946577824523,6.8842721186884415,6.889574282144114,6.8908998230080325,6.8975275273276235,6.904155231647215,6.908131854238969,6.935968212381252,6.939944834973007,6.941270375836925,6.9677811931152895,6.994292010393655,7.004896337305,7.0181517459441825,7.026104991127692,7.0778010848205035,7.126846096785478,7.136124882832905,7.144078128016414,7.156007995791679,7.1917975991174705,7.210355171212326,7.250121397129873,7.293864245639174,7.299166409094847,7.317723981189703,7.41713954598357,7.435697118078425,7.447626985853689,7.463533476220707,7.519206192505274,7.5324616011444565,7.5762044496537575,7.597413103476449,7.765756793194065],\"yaxis\":\"y\",\"type\":\"scatter\"}],                        {\"template\":{\"data\":{\"histogram2dcontour\":[{\"type\":\"histogram2dcontour\",\"colorbar\":{\"outlinewidth\":0,\"ticks\":\"\"},\"colorscale\":[[0.0,\"#0d0887\"],[0.1111111111111111,\"#46039f\"],[0.2222222222222222,\"#7201a8\"],[0.3333333333333333,\"#9c179e\"],[0.4444444444444444,\"#bd3786\"],[0.5555555555555556,\"#d8576b\"],[0.6666666666666666,\"#ed7953\"],[0.7777777777777778,\"#fb9f3a\"],[0.8888888888888888,\"#fdca26\"],[1.0,\"#f0f921\"]]}],\"choropleth\":[{\"type\":\"choropleth\",\"colorbar\":{\"outlinewidth\":0,\"ticks\":\"\"}}],\"histogram2d\":[{\"type\":\"histogram2d\",\"colorbar\":{\"outlinewidth\":0,\"ticks\":\"\"},\"colorscale\":[[0.0,\"#0d0887\"],[0.1111111111111111,\"#46039f\"],[0.2222222222222222,\"#7201a8\"],[0.3333333333333333,\"#9c179e\"],[0.4444444444444444,\"#bd3786\"],[0.5555555555555556,\"#d8576b\"],[0.6666666666666666,\"#ed7953\"],[0.7777777777777778,\"#fb9f3a\"],[0.8888888888888888,\"#fdca26\"],[1.0,\"#f0f921\"]]}],\"heatmap\":[{\"type\":\"heatmap\",\"colorbar\":{\"outlinewidth\":0,\"ticks\":\"\"},\"colorscale\":[[0.0,\"#0d0887\"],[0.1111111111111111,\"#46039f\"],[0.2222222222222222,\"#7201a8\"],[0.3333333333333333,\"#9c179e\"],[0.4444444444444444,\"#bd3786\"],[0.5555555555555556,\"#d8576b\"],[0.6666666666666666,\"#ed7953\"],[0.7777777777777778,\"#fb9f3a\"],[0.8888888888888888,\"#fdca26\"],[1.0,\"#f0f921\"]]}],\"heatmapgl\":[{\"type\":\"heatmapgl\",\"colorbar\":{\"outlinewidth\":0,\"ticks\":\"\"},\"colorscale\":[[0.0,\"#0d0887\"],[0.1111111111111111,\"#46039f\"],[0.2222222222222222,\"#7201a8\"],[0.3333333333333333,\"#9c179e\"],[0.4444444444444444,\"#bd3786\"],[0.5555555555555556,\"#d8576b\"],[0.6666666666666666,\"#ed7953\"],[0.7777777777777778,\"#fb9f3a\"],[0.8888888888888888,\"#fdca26\"],[1.0,\"#f0f921\"]]}],\"contourcarpet\":[{\"type\":\"contourcarpet\",\"colorbar\":{\"outlinewidth\":0,\"ticks\":\"\"}}],\"contour\":[{\"type\":\"contour\",\"colorbar\":{\"outlinewidth\":0,\"ticks\":\"\"},\"colorscale\":[[0.0,\"#0d0887\"],[0.1111111111111111,\"#46039f\"],[0.2222222222222222,\"#7201a8\"],[0.3333333333333333,\"#9c179e\"],[0.4444444444444444,\"#bd3786\"],[0.5555555555555556,\"#d8576b\"],[0.6666666666666666,\"#ed7953\"],[0.7777777777777778,\"#fb9f3a\"],[0.8888888888888888,\"#fdca26\"],[1.0,\"#f0f921\"]]}],\"surface\":[{\"type\":\"surface\",\"colorbar\":{\"outlinewidth\":0,\"ticks\":\"\"},\"colorscale\":[[0.0,\"#0d0887\"],[0.1111111111111111,\"#46039f\"],[0.2222222222222222,\"#7201a8\"],[0.3333333333333333,\"#9c179e\"],[0.4444444444444444,\"#bd3786\"],[0.5555555555555556,\"#d8576b\"],[0.6666666666666666,\"#ed7953\"],[0.7777777777777778,\"#fb9f3a\"],[0.8888888888888888,\"#fdca26\"],[1.0,\"#f0f921\"]]}],\"mesh3d\":[{\"type\":\"mesh3d\",\"colorbar\":{\"outlinewidth\":0,\"ticks\":\"\"}}],\"scatter\":[{\"fillpattern\":{\"fillmode\":\"overlay\",\"size\":10,\"solidity\":0.2},\"type\":\"scatter\"}],\"parcoords\":[{\"type\":\"parcoords\",\"line\":{\"colorbar\":{\"outlinewidth\":0,\"ticks\":\"\"}}}],\"scatterpolargl\":[{\"type\":\"scatterpolargl\",\"marker\":{\"colorbar\":{\"outlinewidth\":0,\"ticks\":\"\"}}}],\"bar\":[{\"error_x\":{\"color\":\"#2a3f5f\"},\"error_y\":{\"color\":\"#2a3f5f\"},\"marker\":{\"line\":{\"color\":\"#E5ECF6\",\"width\":0.5},\"pattern\":{\"fillmode\":\"overlay\",\"size\":10,\"solidity\":0.2}},\"type\":\"bar\"}],\"scattergeo\":[{\"type\":\"scattergeo\",\"marker\":{\"colorbar\":{\"outlinewidth\":0,\"ticks\":\"\"}}}],\"scatterpolar\":[{\"type\":\"scatterpolar\",\"marker\":{\"colorbar\":{\"outlinewidth\":0,\"ticks\":\"\"}}}],\"histogram\":[{\"marker\":{\"pattern\":{\"fillmode\":\"overlay\",\"size\":10,\"solidity\":0.2}},\"type\":\"histogram\"}],\"scattergl\":[{\"type\":\"scattergl\",\"marker\":{\"colorbar\":{\"outlinewidth\":0,\"ticks\":\"\"}}}],\"scatter3d\":[{\"type\":\"scatter3d\",\"line\":{\"colorbar\":{\"outlinewidth\":0,\"ticks\":\"\"}},\"marker\":{\"colorbar\":{\"outlinewidth\":0,\"ticks\":\"\"}}}],\"scattermapbox\":[{\"type\":\"scattermapbox\",\"marker\":{\"colorbar\":{\"outlinewidth\":0,\"ticks\":\"\"}}}],\"scatterternary\":[{\"type\":\"scatterternary\",\"marker\":{\"colorbar\":{\"outlinewidth\":0,\"ticks\":\"\"}}}],\"scattercarpet\":[{\"type\":\"scattercarpet\",\"marker\":{\"colorbar\":{\"outlinewidth\":0,\"ticks\":\"\"}}}],\"carpet\":[{\"aaxis\":{\"endlinecolor\":\"#2a3f5f\",\"gridcolor\":\"white\",\"linecolor\":\"white\",\"minorgridcolor\":\"white\",\"startlinecolor\":\"#2a3f5f\"},\"baxis\":{\"endlinecolor\":\"#2a3f5f\",\"gridcolor\":\"white\",\"linecolor\":\"white\",\"minorgridcolor\":\"white\",\"startlinecolor\":\"#2a3f5f\"},\"type\":\"carpet\"}],\"table\":[{\"cells\":{\"fill\":{\"color\":\"#EBF0F8\"},\"line\":{\"color\":\"white\"}},\"header\":{\"fill\":{\"color\":\"#C8D4E3\"},\"line\":{\"color\":\"white\"}},\"type\":\"table\"}],\"barpolar\":[{\"marker\":{\"line\":{\"color\":\"#E5ECF6\",\"width\":0.5},\"pattern\":{\"fillmode\":\"overlay\",\"size\":10,\"solidity\":0.2}},\"type\":\"barpolar\"}],\"pie\":[{\"automargin\":true,\"type\":\"pie\"}]},\"layout\":{\"autotypenumbers\":\"strict\",\"colorway\":[\"#636efa\",\"#EF553B\",\"#00cc96\",\"#ab63fa\",\"#FFA15A\",\"#19d3f3\",\"#FF6692\",\"#B6E880\",\"#FF97FF\",\"#FECB52\"],\"font\":{\"color\":\"#2a3f5f\"},\"hovermode\":\"closest\",\"hoverlabel\":{\"align\":\"left\"},\"paper_bgcolor\":\"white\",\"plot_bgcolor\":\"#E5ECF6\",\"polar\":{\"bgcolor\":\"#E5ECF6\",\"angularaxis\":{\"gridcolor\":\"white\",\"linecolor\":\"white\",\"ticks\":\"\"},\"radialaxis\":{\"gridcolor\":\"white\",\"linecolor\":\"white\",\"ticks\":\"\"}},\"ternary\":{\"bgcolor\":\"#E5ECF6\",\"aaxis\":{\"gridcolor\":\"white\",\"linecolor\":\"white\",\"ticks\":\"\"},\"baxis\":{\"gridcolor\":\"white\",\"linecolor\":\"white\",\"ticks\":\"\"},\"caxis\":{\"gridcolor\":\"white\",\"linecolor\":\"white\",\"ticks\":\"\"}},\"coloraxis\":{\"colorbar\":{\"outlinewidth\":0,\"ticks\":\"\"}},\"colorscale\":{\"sequential\":[[0.0,\"#0d0887\"],[0.1111111111111111,\"#46039f\"],[0.2222222222222222,\"#7201a8\"],[0.3333333333333333,\"#9c179e\"],[0.4444444444444444,\"#bd3786\"],[0.5555555555555556,\"#d8576b\"],[0.6666666666666666,\"#ed7953\"],[0.7777777777777778,\"#fb9f3a\"],[0.8888888888888888,\"#fdca26\"],[1.0,\"#f0f921\"]],\"sequentialminus\":[[0.0,\"#0d0887\"],[0.1111111111111111,\"#46039f\"],[0.2222222222222222,\"#7201a8\"],[0.3333333333333333,\"#9c179e\"],[0.4444444444444444,\"#bd3786\"],[0.5555555555555556,\"#d8576b\"],[0.6666666666666666,\"#ed7953\"],[0.7777777777777778,\"#fb9f3a\"],[0.8888888888888888,\"#fdca26\"],[1.0,\"#f0f921\"]],\"diverging\":[[0,\"#8e0152\"],[0.1,\"#c51b7d\"],[0.2,\"#de77ae\"],[0.3,\"#f1b6da\"],[0.4,\"#fde0ef\"],[0.5,\"#f7f7f7\"],[0.6,\"#e6f5d0\"],[0.7,\"#b8e186\"],[0.8,\"#7fbc41\"],[0.9,\"#4d9221\"],[1,\"#276419\"]]},\"xaxis\":{\"gridcolor\":\"white\",\"linecolor\":\"white\",\"ticks\":\"\",\"title\":{\"standoff\":15},\"zerolinecolor\":\"white\",\"automargin\":true,\"zerolinewidth\":2},\"yaxis\":{\"gridcolor\":\"white\",\"linecolor\":\"white\",\"ticks\":\"\",\"title\":{\"standoff\":15},\"zerolinecolor\":\"white\",\"automargin\":true,\"zerolinewidth\":2},\"scene\":{\"xaxis\":{\"backgroundcolor\":\"#E5ECF6\",\"gridcolor\":\"white\",\"linecolor\":\"white\",\"showbackground\":true,\"ticks\":\"\",\"zerolinecolor\":\"white\",\"gridwidth\":2},\"yaxis\":{\"backgroundcolor\":\"#E5ECF6\",\"gridcolor\":\"white\",\"linecolor\":\"white\",\"showbackground\":true,\"ticks\":\"\",\"zerolinecolor\":\"white\",\"gridwidth\":2},\"zaxis\":{\"backgroundcolor\":\"#E5ECF6\",\"gridcolor\":\"white\",\"linecolor\":\"white\",\"showbackground\":true,\"ticks\":\"\",\"zerolinecolor\":\"white\",\"gridwidth\":2}},\"shapedefaults\":{\"line\":{\"color\":\"#2a3f5f\"}},\"annotationdefaults\":{\"arrowcolor\":\"#2a3f5f\",\"arrowhead\":0,\"arrowwidth\":1},\"geo\":{\"bgcolor\":\"white\",\"landcolor\":\"#E5ECF6\",\"subunitcolor\":\"white\",\"showland\":true,\"showlakes\":true,\"lakecolor\":\"white\"},\"title\":{\"x\":0.05},\"mapbox\":{\"style\":\"light\"}}},\"xaxis\":{\"anchor\":\"y\",\"domain\":[0.0,1.0],\"title\":{\"text\":\"sat_score\"}},\"yaxis\":{\"anchor\":\"x\",\"domain\":[0.0,1.0],\"title\":{\"text\":\"saf_s_11\"}},\"legend\":{\"tracegroupgap\":0},\"margin\":{\"t\":60}},                        {\"responsive\": true}                    ).then(function(){\n",
       "                            \n",
       "var gd = document.getElementById('58ba9086-ee0f-46b1-97c5-c0abdbaf30f1');\n",
       "var x = new MutationObserver(function (mutations, observer) {{\n",
       "        var display = window.getComputedStyle(gd).display;\n",
       "        if (!display || display === 'none') {{\n",
       "            console.log([gd, 'removed!']);\n",
       "            Plotly.purge(gd);\n",
       "            observer.disconnect();\n",
       "        }}\n",
       "}});\n",
       "\n",
       "// Listen for the removal of the full notebook cells\n",
       "var notebookContainer = gd.closest('#notebook-container');\n",
       "if (notebookContainer) {{\n",
       "    x.observe(notebookContainer, {childList: true});\n",
       "}}\n",
       "\n",
       "// Listen for the clearing of the current output cell\n",
       "var outputEl = gd.closest('.output');\n",
       "if (outputEl) {{\n",
       "    x.observe(outputEl, {childList: true});\n",
       "}}\n",
       "\n",
       "                        })                };                });            </script>        </div>"
      ]
     },
     "metadata": {},
     "output_type": "display_data"
    }
   ],
   "source": [
    "px.scatter(combined, y='saf_s_11', x='sat_score', trendline='ols')"
   ]
  },
  {
   "cell_type": "markdown",
   "id": "cbc36206",
   "metadata": {},
   "source": [
    "*Looking at the distribution, we can say that\n",
    "students who rated their safety score from 6.5 and higher got a higher sat_score (1400 and higher).*"
   ]
  },
  {
   "cell_type": "markdown",
   "id": "91f28fdc",
   "metadata": {},
   "source": [
    "### <center> Let's compute safety scores."
   ]
  },
  {
   "cell_type": "code",
   "execution_count": 87,
   "id": "db663dce",
   "metadata": {
    "scrolled": true
   },
   "outputs": [
    {
     "data": {
      "text/html": [
       "<div>\n",
       "<style scoped>\n",
       "    .dataframe tbody tr th:only-of-type {\n",
       "        vertical-align: middle;\n",
       "    }\n",
       "\n",
       "    .dataframe tbody tr th {\n",
       "        vertical-align: top;\n",
       "    }\n",
       "\n",
       "    .dataframe thead th {\n",
       "        text-align: right;\n",
       "    }\n",
       "</style>\n",
       "<table border=\"1\" class=\"dataframe\">\n",
       "  <thead>\n",
       "    <tr style=\"text-align: right;\">\n",
       "      <th></th>\n",
       "      <th>borough</th>\n",
       "      <th>saf_tot_11</th>\n",
       "    </tr>\n",
       "  </thead>\n",
       "  <tbody>\n",
       "    <tr>\n",
       "      <th>2</th>\n",
       "      <td>Manhattan</td>\n",
       "      <td>7.473333</td>\n",
       "    </tr>\n",
       "    <tr>\n",
       "      <th>3</th>\n",
       "      <td>Queens</td>\n",
       "      <td>7.387500</td>\n",
       "    </tr>\n",
       "    <tr>\n",
       "      <th>0</th>\n",
       "      <td>Bronx</td>\n",
       "      <td>7.313830</td>\n",
       "    </tr>\n",
       "    <tr>\n",
       "      <th>4</th>\n",
       "      <td>Staten Island</td>\n",
       "      <td>7.200000</td>\n",
       "    </tr>\n",
       "    <tr>\n",
       "      <th>1</th>\n",
       "      <td>Brooklyn</td>\n",
       "      <td>7.129245</td>\n",
       "    </tr>\n",
       "  </tbody>\n",
       "</table>\n",
       "</div>"
      ],
      "text/plain": [
       "         borough  saf_tot_11\n",
       "2      Manhattan    7.473333\n",
       "3         Queens    7.387500\n",
       "0          Bronx    7.313830\n",
       "4  Staten Island    7.200000\n",
       "1       Brooklyn    7.129245"
      ]
     },
     "execution_count": 87,
     "metadata": {},
     "output_type": "execute_result"
    }
   ],
   "source": [
    "saf_by_borough = combined.groupby('borough',as_index=False).agg({'saf_tot_11':'mean'}).sort_values(by='saf_tot_11', ascending=False)\n",
    "saf_by_borough"
   ]
  },
  {
   "cell_type": "markdown",
   "id": "e8b3c615",
   "metadata": {},
   "source": [
    "*According to students, the Manhattan and Queens boroughs are the safest, and Brooklyn is the least.*"
   ]
  },
  {
   "cell_type": "markdown",
   "id": "4308cc1c",
   "metadata": {},
   "source": [
    "### <center> Investigation racial differences in SAT score."
   ]
  },
  {
   "cell_type": "code",
   "execution_count": 88,
   "id": "4ae427c1",
   "metadata": {
    "scrolled": true
   },
   "outputs": [
    {
     "data": {
      "application/vnd.plotly.v1+json": {
       "config": {
        "plotlyServerURL": "https://plot.ly"
       },
       "data": [
        {
         "alignmentgroup": "True",
         "hovertemplate": "sat_score=%{marker.color}<br>index=%{y}<extra></extra>",
         "legendgroup": "",
         "marker": {
          "color": [
           1,
           0.620538260008929,
           0.570534248628955,
           -0.2841380303346985,
           -0.39675629702660775
          ],
          "coloraxis": "coloraxis",
          "pattern": {
           "shape": ""
          }
         },
         "name": "",
         "offsetgroup": "",
         "orientation": "h",
         "showlegend": false,
         "textposition": "auto",
         "type": "bar",
         "x": [
          1,
          0.620538260008929,
          0.570534248628955,
          -0.2841380303346985,
          -0.39675629702660775
         ],
         "xaxis": "x",
         "y": [
          "sat_score",
          "white_per",
          "asian_per",
          "black_per",
          "hispanic_per"
         ],
         "yaxis": "y"
        }
       ],
       "layout": {
        "barmode": "relative",
        "coloraxis": {
         "colorbar": {
          "title": {
           "text": "sat_score"
          }
         },
         "colorscale": [
          [
           0,
           "#0d0887"
          ],
          [
           0.1111111111111111,
           "#46039f"
          ],
          [
           0.2222222222222222,
           "#7201a8"
          ],
          [
           0.3333333333333333,
           "#9c179e"
          ],
          [
           0.4444444444444444,
           "#bd3786"
          ],
          [
           0.5555555555555556,
           "#d8576b"
          ],
          [
           0.6666666666666666,
           "#ed7953"
          ],
          [
           0.7777777777777778,
           "#fb9f3a"
          ],
          [
           0.8888888888888888,
           "#fdca26"
          ],
          [
           1,
           "#f0f921"
          ]
         ]
        },
        "legend": {
         "tracegroupgap": 0
        },
        "margin": {
         "t": 60
        },
        "template": {
         "data": {
          "bar": [
           {
            "error_x": {
             "color": "#2a3f5f"
            },
            "error_y": {
             "color": "#2a3f5f"
            },
            "marker": {
             "line": {
              "color": "#E5ECF6",
              "width": 0.5
             },
             "pattern": {
              "fillmode": "overlay",
              "size": 10,
              "solidity": 0.2
             }
            },
            "type": "bar"
           }
          ],
          "barpolar": [
           {
            "marker": {
             "line": {
              "color": "#E5ECF6",
              "width": 0.5
             },
             "pattern": {
              "fillmode": "overlay",
              "size": 10,
              "solidity": 0.2
             }
            },
            "type": "barpolar"
           }
          ],
          "carpet": [
           {
            "aaxis": {
             "endlinecolor": "#2a3f5f",
             "gridcolor": "white",
             "linecolor": "white",
             "minorgridcolor": "white",
             "startlinecolor": "#2a3f5f"
            },
            "baxis": {
             "endlinecolor": "#2a3f5f",
             "gridcolor": "white",
             "linecolor": "white",
             "minorgridcolor": "white",
             "startlinecolor": "#2a3f5f"
            },
            "type": "carpet"
           }
          ],
          "choropleth": [
           {
            "colorbar": {
             "outlinewidth": 0,
             "ticks": ""
            },
            "type": "choropleth"
           }
          ],
          "contour": [
           {
            "colorbar": {
             "outlinewidth": 0,
             "ticks": ""
            },
            "colorscale": [
             [
              0,
              "#0d0887"
             ],
             [
              0.1111111111111111,
              "#46039f"
             ],
             [
              0.2222222222222222,
              "#7201a8"
             ],
             [
              0.3333333333333333,
              "#9c179e"
             ],
             [
              0.4444444444444444,
              "#bd3786"
             ],
             [
              0.5555555555555556,
              "#d8576b"
             ],
             [
              0.6666666666666666,
              "#ed7953"
             ],
             [
              0.7777777777777778,
              "#fb9f3a"
             ],
             [
              0.8888888888888888,
              "#fdca26"
             ],
             [
              1,
              "#f0f921"
             ]
            ],
            "type": "contour"
           }
          ],
          "contourcarpet": [
           {
            "colorbar": {
             "outlinewidth": 0,
             "ticks": ""
            },
            "type": "contourcarpet"
           }
          ],
          "heatmap": [
           {
            "colorbar": {
             "outlinewidth": 0,
             "ticks": ""
            },
            "colorscale": [
             [
              0,
              "#0d0887"
             ],
             [
              0.1111111111111111,
              "#46039f"
             ],
             [
              0.2222222222222222,
              "#7201a8"
             ],
             [
              0.3333333333333333,
              "#9c179e"
             ],
             [
              0.4444444444444444,
              "#bd3786"
             ],
             [
              0.5555555555555556,
              "#d8576b"
             ],
             [
              0.6666666666666666,
              "#ed7953"
             ],
             [
              0.7777777777777778,
              "#fb9f3a"
             ],
             [
              0.8888888888888888,
              "#fdca26"
             ],
             [
              1,
              "#f0f921"
             ]
            ],
            "type": "heatmap"
           }
          ],
          "heatmapgl": [
           {
            "colorbar": {
             "outlinewidth": 0,
             "ticks": ""
            },
            "colorscale": [
             [
              0,
              "#0d0887"
             ],
             [
              0.1111111111111111,
              "#46039f"
             ],
             [
              0.2222222222222222,
              "#7201a8"
             ],
             [
              0.3333333333333333,
              "#9c179e"
             ],
             [
              0.4444444444444444,
              "#bd3786"
             ],
             [
              0.5555555555555556,
              "#d8576b"
             ],
             [
              0.6666666666666666,
              "#ed7953"
             ],
             [
              0.7777777777777778,
              "#fb9f3a"
             ],
             [
              0.8888888888888888,
              "#fdca26"
             ],
             [
              1,
              "#f0f921"
             ]
            ],
            "type": "heatmapgl"
           }
          ],
          "histogram": [
           {
            "marker": {
             "pattern": {
              "fillmode": "overlay",
              "size": 10,
              "solidity": 0.2
             }
            },
            "type": "histogram"
           }
          ],
          "histogram2d": [
           {
            "colorbar": {
             "outlinewidth": 0,
             "ticks": ""
            },
            "colorscale": [
             [
              0,
              "#0d0887"
             ],
             [
              0.1111111111111111,
              "#46039f"
             ],
             [
              0.2222222222222222,
              "#7201a8"
             ],
             [
              0.3333333333333333,
              "#9c179e"
             ],
             [
              0.4444444444444444,
              "#bd3786"
             ],
             [
              0.5555555555555556,
              "#d8576b"
             ],
             [
              0.6666666666666666,
              "#ed7953"
             ],
             [
              0.7777777777777778,
              "#fb9f3a"
             ],
             [
              0.8888888888888888,
              "#fdca26"
             ],
             [
              1,
              "#f0f921"
             ]
            ],
            "type": "histogram2d"
           }
          ],
          "histogram2dcontour": [
           {
            "colorbar": {
             "outlinewidth": 0,
             "ticks": ""
            },
            "colorscale": [
             [
              0,
              "#0d0887"
             ],
             [
              0.1111111111111111,
              "#46039f"
             ],
             [
              0.2222222222222222,
              "#7201a8"
             ],
             [
              0.3333333333333333,
              "#9c179e"
             ],
             [
              0.4444444444444444,
              "#bd3786"
             ],
             [
              0.5555555555555556,
              "#d8576b"
             ],
             [
              0.6666666666666666,
              "#ed7953"
             ],
             [
              0.7777777777777778,
              "#fb9f3a"
             ],
             [
              0.8888888888888888,
              "#fdca26"
             ],
             [
              1,
              "#f0f921"
             ]
            ],
            "type": "histogram2dcontour"
           }
          ],
          "mesh3d": [
           {
            "colorbar": {
             "outlinewidth": 0,
             "ticks": ""
            },
            "type": "mesh3d"
           }
          ],
          "parcoords": [
           {
            "line": {
             "colorbar": {
              "outlinewidth": 0,
              "ticks": ""
             }
            },
            "type": "parcoords"
           }
          ],
          "pie": [
           {
            "automargin": true,
            "type": "pie"
           }
          ],
          "scatter": [
           {
            "fillpattern": {
             "fillmode": "overlay",
             "size": 10,
             "solidity": 0.2
            },
            "type": "scatter"
           }
          ],
          "scatter3d": [
           {
            "line": {
             "colorbar": {
              "outlinewidth": 0,
              "ticks": ""
             }
            },
            "marker": {
             "colorbar": {
              "outlinewidth": 0,
              "ticks": ""
             }
            },
            "type": "scatter3d"
           }
          ],
          "scattercarpet": [
           {
            "marker": {
             "colorbar": {
              "outlinewidth": 0,
              "ticks": ""
             }
            },
            "type": "scattercarpet"
           }
          ],
          "scattergeo": [
           {
            "marker": {
             "colorbar": {
              "outlinewidth": 0,
              "ticks": ""
             }
            },
            "type": "scattergeo"
           }
          ],
          "scattergl": [
           {
            "marker": {
             "colorbar": {
              "outlinewidth": 0,
              "ticks": ""
             }
            },
            "type": "scattergl"
           }
          ],
          "scattermapbox": [
           {
            "marker": {
             "colorbar": {
              "outlinewidth": 0,
              "ticks": ""
             }
            },
            "type": "scattermapbox"
           }
          ],
          "scatterpolar": [
           {
            "marker": {
             "colorbar": {
              "outlinewidth": 0,
              "ticks": ""
             }
            },
            "type": "scatterpolar"
           }
          ],
          "scatterpolargl": [
           {
            "marker": {
             "colorbar": {
              "outlinewidth": 0,
              "ticks": ""
             }
            },
            "type": "scatterpolargl"
           }
          ],
          "scatterternary": [
           {
            "marker": {
             "colorbar": {
              "outlinewidth": 0,
              "ticks": ""
             }
            },
            "type": "scatterternary"
           }
          ],
          "surface": [
           {
            "colorbar": {
             "outlinewidth": 0,
             "ticks": ""
            },
            "colorscale": [
             [
              0,
              "#0d0887"
             ],
             [
              0.1111111111111111,
              "#46039f"
             ],
             [
              0.2222222222222222,
              "#7201a8"
             ],
             [
              0.3333333333333333,
              "#9c179e"
             ],
             [
              0.4444444444444444,
              "#bd3786"
             ],
             [
              0.5555555555555556,
              "#d8576b"
             ],
             [
              0.6666666666666666,
              "#ed7953"
             ],
             [
              0.7777777777777778,
              "#fb9f3a"
             ],
             [
              0.8888888888888888,
              "#fdca26"
             ],
             [
              1,
              "#f0f921"
             ]
            ],
            "type": "surface"
           }
          ],
          "table": [
           {
            "cells": {
             "fill": {
              "color": "#EBF0F8"
             },
             "line": {
              "color": "white"
             }
            },
            "header": {
             "fill": {
              "color": "#C8D4E3"
             },
             "line": {
              "color": "white"
             }
            },
            "type": "table"
           }
          ]
         },
         "layout": {
          "annotationdefaults": {
           "arrowcolor": "#2a3f5f",
           "arrowhead": 0,
           "arrowwidth": 1
          },
          "autotypenumbers": "strict",
          "coloraxis": {
           "colorbar": {
            "outlinewidth": 0,
            "ticks": ""
           }
          },
          "colorscale": {
           "diverging": [
            [
             0,
             "#8e0152"
            ],
            [
             0.1,
             "#c51b7d"
            ],
            [
             0.2,
             "#de77ae"
            ],
            [
             0.3,
             "#f1b6da"
            ],
            [
             0.4,
             "#fde0ef"
            ],
            [
             0.5,
             "#f7f7f7"
            ],
            [
             0.6,
             "#e6f5d0"
            ],
            [
             0.7,
             "#b8e186"
            ],
            [
             0.8,
             "#7fbc41"
            ],
            [
             0.9,
             "#4d9221"
            ],
            [
             1,
             "#276419"
            ]
           ],
           "sequential": [
            [
             0,
             "#0d0887"
            ],
            [
             0.1111111111111111,
             "#46039f"
            ],
            [
             0.2222222222222222,
             "#7201a8"
            ],
            [
             0.3333333333333333,
             "#9c179e"
            ],
            [
             0.4444444444444444,
             "#bd3786"
            ],
            [
             0.5555555555555556,
             "#d8576b"
            ],
            [
             0.6666666666666666,
             "#ed7953"
            ],
            [
             0.7777777777777778,
             "#fb9f3a"
            ],
            [
             0.8888888888888888,
             "#fdca26"
            ],
            [
             1,
             "#f0f921"
            ]
           ],
           "sequentialminus": [
            [
             0,
             "#0d0887"
            ],
            [
             0.1111111111111111,
             "#46039f"
            ],
            [
             0.2222222222222222,
             "#7201a8"
            ],
            [
             0.3333333333333333,
             "#9c179e"
            ],
            [
             0.4444444444444444,
             "#bd3786"
            ],
            [
             0.5555555555555556,
             "#d8576b"
            ],
            [
             0.6666666666666666,
             "#ed7953"
            ],
            [
             0.7777777777777778,
             "#fb9f3a"
            ],
            [
             0.8888888888888888,
             "#fdca26"
            ],
            [
             1,
             "#f0f921"
            ]
           ]
          },
          "colorway": [
           "#636efa",
           "#EF553B",
           "#00cc96",
           "#ab63fa",
           "#FFA15A",
           "#19d3f3",
           "#FF6692",
           "#B6E880",
           "#FF97FF",
           "#FECB52"
          ],
          "font": {
           "color": "#2a3f5f"
          },
          "geo": {
           "bgcolor": "white",
           "lakecolor": "white",
           "landcolor": "#E5ECF6",
           "showlakes": true,
           "showland": true,
           "subunitcolor": "white"
          },
          "hoverlabel": {
           "align": "left"
          },
          "hovermode": "closest",
          "mapbox": {
           "style": "light"
          },
          "paper_bgcolor": "white",
          "plot_bgcolor": "#E5ECF6",
          "polar": {
           "angularaxis": {
            "gridcolor": "white",
            "linecolor": "white",
            "ticks": ""
           },
           "bgcolor": "#E5ECF6",
           "radialaxis": {
            "gridcolor": "white",
            "linecolor": "white",
            "ticks": ""
           }
          },
          "scene": {
           "xaxis": {
            "backgroundcolor": "#E5ECF6",
            "gridcolor": "white",
            "gridwidth": 2,
            "linecolor": "white",
            "showbackground": true,
            "ticks": "",
            "zerolinecolor": "white"
           },
           "yaxis": {
            "backgroundcolor": "#E5ECF6",
            "gridcolor": "white",
            "gridwidth": 2,
            "linecolor": "white",
            "showbackground": true,
            "ticks": "",
            "zerolinecolor": "white"
           },
           "zaxis": {
            "backgroundcolor": "#E5ECF6",
            "gridcolor": "white",
            "gridwidth": 2,
            "linecolor": "white",
            "showbackground": true,
            "ticks": "",
            "zerolinecolor": "white"
           }
          },
          "shapedefaults": {
           "line": {
            "color": "#2a3f5f"
           }
          },
          "ternary": {
           "aaxis": {
            "gridcolor": "white",
            "linecolor": "white",
            "ticks": ""
           },
           "baxis": {
            "gridcolor": "white",
            "linecolor": "white",
            "ticks": ""
           },
           "bgcolor": "#E5ECF6",
           "caxis": {
            "gridcolor": "white",
            "linecolor": "white",
            "ticks": ""
           }
          },
          "title": {
           "x": 0.05
          },
          "xaxis": {
           "automargin": true,
           "gridcolor": "white",
           "linecolor": "white",
           "ticks": "",
           "title": {
            "standoff": 15
           },
           "zerolinecolor": "white",
           "zerolinewidth": 2
          },
          "yaxis": {
           "automargin": true,
           "gridcolor": "white",
           "linecolor": "white",
           "ticks": "",
           "title": {
            "standoff": 15
           },
           "zerolinecolor": "white",
           "zerolinewidth": 2
          }
         }
        },
        "xaxis": {
         "anchor": "y",
         "domain": [
          0,
          1
         ],
         "title": {
          "text": "sat_score"
         }
        },
        "yaxis": {
         "anchor": "x",
         "domain": [
          0,
          1
         ],
         "title": {
          "text": "index"
         }
        }
       }
      },
      "text/html": [
       "<div>                            <div id=\"3d60167b-de32-477f-b2f0-6613daecc986\" class=\"plotly-graph-div\" style=\"height:525px; width:100%;\"></div>            <script type=\"text/javascript\">                require([\"plotly\"], function(Plotly) {                    window.PLOTLYENV=window.PLOTLYENV || {};                                    if (document.getElementById(\"3d60167b-de32-477f-b2f0-6613daecc986\")) {                    Plotly.newPlot(                        \"3d60167b-de32-477f-b2f0-6613daecc986\",                        [{\"alignmentgroup\":\"True\",\"hovertemplate\":\"sat_score=%{marker.color}<br>index=%{y}<extra></extra>\",\"legendgroup\":\"\",\"marker\":{\"color\":[1.0,0.620538260008929,0.570534248628955,-0.2841380303346985,-0.39675629702660775],\"coloraxis\":\"coloraxis\",\"pattern\":{\"shape\":\"\"}},\"name\":\"\",\"offsetgroup\":\"\",\"orientation\":\"h\",\"showlegend\":false,\"textposition\":\"auto\",\"x\":[1.0,0.620538260008929,0.570534248628955,-0.2841380303346985,-0.39675629702660775],\"xaxis\":\"x\",\"y\":[\"sat_score\",\"white_per\",\"asian_per\",\"black_per\",\"hispanic_per\"],\"yaxis\":\"y\",\"type\":\"bar\"}],                        {\"template\":{\"data\":{\"histogram2dcontour\":[{\"type\":\"histogram2dcontour\",\"colorbar\":{\"outlinewidth\":0,\"ticks\":\"\"},\"colorscale\":[[0.0,\"#0d0887\"],[0.1111111111111111,\"#46039f\"],[0.2222222222222222,\"#7201a8\"],[0.3333333333333333,\"#9c179e\"],[0.4444444444444444,\"#bd3786\"],[0.5555555555555556,\"#d8576b\"],[0.6666666666666666,\"#ed7953\"],[0.7777777777777778,\"#fb9f3a\"],[0.8888888888888888,\"#fdca26\"],[1.0,\"#f0f921\"]]}],\"choropleth\":[{\"type\":\"choropleth\",\"colorbar\":{\"outlinewidth\":0,\"ticks\":\"\"}}],\"histogram2d\":[{\"type\":\"histogram2d\",\"colorbar\":{\"outlinewidth\":0,\"ticks\":\"\"},\"colorscale\":[[0.0,\"#0d0887\"],[0.1111111111111111,\"#46039f\"],[0.2222222222222222,\"#7201a8\"],[0.3333333333333333,\"#9c179e\"],[0.4444444444444444,\"#bd3786\"],[0.5555555555555556,\"#d8576b\"],[0.6666666666666666,\"#ed7953\"],[0.7777777777777778,\"#fb9f3a\"],[0.8888888888888888,\"#fdca26\"],[1.0,\"#f0f921\"]]}],\"heatmap\":[{\"type\":\"heatmap\",\"colorbar\":{\"outlinewidth\":0,\"ticks\":\"\"},\"colorscale\":[[0.0,\"#0d0887\"],[0.1111111111111111,\"#46039f\"],[0.2222222222222222,\"#7201a8\"],[0.3333333333333333,\"#9c179e\"],[0.4444444444444444,\"#bd3786\"],[0.5555555555555556,\"#d8576b\"],[0.6666666666666666,\"#ed7953\"],[0.7777777777777778,\"#fb9f3a\"],[0.8888888888888888,\"#fdca26\"],[1.0,\"#f0f921\"]]}],\"heatmapgl\":[{\"type\":\"heatmapgl\",\"colorbar\":{\"outlinewidth\":0,\"ticks\":\"\"},\"colorscale\":[[0.0,\"#0d0887\"],[0.1111111111111111,\"#46039f\"],[0.2222222222222222,\"#7201a8\"],[0.3333333333333333,\"#9c179e\"],[0.4444444444444444,\"#bd3786\"],[0.5555555555555556,\"#d8576b\"],[0.6666666666666666,\"#ed7953\"],[0.7777777777777778,\"#fb9f3a\"],[0.8888888888888888,\"#fdca26\"],[1.0,\"#f0f921\"]]}],\"contourcarpet\":[{\"type\":\"contourcarpet\",\"colorbar\":{\"outlinewidth\":0,\"ticks\":\"\"}}],\"contour\":[{\"type\":\"contour\",\"colorbar\":{\"outlinewidth\":0,\"ticks\":\"\"},\"colorscale\":[[0.0,\"#0d0887\"],[0.1111111111111111,\"#46039f\"],[0.2222222222222222,\"#7201a8\"],[0.3333333333333333,\"#9c179e\"],[0.4444444444444444,\"#bd3786\"],[0.5555555555555556,\"#d8576b\"],[0.6666666666666666,\"#ed7953\"],[0.7777777777777778,\"#fb9f3a\"],[0.8888888888888888,\"#fdca26\"],[1.0,\"#f0f921\"]]}],\"surface\":[{\"type\":\"surface\",\"colorbar\":{\"outlinewidth\":0,\"ticks\":\"\"},\"colorscale\":[[0.0,\"#0d0887\"],[0.1111111111111111,\"#46039f\"],[0.2222222222222222,\"#7201a8\"],[0.3333333333333333,\"#9c179e\"],[0.4444444444444444,\"#bd3786\"],[0.5555555555555556,\"#d8576b\"],[0.6666666666666666,\"#ed7953\"],[0.7777777777777778,\"#fb9f3a\"],[0.8888888888888888,\"#fdca26\"],[1.0,\"#f0f921\"]]}],\"mesh3d\":[{\"type\":\"mesh3d\",\"colorbar\":{\"outlinewidth\":0,\"ticks\":\"\"}}],\"scatter\":[{\"fillpattern\":{\"fillmode\":\"overlay\",\"size\":10,\"solidity\":0.2},\"type\":\"scatter\"}],\"parcoords\":[{\"type\":\"parcoords\",\"line\":{\"colorbar\":{\"outlinewidth\":0,\"ticks\":\"\"}}}],\"scatterpolargl\":[{\"type\":\"scatterpolargl\",\"marker\":{\"colorbar\":{\"outlinewidth\":0,\"ticks\":\"\"}}}],\"bar\":[{\"error_x\":{\"color\":\"#2a3f5f\"},\"error_y\":{\"color\":\"#2a3f5f\"},\"marker\":{\"line\":{\"color\":\"#E5ECF6\",\"width\":0.5},\"pattern\":{\"fillmode\":\"overlay\",\"size\":10,\"solidity\":0.2}},\"type\":\"bar\"}],\"scattergeo\":[{\"type\":\"scattergeo\",\"marker\":{\"colorbar\":{\"outlinewidth\":0,\"ticks\":\"\"}}}],\"scatterpolar\":[{\"type\":\"scatterpolar\",\"marker\":{\"colorbar\":{\"outlinewidth\":0,\"ticks\":\"\"}}}],\"histogram\":[{\"marker\":{\"pattern\":{\"fillmode\":\"overlay\",\"size\":10,\"solidity\":0.2}},\"type\":\"histogram\"}],\"scattergl\":[{\"type\":\"scattergl\",\"marker\":{\"colorbar\":{\"outlinewidth\":0,\"ticks\":\"\"}}}],\"scatter3d\":[{\"type\":\"scatter3d\",\"line\":{\"colorbar\":{\"outlinewidth\":0,\"ticks\":\"\"}},\"marker\":{\"colorbar\":{\"outlinewidth\":0,\"ticks\":\"\"}}}],\"scattermapbox\":[{\"type\":\"scattermapbox\",\"marker\":{\"colorbar\":{\"outlinewidth\":0,\"ticks\":\"\"}}}],\"scatterternary\":[{\"type\":\"scatterternary\",\"marker\":{\"colorbar\":{\"outlinewidth\":0,\"ticks\":\"\"}}}],\"scattercarpet\":[{\"type\":\"scattercarpet\",\"marker\":{\"colorbar\":{\"outlinewidth\":0,\"ticks\":\"\"}}}],\"carpet\":[{\"aaxis\":{\"endlinecolor\":\"#2a3f5f\",\"gridcolor\":\"white\",\"linecolor\":\"white\",\"minorgridcolor\":\"white\",\"startlinecolor\":\"#2a3f5f\"},\"baxis\":{\"endlinecolor\":\"#2a3f5f\",\"gridcolor\":\"white\",\"linecolor\":\"white\",\"minorgridcolor\":\"white\",\"startlinecolor\":\"#2a3f5f\"},\"type\":\"carpet\"}],\"table\":[{\"cells\":{\"fill\":{\"color\":\"#EBF0F8\"},\"line\":{\"color\":\"white\"}},\"header\":{\"fill\":{\"color\":\"#C8D4E3\"},\"line\":{\"color\":\"white\"}},\"type\":\"table\"}],\"barpolar\":[{\"marker\":{\"line\":{\"color\":\"#E5ECF6\",\"width\":0.5},\"pattern\":{\"fillmode\":\"overlay\",\"size\":10,\"solidity\":0.2}},\"type\":\"barpolar\"}],\"pie\":[{\"automargin\":true,\"type\":\"pie\"}]},\"layout\":{\"autotypenumbers\":\"strict\",\"colorway\":[\"#636efa\",\"#EF553B\",\"#00cc96\",\"#ab63fa\",\"#FFA15A\",\"#19d3f3\",\"#FF6692\",\"#B6E880\",\"#FF97FF\",\"#FECB52\"],\"font\":{\"color\":\"#2a3f5f\"},\"hovermode\":\"closest\",\"hoverlabel\":{\"align\":\"left\"},\"paper_bgcolor\":\"white\",\"plot_bgcolor\":\"#E5ECF6\",\"polar\":{\"bgcolor\":\"#E5ECF6\",\"angularaxis\":{\"gridcolor\":\"white\",\"linecolor\":\"white\",\"ticks\":\"\"},\"radialaxis\":{\"gridcolor\":\"white\",\"linecolor\":\"white\",\"ticks\":\"\"}},\"ternary\":{\"bgcolor\":\"#E5ECF6\",\"aaxis\":{\"gridcolor\":\"white\",\"linecolor\":\"white\",\"ticks\":\"\"},\"baxis\":{\"gridcolor\":\"white\",\"linecolor\":\"white\",\"ticks\":\"\"},\"caxis\":{\"gridcolor\":\"white\",\"linecolor\":\"white\",\"ticks\":\"\"}},\"coloraxis\":{\"colorbar\":{\"outlinewidth\":0,\"ticks\":\"\"}},\"colorscale\":{\"sequential\":[[0.0,\"#0d0887\"],[0.1111111111111111,\"#46039f\"],[0.2222222222222222,\"#7201a8\"],[0.3333333333333333,\"#9c179e\"],[0.4444444444444444,\"#bd3786\"],[0.5555555555555556,\"#d8576b\"],[0.6666666666666666,\"#ed7953\"],[0.7777777777777778,\"#fb9f3a\"],[0.8888888888888888,\"#fdca26\"],[1.0,\"#f0f921\"]],\"sequentialminus\":[[0.0,\"#0d0887\"],[0.1111111111111111,\"#46039f\"],[0.2222222222222222,\"#7201a8\"],[0.3333333333333333,\"#9c179e\"],[0.4444444444444444,\"#bd3786\"],[0.5555555555555556,\"#d8576b\"],[0.6666666666666666,\"#ed7953\"],[0.7777777777777778,\"#fb9f3a\"],[0.8888888888888888,\"#fdca26\"],[1.0,\"#f0f921\"]],\"diverging\":[[0,\"#8e0152\"],[0.1,\"#c51b7d\"],[0.2,\"#de77ae\"],[0.3,\"#f1b6da\"],[0.4,\"#fde0ef\"],[0.5,\"#f7f7f7\"],[0.6,\"#e6f5d0\"],[0.7,\"#b8e186\"],[0.8,\"#7fbc41\"],[0.9,\"#4d9221\"],[1,\"#276419\"]]},\"xaxis\":{\"gridcolor\":\"white\",\"linecolor\":\"white\",\"ticks\":\"\",\"title\":{\"standoff\":15},\"zerolinecolor\":\"white\",\"automargin\":true,\"zerolinewidth\":2},\"yaxis\":{\"gridcolor\":\"white\",\"linecolor\":\"white\",\"ticks\":\"\",\"title\":{\"standoff\":15},\"zerolinecolor\":\"white\",\"automargin\":true,\"zerolinewidth\":2},\"scene\":{\"xaxis\":{\"backgroundcolor\":\"#E5ECF6\",\"gridcolor\":\"white\",\"linecolor\":\"white\",\"showbackground\":true,\"ticks\":\"\",\"zerolinecolor\":\"white\",\"gridwidth\":2},\"yaxis\":{\"backgroundcolor\":\"#E5ECF6\",\"gridcolor\":\"white\",\"linecolor\":\"white\",\"showbackground\":true,\"ticks\":\"\",\"zerolinecolor\":\"white\",\"gridwidth\":2},\"zaxis\":{\"backgroundcolor\":\"#E5ECF6\",\"gridcolor\":\"white\",\"linecolor\":\"white\",\"showbackground\":true,\"ticks\":\"\",\"zerolinecolor\":\"white\",\"gridwidth\":2}},\"shapedefaults\":{\"line\":{\"color\":\"#2a3f5f\"}},\"annotationdefaults\":{\"arrowcolor\":\"#2a3f5f\",\"arrowhead\":0,\"arrowwidth\":1},\"geo\":{\"bgcolor\":\"white\",\"landcolor\":\"#E5ECF6\",\"subunitcolor\":\"white\",\"showland\":true,\"showlakes\":true,\"lakecolor\":\"white\"},\"title\":{\"x\":0.05},\"mapbox\":{\"style\":\"light\"}}},\"xaxis\":{\"anchor\":\"y\",\"domain\":[0.0,1.0],\"title\":{\"text\":\"sat_score\"}},\"yaxis\":{\"anchor\":\"x\",\"domain\":[0.0,1.0],\"title\":{\"text\":\"index\"}},\"coloraxis\":{\"colorbar\":{\"title\":{\"text\":\"sat_score\"}},\"colorscale\":[[0.0,\"#0d0887\"],[0.1111111111111111,\"#46039f\"],[0.2222222222222222,\"#7201a8\"],[0.3333333333333333,\"#9c179e\"],[0.4444444444444444,\"#bd3786\"],[0.5555555555555556,\"#d8576b\"],[0.6666666666666666,\"#ed7953\"],[0.7777777777777778,\"#fb9f3a\"],[0.8888888888888888,\"#fdca26\"],[1.0,\"#f0f921\"]]},\"legend\":{\"tracegroupgap\":0},\"margin\":{\"t\":60},\"barmode\":\"relative\"},                        {\"responsive\": true}                    ).then(function(){\n",
       "                            \n",
       "var gd = document.getElementById('3d60167b-de32-477f-b2f0-6613daecc986');\n",
       "var x = new MutationObserver(function (mutations, observer) {{\n",
       "        var display = window.getComputedStyle(gd).display;\n",
       "        if (!display || display === 'none') {{\n",
       "            console.log([gd, 'removed!']);\n",
       "            Plotly.purge(gd);\n",
       "            observer.disconnect();\n",
       "        }}\n",
       "}});\n",
       "\n",
       "// Listen for the removal of the full notebook cells\n",
       "var notebookContainer = gd.closest('#notebook-container');\n",
       "if (notebookContainer) {{\n",
       "    x.observe(notebookContainer, {childList: true});\n",
       "}}\n",
       "\n",
       "// Listen for the clearing of the current output cell\n",
       "var outputEl = gd.closest('.output');\n",
       "if (outputEl) {{\n",
       "    x.observe(outputEl, {childList: true});\n",
       "}}\n",
       "\n",
       "                        })                };                });            </script>        </div>"
      ]
     },
     "metadata": {},
     "output_type": "display_data"
    }
   ],
   "source": [
    "racial_corr = combined[['sat_score','white_per','asian_per','black_per','hispanic_per']].corr()['sat_score'].reset_index()\n",
    "px.bar(racial_corr, x='sat_score', y='index', orientation='h', color='sat_score')"
   ]
  },
  {
   "cell_type": "markdown",
   "id": "ad15d8d5",
   "metadata": {},
   "source": [
    "*We can observe a strong correlation with white_per and\n",
    "asian_per and a medium negative correlation with hispanic_per. \\\n",
    "I dare say that the negative correlation of hispanic and black races is associated with insufficient funding in the schools where students study.\\\n",
    "(per - percentage of students in school)*"
   ]
  },
  {
   "cell_type": "markdown",
   "id": "06ff2d39",
   "metadata": {},
   "source": [
    "### <center> Explore schools with low SAT scores and high values for hispanic_per."
   ]
  },
  {
   "cell_type": "code",
   "execution_count": 89,
   "id": "6326d4af",
   "metadata": {
    "scrolled": true
   },
   "outputs": [
    {
     "data": {
      "application/vnd.plotly.v1+json": {
       "config": {
        "plotlyServerURL": "https://plot.ly"
       },
       "data": [
        {
         "hovertemplate": "sat_score=%{x}<br>hispanic_per=%{y}<extra></extra>",
         "legendgroup": "",
         "marker": {
          "color": "#636efa",
          "symbol": "circle"
         },
         "mode": "markers",
         "name": "",
         "orientation": "v",
         "showlegend": false,
         "type": "scatter",
         "x": [
          1122,
          1172,
          1149,
          1207,
          1621,
          1856,
          1182,
          1194,
          1156,
          1111,
          1293,
          1269,
          1051,
          1148,
          1200,
          1127,
          1176,
          1435,
          1223.4388059701494,
          1223.4388059701494,
          1223.4388059701494,
          1419,
          1522,
          1577,
          1677,
          1419,
          1758,
          1614,
          1170,
          1306,
          1233,
          1223.4388059701494,
          1223.4388059701494,
          1223.4388059701494,
          1372,
          1199,
          1227,
          2096,
          1374,
          1070,
          1416,
          1240,
          1239,
          1253,
          1058,
          1168,
          1424,
          1212,
          1195,
          1257,
          1255,
          1207,
          1315,
          1236,
          1132,
          1144,
          1223.4388059701494,
          1223.4388059701494,
          1109,
          1223.4388059701494,
          1744,
          1707,
          1196,
          1277,
          1446,
          1096,
          1084,
          1430,
          1128,
          1221,
          1326,
          1326,
          1054,
          1210,
          1223.4388059701494,
          1062,
          1077,
          1374,
          1202,
          1847,
          1270,
          1105,
          1174,
          1223.4388059701494,
          1127,
          1098,
          1102,
          1224,
          1309,
          1014,
          1090,
          945,
          1077,
          1097,
          1201,
          1257,
          1186,
          1103,
          1084,
          1181,
          1201,
          1158,
          1095,
          1223.4388059701494,
          1171,
          1158,
          1038,
          1164,
          1084,
          1223.4388059701494,
          1223.4388059701494,
          1241,
          1223.4388059701494,
          1099,
          1131,
          1049,
          1134,
          1290,
          1169,
          1092,
          1396,
          1075,
          1081,
          1148,
          1223.4388059701494,
          1138,
          951,
          965,
          1074,
          1083,
          1221,
          1224,
          1121,
          1166,
          1039,
          1333,
          1150,
          1190,
          1157,
          1158,
          962,
          1182,
          934,
          1181,
          1180,
          1106,
          1222,
          1077,
          1119,
          1082,
          1255,
          1270,
          1969,
          1263,
          1064,
          1115,
          1920,
          1133,
          1147,
          1135,
          1141,
          1111,
          1348,
          1135,
          1169,
          1268,
          1151,
          1048,
          1112,
          1288,
          1126,
          1163,
          1055,
          1122,
          1251,
          1102,
          1155,
          970,
          1223.4388059701494,
          1223.4388059701494,
          939,
          1029,
          1114,
          1038,
          1074,
          1080,
          1114,
          1211,
          1833,
          981,
          1206,
          1116,
          1223.4388059701494,
          1312,
          1189,
          1391,
          1353,
          1085,
          1223.4388059701494,
          1740,
          1189,
          1114,
          1204,
          1215,
          1090,
          1112,
          1187,
          1103,
          1093,
          1122,
          1035,
          1111,
          1179,
          1203,
          1169,
          1175,
          1212,
          1185,
          1258,
          1223.4388059701494,
          1068,
          1097,
          1092,
          1223.4388059701494,
          1139,
          1045,
          913,
          1176,
          1088,
          1153,
          1027,
          1105,
          1360,
          1273,
          1143,
          1151,
          1436,
          1251,
          963,
          1145,
          1118,
          1092,
          1143,
          1080,
          1183,
          1169,
          1159,
          1111,
          1135,
          1242,
          1023,
          1054,
          1149,
          1106,
          887,
          1193,
          1096,
          1108,
          1129,
          1102,
          1157,
          1272,
          1323,
          1306,
          1244,
          1223.4388059701494,
          1026,
          1237,
          1164,
          1226,
          1223.4388059701494,
          1431,
          1262,
          1124,
          1079,
          1184,
          1313,
          1473,
          1350,
          1627,
          1352,
          1185,
          1091,
          1196,
          1280,
          1219,
          1240,
          951,
          1663,
          1203,
          1211,
          1177,
          1064,
          1174,
          1330,
          1270,
          1364,
          1396,
          1049,
          1271,
          1441,
          1243,
          1216,
          1910,
          1330,
          1514,
          1474,
          1172,
          1449,
          1279,
          1145,
          1252,
          1156,
          1265,
          1094,
          1532,
          1108,
          1154,
          1192,
          1345,
          1223.4388059701494,
          1265,
          1223.4388059701494,
          1407,
          1194,
          1372,
          1538,
          1223.4388059701494,
          1868,
          1196,
          1316,
          1099,
          1173,
          1202,
          1287,
          1100,
          1223.4388059701494,
          1220,
          1151,
          1223.4388059701494,
          1255,
          1275,
          1218,
          1494,
          1239,
          1127,
          1470,
          1636,
          1353,
          1195,
          1426,
          1277,
          1279,
          1301,
          1418,
          1388,
          1235,
          1953,
          1098,
          1154,
          1035,
          1060,
          1315,
          1055
         ],
         "xaxis": "x",
         "y": [
          53.8,
          45.9,
          55.4,
          56.9,
          14.2,
          18.2,
          59.2,
          47.6,
          60.6,
          66.1,
          42,
          59.2,
          73.2,
          50.6,
          55.7,
          48.4,
          45.1,
          43,
          58.7,
          57.2,
          32.8,
          57.2,
          23.7,
          14.6,
          14,
          39.9,
          11.6,
          21.7,
          74.8,
          49.7,
          54.2,
          84.6,
          62.4,
          43.2,
          71.8,
          59,
          36.9,
          2.4,
          43.5,
          55.3,
          39.3,
          46.6,
          69.9,
          42.4,
          99.8,
          62.2,
          4,
          49.3,
          59.3,
          52.3,
          57.8,
          60.5,
          51,
          64.3,
          58.9,
          56,
          76,
          62.6,
          38.8,
          37,
          22.8,
          16.6,
          48.1,
          57.2,
          41.5,
          18.9,
          58.7,
          57.4,
          59.6,
          64.5,
          60.1,
          60.1,
          69.4,
          63.8,
          48.5,
          38.1,
          38.2,
          22.8,
          20.9,
          21.2,
          92,
          93.8,
          96.7,
          72.5,
          91.4,
          87.1,
          84.4,
          83.8,
          62.3,
          99.8,
          68.8,
          71.8,
          65.5,
          76,
          78.1,
          72.7,
          68.8,
          56,
          68.1,
          70.4,
          64.3,
          61.5,
          56.9,
          74.8,
          46.4,
          63.8,
          69.9,
          64.3,
          56.8,
          60.2,
          66,
          60.6,
          83.2,
          76,
          65.4,
          69.3,
          33.8,
          63.4,
          58.1,
          73.7,
          68.7,
          63.8,
          63.5,
          73.1,
          64.5,
          69.9,
          99.4,
          72.2,
          64.5,
          59.9,
          57.8,
          66.2,
          41.4,
          57,
          62.5,
          53,
          64.2,
          69.7,
          57.4,
          69.5,
          84.7,
          65.2,
          99.8,
          81.9,
          59.9,
          70.4,
          65.6,
          61.5,
          67.8,
          64.6,
          59.6,
          69.5,
          7.2,
          57.9,
          69,
          75.6,
          18,
          36.3,
          47.6,
          57.3,
          32,
          59.5,
          46.8,
          41.2,
          46,
          62.3,
          43.8,
          70.4,
          37.3,
          49.7,
          59.9,
          72.6,
          72.9,
          65.5,
          73.2,
          68.3,
          53.7,
          99.8,
          65,
          59.8,
          84.6,
          68.8,
          42.2,
          77.5,
          24.6,
          22.7,
          17.1,
          12.2,
          7.9,
          28.6,
          17.1,
          12.2,
          11.7,
          7.1,
          15.3,
          8.8,
          26.3,
          80.6,
          29.8,
          17.9,
          46.9,
          65.4,
          39.3,
          55.4,
          37.7,
          57.2,
          61.5,
          54.6,
          30.2,
          31.2,
          87.6,
          39,
          48.1,
          29.6,
          43.2,
          51.8,
          38.9,
          21,
          19,
          80.8,
          14.1,
          7.8,
          24.9,
          20.8,
          6.7,
          12.9,
          27.9,
          7.3,
          8.3,
          8.4,
          9.1,
          9,
          9.4,
          12.2,
          14.2,
          15.3,
          2.8,
          5.8,
          4.5,
          8.5,
          12.8,
          8.8,
          5.8,
          9.6,
          10.6,
          11.4,
          12.4,
          12,
          10.5,
          30.3,
          23.4,
          22.2,
          17.4,
          14.2,
          99.8,
          23.2,
          50.2,
          65,
          73.2,
          25.4,
          34.7,
          28,
          54.1,
          30.2,
          27.3,
          21.9,
          21,
          25.8,
          23,
          20.1,
          22.7,
          17.6,
          19.1,
          29.9,
          41.2,
          14,
          23.1,
          11.7,
          14.5,
          10.8,
          12.4,
          8.3,
          10.4,
          13.1,
          56.4,
          57.2,
          79.3,
          100,
          21.2,
          60.3,
          63.5,
          71.4,
          44,
          79.2,
          62.4,
          74.2,
          55.3,
          24.2,
          32.7,
          17.9,
          20.3,
          40.7,
          49.8,
          12.9,
          35.4,
          18.6,
          24.1,
          15.1,
          22.3,
          16.8,
          27,
          27.5,
          30,
          42.6,
          34.2,
          15.9,
          11.5,
          46.4,
          37.1,
          41.6,
          10.2,
          18.5,
          21,
          30.2,
          22.8,
          21.1,
          15.7,
          38.6,
          7.9,
          15.1,
          18.4,
          8.2,
          2.9,
          9.7,
          14.1,
          10.4,
          7.5,
          11.9,
          8.5,
          40.4,
          53.5,
          48.8,
          62.7,
          27.2,
          56.6,
          43.5,
          34.7,
          24.3,
          17.9,
          17.6,
          16.9,
          27.3,
          37.6,
          31.9,
          9.9,
          24.1,
          33.2,
          5.3,
          77.1,
          88.1,
          68.7,
          70.4,
          79.5,
          77.3
         ],
         "yaxis": "y"
        },
        {
         "hovertemplate": "<b>OLS trendline</b><br>hispanic_per = -0.0555457 * sat_score + 112.069<br>R<sup>2</sup>=0.157416<br><br>sat_score=%{x}<br>hispanic_per=%{y} <b>(trend)</b><extra></extra>",
         "legendgroup": "",
         "marker": {
          "color": "#636efa",
          "symbol": "circle"
         },
         "mode": "lines",
         "name": "",
         "showlegend": false,
         "type": "scatter",
         "x": [
          887,
          913,
          934,
          939,
          945,
          951,
          951,
          962,
          963,
          965,
          970,
          981,
          1014,
          1023,
          1026,
          1027,
          1029,
          1035,
          1035,
          1038,
          1038,
          1039,
          1045,
          1048,
          1049,
          1049,
          1051,
          1054,
          1054,
          1055,
          1055,
          1058,
          1060,
          1062,
          1064,
          1064,
          1068,
          1070,
          1074,
          1074,
          1075,
          1077,
          1077,
          1077,
          1079,
          1080,
          1080,
          1081,
          1082,
          1083,
          1084,
          1084,
          1084,
          1085,
          1088,
          1090,
          1090,
          1091,
          1092,
          1092,
          1092,
          1093,
          1094,
          1095,
          1096,
          1096,
          1097,
          1097,
          1098,
          1098,
          1099,
          1099,
          1100,
          1102,
          1102,
          1102,
          1103,
          1103,
          1105,
          1105,
          1106,
          1106,
          1108,
          1108,
          1109,
          1111,
          1111,
          1111,
          1111,
          1112,
          1112,
          1114,
          1114,
          1114,
          1115,
          1116,
          1118,
          1119,
          1121,
          1122,
          1122,
          1122,
          1124,
          1126,
          1127,
          1127,
          1127,
          1128,
          1129,
          1131,
          1132,
          1133,
          1134,
          1135,
          1135,
          1135,
          1138,
          1139,
          1141,
          1143,
          1143,
          1144,
          1145,
          1145,
          1147,
          1148,
          1148,
          1149,
          1149,
          1150,
          1151,
          1151,
          1151,
          1153,
          1154,
          1154,
          1155,
          1156,
          1156,
          1157,
          1157,
          1158,
          1158,
          1158,
          1159,
          1163,
          1164,
          1164,
          1166,
          1168,
          1169,
          1169,
          1169,
          1169,
          1170,
          1171,
          1172,
          1172,
          1173,
          1174,
          1174,
          1175,
          1176,
          1176,
          1177,
          1179,
          1180,
          1181,
          1181,
          1182,
          1182,
          1183,
          1184,
          1185,
          1185,
          1186,
          1187,
          1189,
          1189,
          1190,
          1192,
          1193,
          1194,
          1194,
          1195,
          1195,
          1196,
          1196,
          1196,
          1199,
          1200,
          1201,
          1201,
          1202,
          1202,
          1203,
          1203,
          1204,
          1206,
          1207,
          1207,
          1210,
          1211,
          1211,
          1212,
          1212,
          1215,
          1216,
          1218,
          1219,
          1220,
          1221,
          1221,
          1222,
          1223.4388059701494,
          1223.4388059701494,
          1223.4388059701494,
          1223.4388059701494,
          1223.4388059701494,
          1223.4388059701494,
          1223.4388059701494,
          1223.4388059701494,
          1223.4388059701494,
          1223.4388059701494,
          1223.4388059701494,
          1223.4388059701494,
          1223.4388059701494,
          1223.4388059701494,
          1223.4388059701494,
          1223.4388059701494,
          1223.4388059701494,
          1223.4388059701494,
          1223.4388059701494,
          1223.4388059701494,
          1223.4388059701494,
          1223.4388059701494,
          1223.4388059701494,
          1223.4388059701494,
          1223.4388059701494,
          1223.4388059701494,
          1223.4388059701494,
          1223.4388059701494,
          1223.4388059701494,
          1224,
          1224,
          1226,
          1227,
          1233,
          1235,
          1236,
          1237,
          1239,
          1239,
          1240,
          1240,
          1241,
          1242,
          1243,
          1244,
          1251,
          1251,
          1252,
          1253,
          1255,
          1255,
          1255,
          1257,
          1257,
          1258,
          1262,
          1263,
          1265,
          1265,
          1268,
          1269,
          1270,
          1270,
          1270,
          1271,
          1272,
          1273,
          1275,
          1277,
          1277,
          1279,
          1279,
          1280,
          1287,
          1288,
          1290,
          1293,
          1301,
          1306,
          1306,
          1309,
          1312,
          1313,
          1315,
          1315,
          1316,
          1323,
          1326,
          1326,
          1330,
          1330,
          1333,
          1345,
          1348,
          1350,
          1352,
          1353,
          1353,
          1360,
          1364,
          1372,
          1372,
          1374,
          1374,
          1388,
          1391,
          1396,
          1396,
          1407,
          1416,
          1418,
          1419,
          1419,
          1424,
          1426,
          1430,
          1431,
          1435,
          1436,
          1441,
          1446,
          1449,
          1470,
          1473,
          1474,
          1494,
          1514,
          1522,
          1532,
          1538,
          1577,
          1614,
          1621,
          1627,
          1636,
          1663,
          1677,
          1707,
          1740,
          1744,
          1758,
          1833,
          1847,
          1856,
          1868,
          1910,
          1920,
          1953,
          1969,
          2096
         ],
         "xaxis": "x",
         "y": [
          62.80036930172799,
          61.35618087341848,
          60.18972098901464,
          59.911992445108964,
          59.57871819242216,
          59.245443939735345,
          59.245443939735345,
          58.63444114314286,
          58.578895434361726,
          58.467804016799455,
          58.19007547289378,
          57.579072676301294,
          55.74606428652383,
          55.24615290749362,
          55.079515781150214,
          55.02397007236908,
          54.91287865480681,
          54.57960440212,
          54.57960440212,
          54.412967275776595,
          54.412967275776595,
          54.357421566995455,
          54.02414731430865,
          53.85751018796525,
          53.80196447918411,
          53.80196447918411,
          53.690873061621836,
          53.52423593527843,
          53.52423593527843,
          53.468690226497294,
          53.468690226497294,
          53.30205310015389,
          53.19096168259162,
          53.07987026502935,
          52.96877884746708,
          52.96877884746708,
          52.74659601234254,
          52.63550459478027,
          52.41332175965573,
          52.41332175965573,
          52.3577760508746,
          52.24668463331233,
          52.24668463331233,
          52.24668463331233,
          52.135593215750056,
          52.080047506968924,
          52.080047506968924,
          52.024501798187785,
          51.96895608940665,
          51.913410380625514,
          51.85786467184438,
          51.85786467184438,
          51.85786467184438,
          51.80231896306324,
          51.63568183671984,
          51.52459041915757,
          51.52459041915757,
          51.46904471037644,
          51.4134990015953,
          51.4134990015953,
          51.4134990015953,
          51.357953292814166,
          51.30240758403303,
          51.246861875251895,
          51.191316166470756,
          51.191316166470756,
          51.135770457689624,
          51.135770457689624,
          51.08022474890849,
          51.08022474890849,
          51.02467904012735,
          51.02467904012735,
          50.96913333134622,
          50.85804191378395,
          50.85804191378395,
          50.85804191378395,
          50.80249620500281,
          50.80249620500281,
          50.69140478744055,
          50.69140478744055,
          50.63585907865941,
          50.63585907865941,
          50.52476766109714,
          50.52476766109714,
          50.469221952316005,
          50.358130534753734,
          50.358130534753734,
          50.358130534753734,
          50.358130534753734,
          50.3025848259726,
          50.3025848259726,
          50.19149340841033,
          50.19149340841033,
          50.19149340841033,
          50.13594769962919,
          50.08040199084806,
          49.96931057328579,
          49.91376486450465,
          49.802673446942386,
          49.74712773816125,
          49.74712773816125,
          49.74712773816125,
          49.636036320598976,
          49.524944903036705,
          49.46939919425557,
          49.46939919425557,
          49.46939919425557,
          49.413853485474434,
          49.3583077766933,
          49.24721635913103,
          49.1916706503499,
          49.13612494156876,
          49.08057923278763,
          49.02503352400649,
          49.02503352400649,
          49.02503352400649,
          48.858396397663086,
          48.80285068888195,
          48.69175927131968,
          48.58066785375741,
          48.58066785375741,
          48.52512214497628,
          48.46957643619514,
          48.46957643619514,
          48.35848501863287,
          48.30293930985174,
          48.30293930985174,
          48.2473936010706,
          48.2473936010706,
          48.191847892289466,
          48.13630218350833,
          48.13630218350833,
          48.13630218350833,
          48.025210765946056,
          47.96966505716493,
          47.96966505716493,
          47.91411934838379,
          47.85857363960265,
          47.85857363960265,
          47.803027930821514,
          47.803027930821514,
          47.74748222204039,
          47.74748222204039,
          47.74748222204039,
          47.69193651325925,
          47.46975367813471,
          47.41420796935357,
          47.41420796935357,
          47.303116551791305,
          47.19202513422903,
          47.1364794254479,
          47.1364794254479,
          47.1364794254479,
          47.1364794254479,
          47.08093371666676,
          47.025388007885624,
          46.9698422991045,
          46.9698422991045,
          46.91429659032336,
          46.85875088154222,
          46.85875088154222,
          46.80320517276108,
          46.74765946397996,
          46.74765946397996,
          46.69211375519882,
          46.581022337636554,
          46.525476628855415,
          46.469930920074276,
          46.469930920074276,
          46.41438521129314,
          46.41438521129314,
          46.35883950251201,
          46.30329379373087,
          46.247748084949734,
          46.247748084949734,
          46.19220237616861,
          46.13665666738747,
          46.02556524982519,
          46.02556524982519,
          45.97001954104407,
          45.85892812348179,
          45.803382414700664,
          45.747836705919525,
          45.747836705919525,
          45.692290997138386,
          45.692290997138386,
          45.63674528835725,
          45.63674528835725,
          45.63674528835725,
          45.470108162013844,
          45.41456245323272,
          45.35901674445158,
          45.35901674445158,
          45.30347103567044,
          45.30347103567044,
          45.2479253268893,
          45.2479253268893,
          45.19237961810818,
          45.0812882005459,
          45.02574249176476,
          45.02574249176476,
          44.85910536542136,
          44.80355965664023,
          44.80355965664023,
          44.74801394785909,
          44.74801394785909,
          44.58137682151569,
          44.52583111273455,
          44.41473969517229,
          44.35919398639115,
          44.30364827761001,
          44.24810256882887,
          44.24810256882887,
          44.192556860047745,
          44.11263736263726,
          44.11263736263726,
          44.11263736263726,
          44.11263736263726,
          44.11263736263726,
          44.11263736263726,
          44.11263736263726,
          44.11263736263726,
          44.11263736263726,
          44.11263736263726,
          44.11263736263726,
          44.11263736263726,
          44.11263736263726,
          44.11263736263726,
          44.11263736263726,
          44.11263736263726,
          44.11263736263726,
          44.11263736263726,
          44.11263736263726,
          44.11263736263726,
          44.11263736263726,
          44.11263736263726,
          44.11263736263726,
          44.11263736263726,
          44.11263736263726,
          44.11263736263726,
          44.11263736263726,
          44.11263736263726,
          44.11263736263726,
          44.08146544248547,
          44.08146544248547,
          43.9703740249232,
          43.914828316142064,
          43.58155406345526,
          43.47046264589298,
          43.414916937111855,
          43.359371228330716,
          43.24827981076844,
          43.24827981076844,
          43.19273410198731,
          43.19273410198731,
          43.13718839320617,
          43.081642684425034,
          43.02609697564391,
          42.97055126686277,
          42.581731305394825,
          42.581731305394825,
          42.526185596613686,
          42.47063988783255,
          42.35954847027028,
          42.35954847027028,
          42.35954847027028,
          42.24845705270802,
          42.24845705270802,
          42.19291134392688,
          41.97072850880234,
          41.9151828000212,
          41.804091382458935,
          41.804091382458935,
          41.63745425611553,
          41.58190854733439,
          41.526362838553254,
          41.526362838553254,
          41.526362838553254,
          41.470817129772115,
          41.41527142099099,
          41.35972571220985,
          41.24863429464759,
          41.13754287708531,
          41.13754287708531,
          41.026451459523045,
          41.026451459523045,
          40.970905750741906,
          40.58208578927396,
          40.52654008049282,
          40.41544866293056,
          40.248811536587155,
          39.80444586633807,
          39.52671732243239,
          39.52671732243239,
          39.36008019608899,
          39.193443069745584,
          39.137897360964445,
          39.02680594340218,
          39.02680594340218,
          38.97126023462104,
          38.5824402731531,
          38.415803146809694,
          38.415803146809694,
          38.19362031168515,
          38.19362031168515,
          38.02698318534175,
          37.36043467996812,
          37.19379755362472,
          37.082706136062455,
          36.97161471850018,
          36.91606900971905,
          36.91606900971905,
          36.52724904825109,
          36.305066213126565,
          35.86070054287748,
          35.86070054287748,
          35.7496091253152,
          35.7496091253152,
          34.97196920237931,
          34.80533207603591,
          34.52760353213024,
          34.52760353213024,
          33.916600735537756,
          33.41668935650753,
          33.30559793894527,
          33.25005223016413,
          33.25005223016413,
          32.97232368625845,
          32.861232268696185,
          32.63904943357164,
          32.5835037247905,
          32.361320889665976,
          32.30577518088484,
          32.028046636979155,
          31.75031809307349,
          31.583680966730086,
          30.417221082326236,
          30.250583955982833,
          30.19503824720171,
          29.084124071578998,
          27.973209895956302,
          27.528844225707218,
          26.97338713789587,
          26.640112885209064,
          24.473830242744796,
          22.418639017842793,
          22.029819056374848,
          21.69654480368804,
          21.19663342465782,
          19.696899287567177,
          18.919259364631287,
          17.25288810119723,
          15.419879711419767,
          15.197696876295225,
          14.420056953359335,
          10.254128794774218,
          9.476488871838313,
          8.976577492808104,
          8.310028987434478,
          5.977109218626808,
          5.42165213081546,
          3.5886437410379983,
          2.6999124005398443,
          -4.354392614664306
         ],
         "yaxis": "y"
        }
       ],
       "layout": {
        "legend": {
         "tracegroupgap": 0
        },
        "margin": {
         "t": 60
        },
        "template": {
         "data": {
          "bar": [
           {
            "error_x": {
             "color": "#2a3f5f"
            },
            "error_y": {
             "color": "#2a3f5f"
            },
            "marker": {
             "line": {
              "color": "#E5ECF6",
              "width": 0.5
             },
             "pattern": {
              "fillmode": "overlay",
              "size": 10,
              "solidity": 0.2
             }
            },
            "type": "bar"
           }
          ],
          "barpolar": [
           {
            "marker": {
             "line": {
              "color": "#E5ECF6",
              "width": 0.5
             },
             "pattern": {
              "fillmode": "overlay",
              "size": 10,
              "solidity": 0.2
             }
            },
            "type": "barpolar"
           }
          ],
          "carpet": [
           {
            "aaxis": {
             "endlinecolor": "#2a3f5f",
             "gridcolor": "white",
             "linecolor": "white",
             "minorgridcolor": "white",
             "startlinecolor": "#2a3f5f"
            },
            "baxis": {
             "endlinecolor": "#2a3f5f",
             "gridcolor": "white",
             "linecolor": "white",
             "minorgridcolor": "white",
             "startlinecolor": "#2a3f5f"
            },
            "type": "carpet"
           }
          ],
          "choropleth": [
           {
            "colorbar": {
             "outlinewidth": 0,
             "ticks": ""
            },
            "type": "choropleth"
           }
          ],
          "contour": [
           {
            "colorbar": {
             "outlinewidth": 0,
             "ticks": ""
            },
            "colorscale": [
             [
              0,
              "#0d0887"
             ],
             [
              0.1111111111111111,
              "#46039f"
             ],
             [
              0.2222222222222222,
              "#7201a8"
             ],
             [
              0.3333333333333333,
              "#9c179e"
             ],
             [
              0.4444444444444444,
              "#bd3786"
             ],
             [
              0.5555555555555556,
              "#d8576b"
             ],
             [
              0.6666666666666666,
              "#ed7953"
             ],
             [
              0.7777777777777778,
              "#fb9f3a"
             ],
             [
              0.8888888888888888,
              "#fdca26"
             ],
             [
              1,
              "#f0f921"
             ]
            ],
            "type": "contour"
           }
          ],
          "contourcarpet": [
           {
            "colorbar": {
             "outlinewidth": 0,
             "ticks": ""
            },
            "type": "contourcarpet"
           }
          ],
          "heatmap": [
           {
            "colorbar": {
             "outlinewidth": 0,
             "ticks": ""
            },
            "colorscale": [
             [
              0,
              "#0d0887"
             ],
             [
              0.1111111111111111,
              "#46039f"
             ],
             [
              0.2222222222222222,
              "#7201a8"
             ],
             [
              0.3333333333333333,
              "#9c179e"
             ],
             [
              0.4444444444444444,
              "#bd3786"
             ],
             [
              0.5555555555555556,
              "#d8576b"
             ],
             [
              0.6666666666666666,
              "#ed7953"
             ],
             [
              0.7777777777777778,
              "#fb9f3a"
             ],
             [
              0.8888888888888888,
              "#fdca26"
             ],
             [
              1,
              "#f0f921"
             ]
            ],
            "type": "heatmap"
           }
          ],
          "heatmapgl": [
           {
            "colorbar": {
             "outlinewidth": 0,
             "ticks": ""
            },
            "colorscale": [
             [
              0,
              "#0d0887"
             ],
             [
              0.1111111111111111,
              "#46039f"
             ],
             [
              0.2222222222222222,
              "#7201a8"
             ],
             [
              0.3333333333333333,
              "#9c179e"
             ],
             [
              0.4444444444444444,
              "#bd3786"
             ],
             [
              0.5555555555555556,
              "#d8576b"
             ],
             [
              0.6666666666666666,
              "#ed7953"
             ],
             [
              0.7777777777777778,
              "#fb9f3a"
             ],
             [
              0.8888888888888888,
              "#fdca26"
             ],
             [
              1,
              "#f0f921"
             ]
            ],
            "type": "heatmapgl"
           }
          ],
          "histogram": [
           {
            "marker": {
             "pattern": {
              "fillmode": "overlay",
              "size": 10,
              "solidity": 0.2
             }
            },
            "type": "histogram"
           }
          ],
          "histogram2d": [
           {
            "colorbar": {
             "outlinewidth": 0,
             "ticks": ""
            },
            "colorscale": [
             [
              0,
              "#0d0887"
             ],
             [
              0.1111111111111111,
              "#46039f"
             ],
             [
              0.2222222222222222,
              "#7201a8"
             ],
             [
              0.3333333333333333,
              "#9c179e"
             ],
             [
              0.4444444444444444,
              "#bd3786"
             ],
             [
              0.5555555555555556,
              "#d8576b"
             ],
             [
              0.6666666666666666,
              "#ed7953"
             ],
             [
              0.7777777777777778,
              "#fb9f3a"
             ],
             [
              0.8888888888888888,
              "#fdca26"
             ],
             [
              1,
              "#f0f921"
             ]
            ],
            "type": "histogram2d"
           }
          ],
          "histogram2dcontour": [
           {
            "colorbar": {
             "outlinewidth": 0,
             "ticks": ""
            },
            "colorscale": [
             [
              0,
              "#0d0887"
             ],
             [
              0.1111111111111111,
              "#46039f"
             ],
             [
              0.2222222222222222,
              "#7201a8"
             ],
             [
              0.3333333333333333,
              "#9c179e"
             ],
             [
              0.4444444444444444,
              "#bd3786"
             ],
             [
              0.5555555555555556,
              "#d8576b"
             ],
             [
              0.6666666666666666,
              "#ed7953"
             ],
             [
              0.7777777777777778,
              "#fb9f3a"
             ],
             [
              0.8888888888888888,
              "#fdca26"
             ],
             [
              1,
              "#f0f921"
             ]
            ],
            "type": "histogram2dcontour"
           }
          ],
          "mesh3d": [
           {
            "colorbar": {
             "outlinewidth": 0,
             "ticks": ""
            },
            "type": "mesh3d"
           }
          ],
          "parcoords": [
           {
            "line": {
             "colorbar": {
              "outlinewidth": 0,
              "ticks": ""
             }
            },
            "type": "parcoords"
           }
          ],
          "pie": [
           {
            "automargin": true,
            "type": "pie"
           }
          ],
          "scatter": [
           {
            "fillpattern": {
             "fillmode": "overlay",
             "size": 10,
             "solidity": 0.2
            },
            "type": "scatter"
           }
          ],
          "scatter3d": [
           {
            "line": {
             "colorbar": {
              "outlinewidth": 0,
              "ticks": ""
             }
            },
            "marker": {
             "colorbar": {
              "outlinewidth": 0,
              "ticks": ""
             }
            },
            "type": "scatter3d"
           }
          ],
          "scattercarpet": [
           {
            "marker": {
             "colorbar": {
              "outlinewidth": 0,
              "ticks": ""
             }
            },
            "type": "scattercarpet"
           }
          ],
          "scattergeo": [
           {
            "marker": {
             "colorbar": {
              "outlinewidth": 0,
              "ticks": ""
             }
            },
            "type": "scattergeo"
           }
          ],
          "scattergl": [
           {
            "marker": {
             "colorbar": {
              "outlinewidth": 0,
              "ticks": ""
             }
            },
            "type": "scattergl"
           }
          ],
          "scattermapbox": [
           {
            "marker": {
             "colorbar": {
              "outlinewidth": 0,
              "ticks": ""
             }
            },
            "type": "scattermapbox"
           }
          ],
          "scatterpolar": [
           {
            "marker": {
             "colorbar": {
              "outlinewidth": 0,
              "ticks": ""
             }
            },
            "type": "scatterpolar"
           }
          ],
          "scatterpolargl": [
           {
            "marker": {
             "colorbar": {
              "outlinewidth": 0,
              "ticks": ""
             }
            },
            "type": "scatterpolargl"
           }
          ],
          "scatterternary": [
           {
            "marker": {
             "colorbar": {
              "outlinewidth": 0,
              "ticks": ""
             }
            },
            "type": "scatterternary"
           }
          ],
          "surface": [
           {
            "colorbar": {
             "outlinewidth": 0,
             "ticks": ""
            },
            "colorscale": [
             [
              0,
              "#0d0887"
             ],
             [
              0.1111111111111111,
              "#46039f"
             ],
             [
              0.2222222222222222,
              "#7201a8"
             ],
             [
              0.3333333333333333,
              "#9c179e"
             ],
             [
              0.4444444444444444,
              "#bd3786"
             ],
             [
              0.5555555555555556,
              "#d8576b"
             ],
             [
              0.6666666666666666,
              "#ed7953"
             ],
             [
              0.7777777777777778,
              "#fb9f3a"
             ],
             [
              0.8888888888888888,
              "#fdca26"
             ],
             [
              1,
              "#f0f921"
             ]
            ],
            "type": "surface"
           }
          ],
          "table": [
           {
            "cells": {
             "fill": {
              "color": "#EBF0F8"
             },
             "line": {
              "color": "white"
             }
            },
            "header": {
             "fill": {
              "color": "#C8D4E3"
             },
             "line": {
              "color": "white"
             }
            },
            "type": "table"
           }
          ]
         },
         "layout": {
          "annotationdefaults": {
           "arrowcolor": "#2a3f5f",
           "arrowhead": 0,
           "arrowwidth": 1
          },
          "autotypenumbers": "strict",
          "coloraxis": {
           "colorbar": {
            "outlinewidth": 0,
            "ticks": ""
           }
          },
          "colorscale": {
           "diverging": [
            [
             0,
             "#8e0152"
            ],
            [
             0.1,
             "#c51b7d"
            ],
            [
             0.2,
             "#de77ae"
            ],
            [
             0.3,
             "#f1b6da"
            ],
            [
             0.4,
             "#fde0ef"
            ],
            [
             0.5,
             "#f7f7f7"
            ],
            [
             0.6,
             "#e6f5d0"
            ],
            [
             0.7,
             "#b8e186"
            ],
            [
             0.8,
             "#7fbc41"
            ],
            [
             0.9,
             "#4d9221"
            ],
            [
             1,
             "#276419"
            ]
           ],
           "sequential": [
            [
             0,
             "#0d0887"
            ],
            [
             0.1111111111111111,
             "#46039f"
            ],
            [
             0.2222222222222222,
             "#7201a8"
            ],
            [
             0.3333333333333333,
             "#9c179e"
            ],
            [
             0.4444444444444444,
             "#bd3786"
            ],
            [
             0.5555555555555556,
             "#d8576b"
            ],
            [
             0.6666666666666666,
             "#ed7953"
            ],
            [
             0.7777777777777778,
             "#fb9f3a"
            ],
            [
             0.8888888888888888,
             "#fdca26"
            ],
            [
             1,
             "#f0f921"
            ]
           ],
           "sequentialminus": [
            [
             0,
             "#0d0887"
            ],
            [
             0.1111111111111111,
             "#46039f"
            ],
            [
             0.2222222222222222,
             "#7201a8"
            ],
            [
             0.3333333333333333,
             "#9c179e"
            ],
            [
             0.4444444444444444,
             "#bd3786"
            ],
            [
             0.5555555555555556,
             "#d8576b"
            ],
            [
             0.6666666666666666,
             "#ed7953"
            ],
            [
             0.7777777777777778,
             "#fb9f3a"
            ],
            [
             0.8888888888888888,
             "#fdca26"
            ],
            [
             1,
             "#f0f921"
            ]
           ]
          },
          "colorway": [
           "#636efa",
           "#EF553B",
           "#00cc96",
           "#ab63fa",
           "#FFA15A",
           "#19d3f3",
           "#FF6692",
           "#B6E880",
           "#FF97FF",
           "#FECB52"
          ],
          "font": {
           "color": "#2a3f5f"
          },
          "geo": {
           "bgcolor": "white",
           "lakecolor": "white",
           "landcolor": "#E5ECF6",
           "showlakes": true,
           "showland": true,
           "subunitcolor": "white"
          },
          "hoverlabel": {
           "align": "left"
          },
          "hovermode": "closest",
          "mapbox": {
           "style": "light"
          },
          "paper_bgcolor": "white",
          "plot_bgcolor": "#E5ECF6",
          "polar": {
           "angularaxis": {
            "gridcolor": "white",
            "linecolor": "white",
            "ticks": ""
           },
           "bgcolor": "#E5ECF6",
           "radialaxis": {
            "gridcolor": "white",
            "linecolor": "white",
            "ticks": ""
           }
          },
          "scene": {
           "xaxis": {
            "backgroundcolor": "#E5ECF6",
            "gridcolor": "white",
            "gridwidth": 2,
            "linecolor": "white",
            "showbackground": true,
            "ticks": "",
            "zerolinecolor": "white"
           },
           "yaxis": {
            "backgroundcolor": "#E5ECF6",
            "gridcolor": "white",
            "gridwidth": 2,
            "linecolor": "white",
            "showbackground": true,
            "ticks": "",
            "zerolinecolor": "white"
           },
           "zaxis": {
            "backgroundcolor": "#E5ECF6",
            "gridcolor": "white",
            "gridwidth": 2,
            "linecolor": "white",
            "showbackground": true,
            "ticks": "",
            "zerolinecolor": "white"
           }
          },
          "shapedefaults": {
           "line": {
            "color": "#2a3f5f"
           }
          },
          "ternary": {
           "aaxis": {
            "gridcolor": "white",
            "linecolor": "white",
            "ticks": ""
           },
           "baxis": {
            "gridcolor": "white",
            "linecolor": "white",
            "ticks": ""
           },
           "bgcolor": "#E5ECF6",
           "caxis": {
            "gridcolor": "white",
            "linecolor": "white",
            "ticks": ""
           }
          },
          "title": {
           "x": 0.05
          },
          "xaxis": {
           "automargin": true,
           "gridcolor": "white",
           "linecolor": "white",
           "ticks": "",
           "title": {
            "standoff": 15
           },
           "zerolinecolor": "white",
           "zerolinewidth": 2
          },
          "yaxis": {
           "automargin": true,
           "gridcolor": "white",
           "linecolor": "white",
           "ticks": "",
           "title": {
            "standoff": 15
           },
           "zerolinecolor": "white",
           "zerolinewidth": 2
          }
         }
        },
        "xaxis": {
         "anchor": "y",
         "domain": [
          0,
          1
         ],
         "title": {
          "text": "sat_score"
         }
        },
        "yaxis": {
         "anchor": "x",
         "domain": [
          0,
          1
         ],
         "title": {
          "text": "hispanic_per"
         }
        }
       }
      },
      "text/html": [
       "<div>                            <div id=\"8819e2ca-9e1d-4564-b975-c3e66da24d4d\" class=\"plotly-graph-div\" style=\"height:525px; width:100%;\"></div>            <script type=\"text/javascript\">                require([\"plotly\"], function(Plotly) {                    window.PLOTLYENV=window.PLOTLYENV || {};                                    if (document.getElementById(\"8819e2ca-9e1d-4564-b975-c3e66da24d4d\")) {                    Plotly.newPlot(                        \"8819e2ca-9e1d-4564-b975-c3e66da24d4d\",                        [{\"hovertemplate\":\"sat_score=%{x}<br>hispanic_per=%{y}<extra></extra>\",\"legendgroup\":\"\",\"marker\":{\"color\":\"#636efa\",\"symbol\":\"circle\"},\"mode\":\"markers\",\"name\":\"\",\"orientation\":\"v\",\"showlegend\":false,\"x\":[1122.0,1172.0,1149.0,1207.0,1621.0,1856.0,1182.0,1194.0,1156.0,1111.0,1293.0,1269.0,1051.0,1148.0,1200.0,1127.0,1176.0,1435.0,1223.4388059701494,1223.4388059701494,1223.4388059701494,1419.0,1522.0,1577.0,1677.0,1419.0,1758.0,1614.0,1170.0,1306.0,1233.0,1223.4388059701494,1223.4388059701494,1223.4388059701494,1372.0,1199.0,1227.0,2096.0,1374.0,1070.0,1416.0,1240.0,1239.0,1253.0,1058.0,1168.0,1424.0,1212.0,1195.0,1257.0,1255.0,1207.0,1315.0,1236.0,1132.0,1144.0,1223.4388059701494,1223.4388059701494,1109.0,1223.4388059701494,1744.0,1707.0,1196.0,1277.0,1446.0,1096.0,1084.0,1430.0,1128.0,1221.0,1326.0,1326.0,1054.0,1210.0,1223.4388059701494,1062.0,1077.0,1374.0,1202.0,1847.0,1270.0,1105.0,1174.0,1223.4388059701494,1127.0,1098.0,1102.0,1224.0,1309.0,1014.0,1090.0,945.0,1077.0,1097.0,1201.0,1257.0,1186.0,1103.0,1084.0,1181.0,1201.0,1158.0,1095.0,1223.4388059701494,1171.0,1158.0,1038.0,1164.0,1084.0,1223.4388059701494,1223.4388059701494,1241.0,1223.4388059701494,1099.0,1131.0,1049.0,1134.0,1290.0,1169.0,1092.0,1396.0,1075.0,1081.0,1148.0,1223.4388059701494,1138.0,951.0,965.0,1074.0,1083.0,1221.0,1224.0,1121.0,1166.0,1039.0,1333.0,1150.0,1190.0,1157.0,1158.0,962.0,1182.0,934.0,1181.0,1180.0,1106.0,1222.0,1077.0,1119.0,1082.0,1255.0,1270.0,1969.0,1263.0,1064.0,1115.0,1920.0,1133.0,1147.0,1135.0,1141.0,1111.0,1348.0,1135.0,1169.0,1268.0,1151.0,1048.0,1112.0,1288.0,1126.0,1163.0,1055.0,1122.0,1251.0,1102.0,1155.0,970.0,1223.4388059701494,1223.4388059701494,939.0,1029.0,1114.0,1038.0,1074.0,1080.0,1114.0,1211.0,1833.0,981.0,1206.0,1116.0,1223.4388059701494,1312.0,1189.0,1391.0,1353.0,1085.0,1223.4388059701494,1740.0,1189.0,1114.0,1204.0,1215.0,1090.0,1112.0,1187.0,1103.0,1093.0,1122.0,1035.0,1111.0,1179.0,1203.0,1169.0,1175.0,1212.0,1185.0,1258.0,1223.4388059701494,1068.0,1097.0,1092.0,1223.4388059701494,1139.0,1045.0,913.0,1176.0,1088.0,1153.0,1027.0,1105.0,1360.0,1273.0,1143.0,1151.0,1436.0,1251.0,963.0,1145.0,1118.0,1092.0,1143.0,1080.0,1183.0,1169.0,1159.0,1111.0,1135.0,1242.0,1023.0,1054.0,1149.0,1106.0,887.0,1193.0,1096.0,1108.0,1129.0,1102.0,1157.0,1272.0,1323.0,1306.0,1244.0,1223.4388059701494,1026.0,1237.0,1164.0,1226.0,1223.4388059701494,1431.0,1262.0,1124.0,1079.0,1184.0,1313.0,1473.0,1350.0,1627.0,1352.0,1185.0,1091.0,1196.0,1280.0,1219.0,1240.0,951.0,1663.0,1203.0,1211.0,1177.0,1064.0,1174.0,1330.0,1270.0,1364.0,1396.0,1049.0,1271.0,1441.0,1243.0,1216.0,1910.0,1330.0,1514.0,1474.0,1172.0,1449.0,1279.0,1145.0,1252.0,1156.0,1265.0,1094.0,1532.0,1108.0,1154.0,1192.0,1345.0,1223.4388059701494,1265.0,1223.4388059701494,1407.0,1194.0,1372.0,1538.0,1223.4388059701494,1868.0,1196.0,1316.0,1099.0,1173.0,1202.0,1287.0,1100.0,1223.4388059701494,1220.0,1151.0,1223.4388059701494,1255.0,1275.0,1218.0,1494.0,1239.0,1127.0,1470.0,1636.0,1353.0,1195.0,1426.0,1277.0,1279.0,1301.0,1418.0,1388.0,1235.0,1953.0,1098.0,1154.0,1035.0,1060.0,1315.0,1055.0],\"xaxis\":\"x\",\"y\":[53.8,45.9,55.4,56.9,14.2,18.2,59.2,47.6,60.6,66.1,42.0,59.2,73.2,50.6,55.7,48.4,45.1,43.0,58.7,57.2,32.8,57.2,23.7,14.6,14.0,39.9,11.6,21.7,74.8,49.7,54.2,84.6,62.4,43.2,71.8,59.0,36.9,2.4,43.5,55.3,39.3,46.6,69.9,42.4,99.8,62.2,4.0,49.3,59.3,52.3,57.8,60.5,51.0,64.3,58.9,56.0,76.0,62.6,38.8,37.0,22.8,16.6,48.1,57.2,41.5,18.9,58.7,57.4,59.6,64.5,60.1,60.1,69.4,63.8,48.5,38.1,38.2,22.8,20.9,21.2,92.0,93.8,96.7,72.5,91.4,87.1,84.4,83.8,62.3,99.8,68.8,71.8,65.5,76.0,78.1,72.7,68.8,56.0,68.1,70.4,64.3,61.5,56.9,74.8,46.4,63.8,69.9,64.3,56.8,60.2,66.0,60.6,83.2,76.0,65.4,69.3,33.8,63.4,58.1,73.7,68.7,63.8,63.5,73.1,64.5,69.9,99.4,72.2,64.5,59.9,57.8,66.2,41.4,57.0,62.5,53.0,64.2,69.7,57.4,69.5,84.7,65.2,99.8,81.9,59.9,70.4,65.6,61.5,67.8,64.6,59.6,69.5,7.2,57.9,69.0,75.6,18.0,36.3,47.6,57.3,32.0,59.5,46.8,41.2,46.0,62.3,43.8,70.4,37.3,49.7,59.9,72.6,72.9,65.5,73.2,68.3,53.7,99.8,65.0,59.8,84.6,68.8,42.2,77.5,24.6,22.7,17.1,12.2,7.9,28.6,17.1,12.2,11.7,7.1,15.3,8.8,26.3,80.6,29.8,17.9,46.9,65.4,39.3,55.4,37.7,57.2,61.5,54.6,30.2,31.2,87.6,39.0,48.1,29.6,43.2,51.8,38.9,21.0,19.0,80.8,14.1,7.8,24.9,20.8,6.7,12.9,27.9,7.3,8.3,8.4,9.1,9.0,9.4,12.2,14.2,15.3,2.8,5.8,4.5,8.5,12.8,8.8,5.8,9.6,10.6,11.4,12.4,12.0,10.5,30.3,23.4,22.2,17.4,14.2,99.8,23.2,50.2,65.0,73.2,25.4,34.7,28.0,54.1,30.2,27.3,21.9,21.0,25.8,23.0,20.1,22.7,17.6,19.1,29.9,41.2,14.0,23.1,11.7,14.5,10.8,12.4,8.3,10.4,13.1,56.4,57.2,79.3,100.0,21.2,60.3,63.5,71.4,44.0,79.2,62.4,74.2,55.3,24.2,32.7,17.9,20.3,40.7,49.8,12.9,35.4,18.6,24.1,15.1,22.3,16.8,27.0,27.5,30.0,42.6,34.2,15.9,11.5,46.4,37.1,41.6,10.2,18.5,21.0,30.2,22.8,21.1,15.7,38.6,7.9,15.1,18.4,8.2,2.9,9.7,14.1,10.4,7.5,11.9,8.5,40.4,53.5,48.8,62.7,27.2,56.6,43.5,34.7,24.3,17.9,17.6,16.9,27.3,37.6,31.9,9.9,24.1,33.2,5.3,77.1,88.1,68.7,70.4,79.5,77.3],\"yaxis\":\"y\",\"type\":\"scatter\"},{\"hovertemplate\":\"<b>OLS trendline</b><br>hispanic_per = -0.0555457 * sat_score + 112.069<br>R<sup>2</sup>=0.157416<br><br>sat_score=%{x}<br>hispanic_per=%{y} <b>(trend)</b><extra></extra>\",\"legendgroup\":\"\",\"marker\":{\"color\":\"#636efa\",\"symbol\":\"circle\"},\"mode\":\"lines\",\"name\":\"\",\"showlegend\":false,\"x\":[887.0,913.0,934.0,939.0,945.0,951.0,951.0,962.0,963.0,965.0,970.0,981.0,1014.0,1023.0,1026.0,1027.0,1029.0,1035.0,1035.0,1038.0,1038.0,1039.0,1045.0,1048.0,1049.0,1049.0,1051.0,1054.0,1054.0,1055.0,1055.0,1058.0,1060.0,1062.0,1064.0,1064.0,1068.0,1070.0,1074.0,1074.0,1075.0,1077.0,1077.0,1077.0,1079.0,1080.0,1080.0,1081.0,1082.0,1083.0,1084.0,1084.0,1084.0,1085.0,1088.0,1090.0,1090.0,1091.0,1092.0,1092.0,1092.0,1093.0,1094.0,1095.0,1096.0,1096.0,1097.0,1097.0,1098.0,1098.0,1099.0,1099.0,1100.0,1102.0,1102.0,1102.0,1103.0,1103.0,1105.0,1105.0,1106.0,1106.0,1108.0,1108.0,1109.0,1111.0,1111.0,1111.0,1111.0,1112.0,1112.0,1114.0,1114.0,1114.0,1115.0,1116.0,1118.0,1119.0,1121.0,1122.0,1122.0,1122.0,1124.0,1126.0,1127.0,1127.0,1127.0,1128.0,1129.0,1131.0,1132.0,1133.0,1134.0,1135.0,1135.0,1135.0,1138.0,1139.0,1141.0,1143.0,1143.0,1144.0,1145.0,1145.0,1147.0,1148.0,1148.0,1149.0,1149.0,1150.0,1151.0,1151.0,1151.0,1153.0,1154.0,1154.0,1155.0,1156.0,1156.0,1157.0,1157.0,1158.0,1158.0,1158.0,1159.0,1163.0,1164.0,1164.0,1166.0,1168.0,1169.0,1169.0,1169.0,1169.0,1170.0,1171.0,1172.0,1172.0,1173.0,1174.0,1174.0,1175.0,1176.0,1176.0,1177.0,1179.0,1180.0,1181.0,1181.0,1182.0,1182.0,1183.0,1184.0,1185.0,1185.0,1186.0,1187.0,1189.0,1189.0,1190.0,1192.0,1193.0,1194.0,1194.0,1195.0,1195.0,1196.0,1196.0,1196.0,1199.0,1200.0,1201.0,1201.0,1202.0,1202.0,1203.0,1203.0,1204.0,1206.0,1207.0,1207.0,1210.0,1211.0,1211.0,1212.0,1212.0,1215.0,1216.0,1218.0,1219.0,1220.0,1221.0,1221.0,1222.0,1223.4388059701494,1223.4388059701494,1223.4388059701494,1223.4388059701494,1223.4388059701494,1223.4388059701494,1223.4388059701494,1223.4388059701494,1223.4388059701494,1223.4388059701494,1223.4388059701494,1223.4388059701494,1223.4388059701494,1223.4388059701494,1223.4388059701494,1223.4388059701494,1223.4388059701494,1223.4388059701494,1223.4388059701494,1223.4388059701494,1223.4388059701494,1223.4388059701494,1223.4388059701494,1223.4388059701494,1223.4388059701494,1223.4388059701494,1223.4388059701494,1223.4388059701494,1223.4388059701494,1224.0,1224.0,1226.0,1227.0,1233.0,1235.0,1236.0,1237.0,1239.0,1239.0,1240.0,1240.0,1241.0,1242.0,1243.0,1244.0,1251.0,1251.0,1252.0,1253.0,1255.0,1255.0,1255.0,1257.0,1257.0,1258.0,1262.0,1263.0,1265.0,1265.0,1268.0,1269.0,1270.0,1270.0,1270.0,1271.0,1272.0,1273.0,1275.0,1277.0,1277.0,1279.0,1279.0,1280.0,1287.0,1288.0,1290.0,1293.0,1301.0,1306.0,1306.0,1309.0,1312.0,1313.0,1315.0,1315.0,1316.0,1323.0,1326.0,1326.0,1330.0,1330.0,1333.0,1345.0,1348.0,1350.0,1352.0,1353.0,1353.0,1360.0,1364.0,1372.0,1372.0,1374.0,1374.0,1388.0,1391.0,1396.0,1396.0,1407.0,1416.0,1418.0,1419.0,1419.0,1424.0,1426.0,1430.0,1431.0,1435.0,1436.0,1441.0,1446.0,1449.0,1470.0,1473.0,1474.0,1494.0,1514.0,1522.0,1532.0,1538.0,1577.0,1614.0,1621.0,1627.0,1636.0,1663.0,1677.0,1707.0,1740.0,1744.0,1758.0,1833.0,1847.0,1856.0,1868.0,1910.0,1920.0,1953.0,1969.0,2096.0],\"xaxis\":\"x\",\"y\":[62.80036930172799,61.35618087341848,60.18972098901464,59.911992445108964,59.57871819242216,59.245443939735345,59.245443939735345,58.63444114314286,58.578895434361726,58.467804016799455,58.19007547289378,57.579072676301294,55.74606428652383,55.24615290749362,55.079515781150214,55.02397007236908,54.91287865480681,54.57960440212,54.57960440212,54.412967275776595,54.412967275776595,54.357421566995455,54.02414731430865,53.85751018796525,53.80196447918411,53.80196447918411,53.690873061621836,53.52423593527843,53.52423593527843,53.468690226497294,53.468690226497294,53.30205310015389,53.19096168259162,53.07987026502935,52.96877884746708,52.96877884746708,52.74659601234254,52.63550459478027,52.41332175965573,52.41332175965573,52.3577760508746,52.24668463331233,52.24668463331233,52.24668463331233,52.135593215750056,52.080047506968924,52.080047506968924,52.024501798187785,51.96895608940665,51.913410380625514,51.85786467184438,51.85786467184438,51.85786467184438,51.80231896306324,51.63568183671984,51.52459041915757,51.52459041915757,51.46904471037644,51.4134990015953,51.4134990015953,51.4134990015953,51.357953292814166,51.30240758403303,51.246861875251895,51.191316166470756,51.191316166470756,51.135770457689624,51.135770457689624,51.08022474890849,51.08022474890849,51.02467904012735,51.02467904012735,50.96913333134622,50.85804191378395,50.85804191378395,50.85804191378395,50.80249620500281,50.80249620500281,50.69140478744055,50.69140478744055,50.63585907865941,50.63585907865941,50.52476766109714,50.52476766109714,50.469221952316005,50.358130534753734,50.358130534753734,50.358130534753734,50.358130534753734,50.3025848259726,50.3025848259726,50.19149340841033,50.19149340841033,50.19149340841033,50.13594769962919,50.08040199084806,49.96931057328579,49.91376486450465,49.802673446942386,49.74712773816125,49.74712773816125,49.74712773816125,49.636036320598976,49.524944903036705,49.46939919425557,49.46939919425557,49.46939919425557,49.413853485474434,49.3583077766933,49.24721635913103,49.1916706503499,49.13612494156876,49.08057923278763,49.02503352400649,49.02503352400649,49.02503352400649,48.858396397663086,48.80285068888195,48.69175927131968,48.58066785375741,48.58066785375741,48.52512214497628,48.46957643619514,48.46957643619514,48.35848501863287,48.30293930985174,48.30293930985174,48.2473936010706,48.2473936010706,48.191847892289466,48.13630218350833,48.13630218350833,48.13630218350833,48.025210765946056,47.96966505716493,47.96966505716493,47.91411934838379,47.85857363960265,47.85857363960265,47.803027930821514,47.803027930821514,47.74748222204039,47.74748222204039,47.74748222204039,47.69193651325925,47.46975367813471,47.41420796935357,47.41420796935357,47.303116551791305,47.19202513422903,47.1364794254479,47.1364794254479,47.1364794254479,47.1364794254479,47.08093371666676,47.025388007885624,46.9698422991045,46.9698422991045,46.91429659032336,46.85875088154222,46.85875088154222,46.80320517276108,46.74765946397996,46.74765946397996,46.69211375519882,46.581022337636554,46.525476628855415,46.469930920074276,46.469930920074276,46.41438521129314,46.41438521129314,46.35883950251201,46.30329379373087,46.247748084949734,46.247748084949734,46.19220237616861,46.13665666738747,46.02556524982519,46.02556524982519,45.97001954104407,45.85892812348179,45.803382414700664,45.747836705919525,45.747836705919525,45.692290997138386,45.692290997138386,45.63674528835725,45.63674528835725,45.63674528835725,45.470108162013844,45.41456245323272,45.35901674445158,45.35901674445158,45.30347103567044,45.30347103567044,45.2479253268893,45.2479253268893,45.19237961810818,45.0812882005459,45.02574249176476,45.02574249176476,44.85910536542136,44.80355965664023,44.80355965664023,44.74801394785909,44.74801394785909,44.58137682151569,44.52583111273455,44.41473969517229,44.35919398639115,44.30364827761001,44.24810256882887,44.24810256882887,44.192556860047745,44.11263736263726,44.11263736263726,44.11263736263726,44.11263736263726,44.11263736263726,44.11263736263726,44.11263736263726,44.11263736263726,44.11263736263726,44.11263736263726,44.11263736263726,44.11263736263726,44.11263736263726,44.11263736263726,44.11263736263726,44.11263736263726,44.11263736263726,44.11263736263726,44.11263736263726,44.11263736263726,44.11263736263726,44.11263736263726,44.11263736263726,44.11263736263726,44.11263736263726,44.11263736263726,44.11263736263726,44.11263736263726,44.11263736263726,44.08146544248547,44.08146544248547,43.9703740249232,43.914828316142064,43.58155406345526,43.47046264589298,43.414916937111855,43.359371228330716,43.24827981076844,43.24827981076844,43.19273410198731,43.19273410198731,43.13718839320617,43.081642684425034,43.02609697564391,42.97055126686277,42.581731305394825,42.581731305394825,42.526185596613686,42.47063988783255,42.35954847027028,42.35954847027028,42.35954847027028,42.24845705270802,42.24845705270802,42.19291134392688,41.97072850880234,41.9151828000212,41.804091382458935,41.804091382458935,41.63745425611553,41.58190854733439,41.526362838553254,41.526362838553254,41.526362838553254,41.470817129772115,41.41527142099099,41.35972571220985,41.24863429464759,41.13754287708531,41.13754287708531,41.026451459523045,41.026451459523045,40.970905750741906,40.58208578927396,40.52654008049282,40.41544866293056,40.248811536587155,39.80444586633807,39.52671732243239,39.52671732243239,39.36008019608899,39.193443069745584,39.137897360964445,39.02680594340218,39.02680594340218,38.97126023462104,38.5824402731531,38.415803146809694,38.415803146809694,38.19362031168515,38.19362031168515,38.02698318534175,37.36043467996812,37.19379755362472,37.082706136062455,36.97161471850018,36.91606900971905,36.91606900971905,36.52724904825109,36.305066213126565,35.86070054287748,35.86070054287748,35.7496091253152,35.7496091253152,34.97196920237931,34.80533207603591,34.52760353213024,34.52760353213024,33.916600735537756,33.41668935650753,33.30559793894527,33.25005223016413,33.25005223016413,32.97232368625845,32.861232268696185,32.63904943357164,32.5835037247905,32.361320889665976,32.30577518088484,32.028046636979155,31.75031809307349,31.583680966730086,30.417221082326236,30.250583955982833,30.19503824720171,29.084124071578998,27.973209895956302,27.528844225707218,26.97338713789587,26.640112885209064,24.473830242744796,22.418639017842793,22.029819056374848,21.69654480368804,21.19663342465782,19.696899287567177,18.919259364631287,17.25288810119723,15.419879711419767,15.197696876295225,14.420056953359335,10.254128794774218,9.476488871838313,8.976577492808104,8.310028987434478,5.977109218626808,5.42165213081546,3.5886437410379983,2.6999124005398443,-4.354392614664306],\"yaxis\":\"y\",\"type\":\"scatter\"}],                        {\"template\":{\"data\":{\"histogram2dcontour\":[{\"type\":\"histogram2dcontour\",\"colorbar\":{\"outlinewidth\":0,\"ticks\":\"\"},\"colorscale\":[[0.0,\"#0d0887\"],[0.1111111111111111,\"#46039f\"],[0.2222222222222222,\"#7201a8\"],[0.3333333333333333,\"#9c179e\"],[0.4444444444444444,\"#bd3786\"],[0.5555555555555556,\"#d8576b\"],[0.6666666666666666,\"#ed7953\"],[0.7777777777777778,\"#fb9f3a\"],[0.8888888888888888,\"#fdca26\"],[1.0,\"#f0f921\"]]}],\"choropleth\":[{\"type\":\"choropleth\",\"colorbar\":{\"outlinewidth\":0,\"ticks\":\"\"}}],\"histogram2d\":[{\"type\":\"histogram2d\",\"colorbar\":{\"outlinewidth\":0,\"ticks\":\"\"},\"colorscale\":[[0.0,\"#0d0887\"],[0.1111111111111111,\"#46039f\"],[0.2222222222222222,\"#7201a8\"],[0.3333333333333333,\"#9c179e\"],[0.4444444444444444,\"#bd3786\"],[0.5555555555555556,\"#d8576b\"],[0.6666666666666666,\"#ed7953\"],[0.7777777777777778,\"#fb9f3a\"],[0.8888888888888888,\"#fdca26\"],[1.0,\"#f0f921\"]]}],\"heatmap\":[{\"type\":\"heatmap\",\"colorbar\":{\"outlinewidth\":0,\"ticks\":\"\"},\"colorscale\":[[0.0,\"#0d0887\"],[0.1111111111111111,\"#46039f\"],[0.2222222222222222,\"#7201a8\"],[0.3333333333333333,\"#9c179e\"],[0.4444444444444444,\"#bd3786\"],[0.5555555555555556,\"#d8576b\"],[0.6666666666666666,\"#ed7953\"],[0.7777777777777778,\"#fb9f3a\"],[0.8888888888888888,\"#fdca26\"],[1.0,\"#f0f921\"]]}],\"heatmapgl\":[{\"type\":\"heatmapgl\",\"colorbar\":{\"outlinewidth\":0,\"ticks\":\"\"},\"colorscale\":[[0.0,\"#0d0887\"],[0.1111111111111111,\"#46039f\"],[0.2222222222222222,\"#7201a8\"],[0.3333333333333333,\"#9c179e\"],[0.4444444444444444,\"#bd3786\"],[0.5555555555555556,\"#d8576b\"],[0.6666666666666666,\"#ed7953\"],[0.7777777777777778,\"#fb9f3a\"],[0.8888888888888888,\"#fdca26\"],[1.0,\"#f0f921\"]]}],\"contourcarpet\":[{\"type\":\"contourcarpet\",\"colorbar\":{\"outlinewidth\":0,\"ticks\":\"\"}}],\"contour\":[{\"type\":\"contour\",\"colorbar\":{\"outlinewidth\":0,\"ticks\":\"\"},\"colorscale\":[[0.0,\"#0d0887\"],[0.1111111111111111,\"#46039f\"],[0.2222222222222222,\"#7201a8\"],[0.3333333333333333,\"#9c179e\"],[0.4444444444444444,\"#bd3786\"],[0.5555555555555556,\"#d8576b\"],[0.6666666666666666,\"#ed7953\"],[0.7777777777777778,\"#fb9f3a\"],[0.8888888888888888,\"#fdca26\"],[1.0,\"#f0f921\"]]}],\"surface\":[{\"type\":\"surface\",\"colorbar\":{\"outlinewidth\":0,\"ticks\":\"\"},\"colorscale\":[[0.0,\"#0d0887\"],[0.1111111111111111,\"#46039f\"],[0.2222222222222222,\"#7201a8\"],[0.3333333333333333,\"#9c179e\"],[0.4444444444444444,\"#bd3786\"],[0.5555555555555556,\"#d8576b\"],[0.6666666666666666,\"#ed7953\"],[0.7777777777777778,\"#fb9f3a\"],[0.8888888888888888,\"#fdca26\"],[1.0,\"#f0f921\"]]}],\"mesh3d\":[{\"type\":\"mesh3d\",\"colorbar\":{\"outlinewidth\":0,\"ticks\":\"\"}}],\"scatter\":[{\"fillpattern\":{\"fillmode\":\"overlay\",\"size\":10,\"solidity\":0.2},\"type\":\"scatter\"}],\"parcoords\":[{\"type\":\"parcoords\",\"line\":{\"colorbar\":{\"outlinewidth\":0,\"ticks\":\"\"}}}],\"scatterpolargl\":[{\"type\":\"scatterpolargl\",\"marker\":{\"colorbar\":{\"outlinewidth\":0,\"ticks\":\"\"}}}],\"bar\":[{\"error_x\":{\"color\":\"#2a3f5f\"},\"error_y\":{\"color\":\"#2a3f5f\"},\"marker\":{\"line\":{\"color\":\"#E5ECF6\",\"width\":0.5},\"pattern\":{\"fillmode\":\"overlay\",\"size\":10,\"solidity\":0.2}},\"type\":\"bar\"}],\"scattergeo\":[{\"type\":\"scattergeo\",\"marker\":{\"colorbar\":{\"outlinewidth\":0,\"ticks\":\"\"}}}],\"scatterpolar\":[{\"type\":\"scatterpolar\",\"marker\":{\"colorbar\":{\"outlinewidth\":0,\"ticks\":\"\"}}}],\"histogram\":[{\"marker\":{\"pattern\":{\"fillmode\":\"overlay\",\"size\":10,\"solidity\":0.2}},\"type\":\"histogram\"}],\"scattergl\":[{\"type\":\"scattergl\",\"marker\":{\"colorbar\":{\"outlinewidth\":0,\"ticks\":\"\"}}}],\"scatter3d\":[{\"type\":\"scatter3d\",\"line\":{\"colorbar\":{\"outlinewidth\":0,\"ticks\":\"\"}},\"marker\":{\"colorbar\":{\"outlinewidth\":0,\"ticks\":\"\"}}}],\"scattermapbox\":[{\"type\":\"scattermapbox\",\"marker\":{\"colorbar\":{\"outlinewidth\":0,\"ticks\":\"\"}}}],\"scatterternary\":[{\"type\":\"scatterternary\",\"marker\":{\"colorbar\":{\"outlinewidth\":0,\"ticks\":\"\"}}}],\"scattercarpet\":[{\"type\":\"scattercarpet\",\"marker\":{\"colorbar\":{\"outlinewidth\":0,\"ticks\":\"\"}}}],\"carpet\":[{\"aaxis\":{\"endlinecolor\":\"#2a3f5f\",\"gridcolor\":\"white\",\"linecolor\":\"white\",\"minorgridcolor\":\"white\",\"startlinecolor\":\"#2a3f5f\"},\"baxis\":{\"endlinecolor\":\"#2a3f5f\",\"gridcolor\":\"white\",\"linecolor\":\"white\",\"minorgridcolor\":\"white\",\"startlinecolor\":\"#2a3f5f\"},\"type\":\"carpet\"}],\"table\":[{\"cells\":{\"fill\":{\"color\":\"#EBF0F8\"},\"line\":{\"color\":\"white\"}},\"header\":{\"fill\":{\"color\":\"#C8D4E3\"},\"line\":{\"color\":\"white\"}},\"type\":\"table\"}],\"barpolar\":[{\"marker\":{\"line\":{\"color\":\"#E5ECF6\",\"width\":0.5},\"pattern\":{\"fillmode\":\"overlay\",\"size\":10,\"solidity\":0.2}},\"type\":\"barpolar\"}],\"pie\":[{\"automargin\":true,\"type\":\"pie\"}]},\"layout\":{\"autotypenumbers\":\"strict\",\"colorway\":[\"#636efa\",\"#EF553B\",\"#00cc96\",\"#ab63fa\",\"#FFA15A\",\"#19d3f3\",\"#FF6692\",\"#B6E880\",\"#FF97FF\",\"#FECB52\"],\"font\":{\"color\":\"#2a3f5f\"},\"hovermode\":\"closest\",\"hoverlabel\":{\"align\":\"left\"},\"paper_bgcolor\":\"white\",\"plot_bgcolor\":\"#E5ECF6\",\"polar\":{\"bgcolor\":\"#E5ECF6\",\"angularaxis\":{\"gridcolor\":\"white\",\"linecolor\":\"white\",\"ticks\":\"\"},\"radialaxis\":{\"gridcolor\":\"white\",\"linecolor\":\"white\",\"ticks\":\"\"}},\"ternary\":{\"bgcolor\":\"#E5ECF6\",\"aaxis\":{\"gridcolor\":\"white\",\"linecolor\":\"white\",\"ticks\":\"\"},\"baxis\":{\"gridcolor\":\"white\",\"linecolor\":\"white\",\"ticks\":\"\"},\"caxis\":{\"gridcolor\":\"white\",\"linecolor\":\"white\",\"ticks\":\"\"}},\"coloraxis\":{\"colorbar\":{\"outlinewidth\":0,\"ticks\":\"\"}},\"colorscale\":{\"sequential\":[[0.0,\"#0d0887\"],[0.1111111111111111,\"#46039f\"],[0.2222222222222222,\"#7201a8\"],[0.3333333333333333,\"#9c179e\"],[0.4444444444444444,\"#bd3786\"],[0.5555555555555556,\"#d8576b\"],[0.6666666666666666,\"#ed7953\"],[0.7777777777777778,\"#fb9f3a\"],[0.8888888888888888,\"#fdca26\"],[1.0,\"#f0f921\"]],\"sequentialminus\":[[0.0,\"#0d0887\"],[0.1111111111111111,\"#46039f\"],[0.2222222222222222,\"#7201a8\"],[0.3333333333333333,\"#9c179e\"],[0.4444444444444444,\"#bd3786\"],[0.5555555555555556,\"#d8576b\"],[0.6666666666666666,\"#ed7953\"],[0.7777777777777778,\"#fb9f3a\"],[0.8888888888888888,\"#fdca26\"],[1.0,\"#f0f921\"]],\"diverging\":[[0,\"#8e0152\"],[0.1,\"#c51b7d\"],[0.2,\"#de77ae\"],[0.3,\"#f1b6da\"],[0.4,\"#fde0ef\"],[0.5,\"#f7f7f7\"],[0.6,\"#e6f5d0\"],[0.7,\"#b8e186\"],[0.8,\"#7fbc41\"],[0.9,\"#4d9221\"],[1,\"#276419\"]]},\"xaxis\":{\"gridcolor\":\"white\",\"linecolor\":\"white\",\"ticks\":\"\",\"title\":{\"standoff\":15},\"zerolinecolor\":\"white\",\"automargin\":true,\"zerolinewidth\":2},\"yaxis\":{\"gridcolor\":\"white\",\"linecolor\":\"white\",\"ticks\":\"\",\"title\":{\"standoff\":15},\"zerolinecolor\":\"white\",\"automargin\":true,\"zerolinewidth\":2},\"scene\":{\"xaxis\":{\"backgroundcolor\":\"#E5ECF6\",\"gridcolor\":\"white\",\"linecolor\":\"white\",\"showbackground\":true,\"ticks\":\"\",\"zerolinecolor\":\"white\",\"gridwidth\":2},\"yaxis\":{\"backgroundcolor\":\"#E5ECF6\",\"gridcolor\":\"white\",\"linecolor\":\"white\",\"showbackground\":true,\"ticks\":\"\",\"zerolinecolor\":\"white\",\"gridwidth\":2},\"zaxis\":{\"backgroundcolor\":\"#E5ECF6\",\"gridcolor\":\"white\",\"linecolor\":\"white\",\"showbackground\":true,\"ticks\":\"\",\"zerolinecolor\":\"white\",\"gridwidth\":2}},\"shapedefaults\":{\"line\":{\"color\":\"#2a3f5f\"}},\"annotationdefaults\":{\"arrowcolor\":\"#2a3f5f\",\"arrowhead\":0,\"arrowwidth\":1},\"geo\":{\"bgcolor\":\"white\",\"landcolor\":\"#E5ECF6\",\"subunitcolor\":\"white\",\"showland\":true,\"showlakes\":true,\"lakecolor\":\"white\"},\"title\":{\"x\":0.05},\"mapbox\":{\"style\":\"light\"}}},\"xaxis\":{\"anchor\":\"y\",\"domain\":[0.0,1.0],\"title\":{\"text\":\"sat_score\"}},\"yaxis\":{\"anchor\":\"x\",\"domain\":[0.0,1.0],\"title\":{\"text\":\"hispanic_per\"}},\"legend\":{\"tracegroupgap\":0},\"margin\":{\"t\":60}},                        {\"responsive\": true}                    ).then(function(){\n",
       "                            \n",
       "var gd = document.getElementById('8819e2ca-9e1d-4564-b975-c3e66da24d4d');\n",
       "var x = new MutationObserver(function (mutations, observer) {{\n",
       "        var display = window.getComputedStyle(gd).display;\n",
       "        if (!display || display === 'none') {{\n",
       "            console.log([gd, 'removed!']);\n",
       "            Plotly.purge(gd);\n",
       "            observer.disconnect();\n",
       "        }}\n",
       "}});\n",
       "\n",
       "// Listen for the removal of the full notebook cells\n",
       "var notebookContainer = gd.closest('#notebook-container');\n",
       "if (notebookContainer) {{\n",
       "    x.observe(notebookContainer, {childList: true});\n",
       "}}\n",
       "\n",
       "// Listen for the clearing of the current output cell\n",
       "var outputEl = gd.closest('.output');\n",
       "if (outputEl) {{\n",
       "    x.observe(outputEl, {childList: true});\n",
       "}}\n",
       "\n",
       "                        })                };                });            </script>        </div>"
      ]
     },
     "metadata": {},
     "output_type": "display_data"
    }
   ],
   "source": [
    "hispanic_corr = combined[['sat_score','hispanic_per']]\n",
    "px.scatter(hispanic_corr, x='sat_score', y='hispanic_per', trendline='ols')"
   ]
  },
  {
   "cell_type": "code",
   "execution_count": 90,
   "id": "19f24b0b",
   "metadata": {
    "scrolled": true
   },
   "outputs": [
    {
     "data": {
      "text/plain": [
       "44                         MANHATTAN BRIDGES HIGH SCHOOL\n",
       "82      WASHINGTON HEIGHTS EXPEDITIONARY LEARNING SCHOOL\n",
       "89     GREGORIO LUPERON HIGH SCHOOL FOR SCIENCE AND M...\n",
       "126                  ACADEMY FOR LANGUAGE AND TECHNOLOGY\n",
       "142                INTERNATIONAL SCHOOL FOR LIBERAL ARTS\n",
       "177     PAN AMERICAN INTERNATIONAL HIGH SCHOOL AT MONROE\n",
       "254                            MULTICULTURAL HIGH SCHOOL\n",
       "287               PAN AMERICAN INTERNATIONAL HIGH SCHOOL\n",
       "Name: SCHOOL NAME, dtype: object"
      ]
     },
     "execution_count": 90,
     "metadata": {},
     "output_type": "execute_result"
    }
   ],
   "source": [
    "hispanic_high = combined[combined['hispanic_per'] > 95]['SCHOOL NAME']\n",
    "hispanic_high"
   ]
  },
  {
   "cell_type": "markdown",
   "id": "de104ea6",
   "metadata": {},
   "source": [
    "*It seems that all these schools are educational institutions for Spanish-speaking immigrants with poor command of English, which may explain the low sat_score.*"
   ]
  },
  {
   "cell_type": "code",
   "execution_count": 91,
   "id": "680e8974",
   "metadata": {
    "scrolled": true
   },
   "outputs": [
    {
     "data": {
      "text/plain": [
       "37                                STUYVESANT HIGH SCHOOL\n",
       "152                         BRONX HIGH SCHOOL OF SCIENCE\n",
       "188                       BROOKLYN TECHNICAL HIGH SCHOOL\n",
       "328    QUEENS HIGH SCHOOL FOR THE SCIENCES AT YORK CO...\n",
       "357                  STATEN ISLAND TECHNICAL HIGH SCHOOL\n",
       "Name: SCHOOL NAME, dtype: object"
      ]
     },
     "execution_count": 91,
     "metadata": {},
     "output_type": "execute_result"
    }
   ],
   "source": [
    "hispanic_low = combined.query('hispanic_per < 10 & sat_score > 1800')['SCHOOL NAME']\n",
    "hispanic_low"
   ]
  },
  {
   "cell_type": "markdown",
   "id": "17c3160f",
   "metadata": {},
   "source": [
    "*The listed schools teach according to the program of in-depth study of technical disciplines, so a high sat_score is not a surprise.*"
   ]
  },
  {
   "cell_type": "markdown",
   "id": "c8a8cc9b",
   "metadata": {},
   "source": [
    "### <center> Investigation gender differences in SAT score."
   ]
  },
  {
   "cell_type": "code",
   "execution_count": 94,
   "id": "bd4354e8",
   "metadata": {},
   "outputs": [
    {
     "data": {
      "application/vnd.plotly.v1+json": {
       "config": {
        "plotlyServerURL": "https://plot.ly"
       },
       "data": [
        {
         "hovertemplate": "sat_score=%{x}<br>female_per=%{y}<extra></extra>",
         "legendgroup": "",
         "marker": {
          "color": "#636efa",
          "symbol": "circle"
         },
         "mode": "markers",
         "name": "",
         "orientation": "v",
         "showlegend": false,
         "type": "scatter",
         "x": [
          1122,
          1172,
          1149,
          1207,
          1621,
          1856,
          1182,
          1194,
          1156,
          1111,
          1293,
          1269,
          1051,
          1148,
          1200,
          1127,
          1176,
          1435,
          1223.4388059701494,
          1223.4388059701494,
          1223.4388059701494,
          1419,
          1522,
          1577,
          1677,
          1419,
          1758,
          1614,
          1170,
          1306,
          1233,
          1223.4388059701494,
          1223.4388059701494,
          1223.4388059701494,
          1372,
          1199,
          1227,
          2096,
          1374,
          1070,
          1416,
          1240,
          1239,
          1253,
          1058,
          1168,
          1424,
          1212,
          1195,
          1257,
          1255,
          1207,
          1315,
          1236,
          1132,
          1144,
          1223.4388059701494,
          1223.4388059701494,
          1109,
          1223.4388059701494,
          1744,
          1707,
          1196,
          1277,
          1446,
          1096,
          1084,
          1430,
          1128,
          1221,
          1326,
          1326,
          1054,
          1210,
          1223.4388059701494,
          1062,
          1077,
          1374,
          1202,
          1847,
          1270,
          1105,
          1174,
          1223.4388059701494,
          1127,
          1098,
          1102,
          1224,
          1309,
          1014,
          1090,
          945,
          1077,
          1097,
          1201,
          1257,
          1186,
          1103,
          1084,
          1181,
          1201,
          1158,
          1095,
          1223.4388059701494,
          1171,
          1158,
          1038,
          1164,
          1084,
          1223.4388059701494,
          1223.4388059701494,
          1241,
          1223.4388059701494,
          1099,
          1131,
          1049,
          1134,
          1290,
          1169,
          1092,
          1396,
          1075,
          1081,
          1148,
          1223.4388059701494,
          1138,
          951,
          965,
          1074,
          1083,
          1221,
          1224,
          1121,
          1166,
          1039,
          1333,
          1150,
          1190,
          1157,
          1158,
          962,
          1182,
          934,
          1181,
          1180,
          1106,
          1222,
          1077,
          1119,
          1082,
          1255,
          1270,
          1969,
          1263,
          1064,
          1115,
          1920,
          1133,
          1147,
          1135,
          1141,
          1111,
          1348,
          1135,
          1169,
          1268,
          1151,
          1048,
          1112,
          1288,
          1126,
          1163,
          1055,
          1122,
          1251,
          1102,
          1155,
          970,
          1223.4388059701494,
          1223.4388059701494,
          939,
          1029,
          1114,
          1038,
          1074,
          1080,
          1114,
          1211,
          1833,
          981,
          1206,
          1116,
          1223.4388059701494,
          1312,
          1189,
          1391,
          1353,
          1085,
          1223.4388059701494,
          1740,
          1189,
          1114,
          1204,
          1215,
          1090,
          1112,
          1187,
          1103,
          1093,
          1122,
          1035,
          1111,
          1179,
          1203,
          1169,
          1175,
          1212,
          1185,
          1258,
          1223.4388059701494,
          1068,
          1097,
          1092,
          1223.4388059701494,
          1139,
          1045,
          913,
          1176,
          1088,
          1153,
          1027,
          1105,
          1360,
          1273,
          1143,
          1151,
          1436,
          1251,
          963,
          1145,
          1118,
          1092,
          1143,
          1080,
          1183,
          1169,
          1159,
          1111,
          1135,
          1242,
          1023,
          1054,
          1149,
          1106,
          887,
          1193,
          1096,
          1108,
          1129,
          1102,
          1157,
          1272,
          1323,
          1306,
          1244,
          1223.4388059701494,
          1026,
          1237,
          1164,
          1226,
          1223.4388059701494,
          1431,
          1262,
          1124,
          1079,
          1184,
          1313,
          1473,
          1350,
          1627,
          1352,
          1185,
          1091,
          1196,
          1280,
          1219,
          1240,
          951,
          1663,
          1203,
          1211,
          1177,
          1064,
          1174,
          1330,
          1270,
          1364,
          1396,
          1049,
          1271,
          1441,
          1243,
          1216,
          1910,
          1330,
          1514,
          1474,
          1172,
          1449,
          1279,
          1145,
          1252,
          1156,
          1265,
          1094,
          1532,
          1108,
          1154,
          1192,
          1345,
          1223.4388059701494,
          1265,
          1223.4388059701494,
          1407,
          1194,
          1372,
          1538,
          1223.4388059701494,
          1868,
          1196,
          1316,
          1099,
          1173,
          1202,
          1287,
          1100,
          1223.4388059701494,
          1220,
          1151,
          1223.4388059701494,
          1255,
          1275,
          1218,
          1494,
          1239,
          1127,
          1470,
          1636,
          1353,
          1195,
          1426,
          1277,
          1279,
          1301,
          1418,
          1388,
          1235,
          1953,
          1098,
          1154,
          1035,
          1060,
          1315,
          1055
         ],
         "xaxis": "x",
         "y": [
          38.6,
          42.6,
          45.3,
          53.7,
          50.8,
          68.7,
          57.5,
          55,
          46.6,
          67.8,
          56.3,
          25.1,
          49.4,
          56.1,
          60.1,
          100,
          73.7,
          51.3,
          41,
          27.6,
          52,
          49.6,
          74.7,
          56,
          53,
          57.6,
          67.5,
          61.8,
          51.5,
          70.6,
          53.9,
          45.1,
          39.4,
          38.6,
          61.5,
          53.8,
          55.7,
          40.7,
          45.5,
          37.6,
          78.6,
          50.9,
          59.4,
          78.8,
          48.6,
          61.7,
          48.7,
          39.1,
          67.4,
          92.7,
          57.3,
          35,
          53.3,
          48.4,
          44.3,
          42.1,
          43.1,
          48.6,
          61.6,
          53.4,
          61,
          73.6,
          59.9,
          32.3,
          58.9,
          45.8,
          55.6,
          53.6,
          57.9,
          67.9,
          100,
          100,
          51.4,
          46.5,
          50.4,
          51.3,
          74.6,
          47.8,
          55.9,
          34.2,
          60.4,
          47.7,
          44.2,
          47.2,
          36.2,
          36.5,
          41.4,
          47.3,
          50.1,
          51.1,
          52.6,
          51.4,
          50.8,
          49.9,
          56.8,
          54.8,
          54.7,
          46,
          42.3,
          15.7,
          55.5,
          7.3,
          71.4,
          56,
          99.7,
          62,
          34,
          50.8,
          50.8,
          38,
          53,
          38.9,
          47.7,
          57,
          50.1,
          49.9,
          0,
          50.7,
          53.4,
          54,
          53.8,
          55.9,
          47.8,
          46.2,
          51.5,
          55.9,
          51.2,
          54.3,
          47.7,
          45.1,
          57.8,
          54.1,
          48.5,
          56.7,
          85.4,
          48.2,
          17.3,
          69.1,
          83.5,
          42.1,
          47.7,
          43.4,
          51,
          51.1,
          52.8,
          57.7,
          52.8,
          56.8,
          36.6,
          55.6,
          48.9,
          59.3,
          42.2,
          53.3,
          67.9,
          47.6,
          46.2,
          64.7,
          59.2,
          40.5,
          48,
          12.7,
          42.9,
          67.3,
          41.4,
          42,
          40,
          50,
          38.7,
          51.9,
          44.7,
          17.5,
          46,
          49.2,
          50.2,
          47,
          55,
          48.5,
          59.2,
          55.7,
          48,
          45.9,
          46.3,
          47.4,
          63,
          57.3,
          54.5,
          43.9,
          41.7,
          51.8,
          60.4,
          44.2,
          100,
          51,
          24.5,
          53.9,
          20.6,
          45.3,
          43.3,
          45.1,
          53.8,
          51.5,
          54.2,
          34.3,
          52.2,
          27.4,
          49,
          46.3,
          4.4,
          23.1,
          57.3,
          43.8,
          40.9,
          55.8,
          57.7,
          47.2,
          49.2,
          56.1,
          66.1,
          49.3,
          51.3,
          38.3,
          48.4,
          48.4,
          46.2,
          50.2,
          40.9,
          49.9,
          48.4,
          48,
          38.4,
          36.7,
          47,
          75.1,
          45.6,
          67.2,
          58.2,
          76.2,
          51,
          39,
          63.9,
          35.7,
          51.1,
          52.6,
          33.5,
          48.5,
          78.5,
          45.3,
          37.4,
          56.8,
          18.9,
          45.6,
          48.6,
          63.2,
          50.2,
          15.9,
          29.7,
          41.6,
          52.2,
          70.2,
          62.4,
          40.7,
          46.5,
          46.6,
          41.6,
          100,
          41.1,
          46.4,
          11.1,
          43.6,
          42.2,
          57.6,
          48.5,
          49,
          48.7,
          22,
          49.9,
          54.7,
          45.6,
          58.8,
          63.7,
          49.3,
          51.5,
          65.9,
          50.7,
          56.2,
          55.5,
          52.2,
          60.7,
          42.5,
          45,
          47.1,
          54,
          56.9,
          53.4,
          39.7,
          14.7,
          53.3,
          42.7,
          45.9,
          57.8,
          50.8,
          44.2,
          71.1,
          46.2,
          52.6,
          50.8,
          45.7,
          50.6,
          54.2,
          47.4,
          48.9,
          45.5,
          51.9,
          56.2,
          56.1,
          44.8,
          47,
          45.5,
          32.7,
          48.9,
          50.1,
          53,
          51.9,
          53.9,
          34.9,
          61.9,
          50.4,
          43.5,
          47,
          100,
          44,
          46.7,
          43.1,
          52.7,
          56.9,
          44.9,
          39.6,
          57.2,
          100,
          46.8,
          46.3,
          48.7,
          70,
          28.2,
          46.8,
          55,
          55.2,
          58.5,
          48,
          50.8,
          47.5,
          45.2,
          53.6,
          50.4,
          49.2,
          32.9,
          43,
          50,
          47.9,
          51.6,
          45.5,
          47.9,
          46.8
         ],
         "yaxis": "y"
        }
       ],
       "layout": {
        "legend": {
         "tracegroupgap": 0
        },
        "margin": {
         "t": 60
        },
        "template": {
         "data": {
          "bar": [
           {
            "error_x": {
             "color": "#2a3f5f"
            },
            "error_y": {
             "color": "#2a3f5f"
            },
            "marker": {
             "line": {
              "color": "#E5ECF6",
              "width": 0.5
             },
             "pattern": {
              "fillmode": "overlay",
              "size": 10,
              "solidity": 0.2
             }
            },
            "type": "bar"
           }
          ],
          "barpolar": [
           {
            "marker": {
             "line": {
              "color": "#E5ECF6",
              "width": 0.5
             },
             "pattern": {
              "fillmode": "overlay",
              "size": 10,
              "solidity": 0.2
             }
            },
            "type": "barpolar"
           }
          ],
          "carpet": [
           {
            "aaxis": {
             "endlinecolor": "#2a3f5f",
             "gridcolor": "white",
             "linecolor": "white",
             "minorgridcolor": "white",
             "startlinecolor": "#2a3f5f"
            },
            "baxis": {
             "endlinecolor": "#2a3f5f",
             "gridcolor": "white",
             "linecolor": "white",
             "minorgridcolor": "white",
             "startlinecolor": "#2a3f5f"
            },
            "type": "carpet"
           }
          ],
          "choropleth": [
           {
            "colorbar": {
             "outlinewidth": 0,
             "ticks": ""
            },
            "type": "choropleth"
           }
          ],
          "contour": [
           {
            "colorbar": {
             "outlinewidth": 0,
             "ticks": ""
            },
            "colorscale": [
             [
              0,
              "#0d0887"
             ],
             [
              0.1111111111111111,
              "#46039f"
             ],
             [
              0.2222222222222222,
              "#7201a8"
             ],
             [
              0.3333333333333333,
              "#9c179e"
             ],
             [
              0.4444444444444444,
              "#bd3786"
             ],
             [
              0.5555555555555556,
              "#d8576b"
             ],
             [
              0.6666666666666666,
              "#ed7953"
             ],
             [
              0.7777777777777778,
              "#fb9f3a"
             ],
             [
              0.8888888888888888,
              "#fdca26"
             ],
             [
              1,
              "#f0f921"
             ]
            ],
            "type": "contour"
           }
          ],
          "contourcarpet": [
           {
            "colorbar": {
             "outlinewidth": 0,
             "ticks": ""
            },
            "type": "contourcarpet"
           }
          ],
          "heatmap": [
           {
            "colorbar": {
             "outlinewidth": 0,
             "ticks": ""
            },
            "colorscale": [
             [
              0,
              "#0d0887"
             ],
             [
              0.1111111111111111,
              "#46039f"
             ],
             [
              0.2222222222222222,
              "#7201a8"
             ],
             [
              0.3333333333333333,
              "#9c179e"
             ],
             [
              0.4444444444444444,
              "#bd3786"
             ],
             [
              0.5555555555555556,
              "#d8576b"
             ],
             [
              0.6666666666666666,
              "#ed7953"
             ],
             [
              0.7777777777777778,
              "#fb9f3a"
             ],
             [
              0.8888888888888888,
              "#fdca26"
             ],
             [
              1,
              "#f0f921"
             ]
            ],
            "type": "heatmap"
           }
          ],
          "heatmapgl": [
           {
            "colorbar": {
             "outlinewidth": 0,
             "ticks": ""
            },
            "colorscale": [
             [
              0,
              "#0d0887"
             ],
             [
              0.1111111111111111,
              "#46039f"
             ],
             [
              0.2222222222222222,
              "#7201a8"
             ],
             [
              0.3333333333333333,
              "#9c179e"
             ],
             [
              0.4444444444444444,
              "#bd3786"
             ],
             [
              0.5555555555555556,
              "#d8576b"
             ],
             [
              0.6666666666666666,
              "#ed7953"
             ],
             [
              0.7777777777777778,
              "#fb9f3a"
             ],
             [
              0.8888888888888888,
              "#fdca26"
             ],
             [
              1,
              "#f0f921"
             ]
            ],
            "type": "heatmapgl"
           }
          ],
          "histogram": [
           {
            "marker": {
             "pattern": {
              "fillmode": "overlay",
              "size": 10,
              "solidity": 0.2
             }
            },
            "type": "histogram"
           }
          ],
          "histogram2d": [
           {
            "colorbar": {
             "outlinewidth": 0,
             "ticks": ""
            },
            "colorscale": [
             [
              0,
              "#0d0887"
             ],
             [
              0.1111111111111111,
              "#46039f"
             ],
             [
              0.2222222222222222,
              "#7201a8"
             ],
             [
              0.3333333333333333,
              "#9c179e"
             ],
             [
              0.4444444444444444,
              "#bd3786"
             ],
             [
              0.5555555555555556,
              "#d8576b"
             ],
             [
              0.6666666666666666,
              "#ed7953"
             ],
             [
              0.7777777777777778,
              "#fb9f3a"
             ],
             [
              0.8888888888888888,
              "#fdca26"
             ],
             [
              1,
              "#f0f921"
             ]
            ],
            "type": "histogram2d"
           }
          ],
          "histogram2dcontour": [
           {
            "colorbar": {
             "outlinewidth": 0,
             "ticks": ""
            },
            "colorscale": [
             [
              0,
              "#0d0887"
             ],
             [
              0.1111111111111111,
              "#46039f"
             ],
             [
              0.2222222222222222,
              "#7201a8"
             ],
             [
              0.3333333333333333,
              "#9c179e"
             ],
             [
              0.4444444444444444,
              "#bd3786"
             ],
             [
              0.5555555555555556,
              "#d8576b"
             ],
             [
              0.6666666666666666,
              "#ed7953"
             ],
             [
              0.7777777777777778,
              "#fb9f3a"
             ],
             [
              0.8888888888888888,
              "#fdca26"
             ],
             [
              1,
              "#f0f921"
             ]
            ],
            "type": "histogram2dcontour"
           }
          ],
          "mesh3d": [
           {
            "colorbar": {
             "outlinewidth": 0,
             "ticks": ""
            },
            "type": "mesh3d"
           }
          ],
          "parcoords": [
           {
            "line": {
             "colorbar": {
              "outlinewidth": 0,
              "ticks": ""
             }
            },
            "type": "parcoords"
           }
          ],
          "pie": [
           {
            "automargin": true,
            "type": "pie"
           }
          ],
          "scatter": [
           {
            "fillpattern": {
             "fillmode": "overlay",
             "size": 10,
             "solidity": 0.2
            },
            "type": "scatter"
           }
          ],
          "scatter3d": [
           {
            "line": {
             "colorbar": {
              "outlinewidth": 0,
              "ticks": ""
             }
            },
            "marker": {
             "colorbar": {
              "outlinewidth": 0,
              "ticks": ""
             }
            },
            "type": "scatter3d"
           }
          ],
          "scattercarpet": [
           {
            "marker": {
             "colorbar": {
              "outlinewidth": 0,
              "ticks": ""
             }
            },
            "type": "scattercarpet"
           }
          ],
          "scattergeo": [
           {
            "marker": {
             "colorbar": {
              "outlinewidth": 0,
              "ticks": ""
             }
            },
            "type": "scattergeo"
           }
          ],
          "scattergl": [
           {
            "marker": {
             "colorbar": {
              "outlinewidth": 0,
              "ticks": ""
             }
            },
            "type": "scattergl"
           }
          ],
          "scattermapbox": [
           {
            "marker": {
             "colorbar": {
              "outlinewidth": 0,
              "ticks": ""
             }
            },
            "type": "scattermapbox"
           }
          ],
          "scatterpolar": [
           {
            "marker": {
             "colorbar": {
              "outlinewidth": 0,
              "ticks": ""
             }
            },
            "type": "scatterpolar"
           }
          ],
          "scatterpolargl": [
           {
            "marker": {
             "colorbar": {
              "outlinewidth": 0,
              "ticks": ""
             }
            },
            "type": "scatterpolargl"
           }
          ],
          "scatterternary": [
           {
            "marker": {
             "colorbar": {
              "outlinewidth": 0,
              "ticks": ""
             }
            },
            "type": "scatterternary"
           }
          ],
          "surface": [
           {
            "colorbar": {
             "outlinewidth": 0,
             "ticks": ""
            },
            "colorscale": [
             [
              0,
              "#0d0887"
             ],
             [
              0.1111111111111111,
              "#46039f"
             ],
             [
              0.2222222222222222,
              "#7201a8"
             ],
             [
              0.3333333333333333,
              "#9c179e"
             ],
             [
              0.4444444444444444,
              "#bd3786"
             ],
             [
              0.5555555555555556,
              "#d8576b"
             ],
             [
              0.6666666666666666,
              "#ed7953"
             ],
             [
              0.7777777777777778,
              "#fb9f3a"
             ],
             [
              0.8888888888888888,
              "#fdca26"
             ],
             [
              1,
              "#f0f921"
             ]
            ],
            "type": "surface"
           }
          ],
          "table": [
           {
            "cells": {
             "fill": {
              "color": "#EBF0F8"
             },
             "line": {
              "color": "white"
             }
            },
            "header": {
             "fill": {
              "color": "#C8D4E3"
             },
             "line": {
              "color": "white"
             }
            },
            "type": "table"
           }
          ]
         },
         "layout": {
          "annotationdefaults": {
           "arrowcolor": "#2a3f5f",
           "arrowhead": 0,
           "arrowwidth": 1
          },
          "autotypenumbers": "strict",
          "coloraxis": {
           "colorbar": {
            "outlinewidth": 0,
            "ticks": ""
           }
          },
          "colorscale": {
           "diverging": [
            [
             0,
             "#8e0152"
            ],
            [
             0.1,
             "#c51b7d"
            ],
            [
             0.2,
             "#de77ae"
            ],
            [
             0.3,
             "#f1b6da"
            ],
            [
             0.4,
             "#fde0ef"
            ],
            [
             0.5,
             "#f7f7f7"
            ],
            [
             0.6,
             "#e6f5d0"
            ],
            [
             0.7,
             "#b8e186"
            ],
            [
             0.8,
             "#7fbc41"
            ],
            [
             0.9,
             "#4d9221"
            ],
            [
             1,
             "#276419"
            ]
           ],
           "sequential": [
            [
             0,
             "#0d0887"
            ],
            [
             0.1111111111111111,
             "#46039f"
            ],
            [
             0.2222222222222222,
             "#7201a8"
            ],
            [
             0.3333333333333333,
             "#9c179e"
            ],
            [
             0.4444444444444444,
             "#bd3786"
            ],
            [
             0.5555555555555556,
             "#d8576b"
            ],
            [
             0.6666666666666666,
             "#ed7953"
            ],
            [
             0.7777777777777778,
             "#fb9f3a"
            ],
            [
             0.8888888888888888,
             "#fdca26"
            ],
            [
             1,
             "#f0f921"
            ]
           ],
           "sequentialminus": [
            [
             0,
             "#0d0887"
            ],
            [
             0.1111111111111111,
             "#46039f"
            ],
            [
             0.2222222222222222,
             "#7201a8"
            ],
            [
             0.3333333333333333,
             "#9c179e"
            ],
            [
             0.4444444444444444,
             "#bd3786"
            ],
            [
             0.5555555555555556,
             "#d8576b"
            ],
            [
             0.6666666666666666,
             "#ed7953"
            ],
            [
             0.7777777777777778,
             "#fb9f3a"
            ],
            [
             0.8888888888888888,
             "#fdca26"
            ],
            [
             1,
             "#f0f921"
            ]
           ]
          },
          "colorway": [
           "#636efa",
           "#EF553B",
           "#00cc96",
           "#ab63fa",
           "#FFA15A",
           "#19d3f3",
           "#FF6692",
           "#B6E880",
           "#FF97FF",
           "#FECB52"
          ],
          "font": {
           "color": "#2a3f5f"
          },
          "geo": {
           "bgcolor": "white",
           "lakecolor": "white",
           "landcolor": "#E5ECF6",
           "showlakes": true,
           "showland": true,
           "subunitcolor": "white"
          },
          "hoverlabel": {
           "align": "left"
          },
          "hovermode": "closest",
          "mapbox": {
           "style": "light"
          },
          "paper_bgcolor": "white",
          "plot_bgcolor": "#E5ECF6",
          "polar": {
           "angularaxis": {
            "gridcolor": "white",
            "linecolor": "white",
            "ticks": ""
           },
           "bgcolor": "#E5ECF6",
           "radialaxis": {
            "gridcolor": "white",
            "linecolor": "white",
            "ticks": ""
           }
          },
          "scene": {
           "xaxis": {
            "backgroundcolor": "#E5ECF6",
            "gridcolor": "white",
            "gridwidth": 2,
            "linecolor": "white",
            "showbackground": true,
            "ticks": "",
            "zerolinecolor": "white"
           },
           "yaxis": {
            "backgroundcolor": "#E5ECF6",
            "gridcolor": "white",
            "gridwidth": 2,
            "linecolor": "white",
            "showbackground": true,
            "ticks": "",
            "zerolinecolor": "white"
           },
           "zaxis": {
            "backgroundcolor": "#E5ECF6",
            "gridcolor": "white",
            "gridwidth": 2,
            "linecolor": "white",
            "showbackground": true,
            "ticks": "",
            "zerolinecolor": "white"
           }
          },
          "shapedefaults": {
           "line": {
            "color": "#2a3f5f"
           }
          },
          "ternary": {
           "aaxis": {
            "gridcolor": "white",
            "linecolor": "white",
            "ticks": ""
           },
           "baxis": {
            "gridcolor": "white",
            "linecolor": "white",
            "ticks": ""
           },
           "bgcolor": "#E5ECF6",
           "caxis": {
            "gridcolor": "white",
            "linecolor": "white",
            "ticks": ""
           }
          },
          "title": {
           "x": 0.05
          },
          "xaxis": {
           "automargin": true,
           "gridcolor": "white",
           "linecolor": "white",
           "ticks": "",
           "title": {
            "standoff": 15
           },
           "zerolinecolor": "white",
           "zerolinewidth": 2
          },
          "yaxis": {
           "automargin": true,
           "gridcolor": "white",
           "linecolor": "white",
           "ticks": "",
           "title": {
            "standoff": 15
           },
           "zerolinecolor": "white",
           "zerolinewidth": 2
          }
         }
        },
        "xaxis": {
         "anchor": "y",
         "domain": [
          0,
          1
         ],
         "title": {
          "text": "sat_score"
         }
        },
        "yaxis": {
         "anchor": "x",
         "domain": [
          0,
          1
         ],
         "title": {
          "text": "female_per"
         }
        }
       }
      },
      "text/html": [
       "<div>                            <div id=\"b5cd8d02-3a15-41ce-80f5-455e06c7ef80\" class=\"plotly-graph-div\" style=\"height:525px; width:100%;\"></div>            <script type=\"text/javascript\">                require([\"plotly\"], function(Plotly) {                    window.PLOTLYENV=window.PLOTLYENV || {};                                    if (document.getElementById(\"b5cd8d02-3a15-41ce-80f5-455e06c7ef80\")) {                    Plotly.newPlot(                        \"b5cd8d02-3a15-41ce-80f5-455e06c7ef80\",                        [{\"hovertemplate\":\"sat_score=%{x}<br>female_per=%{y}<extra></extra>\",\"legendgroup\":\"\",\"marker\":{\"color\":\"#636efa\",\"symbol\":\"circle\"},\"mode\":\"markers\",\"name\":\"\",\"orientation\":\"v\",\"showlegend\":false,\"x\":[1122.0,1172.0,1149.0,1207.0,1621.0,1856.0,1182.0,1194.0,1156.0,1111.0,1293.0,1269.0,1051.0,1148.0,1200.0,1127.0,1176.0,1435.0,1223.4388059701494,1223.4388059701494,1223.4388059701494,1419.0,1522.0,1577.0,1677.0,1419.0,1758.0,1614.0,1170.0,1306.0,1233.0,1223.4388059701494,1223.4388059701494,1223.4388059701494,1372.0,1199.0,1227.0,2096.0,1374.0,1070.0,1416.0,1240.0,1239.0,1253.0,1058.0,1168.0,1424.0,1212.0,1195.0,1257.0,1255.0,1207.0,1315.0,1236.0,1132.0,1144.0,1223.4388059701494,1223.4388059701494,1109.0,1223.4388059701494,1744.0,1707.0,1196.0,1277.0,1446.0,1096.0,1084.0,1430.0,1128.0,1221.0,1326.0,1326.0,1054.0,1210.0,1223.4388059701494,1062.0,1077.0,1374.0,1202.0,1847.0,1270.0,1105.0,1174.0,1223.4388059701494,1127.0,1098.0,1102.0,1224.0,1309.0,1014.0,1090.0,945.0,1077.0,1097.0,1201.0,1257.0,1186.0,1103.0,1084.0,1181.0,1201.0,1158.0,1095.0,1223.4388059701494,1171.0,1158.0,1038.0,1164.0,1084.0,1223.4388059701494,1223.4388059701494,1241.0,1223.4388059701494,1099.0,1131.0,1049.0,1134.0,1290.0,1169.0,1092.0,1396.0,1075.0,1081.0,1148.0,1223.4388059701494,1138.0,951.0,965.0,1074.0,1083.0,1221.0,1224.0,1121.0,1166.0,1039.0,1333.0,1150.0,1190.0,1157.0,1158.0,962.0,1182.0,934.0,1181.0,1180.0,1106.0,1222.0,1077.0,1119.0,1082.0,1255.0,1270.0,1969.0,1263.0,1064.0,1115.0,1920.0,1133.0,1147.0,1135.0,1141.0,1111.0,1348.0,1135.0,1169.0,1268.0,1151.0,1048.0,1112.0,1288.0,1126.0,1163.0,1055.0,1122.0,1251.0,1102.0,1155.0,970.0,1223.4388059701494,1223.4388059701494,939.0,1029.0,1114.0,1038.0,1074.0,1080.0,1114.0,1211.0,1833.0,981.0,1206.0,1116.0,1223.4388059701494,1312.0,1189.0,1391.0,1353.0,1085.0,1223.4388059701494,1740.0,1189.0,1114.0,1204.0,1215.0,1090.0,1112.0,1187.0,1103.0,1093.0,1122.0,1035.0,1111.0,1179.0,1203.0,1169.0,1175.0,1212.0,1185.0,1258.0,1223.4388059701494,1068.0,1097.0,1092.0,1223.4388059701494,1139.0,1045.0,913.0,1176.0,1088.0,1153.0,1027.0,1105.0,1360.0,1273.0,1143.0,1151.0,1436.0,1251.0,963.0,1145.0,1118.0,1092.0,1143.0,1080.0,1183.0,1169.0,1159.0,1111.0,1135.0,1242.0,1023.0,1054.0,1149.0,1106.0,887.0,1193.0,1096.0,1108.0,1129.0,1102.0,1157.0,1272.0,1323.0,1306.0,1244.0,1223.4388059701494,1026.0,1237.0,1164.0,1226.0,1223.4388059701494,1431.0,1262.0,1124.0,1079.0,1184.0,1313.0,1473.0,1350.0,1627.0,1352.0,1185.0,1091.0,1196.0,1280.0,1219.0,1240.0,951.0,1663.0,1203.0,1211.0,1177.0,1064.0,1174.0,1330.0,1270.0,1364.0,1396.0,1049.0,1271.0,1441.0,1243.0,1216.0,1910.0,1330.0,1514.0,1474.0,1172.0,1449.0,1279.0,1145.0,1252.0,1156.0,1265.0,1094.0,1532.0,1108.0,1154.0,1192.0,1345.0,1223.4388059701494,1265.0,1223.4388059701494,1407.0,1194.0,1372.0,1538.0,1223.4388059701494,1868.0,1196.0,1316.0,1099.0,1173.0,1202.0,1287.0,1100.0,1223.4388059701494,1220.0,1151.0,1223.4388059701494,1255.0,1275.0,1218.0,1494.0,1239.0,1127.0,1470.0,1636.0,1353.0,1195.0,1426.0,1277.0,1279.0,1301.0,1418.0,1388.0,1235.0,1953.0,1098.0,1154.0,1035.0,1060.0,1315.0,1055.0],\"xaxis\":\"x\",\"y\":[38.6,42.6,45.3,53.7,50.8,68.7,57.5,55.0,46.6,67.8,56.3,25.1,49.4,56.1,60.1,100.0,73.7,51.3,41.0,27.6,52.0,49.6,74.7,56.0,53.0,57.6,67.5,61.8,51.5,70.6,53.9,45.1,39.4,38.6,61.5,53.8,55.7,40.7,45.5,37.6,78.6,50.9,59.4,78.8,48.6,61.7,48.7,39.1,67.4,92.7,57.3,35.0,53.3,48.4,44.3,42.1,43.1,48.6,61.6,53.4,61.0,73.6,59.9,32.3,58.9,45.8,55.6,53.6,57.9,67.9,100.0,100.0,51.4,46.5,50.4,51.3,74.6,47.8,55.9,34.2,60.4,47.7,44.2,47.2,36.2,36.5,41.4,47.3,50.1,51.1,52.6,51.4,50.8,49.9,56.8,54.8,54.7,46.0,42.3,15.7,55.5,7.3,71.4,56.0,99.7,62.0,34.0,50.8,50.8,38.0,53.0,38.9,47.7,57.0,50.1,49.9,0.0,50.7,53.4,54.0,53.8,55.9,47.8,46.2,51.5,55.9,51.2,54.3,47.7,45.1,57.8,54.1,48.5,56.7,85.4,48.2,17.3,69.1,83.5,42.1,47.7,43.4,51.0,51.1,52.8,57.7,52.8,56.8,36.6,55.6,48.9,59.3,42.2,53.3,67.9,47.6,46.2,64.7,59.2,40.5,48.0,12.7,42.9,67.3,41.4,42.0,40.0,50.0,38.7,51.9,44.7,17.5,46.0,49.2,50.2,47.0,55.0,48.5,59.2,55.7,48.0,45.9,46.3,47.4,63.0,57.3,54.5,43.9,41.7,51.8,60.4,44.2,100.0,51.0,24.5,53.9,20.6,45.3,43.3,45.1,53.8,51.5,54.2,34.3,52.2,27.4,49.0,46.3,4.4,23.1,57.3,43.8,40.9,55.8,57.7,47.2,49.2,56.1,66.1,49.3,51.3,38.3,48.4,48.4,46.2,50.2,40.9,49.9,48.4,48.0,38.4,36.7,47.0,75.1,45.6,67.2,58.2,76.2,51.0,39.0,63.9,35.7,51.1,52.6,33.5,48.5,78.5,45.3,37.4,56.8,18.9,45.6,48.6,63.2,50.2,15.9,29.7,41.6,52.2,70.2,62.4,40.7,46.5,46.6,41.6,100.0,41.1,46.4,11.1,43.6,42.2,57.6,48.5,49.0,48.7,22.0,49.9,54.7,45.6,58.8,63.7,49.3,51.5,65.9,50.7,56.2,55.5,52.2,60.7,42.5,45.0,47.1,54.0,56.9,53.4,39.7,14.7,53.3,42.7,45.9,57.8,50.8,44.2,71.1,46.2,52.6,50.8,45.7,50.6,54.2,47.4,48.9,45.5,51.9,56.2,56.1,44.8,47.0,45.5,32.7,48.9,50.1,53.0,51.9,53.9,34.9,61.9,50.4,43.5,47.0,100.0,44.0,46.7,43.1,52.7,56.9,44.9,39.6,57.2,100.0,46.8,46.3,48.7,70.0,28.2,46.8,55.0,55.2,58.5,48.0,50.8,47.5,45.2,53.6,50.4,49.2,32.9,43.0,50.0,47.9,51.6,45.5,47.9,46.8],\"yaxis\":\"y\",\"type\":\"scatter\"}],                        {\"template\":{\"data\":{\"histogram2dcontour\":[{\"type\":\"histogram2dcontour\",\"colorbar\":{\"outlinewidth\":0,\"ticks\":\"\"},\"colorscale\":[[0.0,\"#0d0887\"],[0.1111111111111111,\"#46039f\"],[0.2222222222222222,\"#7201a8\"],[0.3333333333333333,\"#9c179e\"],[0.4444444444444444,\"#bd3786\"],[0.5555555555555556,\"#d8576b\"],[0.6666666666666666,\"#ed7953\"],[0.7777777777777778,\"#fb9f3a\"],[0.8888888888888888,\"#fdca26\"],[1.0,\"#f0f921\"]]}],\"choropleth\":[{\"type\":\"choropleth\",\"colorbar\":{\"outlinewidth\":0,\"ticks\":\"\"}}],\"histogram2d\":[{\"type\":\"histogram2d\",\"colorbar\":{\"outlinewidth\":0,\"ticks\":\"\"},\"colorscale\":[[0.0,\"#0d0887\"],[0.1111111111111111,\"#46039f\"],[0.2222222222222222,\"#7201a8\"],[0.3333333333333333,\"#9c179e\"],[0.4444444444444444,\"#bd3786\"],[0.5555555555555556,\"#d8576b\"],[0.6666666666666666,\"#ed7953\"],[0.7777777777777778,\"#fb9f3a\"],[0.8888888888888888,\"#fdca26\"],[1.0,\"#f0f921\"]]}],\"heatmap\":[{\"type\":\"heatmap\",\"colorbar\":{\"outlinewidth\":0,\"ticks\":\"\"},\"colorscale\":[[0.0,\"#0d0887\"],[0.1111111111111111,\"#46039f\"],[0.2222222222222222,\"#7201a8\"],[0.3333333333333333,\"#9c179e\"],[0.4444444444444444,\"#bd3786\"],[0.5555555555555556,\"#d8576b\"],[0.6666666666666666,\"#ed7953\"],[0.7777777777777778,\"#fb9f3a\"],[0.8888888888888888,\"#fdca26\"],[1.0,\"#f0f921\"]]}],\"heatmapgl\":[{\"type\":\"heatmapgl\",\"colorbar\":{\"outlinewidth\":0,\"ticks\":\"\"},\"colorscale\":[[0.0,\"#0d0887\"],[0.1111111111111111,\"#46039f\"],[0.2222222222222222,\"#7201a8\"],[0.3333333333333333,\"#9c179e\"],[0.4444444444444444,\"#bd3786\"],[0.5555555555555556,\"#d8576b\"],[0.6666666666666666,\"#ed7953\"],[0.7777777777777778,\"#fb9f3a\"],[0.8888888888888888,\"#fdca26\"],[1.0,\"#f0f921\"]]}],\"contourcarpet\":[{\"type\":\"contourcarpet\",\"colorbar\":{\"outlinewidth\":0,\"ticks\":\"\"}}],\"contour\":[{\"type\":\"contour\",\"colorbar\":{\"outlinewidth\":0,\"ticks\":\"\"},\"colorscale\":[[0.0,\"#0d0887\"],[0.1111111111111111,\"#46039f\"],[0.2222222222222222,\"#7201a8\"],[0.3333333333333333,\"#9c179e\"],[0.4444444444444444,\"#bd3786\"],[0.5555555555555556,\"#d8576b\"],[0.6666666666666666,\"#ed7953\"],[0.7777777777777778,\"#fb9f3a\"],[0.8888888888888888,\"#fdca26\"],[1.0,\"#f0f921\"]]}],\"surface\":[{\"type\":\"surface\",\"colorbar\":{\"outlinewidth\":0,\"ticks\":\"\"},\"colorscale\":[[0.0,\"#0d0887\"],[0.1111111111111111,\"#46039f\"],[0.2222222222222222,\"#7201a8\"],[0.3333333333333333,\"#9c179e\"],[0.4444444444444444,\"#bd3786\"],[0.5555555555555556,\"#d8576b\"],[0.6666666666666666,\"#ed7953\"],[0.7777777777777778,\"#fb9f3a\"],[0.8888888888888888,\"#fdca26\"],[1.0,\"#f0f921\"]]}],\"mesh3d\":[{\"type\":\"mesh3d\",\"colorbar\":{\"outlinewidth\":0,\"ticks\":\"\"}}],\"scatter\":[{\"fillpattern\":{\"fillmode\":\"overlay\",\"size\":10,\"solidity\":0.2},\"type\":\"scatter\"}],\"parcoords\":[{\"type\":\"parcoords\",\"line\":{\"colorbar\":{\"outlinewidth\":0,\"ticks\":\"\"}}}],\"scatterpolargl\":[{\"type\":\"scatterpolargl\",\"marker\":{\"colorbar\":{\"outlinewidth\":0,\"ticks\":\"\"}}}],\"bar\":[{\"error_x\":{\"color\":\"#2a3f5f\"},\"error_y\":{\"color\":\"#2a3f5f\"},\"marker\":{\"line\":{\"color\":\"#E5ECF6\",\"width\":0.5},\"pattern\":{\"fillmode\":\"overlay\",\"size\":10,\"solidity\":0.2}},\"type\":\"bar\"}],\"scattergeo\":[{\"type\":\"scattergeo\",\"marker\":{\"colorbar\":{\"outlinewidth\":0,\"ticks\":\"\"}}}],\"scatterpolar\":[{\"type\":\"scatterpolar\",\"marker\":{\"colorbar\":{\"outlinewidth\":0,\"ticks\":\"\"}}}],\"histogram\":[{\"marker\":{\"pattern\":{\"fillmode\":\"overlay\",\"size\":10,\"solidity\":0.2}},\"type\":\"histogram\"}],\"scattergl\":[{\"type\":\"scattergl\",\"marker\":{\"colorbar\":{\"outlinewidth\":0,\"ticks\":\"\"}}}],\"scatter3d\":[{\"type\":\"scatter3d\",\"line\":{\"colorbar\":{\"outlinewidth\":0,\"ticks\":\"\"}},\"marker\":{\"colorbar\":{\"outlinewidth\":0,\"ticks\":\"\"}}}],\"scattermapbox\":[{\"type\":\"scattermapbox\",\"marker\":{\"colorbar\":{\"outlinewidth\":0,\"ticks\":\"\"}}}],\"scatterternary\":[{\"type\":\"scatterternary\",\"marker\":{\"colorbar\":{\"outlinewidth\":0,\"ticks\":\"\"}}}],\"scattercarpet\":[{\"type\":\"scattercarpet\",\"marker\":{\"colorbar\":{\"outlinewidth\":0,\"ticks\":\"\"}}}],\"carpet\":[{\"aaxis\":{\"endlinecolor\":\"#2a3f5f\",\"gridcolor\":\"white\",\"linecolor\":\"white\",\"minorgridcolor\":\"white\",\"startlinecolor\":\"#2a3f5f\"},\"baxis\":{\"endlinecolor\":\"#2a3f5f\",\"gridcolor\":\"white\",\"linecolor\":\"white\",\"minorgridcolor\":\"white\",\"startlinecolor\":\"#2a3f5f\"},\"type\":\"carpet\"}],\"table\":[{\"cells\":{\"fill\":{\"color\":\"#EBF0F8\"},\"line\":{\"color\":\"white\"}},\"header\":{\"fill\":{\"color\":\"#C8D4E3\"},\"line\":{\"color\":\"white\"}},\"type\":\"table\"}],\"barpolar\":[{\"marker\":{\"line\":{\"color\":\"#E5ECF6\",\"width\":0.5},\"pattern\":{\"fillmode\":\"overlay\",\"size\":10,\"solidity\":0.2}},\"type\":\"barpolar\"}],\"pie\":[{\"automargin\":true,\"type\":\"pie\"}]},\"layout\":{\"autotypenumbers\":\"strict\",\"colorway\":[\"#636efa\",\"#EF553B\",\"#00cc96\",\"#ab63fa\",\"#FFA15A\",\"#19d3f3\",\"#FF6692\",\"#B6E880\",\"#FF97FF\",\"#FECB52\"],\"font\":{\"color\":\"#2a3f5f\"},\"hovermode\":\"closest\",\"hoverlabel\":{\"align\":\"left\"},\"paper_bgcolor\":\"white\",\"plot_bgcolor\":\"#E5ECF6\",\"polar\":{\"bgcolor\":\"#E5ECF6\",\"angularaxis\":{\"gridcolor\":\"white\",\"linecolor\":\"white\",\"ticks\":\"\"},\"radialaxis\":{\"gridcolor\":\"white\",\"linecolor\":\"white\",\"ticks\":\"\"}},\"ternary\":{\"bgcolor\":\"#E5ECF6\",\"aaxis\":{\"gridcolor\":\"white\",\"linecolor\":\"white\",\"ticks\":\"\"},\"baxis\":{\"gridcolor\":\"white\",\"linecolor\":\"white\",\"ticks\":\"\"},\"caxis\":{\"gridcolor\":\"white\",\"linecolor\":\"white\",\"ticks\":\"\"}},\"coloraxis\":{\"colorbar\":{\"outlinewidth\":0,\"ticks\":\"\"}},\"colorscale\":{\"sequential\":[[0.0,\"#0d0887\"],[0.1111111111111111,\"#46039f\"],[0.2222222222222222,\"#7201a8\"],[0.3333333333333333,\"#9c179e\"],[0.4444444444444444,\"#bd3786\"],[0.5555555555555556,\"#d8576b\"],[0.6666666666666666,\"#ed7953\"],[0.7777777777777778,\"#fb9f3a\"],[0.8888888888888888,\"#fdca26\"],[1.0,\"#f0f921\"]],\"sequentialminus\":[[0.0,\"#0d0887\"],[0.1111111111111111,\"#46039f\"],[0.2222222222222222,\"#7201a8\"],[0.3333333333333333,\"#9c179e\"],[0.4444444444444444,\"#bd3786\"],[0.5555555555555556,\"#d8576b\"],[0.6666666666666666,\"#ed7953\"],[0.7777777777777778,\"#fb9f3a\"],[0.8888888888888888,\"#fdca26\"],[1.0,\"#f0f921\"]],\"diverging\":[[0,\"#8e0152\"],[0.1,\"#c51b7d\"],[0.2,\"#de77ae\"],[0.3,\"#f1b6da\"],[0.4,\"#fde0ef\"],[0.5,\"#f7f7f7\"],[0.6,\"#e6f5d0\"],[0.7,\"#b8e186\"],[0.8,\"#7fbc41\"],[0.9,\"#4d9221\"],[1,\"#276419\"]]},\"xaxis\":{\"gridcolor\":\"white\",\"linecolor\":\"white\",\"ticks\":\"\",\"title\":{\"standoff\":15},\"zerolinecolor\":\"white\",\"automargin\":true,\"zerolinewidth\":2},\"yaxis\":{\"gridcolor\":\"white\",\"linecolor\":\"white\",\"ticks\":\"\",\"title\":{\"standoff\":15},\"zerolinecolor\":\"white\",\"automargin\":true,\"zerolinewidth\":2},\"scene\":{\"xaxis\":{\"backgroundcolor\":\"#E5ECF6\",\"gridcolor\":\"white\",\"linecolor\":\"white\",\"showbackground\":true,\"ticks\":\"\",\"zerolinecolor\":\"white\",\"gridwidth\":2},\"yaxis\":{\"backgroundcolor\":\"#E5ECF6\",\"gridcolor\":\"white\",\"linecolor\":\"white\",\"showbackground\":true,\"ticks\":\"\",\"zerolinecolor\":\"white\",\"gridwidth\":2},\"zaxis\":{\"backgroundcolor\":\"#E5ECF6\",\"gridcolor\":\"white\",\"linecolor\":\"white\",\"showbackground\":true,\"ticks\":\"\",\"zerolinecolor\":\"white\",\"gridwidth\":2}},\"shapedefaults\":{\"line\":{\"color\":\"#2a3f5f\"}},\"annotationdefaults\":{\"arrowcolor\":\"#2a3f5f\",\"arrowhead\":0,\"arrowwidth\":1},\"geo\":{\"bgcolor\":\"white\",\"landcolor\":\"#E5ECF6\",\"subunitcolor\":\"white\",\"showland\":true,\"showlakes\":true,\"lakecolor\":\"white\"},\"title\":{\"x\":0.05},\"mapbox\":{\"style\":\"light\"}}},\"xaxis\":{\"anchor\":\"y\",\"domain\":[0.0,1.0],\"title\":{\"text\":\"sat_score\"}},\"yaxis\":{\"anchor\":\"x\",\"domain\":[0.0,1.0],\"title\":{\"text\":\"female_per\"}},\"legend\":{\"tracegroupgap\":0},\"margin\":{\"t\":60}},                        {\"responsive\": true}                    ).then(function(){\n",
       "                            \n",
       "var gd = document.getElementById('b5cd8d02-3a15-41ce-80f5-455e06c7ef80');\n",
       "var x = new MutationObserver(function (mutations, observer) {{\n",
       "        var display = window.getComputedStyle(gd).display;\n",
       "        if (!display || display === 'none') {{\n",
       "            console.log([gd, 'removed!']);\n",
       "            Plotly.purge(gd);\n",
       "            observer.disconnect();\n",
       "        }}\n",
       "}});\n",
       "\n",
       "// Listen for the removal of the full notebook cells\n",
       "var notebookContainer = gd.closest('#notebook-container');\n",
       "if (notebookContainer) {{\n",
       "    x.observe(notebookContainer, {childList: true});\n",
       "}}\n",
       "\n",
       "// Listen for the clearing of the current output cell\n",
       "var outputEl = gd.closest('.output');\n",
       "if (outputEl) {{\n",
       "    x.observe(outputEl, {childList: true});\n",
       "}}\n",
       "\n",
       "                        })                };                });            </script>        </div>"
      ]
     },
     "metadata": {},
     "output_type": "display_data"
    }
   ],
   "source": [
    "px.scatter(combined, y=combined['female_per'], x=combined['sat_score'])"
   ]
  },
  {
   "cell_type": "code",
   "execution_count": 95,
   "id": "4e08410e",
   "metadata": {
    "scrolled": true
   },
   "outputs": [
    {
     "data": {
      "application/vnd.plotly.v1+json": {
       "config": {
        "plotlyServerURL": "https://plot.ly"
       },
       "data": [
        {
         "alignmentgroup": "True",
         "hovertemplate": "sat_score=%{marker.color}<br>index=%{y}<extra></extra>",
         "legendgroup": "",
         "marker": {
          "color": [
           1,
           -0.11193682309276964,
           0.11198208825718729
          ],
          "coloraxis": "coloraxis",
          "pattern": {
           "shape": ""
          }
         },
         "name": "",
         "offsetgroup": "",
         "orientation": "h",
         "showlegend": false,
         "textposition": "auto",
         "type": "bar",
         "x": [
          1,
          -0.11193682309276964,
          0.11198208825718729
         ],
         "xaxis": "x",
         "y": [
          "sat_score",
          "male_per",
          "female_per"
         ],
         "yaxis": "y"
        }
       ],
       "layout": {
        "barmode": "relative",
        "coloraxis": {
         "colorbar": {
          "title": {
           "text": "sat_score"
          }
         },
         "colorscale": [
          [
           0,
           "#0d0887"
          ],
          [
           0.1111111111111111,
           "#46039f"
          ],
          [
           0.2222222222222222,
           "#7201a8"
          ],
          [
           0.3333333333333333,
           "#9c179e"
          ],
          [
           0.4444444444444444,
           "#bd3786"
          ],
          [
           0.5555555555555556,
           "#d8576b"
          ],
          [
           0.6666666666666666,
           "#ed7953"
          ],
          [
           0.7777777777777778,
           "#fb9f3a"
          ],
          [
           0.8888888888888888,
           "#fdca26"
          ],
          [
           1,
           "#f0f921"
          ]
         ]
        },
        "legend": {
         "tracegroupgap": 0
        },
        "margin": {
         "t": 60
        },
        "template": {
         "data": {
          "bar": [
           {
            "error_x": {
             "color": "#2a3f5f"
            },
            "error_y": {
             "color": "#2a3f5f"
            },
            "marker": {
             "line": {
              "color": "#E5ECF6",
              "width": 0.5
             },
             "pattern": {
              "fillmode": "overlay",
              "size": 10,
              "solidity": 0.2
             }
            },
            "type": "bar"
           }
          ],
          "barpolar": [
           {
            "marker": {
             "line": {
              "color": "#E5ECF6",
              "width": 0.5
             },
             "pattern": {
              "fillmode": "overlay",
              "size": 10,
              "solidity": 0.2
             }
            },
            "type": "barpolar"
           }
          ],
          "carpet": [
           {
            "aaxis": {
             "endlinecolor": "#2a3f5f",
             "gridcolor": "white",
             "linecolor": "white",
             "minorgridcolor": "white",
             "startlinecolor": "#2a3f5f"
            },
            "baxis": {
             "endlinecolor": "#2a3f5f",
             "gridcolor": "white",
             "linecolor": "white",
             "minorgridcolor": "white",
             "startlinecolor": "#2a3f5f"
            },
            "type": "carpet"
           }
          ],
          "choropleth": [
           {
            "colorbar": {
             "outlinewidth": 0,
             "ticks": ""
            },
            "type": "choropleth"
           }
          ],
          "contour": [
           {
            "colorbar": {
             "outlinewidth": 0,
             "ticks": ""
            },
            "colorscale": [
             [
              0,
              "#0d0887"
             ],
             [
              0.1111111111111111,
              "#46039f"
             ],
             [
              0.2222222222222222,
              "#7201a8"
             ],
             [
              0.3333333333333333,
              "#9c179e"
             ],
             [
              0.4444444444444444,
              "#bd3786"
             ],
             [
              0.5555555555555556,
              "#d8576b"
             ],
             [
              0.6666666666666666,
              "#ed7953"
             ],
             [
              0.7777777777777778,
              "#fb9f3a"
             ],
             [
              0.8888888888888888,
              "#fdca26"
             ],
             [
              1,
              "#f0f921"
             ]
            ],
            "type": "contour"
           }
          ],
          "contourcarpet": [
           {
            "colorbar": {
             "outlinewidth": 0,
             "ticks": ""
            },
            "type": "contourcarpet"
           }
          ],
          "heatmap": [
           {
            "colorbar": {
             "outlinewidth": 0,
             "ticks": ""
            },
            "colorscale": [
             [
              0,
              "#0d0887"
             ],
             [
              0.1111111111111111,
              "#46039f"
             ],
             [
              0.2222222222222222,
              "#7201a8"
             ],
             [
              0.3333333333333333,
              "#9c179e"
             ],
             [
              0.4444444444444444,
              "#bd3786"
             ],
             [
              0.5555555555555556,
              "#d8576b"
             ],
             [
              0.6666666666666666,
              "#ed7953"
             ],
             [
              0.7777777777777778,
              "#fb9f3a"
             ],
             [
              0.8888888888888888,
              "#fdca26"
             ],
             [
              1,
              "#f0f921"
             ]
            ],
            "type": "heatmap"
           }
          ],
          "heatmapgl": [
           {
            "colorbar": {
             "outlinewidth": 0,
             "ticks": ""
            },
            "colorscale": [
             [
              0,
              "#0d0887"
             ],
             [
              0.1111111111111111,
              "#46039f"
             ],
             [
              0.2222222222222222,
              "#7201a8"
             ],
             [
              0.3333333333333333,
              "#9c179e"
             ],
             [
              0.4444444444444444,
              "#bd3786"
             ],
             [
              0.5555555555555556,
              "#d8576b"
             ],
             [
              0.6666666666666666,
              "#ed7953"
             ],
             [
              0.7777777777777778,
              "#fb9f3a"
             ],
             [
              0.8888888888888888,
              "#fdca26"
             ],
             [
              1,
              "#f0f921"
             ]
            ],
            "type": "heatmapgl"
           }
          ],
          "histogram": [
           {
            "marker": {
             "pattern": {
              "fillmode": "overlay",
              "size": 10,
              "solidity": 0.2
             }
            },
            "type": "histogram"
           }
          ],
          "histogram2d": [
           {
            "colorbar": {
             "outlinewidth": 0,
             "ticks": ""
            },
            "colorscale": [
             [
              0,
              "#0d0887"
             ],
             [
              0.1111111111111111,
              "#46039f"
             ],
             [
              0.2222222222222222,
              "#7201a8"
             ],
             [
              0.3333333333333333,
              "#9c179e"
             ],
             [
              0.4444444444444444,
              "#bd3786"
             ],
             [
              0.5555555555555556,
              "#d8576b"
             ],
             [
              0.6666666666666666,
              "#ed7953"
             ],
             [
              0.7777777777777778,
              "#fb9f3a"
             ],
             [
              0.8888888888888888,
              "#fdca26"
             ],
             [
              1,
              "#f0f921"
             ]
            ],
            "type": "histogram2d"
           }
          ],
          "histogram2dcontour": [
           {
            "colorbar": {
             "outlinewidth": 0,
             "ticks": ""
            },
            "colorscale": [
             [
              0,
              "#0d0887"
             ],
             [
              0.1111111111111111,
              "#46039f"
             ],
             [
              0.2222222222222222,
              "#7201a8"
             ],
             [
              0.3333333333333333,
              "#9c179e"
             ],
             [
              0.4444444444444444,
              "#bd3786"
             ],
             [
              0.5555555555555556,
              "#d8576b"
             ],
             [
              0.6666666666666666,
              "#ed7953"
             ],
             [
              0.7777777777777778,
              "#fb9f3a"
             ],
             [
              0.8888888888888888,
              "#fdca26"
             ],
             [
              1,
              "#f0f921"
             ]
            ],
            "type": "histogram2dcontour"
           }
          ],
          "mesh3d": [
           {
            "colorbar": {
             "outlinewidth": 0,
             "ticks": ""
            },
            "type": "mesh3d"
           }
          ],
          "parcoords": [
           {
            "line": {
             "colorbar": {
              "outlinewidth": 0,
              "ticks": ""
             }
            },
            "type": "parcoords"
           }
          ],
          "pie": [
           {
            "automargin": true,
            "type": "pie"
           }
          ],
          "scatter": [
           {
            "fillpattern": {
             "fillmode": "overlay",
             "size": 10,
             "solidity": 0.2
            },
            "type": "scatter"
           }
          ],
          "scatter3d": [
           {
            "line": {
             "colorbar": {
              "outlinewidth": 0,
              "ticks": ""
             }
            },
            "marker": {
             "colorbar": {
              "outlinewidth": 0,
              "ticks": ""
             }
            },
            "type": "scatter3d"
           }
          ],
          "scattercarpet": [
           {
            "marker": {
             "colorbar": {
              "outlinewidth": 0,
              "ticks": ""
             }
            },
            "type": "scattercarpet"
           }
          ],
          "scattergeo": [
           {
            "marker": {
             "colorbar": {
              "outlinewidth": 0,
              "ticks": ""
             }
            },
            "type": "scattergeo"
           }
          ],
          "scattergl": [
           {
            "marker": {
             "colorbar": {
              "outlinewidth": 0,
              "ticks": ""
             }
            },
            "type": "scattergl"
           }
          ],
          "scattermapbox": [
           {
            "marker": {
             "colorbar": {
              "outlinewidth": 0,
              "ticks": ""
             }
            },
            "type": "scattermapbox"
           }
          ],
          "scatterpolar": [
           {
            "marker": {
             "colorbar": {
              "outlinewidth": 0,
              "ticks": ""
             }
            },
            "type": "scatterpolar"
           }
          ],
          "scatterpolargl": [
           {
            "marker": {
             "colorbar": {
              "outlinewidth": 0,
              "ticks": ""
             }
            },
            "type": "scatterpolargl"
           }
          ],
          "scatterternary": [
           {
            "marker": {
             "colorbar": {
              "outlinewidth": 0,
              "ticks": ""
             }
            },
            "type": "scatterternary"
           }
          ],
          "surface": [
           {
            "colorbar": {
             "outlinewidth": 0,
             "ticks": ""
            },
            "colorscale": [
             [
              0,
              "#0d0887"
             ],
             [
              0.1111111111111111,
              "#46039f"
             ],
             [
              0.2222222222222222,
              "#7201a8"
             ],
             [
              0.3333333333333333,
              "#9c179e"
             ],
             [
              0.4444444444444444,
              "#bd3786"
             ],
             [
              0.5555555555555556,
              "#d8576b"
             ],
             [
              0.6666666666666666,
              "#ed7953"
             ],
             [
              0.7777777777777778,
              "#fb9f3a"
             ],
             [
              0.8888888888888888,
              "#fdca26"
             ],
             [
              1,
              "#f0f921"
             ]
            ],
            "type": "surface"
           }
          ],
          "table": [
           {
            "cells": {
             "fill": {
              "color": "#EBF0F8"
             },
             "line": {
              "color": "white"
             }
            },
            "header": {
             "fill": {
              "color": "#C8D4E3"
             },
             "line": {
              "color": "white"
             }
            },
            "type": "table"
           }
          ]
         },
         "layout": {
          "annotationdefaults": {
           "arrowcolor": "#2a3f5f",
           "arrowhead": 0,
           "arrowwidth": 1
          },
          "autotypenumbers": "strict",
          "coloraxis": {
           "colorbar": {
            "outlinewidth": 0,
            "ticks": ""
           }
          },
          "colorscale": {
           "diverging": [
            [
             0,
             "#8e0152"
            ],
            [
             0.1,
             "#c51b7d"
            ],
            [
             0.2,
             "#de77ae"
            ],
            [
             0.3,
             "#f1b6da"
            ],
            [
             0.4,
             "#fde0ef"
            ],
            [
             0.5,
             "#f7f7f7"
            ],
            [
             0.6,
             "#e6f5d0"
            ],
            [
             0.7,
             "#b8e186"
            ],
            [
             0.8,
             "#7fbc41"
            ],
            [
             0.9,
             "#4d9221"
            ],
            [
             1,
             "#276419"
            ]
           ],
           "sequential": [
            [
             0,
             "#0d0887"
            ],
            [
             0.1111111111111111,
             "#46039f"
            ],
            [
             0.2222222222222222,
             "#7201a8"
            ],
            [
             0.3333333333333333,
             "#9c179e"
            ],
            [
             0.4444444444444444,
             "#bd3786"
            ],
            [
             0.5555555555555556,
             "#d8576b"
            ],
            [
             0.6666666666666666,
             "#ed7953"
            ],
            [
             0.7777777777777778,
             "#fb9f3a"
            ],
            [
             0.8888888888888888,
             "#fdca26"
            ],
            [
             1,
             "#f0f921"
            ]
           ],
           "sequentialminus": [
            [
             0,
             "#0d0887"
            ],
            [
             0.1111111111111111,
             "#46039f"
            ],
            [
             0.2222222222222222,
             "#7201a8"
            ],
            [
             0.3333333333333333,
             "#9c179e"
            ],
            [
             0.4444444444444444,
             "#bd3786"
            ],
            [
             0.5555555555555556,
             "#d8576b"
            ],
            [
             0.6666666666666666,
             "#ed7953"
            ],
            [
             0.7777777777777778,
             "#fb9f3a"
            ],
            [
             0.8888888888888888,
             "#fdca26"
            ],
            [
             1,
             "#f0f921"
            ]
           ]
          },
          "colorway": [
           "#636efa",
           "#EF553B",
           "#00cc96",
           "#ab63fa",
           "#FFA15A",
           "#19d3f3",
           "#FF6692",
           "#B6E880",
           "#FF97FF",
           "#FECB52"
          ],
          "font": {
           "color": "#2a3f5f"
          },
          "geo": {
           "bgcolor": "white",
           "lakecolor": "white",
           "landcolor": "#E5ECF6",
           "showlakes": true,
           "showland": true,
           "subunitcolor": "white"
          },
          "hoverlabel": {
           "align": "left"
          },
          "hovermode": "closest",
          "mapbox": {
           "style": "light"
          },
          "paper_bgcolor": "white",
          "plot_bgcolor": "#E5ECF6",
          "polar": {
           "angularaxis": {
            "gridcolor": "white",
            "linecolor": "white",
            "ticks": ""
           },
           "bgcolor": "#E5ECF6",
           "radialaxis": {
            "gridcolor": "white",
            "linecolor": "white",
            "ticks": ""
           }
          },
          "scene": {
           "xaxis": {
            "backgroundcolor": "#E5ECF6",
            "gridcolor": "white",
            "gridwidth": 2,
            "linecolor": "white",
            "showbackground": true,
            "ticks": "",
            "zerolinecolor": "white"
           },
           "yaxis": {
            "backgroundcolor": "#E5ECF6",
            "gridcolor": "white",
            "gridwidth": 2,
            "linecolor": "white",
            "showbackground": true,
            "ticks": "",
            "zerolinecolor": "white"
           },
           "zaxis": {
            "backgroundcolor": "#E5ECF6",
            "gridcolor": "white",
            "gridwidth": 2,
            "linecolor": "white",
            "showbackground": true,
            "ticks": "",
            "zerolinecolor": "white"
           }
          },
          "shapedefaults": {
           "line": {
            "color": "#2a3f5f"
           }
          },
          "ternary": {
           "aaxis": {
            "gridcolor": "white",
            "linecolor": "white",
            "ticks": ""
           },
           "baxis": {
            "gridcolor": "white",
            "linecolor": "white",
            "ticks": ""
           },
           "bgcolor": "#E5ECF6",
           "caxis": {
            "gridcolor": "white",
            "linecolor": "white",
            "ticks": ""
           }
          },
          "title": {
           "x": 0.05
          },
          "xaxis": {
           "automargin": true,
           "gridcolor": "white",
           "linecolor": "white",
           "ticks": "",
           "title": {
            "standoff": 15
           },
           "zerolinecolor": "white",
           "zerolinewidth": 2
          },
          "yaxis": {
           "automargin": true,
           "gridcolor": "white",
           "linecolor": "white",
           "ticks": "",
           "title": {
            "standoff": 15
           },
           "zerolinecolor": "white",
           "zerolinewidth": 2
          }
         }
        },
        "xaxis": {
         "anchor": "y",
         "domain": [
          0,
          1
         ],
         "title": {
          "text": "sat_score"
         }
        },
        "yaxis": {
         "anchor": "x",
         "domain": [
          0,
          1
         ],
         "title": {
          "text": "index"
         }
        }
       }
      },
      "text/html": [
       "<div>                            <div id=\"0332f208-9150-477b-be1e-a50acb021c6a\" class=\"plotly-graph-div\" style=\"height:525px; width:100%;\"></div>            <script type=\"text/javascript\">                require([\"plotly\"], function(Plotly) {                    window.PLOTLYENV=window.PLOTLYENV || {};                                    if (document.getElementById(\"0332f208-9150-477b-be1e-a50acb021c6a\")) {                    Plotly.newPlot(                        \"0332f208-9150-477b-be1e-a50acb021c6a\",                        [{\"alignmentgroup\":\"True\",\"hovertemplate\":\"sat_score=%{marker.color}<br>index=%{y}<extra></extra>\",\"legendgroup\":\"\",\"marker\":{\"color\":[1.0,-0.11193682309276964,0.11198208825718729],\"coloraxis\":\"coloraxis\",\"pattern\":{\"shape\":\"\"}},\"name\":\"\",\"offsetgroup\":\"\",\"orientation\":\"h\",\"showlegend\":false,\"textposition\":\"auto\",\"x\":[1.0,-0.11193682309276964,0.11198208825718729],\"xaxis\":\"x\",\"y\":[\"sat_score\",\"male_per\",\"female_per\"],\"yaxis\":\"y\",\"type\":\"bar\"}],                        {\"template\":{\"data\":{\"histogram2dcontour\":[{\"type\":\"histogram2dcontour\",\"colorbar\":{\"outlinewidth\":0,\"ticks\":\"\"},\"colorscale\":[[0.0,\"#0d0887\"],[0.1111111111111111,\"#46039f\"],[0.2222222222222222,\"#7201a8\"],[0.3333333333333333,\"#9c179e\"],[0.4444444444444444,\"#bd3786\"],[0.5555555555555556,\"#d8576b\"],[0.6666666666666666,\"#ed7953\"],[0.7777777777777778,\"#fb9f3a\"],[0.8888888888888888,\"#fdca26\"],[1.0,\"#f0f921\"]]}],\"choropleth\":[{\"type\":\"choropleth\",\"colorbar\":{\"outlinewidth\":0,\"ticks\":\"\"}}],\"histogram2d\":[{\"type\":\"histogram2d\",\"colorbar\":{\"outlinewidth\":0,\"ticks\":\"\"},\"colorscale\":[[0.0,\"#0d0887\"],[0.1111111111111111,\"#46039f\"],[0.2222222222222222,\"#7201a8\"],[0.3333333333333333,\"#9c179e\"],[0.4444444444444444,\"#bd3786\"],[0.5555555555555556,\"#d8576b\"],[0.6666666666666666,\"#ed7953\"],[0.7777777777777778,\"#fb9f3a\"],[0.8888888888888888,\"#fdca26\"],[1.0,\"#f0f921\"]]}],\"heatmap\":[{\"type\":\"heatmap\",\"colorbar\":{\"outlinewidth\":0,\"ticks\":\"\"},\"colorscale\":[[0.0,\"#0d0887\"],[0.1111111111111111,\"#46039f\"],[0.2222222222222222,\"#7201a8\"],[0.3333333333333333,\"#9c179e\"],[0.4444444444444444,\"#bd3786\"],[0.5555555555555556,\"#d8576b\"],[0.6666666666666666,\"#ed7953\"],[0.7777777777777778,\"#fb9f3a\"],[0.8888888888888888,\"#fdca26\"],[1.0,\"#f0f921\"]]}],\"heatmapgl\":[{\"type\":\"heatmapgl\",\"colorbar\":{\"outlinewidth\":0,\"ticks\":\"\"},\"colorscale\":[[0.0,\"#0d0887\"],[0.1111111111111111,\"#46039f\"],[0.2222222222222222,\"#7201a8\"],[0.3333333333333333,\"#9c179e\"],[0.4444444444444444,\"#bd3786\"],[0.5555555555555556,\"#d8576b\"],[0.6666666666666666,\"#ed7953\"],[0.7777777777777778,\"#fb9f3a\"],[0.8888888888888888,\"#fdca26\"],[1.0,\"#f0f921\"]]}],\"contourcarpet\":[{\"type\":\"contourcarpet\",\"colorbar\":{\"outlinewidth\":0,\"ticks\":\"\"}}],\"contour\":[{\"type\":\"contour\",\"colorbar\":{\"outlinewidth\":0,\"ticks\":\"\"},\"colorscale\":[[0.0,\"#0d0887\"],[0.1111111111111111,\"#46039f\"],[0.2222222222222222,\"#7201a8\"],[0.3333333333333333,\"#9c179e\"],[0.4444444444444444,\"#bd3786\"],[0.5555555555555556,\"#d8576b\"],[0.6666666666666666,\"#ed7953\"],[0.7777777777777778,\"#fb9f3a\"],[0.8888888888888888,\"#fdca26\"],[1.0,\"#f0f921\"]]}],\"surface\":[{\"type\":\"surface\",\"colorbar\":{\"outlinewidth\":0,\"ticks\":\"\"},\"colorscale\":[[0.0,\"#0d0887\"],[0.1111111111111111,\"#46039f\"],[0.2222222222222222,\"#7201a8\"],[0.3333333333333333,\"#9c179e\"],[0.4444444444444444,\"#bd3786\"],[0.5555555555555556,\"#d8576b\"],[0.6666666666666666,\"#ed7953\"],[0.7777777777777778,\"#fb9f3a\"],[0.8888888888888888,\"#fdca26\"],[1.0,\"#f0f921\"]]}],\"mesh3d\":[{\"type\":\"mesh3d\",\"colorbar\":{\"outlinewidth\":0,\"ticks\":\"\"}}],\"scatter\":[{\"fillpattern\":{\"fillmode\":\"overlay\",\"size\":10,\"solidity\":0.2},\"type\":\"scatter\"}],\"parcoords\":[{\"type\":\"parcoords\",\"line\":{\"colorbar\":{\"outlinewidth\":0,\"ticks\":\"\"}}}],\"scatterpolargl\":[{\"type\":\"scatterpolargl\",\"marker\":{\"colorbar\":{\"outlinewidth\":0,\"ticks\":\"\"}}}],\"bar\":[{\"error_x\":{\"color\":\"#2a3f5f\"},\"error_y\":{\"color\":\"#2a3f5f\"},\"marker\":{\"line\":{\"color\":\"#E5ECF6\",\"width\":0.5},\"pattern\":{\"fillmode\":\"overlay\",\"size\":10,\"solidity\":0.2}},\"type\":\"bar\"}],\"scattergeo\":[{\"type\":\"scattergeo\",\"marker\":{\"colorbar\":{\"outlinewidth\":0,\"ticks\":\"\"}}}],\"scatterpolar\":[{\"type\":\"scatterpolar\",\"marker\":{\"colorbar\":{\"outlinewidth\":0,\"ticks\":\"\"}}}],\"histogram\":[{\"marker\":{\"pattern\":{\"fillmode\":\"overlay\",\"size\":10,\"solidity\":0.2}},\"type\":\"histogram\"}],\"scattergl\":[{\"type\":\"scattergl\",\"marker\":{\"colorbar\":{\"outlinewidth\":0,\"ticks\":\"\"}}}],\"scatter3d\":[{\"type\":\"scatter3d\",\"line\":{\"colorbar\":{\"outlinewidth\":0,\"ticks\":\"\"}},\"marker\":{\"colorbar\":{\"outlinewidth\":0,\"ticks\":\"\"}}}],\"scattermapbox\":[{\"type\":\"scattermapbox\",\"marker\":{\"colorbar\":{\"outlinewidth\":0,\"ticks\":\"\"}}}],\"scatterternary\":[{\"type\":\"scatterternary\",\"marker\":{\"colorbar\":{\"outlinewidth\":0,\"ticks\":\"\"}}}],\"scattercarpet\":[{\"type\":\"scattercarpet\",\"marker\":{\"colorbar\":{\"outlinewidth\":0,\"ticks\":\"\"}}}],\"carpet\":[{\"aaxis\":{\"endlinecolor\":\"#2a3f5f\",\"gridcolor\":\"white\",\"linecolor\":\"white\",\"minorgridcolor\":\"white\",\"startlinecolor\":\"#2a3f5f\"},\"baxis\":{\"endlinecolor\":\"#2a3f5f\",\"gridcolor\":\"white\",\"linecolor\":\"white\",\"minorgridcolor\":\"white\",\"startlinecolor\":\"#2a3f5f\"},\"type\":\"carpet\"}],\"table\":[{\"cells\":{\"fill\":{\"color\":\"#EBF0F8\"},\"line\":{\"color\":\"white\"}},\"header\":{\"fill\":{\"color\":\"#C8D4E3\"},\"line\":{\"color\":\"white\"}},\"type\":\"table\"}],\"barpolar\":[{\"marker\":{\"line\":{\"color\":\"#E5ECF6\",\"width\":0.5},\"pattern\":{\"fillmode\":\"overlay\",\"size\":10,\"solidity\":0.2}},\"type\":\"barpolar\"}],\"pie\":[{\"automargin\":true,\"type\":\"pie\"}]},\"layout\":{\"autotypenumbers\":\"strict\",\"colorway\":[\"#636efa\",\"#EF553B\",\"#00cc96\",\"#ab63fa\",\"#FFA15A\",\"#19d3f3\",\"#FF6692\",\"#B6E880\",\"#FF97FF\",\"#FECB52\"],\"font\":{\"color\":\"#2a3f5f\"},\"hovermode\":\"closest\",\"hoverlabel\":{\"align\":\"left\"},\"paper_bgcolor\":\"white\",\"plot_bgcolor\":\"#E5ECF6\",\"polar\":{\"bgcolor\":\"#E5ECF6\",\"angularaxis\":{\"gridcolor\":\"white\",\"linecolor\":\"white\",\"ticks\":\"\"},\"radialaxis\":{\"gridcolor\":\"white\",\"linecolor\":\"white\",\"ticks\":\"\"}},\"ternary\":{\"bgcolor\":\"#E5ECF6\",\"aaxis\":{\"gridcolor\":\"white\",\"linecolor\":\"white\",\"ticks\":\"\"},\"baxis\":{\"gridcolor\":\"white\",\"linecolor\":\"white\",\"ticks\":\"\"},\"caxis\":{\"gridcolor\":\"white\",\"linecolor\":\"white\",\"ticks\":\"\"}},\"coloraxis\":{\"colorbar\":{\"outlinewidth\":0,\"ticks\":\"\"}},\"colorscale\":{\"sequential\":[[0.0,\"#0d0887\"],[0.1111111111111111,\"#46039f\"],[0.2222222222222222,\"#7201a8\"],[0.3333333333333333,\"#9c179e\"],[0.4444444444444444,\"#bd3786\"],[0.5555555555555556,\"#d8576b\"],[0.6666666666666666,\"#ed7953\"],[0.7777777777777778,\"#fb9f3a\"],[0.8888888888888888,\"#fdca26\"],[1.0,\"#f0f921\"]],\"sequentialminus\":[[0.0,\"#0d0887\"],[0.1111111111111111,\"#46039f\"],[0.2222222222222222,\"#7201a8\"],[0.3333333333333333,\"#9c179e\"],[0.4444444444444444,\"#bd3786\"],[0.5555555555555556,\"#d8576b\"],[0.6666666666666666,\"#ed7953\"],[0.7777777777777778,\"#fb9f3a\"],[0.8888888888888888,\"#fdca26\"],[1.0,\"#f0f921\"]],\"diverging\":[[0,\"#8e0152\"],[0.1,\"#c51b7d\"],[0.2,\"#de77ae\"],[0.3,\"#f1b6da\"],[0.4,\"#fde0ef\"],[0.5,\"#f7f7f7\"],[0.6,\"#e6f5d0\"],[0.7,\"#b8e186\"],[0.8,\"#7fbc41\"],[0.9,\"#4d9221\"],[1,\"#276419\"]]},\"xaxis\":{\"gridcolor\":\"white\",\"linecolor\":\"white\",\"ticks\":\"\",\"title\":{\"standoff\":15},\"zerolinecolor\":\"white\",\"automargin\":true,\"zerolinewidth\":2},\"yaxis\":{\"gridcolor\":\"white\",\"linecolor\":\"white\",\"ticks\":\"\",\"title\":{\"standoff\":15},\"zerolinecolor\":\"white\",\"automargin\":true,\"zerolinewidth\":2},\"scene\":{\"xaxis\":{\"backgroundcolor\":\"#E5ECF6\",\"gridcolor\":\"white\",\"linecolor\":\"white\",\"showbackground\":true,\"ticks\":\"\",\"zerolinecolor\":\"white\",\"gridwidth\":2},\"yaxis\":{\"backgroundcolor\":\"#E5ECF6\",\"gridcolor\":\"white\",\"linecolor\":\"white\",\"showbackground\":true,\"ticks\":\"\",\"zerolinecolor\":\"white\",\"gridwidth\":2},\"zaxis\":{\"backgroundcolor\":\"#E5ECF6\",\"gridcolor\":\"white\",\"linecolor\":\"white\",\"showbackground\":true,\"ticks\":\"\",\"zerolinecolor\":\"white\",\"gridwidth\":2}},\"shapedefaults\":{\"line\":{\"color\":\"#2a3f5f\"}},\"annotationdefaults\":{\"arrowcolor\":\"#2a3f5f\",\"arrowhead\":0,\"arrowwidth\":1},\"geo\":{\"bgcolor\":\"white\",\"landcolor\":\"#E5ECF6\",\"subunitcolor\":\"white\",\"showland\":true,\"showlakes\":true,\"lakecolor\":\"white\"},\"title\":{\"x\":0.05},\"mapbox\":{\"style\":\"light\"}}},\"xaxis\":{\"anchor\":\"y\",\"domain\":[0.0,1.0],\"title\":{\"text\":\"sat_score\"}},\"yaxis\":{\"anchor\":\"x\",\"domain\":[0.0,1.0],\"title\":{\"text\":\"index\"}},\"coloraxis\":{\"colorbar\":{\"title\":{\"text\":\"sat_score\"}},\"colorscale\":[[0.0,\"#0d0887\"],[0.1111111111111111,\"#46039f\"],[0.2222222222222222,\"#7201a8\"],[0.3333333333333333,\"#9c179e\"],[0.4444444444444444,\"#bd3786\"],[0.5555555555555556,\"#d8576b\"],[0.6666666666666666,\"#ed7953\"],[0.7777777777777778,\"#fb9f3a\"],[0.8888888888888888,\"#fdca26\"],[1.0,\"#f0f921\"]]},\"legend\":{\"tracegroupgap\":0},\"margin\":{\"t\":60},\"barmode\":\"relative\"},                        {\"responsive\": true}                    ).then(function(){\n",
       "                            \n",
       "var gd = document.getElementById('0332f208-9150-477b-be1e-a50acb021c6a');\n",
       "var x = new MutationObserver(function (mutations, observer) {{\n",
       "        var display = window.getComputedStyle(gd).display;\n",
       "        if (!display || display === 'none') {{\n",
       "            console.log([gd, 'removed!']);\n",
       "            Plotly.purge(gd);\n",
       "            observer.disconnect();\n",
       "        }}\n",
       "}});\n",
       "\n",
       "// Listen for the removal of the full notebook cells\n",
       "var notebookContainer = gd.closest('#notebook-container');\n",
       "if (notebookContainer) {{\n",
       "    x.observe(notebookContainer, {childList: true});\n",
       "}}\n",
       "\n",
       "// Listen for the clearing of the current output cell\n",
       "var outputEl = gd.closest('.output');\n",
       "if (outputEl) {{\n",
       "    x.observe(outputEl, {childList: true});\n",
       "}}\n",
       "\n",
       "                        })                };                });            </script>        </div>"
      ]
     },
     "metadata": {},
     "output_type": "display_data"
    }
   ],
   "source": [
    "sex_corr = combined[['sat_score','male_per','female_per']].corr()['sat_score'].reset_index()\n",
    "px.bar(sex_corr, x='sat_score', y='index', orientation='h', color='sat_score')"
   ]
  },
  {
   "cell_type": "markdown",
   "id": "57e5bb4e",
   "metadata": {},
   "source": [
    "*We see a barely existing positive correlation of sat_score and female and a slightly significant negative male.*"
   ]
  },
  {
   "cell_type": "code",
   "execution_count": 96,
   "id": "84bafdf5",
   "metadata": {
    "scrolled": false
   },
   "outputs": [
    {
     "data": {
      "text/plain": [
       "5                         BARD HIGH SCHOOL EARLY COLLEGE\n",
       "26                         ELEANOR ROOSEVELT HIGH SCHOOL\n",
       "60                                    BEACON HIGH SCHOOL\n",
       "61     FIORELLO H. LAGUARDIA HIGH SCHOOL OF MUSIC & A...\n",
       "303                          TOWNSEND HARRIS HIGH SCHOOL\n",
       "Name: SCHOOL NAME, dtype: object"
      ]
     },
     "execution_count": 96,
     "metadata": {},
     "output_type": "execute_result"
    }
   ],
   "source": [
    "school_high_female = combined.query('female_per > 60 & sat_score > 1700')['SCHOOL NAME']\n",
    "school_high_female"
   ]
  },
  {
   "cell_type": "markdown",
   "id": "aa7de737",
   "metadata": {},
   "source": [
    "*These schools have a fairly strict competitive selection for admission.*"
   ]
  },
  {
   "cell_type": "code",
   "execution_count": 97,
   "id": "03639d67",
   "metadata": {
    "scrolled": true
   },
   "outputs": [
    {
     "data": {
      "application/vnd.plotly.v1+json": {
       "config": {
        "plotlyServerURL": "https://plot.ly"
       },
       "data": [
        {
         "hovertemplate": "ap_per=%{x}<br>sat_score=%{y}<extra></extra>",
         "legendgroup": "",
         "marker": {
          "color": "#636efa",
          "symbol": "circle"
         },
         "mode": "markers",
         "name": "",
         "orientation": "v",
         "showlegend": false,
         "type": "scatter",
         "x": [
          0.30575555960627054,
          0.09898477157360407,
          0.03177257525083612,
          0.35157723747642006,
          0.15809051456912585,
          0.20912292731579604,
          0.7415450928381964,
          0.2979880973529934,
          0.3761773940345369,
          0.3079447402239765,
          0.050724637681159424,
          0.2296983758700696,
          0.09312638580931264,
          0.08012820512820513,
          0.3840144230769231,
          0.34134615384615385,
          0.26066433566433567,
          0.2979880973529934,
          0.3886411028730306,
          0.4244369939271255,
          0.5288067465321564,
          0.15279770444763272,
          0.0398406374501992,
          0.18055555555555555,
          0.19689119170984457,
          0.29593772053634443,
          0.3057199211045365,
          0.13738019169329074,
          0.306481819842865,
          0.11538461538461539,
          0.11532125205930807,
          0.7373076923076923,
          0.570924098025868,
          0.7331184440559441,
          0.0979020979020979,
          0.2906055093555094,
          0.036923076923076927,
          0.45799211404306944,
          0.12484548825710753,
          0.5444255111976631,
          0.06109979633401222,
          0.056922334780511334,
          0.11049723756906077,
          0.5946029776674938,
          0.12384473197781885,
          0.3050327332242226,
          0.17280453257790368,
          0.01627906976744186,
          0.10983606557377049,
          0.043777360850531584,
          0.6720252403846154,
          0.11158798283261803,
          0.0625,
          0.0697350069735007,
          0.3086814501288186,
          0.3525378310214376,
          0.4559323185648274,
          0.36041577137945857,
          0.12596899224806202,
          0.589172813487882,
          0.14285714285714285,
          0.2652591170825336,
          0.23850063984075076,
          0.06301824212271974,
          0.28483188996434033,
          0.026634382566585957,
          0.05157593123209169,
          0.1987878787878788,
          0.36971016089927267,
          0.28995246326707,
          0.09131403118040089,
          0.28736936782593797,
          0.43887362637362637,
          0.025821596244131457,
          0.27221275559883157,
          0.04,
          0.34499691484985606,
          0.10475578406169665,
          0.06379310344827586,
          0.28078817733990147,
          0.22018574428983986,
          0.24813239644970417,
          0.21433363148479428,
          0.7248811581676751,
          0.17142857142857143,
          0.06468531468531469,
          0.20317002881844382,
          0.047128129602356406,
          0.12840466926070038,
          0.1864406779661017,
          0.10128617363344052,
          0.3283176746917205,
          0.4044791415481071,
          0.3554513668150032,
          0.27748138957816376,
          0.11895910780669144,
          0.04180064308681672,
          0.05976095617529881,
          0.04699738903394256,
          0.270500725689405,
          0.09549549549549549,
          0.014905149051490514,
          0.10391822827938671,
          0.2580576923076923,
          0.055408970976253295,
          0.046908315565031986,
          0.35941182772659097,
          0.07056451612903226,
          0.06006006006006006,
          0.2580576923076923,
          0.29867788461538464,
          0.11967715001391595,
          0.8324441687344913,
          0.3554513668150032,
          0.2860950025584172,
          0.3634615384615385,
          0.05818181818181818,
          0.026402640264026403,
          0.25280898876404495,
          0.36448826597131684,
          0.13963963963963963,
          0.019178082191780823,
          0.07391304347826087,
          0.28673076923076923,
          0.26172179747230456,
          0.04297994269340974,
          0.05952380952380952,
          0.3201708341286505,
          0.3342716221602232,
          0.06483790523690773,
          0.28357988165680476,
          0.05897771952817824,
          0.04887218045112782,
          0.05673758865248227,
          0.39947011193141224,
          0.09947643979057591,
          0.240990990990991,
          0.03244274809160305,
          0.027777777777777776,
          0.03930817610062893,
          0.06438631790744467,
          0.04976303317535545,
          0.09075907590759076,
          0.035523978685612786,
          0.3982371794871795,
          0.13107822410147993,
          0.07616707616707617,
          0.3334078711985689,
          0.09312638580931264,
          0.10185185185185185,
          0.08800192353931234,
          0.07328605200945626,
          0.3949551941586459,
          0.18201754385964913,
          0.07640449438202247,
          0.2439108622946052,
          0.5145888594164456,
          0.34225158130993677,
          0.06635071090047394,
          0.26769470156399616,
          0.039603960396039604,
          0.2345979020979021,
          0.14548802946593,
          0.26714046822742477,
          0.07228915662650602,
          0.053830227743271224,
          0.0580936266215454,
          0.029850746268656716,
          0.3101654955621302,
          0.09072978303747535,
          0.26937128633370805,
          0.3101654955621302,
          0.07374631268436578,
          0.35643327666808333,
          0.3086814501288186,
          0.051696284329563816,
          0.03463203463203463,
          0.31780503978779845,
          0.5786046912728527,
          0.5288067465321564,
          0.349671669793621,
          0.270500725689405,
          0.03717472118959108,
          0.2768859359524596,
          0.03837471783295711,
          0.29937087274674284,
          0.045454545454545456,
          0.10058027079303675,
          0.3970367591897975,
          0.35157723747642006,
          0.06888888888888889,
          0.08755129958960328,
          0.27511481056257175,
          0.11716621253405994,
          0.037756202804746494,
          0.14748603351955308,
          0.3851607347876005,
          0.018497109826589597,
          0.2978723404255319,
          0.27570266272189353,
          0.3291552197802198,
          0.04681647940074907,
          0.03162055335968379,
          0.09631147540983606,
          0.07,
          0.06,
          0.053726169844020795,
          0.24483652021602686,
          0.17846313437599745,
          0.7458314806580703,
          0.5918754410726889,
          0.36448826597131684,
          0.18645787016451756,
          0.27278825825337455,
          0.06547619047619048,
          0.32748438110113237,
          0.06172839506172839,
          0.03770739064856712,
          0.1903080326752893,
          0.13059599813142325,
          0.29391536709304367,
          0.0134886572654813,
          0.12098765432098765,
          0.8115021770682148,
          0.11327433628318584,
          0.4044791415481071,
          0.32176769614425477,
          0.05830903790087463,
          0.3342716221602232,
          0.31780503978779845,
          0.05454545454545454,
          0.30575555960627054,
          0.24765613465229588,
          0.2541966426858513,
          0.1040339702760085,
          0.08980582524271845,
          0.2463768115942029,
          0.08395522388059702,
          0.3377718485702779,
          0.389815245177783,
          0.3377718485702779,
          0.43887362637362637,
          0.39701183431952664,
          0.4403714885796797,
          0.41622208436724567,
          0.4315346025212246,
          0.280497491638796,
          0.47090819764177433,
          0.4230453972257251,
          0.2979880973529934,
          0.33865838885523925,
          0.029925187032418952,
          0.28483188996434033,
          0.05789473684210526,
          0.10837438423645321,
          0.10478359908883828,
          0.31937833206397565,
          0.32500968804495256,
          0.04805491990846682,
          0.07796610169491526,
          0.41488374969082364,
          0.05311355311355311,
          0.19609375,
          0.08350877192982456,
          0.07335907335907337,
          0.34499691484985606,
          0.3761773940345369,
          0.07068607068607069,
          0.02702702702702703,
          0.051252408477842,
          0.2733661994784876,
          0.09870711089010442,
          0.1070110701107011,
          0.5140591480232914,
          0.570924098025868,
          0.13496741229481815,
          0.04452054794520548,
          0.19390942217595003,
          0.10500650195058518,
          0.35909980430528377,
          0.20480769230769233,
          0.02586206896551724,
          0.10684931506849316,
          0.05830388692579505,
          0.2261904761904762,
          0.11855670103092783,
          0.28736936782593797,
          0.3525378310214376,
          0.20448311593319518,
          0.06765163297045101,
          0.09666505558240696,
          0.25961538461538464,
          0.26172179747230456,
          0.2391304347826087,
          0.2146902598233713,
          0.019736842105263157,
          0.059064061790095414,
          0.21981064080723367,
          0.30575555960627054,
          0.2094624125874126,
          0.1092436974789916,
          0.048087431693989074,
          0.10407966591712174,
          0.537719298245614,
          0.10679611650485436,
          0.17280163599182005,
          0.1678709055876686,
          0.029707112970711297,
          0.14510278113663846,
          0.10788365063030615,
          0.28995246326707,
          0.06761006289308176,
          0.41622208436724567,
          0.2232332978440245,
          0.24483652021602686,
          0.051789077212806026,
          0.0184645286686103,
          0.05493230174081238,
          0.04134672179562906,
          0.09848484848484848,
          0.26386267107126005,
          0.2439108622946052,
          0.6451442307692308,
          0.19118414188836724,
          0.07766677408959072,
          0.08126110124333925,
          0.1136653895274585,
          0.19461364427427777,
          0.5143540669856459,
          0.03544776119402985,
          0.011764705882352941,
          0.034013605442176874,
          0.05225225225225225,
          0.291261503733287,
          0.029535864978902954,
          0.08456659619450317,
          0.8777472527472527,
          0.05339805825242718,
          0.26825123940508555,
          0.26066433566433567,
          0.3079447402239765,
          0.08251273344651952,
          0.11990549320732427,
          0.14285714285714285,
          0.05561613958560523,
          0.1276824034334764,
          0.1434659090909091,
          0.2932473776223776,
          0.2425354251012146,
          0.3162471719457014,
          0.12385321100917432,
          0.03611738148984198,
          0.0901906090190609,
          0.09678683385579938,
          0.10219354838709678,
          0.08603145235892692,
          0.19115384615384617,
          0.4782608695652174,
          0.35643327666808333,
          0.07755775577557755,
          0.2973014888337469,
          0.19095477386934673,
          0.026615969581749048,
          0.0735930735930736
         ],
         "xaxis": "x",
         "y": [
          1122,
          1172,
          1149,
          1207,
          1621,
          1856,
          1182,
          1194,
          1156,
          1111,
          1293,
          1269,
          1051,
          1148,
          1200,
          1127,
          1176,
          1435,
          1223.4388059701494,
          1223.4388059701494,
          1223.4388059701494,
          1419,
          1522,
          1577,
          1677,
          1419,
          1758,
          1614,
          1170,
          1306,
          1233,
          1223.4388059701494,
          1223.4388059701494,
          1223.4388059701494,
          1372,
          1199,
          1227,
          2096,
          1374,
          1070,
          1416,
          1240,
          1239,
          1253,
          1058,
          1168,
          1424,
          1212,
          1195,
          1257,
          1255,
          1207,
          1315,
          1236,
          1132,
          1144,
          1223.4388059701494,
          1223.4388059701494,
          1109,
          1223.4388059701494,
          1744,
          1707,
          1196,
          1277,
          1446,
          1096,
          1084,
          1430,
          1128,
          1221,
          1326,
          1326,
          1054,
          1210,
          1223.4388059701494,
          1062,
          1077,
          1374,
          1202,
          1847,
          1270,
          1105,
          1174,
          1223.4388059701494,
          1127,
          1098,
          1102,
          1224,
          1309,
          1014,
          1090,
          945,
          1077,
          1097,
          1201,
          1257,
          1186,
          1103,
          1084,
          1181,
          1201,
          1158,
          1095,
          1223.4388059701494,
          1171,
          1158,
          1038,
          1164,
          1084,
          1223.4388059701494,
          1223.4388059701494,
          1241,
          1223.4388059701494,
          1099,
          1131,
          1049,
          1134,
          1290,
          1169,
          1092,
          1396,
          1075,
          1081,
          1148,
          1223.4388059701494,
          1138,
          951,
          965,
          1074,
          1083,
          1221,
          1224,
          1121,
          1166,
          1039,
          1333,
          1150,
          1190,
          1157,
          1158,
          962,
          1182,
          934,
          1181,
          1180,
          1106,
          1222,
          1077,
          1119,
          1082,
          1255,
          1270,
          1969,
          1263,
          1064,
          1115,
          1920,
          1133,
          1147,
          1135,
          1141,
          1111,
          1348,
          1135,
          1169,
          1268,
          1151,
          1048,
          1112,
          1288,
          1126,
          1163,
          1055,
          1122,
          1251,
          1102,
          1155,
          970,
          1223.4388059701494,
          1223.4388059701494,
          939,
          1029,
          1114,
          1038,
          1074,
          1080,
          1114,
          1211,
          1833,
          981,
          1206,
          1116,
          1223.4388059701494,
          1312,
          1189,
          1391,
          1353,
          1085,
          1223.4388059701494,
          1740,
          1189,
          1114,
          1204,
          1215,
          1090,
          1112,
          1187,
          1103,
          1093,
          1122,
          1035,
          1111,
          1179,
          1203,
          1169,
          1175,
          1212,
          1185,
          1258,
          1223.4388059701494,
          1068,
          1097,
          1092,
          1223.4388059701494,
          1139,
          1045,
          913,
          1176,
          1088,
          1153,
          1027,
          1105,
          1360,
          1273,
          1143,
          1151,
          1436,
          1251,
          963,
          1145,
          1118,
          1092,
          1143,
          1080,
          1183,
          1169,
          1159,
          1111,
          1135,
          1242,
          1023,
          1054,
          1149,
          1106,
          887,
          1193,
          1096,
          1108,
          1129,
          1102,
          1157,
          1272,
          1323,
          1306,
          1244,
          1223.4388059701494,
          1026,
          1237,
          1164,
          1226,
          1223.4388059701494,
          1431,
          1262,
          1124,
          1079,
          1184,
          1313,
          1473,
          1350,
          1627,
          1352,
          1185,
          1091,
          1196,
          1280,
          1219,
          1240,
          951,
          1663,
          1203,
          1211,
          1177,
          1064,
          1174,
          1330,
          1270,
          1364,
          1396,
          1049,
          1271,
          1441,
          1243,
          1216,
          1910,
          1330,
          1514,
          1474,
          1172,
          1449,
          1279,
          1145,
          1252,
          1156,
          1265,
          1094,
          1532,
          1108,
          1154,
          1192,
          1345,
          1223.4388059701494,
          1265,
          1223.4388059701494,
          1407,
          1194,
          1372,
          1538,
          1223.4388059701494,
          1868,
          1196,
          1316,
          1099,
          1173,
          1202,
          1287,
          1100,
          1223.4388059701494,
          1220,
          1151,
          1223.4388059701494,
          1255,
          1275,
          1218,
          1494,
          1239,
          1127,
          1470,
          1636,
          1353,
          1195,
          1426,
          1277,
          1279,
          1301,
          1418,
          1388,
          1235,
          1953,
          1098,
          1154,
          1035,
          1060,
          1315,
          1055
         ],
         "yaxis": "y"
        }
       ],
       "layout": {
        "legend": {
         "tracegroupgap": 0
        },
        "margin": {
         "t": 60
        },
        "template": {
         "data": {
          "bar": [
           {
            "error_x": {
             "color": "#2a3f5f"
            },
            "error_y": {
             "color": "#2a3f5f"
            },
            "marker": {
             "line": {
              "color": "#E5ECF6",
              "width": 0.5
             },
             "pattern": {
              "fillmode": "overlay",
              "size": 10,
              "solidity": 0.2
             }
            },
            "type": "bar"
           }
          ],
          "barpolar": [
           {
            "marker": {
             "line": {
              "color": "#E5ECF6",
              "width": 0.5
             },
             "pattern": {
              "fillmode": "overlay",
              "size": 10,
              "solidity": 0.2
             }
            },
            "type": "barpolar"
           }
          ],
          "carpet": [
           {
            "aaxis": {
             "endlinecolor": "#2a3f5f",
             "gridcolor": "white",
             "linecolor": "white",
             "minorgridcolor": "white",
             "startlinecolor": "#2a3f5f"
            },
            "baxis": {
             "endlinecolor": "#2a3f5f",
             "gridcolor": "white",
             "linecolor": "white",
             "minorgridcolor": "white",
             "startlinecolor": "#2a3f5f"
            },
            "type": "carpet"
           }
          ],
          "choropleth": [
           {
            "colorbar": {
             "outlinewidth": 0,
             "ticks": ""
            },
            "type": "choropleth"
           }
          ],
          "contour": [
           {
            "colorbar": {
             "outlinewidth": 0,
             "ticks": ""
            },
            "colorscale": [
             [
              0,
              "#0d0887"
             ],
             [
              0.1111111111111111,
              "#46039f"
             ],
             [
              0.2222222222222222,
              "#7201a8"
             ],
             [
              0.3333333333333333,
              "#9c179e"
             ],
             [
              0.4444444444444444,
              "#bd3786"
             ],
             [
              0.5555555555555556,
              "#d8576b"
             ],
             [
              0.6666666666666666,
              "#ed7953"
             ],
             [
              0.7777777777777778,
              "#fb9f3a"
             ],
             [
              0.8888888888888888,
              "#fdca26"
             ],
             [
              1,
              "#f0f921"
             ]
            ],
            "type": "contour"
           }
          ],
          "contourcarpet": [
           {
            "colorbar": {
             "outlinewidth": 0,
             "ticks": ""
            },
            "type": "contourcarpet"
           }
          ],
          "heatmap": [
           {
            "colorbar": {
             "outlinewidth": 0,
             "ticks": ""
            },
            "colorscale": [
             [
              0,
              "#0d0887"
             ],
             [
              0.1111111111111111,
              "#46039f"
             ],
             [
              0.2222222222222222,
              "#7201a8"
             ],
             [
              0.3333333333333333,
              "#9c179e"
             ],
             [
              0.4444444444444444,
              "#bd3786"
             ],
             [
              0.5555555555555556,
              "#d8576b"
             ],
             [
              0.6666666666666666,
              "#ed7953"
             ],
             [
              0.7777777777777778,
              "#fb9f3a"
             ],
             [
              0.8888888888888888,
              "#fdca26"
             ],
             [
              1,
              "#f0f921"
             ]
            ],
            "type": "heatmap"
           }
          ],
          "heatmapgl": [
           {
            "colorbar": {
             "outlinewidth": 0,
             "ticks": ""
            },
            "colorscale": [
             [
              0,
              "#0d0887"
             ],
             [
              0.1111111111111111,
              "#46039f"
             ],
             [
              0.2222222222222222,
              "#7201a8"
             ],
             [
              0.3333333333333333,
              "#9c179e"
             ],
             [
              0.4444444444444444,
              "#bd3786"
             ],
             [
              0.5555555555555556,
              "#d8576b"
             ],
             [
              0.6666666666666666,
              "#ed7953"
             ],
             [
              0.7777777777777778,
              "#fb9f3a"
             ],
             [
              0.8888888888888888,
              "#fdca26"
             ],
             [
              1,
              "#f0f921"
             ]
            ],
            "type": "heatmapgl"
           }
          ],
          "histogram": [
           {
            "marker": {
             "pattern": {
              "fillmode": "overlay",
              "size": 10,
              "solidity": 0.2
             }
            },
            "type": "histogram"
           }
          ],
          "histogram2d": [
           {
            "colorbar": {
             "outlinewidth": 0,
             "ticks": ""
            },
            "colorscale": [
             [
              0,
              "#0d0887"
             ],
             [
              0.1111111111111111,
              "#46039f"
             ],
             [
              0.2222222222222222,
              "#7201a8"
             ],
             [
              0.3333333333333333,
              "#9c179e"
             ],
             [
              0.4444444444444444,
              "#bd3786"
             ],
             [
              0.5555555555555556,
              "#d8576b"
             ],
             [
              0.6666666666666666,
              "#ed7953"
             ],
             [
              0.7777777777777778,
              "#fb9f3a"
             ],
             [
              0.8888888888888888,
              "#fdca26"
             ],
             [
              1,
              "#f0f921"
             ]
            ],
            "type": "histogram2d"
           }
          ],
          "histogram2dcontour": [
           {
            "colorbar": {
             "outlinewidth": 0,
             "ticks": ""
            },
            "colorscale": [
             [
              0,
              "#0d0887"
             ],
             [
              0.1111111111111111,
              "#46039f"
             ],
             [
              0.2222222222222222,
              "#7201a8"
             ],
             [
              0.3333333333333333,
              "#9c179e"
             ],
             [
              0.4444444444444444,
              "#bd3786"
             ],
             [
              0.5555555555555556,
              "#d8576b"
             ],
             [
              0.6666666666666666,
              "#ed7953"
             ],
             [
              0.7777777777777778,
              "#fb9f3a"
             ],
             [
              0.8888888888888888,
              "#fdca26"
             ],
             [
              1,
              "#f0f921"
             ]
            ],
            "type": "histogram2dcontour"
           }
          ],
          "mesh3d": [
           {
            "colorbar": {
             "outlinewidth": 0,
             "ticks": ""
            },
            "type": "mesh3d"
           }
          ],
          "parcoords": [
           {
            "line": {
             "colorbar": {
              "outlinewidth": 0,
              "ticks": ""
             }
            },
            "type": "parcoords"
           }
          ],
          "pie": [
           {
            "automargin": true,
            "type": "pie"
           }
          ],
          "scatter": [
           {
            "fillpattern": {
             "fillmode": "overlay",
             "size": 10,
             "solidity": 0.2
            },
            "type": "scatter"
           }
          ],
          "scatter3d": [
           {
            "line": {
             "colorbar": {
              "outlinewidth": 0,
              "ticks": ""
             }
            },
            "marker": {
             "colorbar": {
              "outlinewidth": 0,
              "ticks": ""
             }
            },
            "type": "scatter3d"
           }
          ],
          "scattercarpet": [
           {
            "marker": {
             "colorbar": {
              "outlinewidth": 0,
              "ticks": ""
             }
            },
            "type": "scattercarpet"
           }
          ],
          "scattergeo": [
           {
            "marker": {
             "colorbar": {
              "outlinewidth": 0,
              "ticks": ""
             }
            },
            "type": "scattergeo"
           }
          ],
          "scattergl": [
           {
            "marker": {
             "colorbar": {
              "outlinewidth": 0,
              "ticks": ""
             }
            },
            "type": "scattergl"
           }
          ],
          "scattermapbox": [
           {
            "marker": {
             "colorbar": {
              "outlinewidth": 0,
              "ticks": ""
             }
            },
            "type": "scattermapbox"
           }
          ],
          "scatterpolar": [
           {
            "marker": {
             "colorbar": {
              "outlinewidth": 0,
              "ticks": ""
             }
            },
            "type": "scatterpolar"
           }
          ],
          "scatterpolargl": [
           {
            "marker": {
             "colorbar": {
              "outlinewidth": 0,
              "ticks": ""
             }
            },
            "type": "scatterpolargl"
           }
          ],
          "scatterternary": [
           {
            "marker": {
             "colorbar": {
              "outlinewidth": 0,
              "ticks": ""
             }
            },
            "type": "scatterternary"
           }
          ],
          "surface": [
           {
            "colorbar": {
             "outlinewidth": 0,
             "ticks": ""
            },
            "colorscale": [
             [
              0,
              "#0d0887"
             ],
             [
              0.1111111111111111,
              "#46039f"
             ],
             [
              0.2222222222222222,
              "#7201a8"
             ],
             [
              0.3333333333333333,
              "#9c179e"
             ],
             [
              0.4444444444444444,
              "#bd3786"
             ],
             [
              0.5555555555555556,
              "#d8576b"
             ],
             [
              0.6666666666666666,
              "#ed7953"
             ],
             [
              0.7777777777777778,
              "#fb9f3a"
             ],
             [
              0.8888888888888888,
              "#fdca26"
             ],
             [
              1,
              "#f0f921"
             ]
            ],
            "type": "surface"
           }
          ],
          "table": [
           {
            "cells": {
             "fill": {
              "color": "#EBF0F8"
             },
             "line": {
              "color": "white"
             }
            },
            "header": {
             "fill": {
              "color": "#C8D4E3"
             },
             "line": {
              "color": "white"
             }
            },
            "type": "table"
           }
          ]
         },
         "layout": {
          "annotationdefaults": {
           "arrowcolor": "#2a3f5f",
           "arrowhead": 0,
           "arrowwidth": 1
          },
          "autotypenumbers": "strict",
          "coloraxis": {
           "colorbar": {
            "outlinewidth": 0,
            "ticks": ""
           }
          },
          "colorscale": {
           "diverging": [
            [
             0,
             "#8e0152"
            ],
            [
             0.1,
             "#c51b7d"
            ],
            [
             0.2,
             "#de77ae"
            ],
            [
             0.3,
             "#f1b6da"
            ],
            [
             0.4,
             "#fde0ef"
            ],
            [
             0.5,
             "#f7f7f7"
            ],
            [
             0.6,
             "#e6f5d0"
            ],
            [
             0.7,
             "#b8e186"
            ],
            [
             0.8,
             "#7fbc41"
            ],
            [
             0.9,
             "#4d9221"
            ],
            [
             1,
             "#276419"
            ]
           ],
           "sequential": [
            [
             0,
             "#0d0887"
            ],
            [
             0.1111111111111111,
             "#46039f"
            ],
            [
             0.2222222222222222,
             "#7201a8"
            ],
            [
             0.3333333333333333,
             "#9c179e"
            ],
            [
             0.4444444444444444,
             "#bd3786"
            ],
            [
             0.5555555555555556,
             "#d8576b"
            ],
            [
             0.6666666666666666,
             "#ed7953"
            ],
            [
             0.7777777777777778,
             "#fb9f3a"
            ],
            [
             0.8888888888888888,
             "#fdca26"
            ],
            [
             1,
             "#f0f921"
            ]
           ],
           "sequentialminus": [
            [
             0,
             "#0d0887"
            ],
            [
             0.1111111111111111,
             "#46039f"
            ],
            [
             0.2222222222222222,
             "#7201a8"
            ],
            [
             0.3333333333333333,
             "#9c179e"
            ],
            [
             0.4444444444444444,
             "#bd3786"
            ],
            [
             0.5555555555555556,
             "#d8576b"
            ],
            [
             0.6666666666666666,
             "#ed7953"
            ],
            [
             0.7777777777777778,
             "#fb9f3a"
            ],
            [
             0.8888888888888888,
             "#fdca26"
            ],
            [
             1,
             "#f0f921"
            ]
           ]
          },
          "colorway": [
           "#636efa",
           "#EF553B",
           "#00cc96",
           "#ab63fa",
           "#FFA15A",
           "#19d3f3",
           "#FF6692",
           "#B6E880",
           "#FF97FF",
           "#FECB52"
          ],
          "font": {
           "color": "#2a3f5f"
          },
          "geo": {
           "bgcolor": "white",
           "lakecolor": "white",
           "landcolor": "#E5ECF6",
           "showlakes": true,
           "showland": true,
           "subunitcolor": "white"
          },
          "hoverlabel": {
           "align": "left"
          },
          "hovermode": "closest",
          "mapbox": {
           "style": "light"
          },
          "paper_bgcolor": "white",
          "plot_bgcolor": "#E5ECF6",
          "polar": {
           "angularaxis": {
            "gridcolor": "white",
            "linecolor": "white",
            "ticks": ""
           },
           "bgcolor": "#E5ECF6",
           "radialaxis": {
            "gridcolor": "white",
            "linecolor": "white",
            "ticks": ""
           }
          },
          "scene": {
           "xaxis": {
            "backgroundcolor": "#E5ECF6",
            "gridcolor": "white",
            "gridwidth": 2,
            "linecolor": "white",
            "showbackground": true,
            "ticks": "",
            "zerolinecolor": "white"
           },
           "yaxis": {
            "backgroundcolor": "#E5ECF6",
            "gridcolor": "white",
            "gridwidth": 2,
            "linecolor": "white",
            "showbackground": true,
            "ticks": "",
            "zerolinecolor": "white"
           },
           "zaxis": {
            "backgroundcolor": "#E5ECF6",
            "gridcolor": "white",
            "gridwidth": 2,
            "linecolor": "white",
            "showbackground": true,
            "ticks": "",
            "zerolinecolor": "white"
           }
          },
          "shapedefaults": {
           "line": {
            "color": "#2a3f5f"
           }
          },
          "ternary": {
           "aaxis": {
            "gridcolor": "white",
            "linecolor": "white",
            "ticks": ""
           },
           "baxis": {
            "gridcolor": "white",
            "linecolor": "white",
            "ticks": ""
           },
           "bgcolor": "#E5ECF6",
           "caxis": {
            "gridcolor": "white",
            "linecolor": "white",
            "ticks": ""
           }
          },
          "title": {
           "x": 0.05
          },
          "xaxis": {
           "automargin": true,
           "gridcolor": "white",
           "linecolor": "white",
           "ticks": "",
           "title": {
            "standoff": 15
           },
           "zerolinecolor": "white",
           "zerolinewidth": 2
          },
          "yaxis": {
           "automargin": true,
           "gridcolor": "white",
           "linecolor": "white",
           "ticks": "",
           "title": {
            "standoff": 15
           },
           "zerolinecolor": "white",
           "zerolinewidth": 2
          }
         }
        },
        "xaxis": {
         "anchor": "y",
         "domain": [
          0,
          1
         ],
         "title": {
          "text": "ap_per"
         }
        },
        "yaxis": {
         "anchor": "x",
         "domain": [
          0,
          1
         ],
         "title": {
          "text": "sat_score"
         }
        }
       }
      },
      "text/html": [
       "<div>                            <div id=\"a283faac-560b-4bf3-ac06-d2285c38e581\" class=\"plotly-graph-div\" style=\"height:525px; width:100%;\"></div>            <script type=\"text/javascript\">                require([\"plotly\"], function(Plotly) {                    window.PLOTLYENV=window.PLOTLYENV || {};                                    if (document.getElementById(\"a283faac-560b-4bf3-ac06-d2285c38e581\")) {                    Plotly.newPlot(                        \"a283faac-560b-4bf3-ac06-d2285c38e581\",                        [{\"hovertemplate\":\"ap_per=%{x}<br>sat_score=%{y}<extra></extra>\",\"legendgroup\":\"\",\"marker\":{\"color\":\"#636efa\",\"symbol\":\"circle\"},\"mode\":\"markers\",\"name\":\"\",\"orientation\":\"v\",\"showlegend\":false,\"x\":[0.30575555960627054,0.09898477157360407,0.03177257525083612,0.35157723747642006,0.15809051456912585,0.20912292731579604,0.7415450928381964,0.2979880973529934,0.3761773940345369,0.3079447402239765,0.050724637681159424,0.2296983758700696,0.09312638580931264,0.08012820512820513,0.3840144230769231,0.34134615384615385,0.26066433566433567,0.2979880973529934,0.3886411028730306,0.4244369939271255,0.5288067465321564,0.15279770444763272,0.0398406374501992,0.18055555555555555,0.19689119170984457,0.29593772053634443,0.3057199211045365,0.13738019169329074,0.306481819842865,0.11538461538461539,0.11532125205930807,0.7373076923076923,0.570924098025868,0.7331184440559441,0.0979020979020979,0.2906055093555094,0.036923076923076927,0.45799211404306944,0.12484548825710753,0.5444255111976631,0.06109979633401222,0.056922334780511334,0.11049723756906077,0.5946029776674938,0.12384473197781885,0.3050327332242226,0.17280453257790368,0.01627906976744186,0.10983606557377049,0.043777360850531584,0.6720252403846154,0.11158798283261803,0.0625,0.0697350069735007,0.3086814501288186,0.3525378310214376,0.4559323185648274,0.36041577137945857,0.12596899224806202,0.589172813487882,0.14285714285714285,0.2652591170825336,0.23850063984075076,0.06301824212271974,0.28483188996434033,0.026634382566585957,0.05157593123209169,0.1987878787878788,0.36971016089927267,0.28995246326707,0.09131403118040089,0.28736936782593797,0.43887362637362637,0.025821596244131457,0.27221275559883157,0.04,0.34499691484985606,0.10475578406169665,0.06379310344827586,0.28078817733990147,0.22018574428983986,0.24813239644970417,0.21433363148479428,0.7248811581676751,0.17142857142857143,0.06468531468531469,0.20317002881844382,0.047128129602356406,0.12840466926070038,0.1864406779661017,0.10128617363344052,0.3283176746917205,0.4044791415481071,0.3554513668150032,0.27748138957816376,0.11895910780669144,0.04180064308681672,0.05976095617529881,0.04699738903394256,0.270500725689405,0.09549549549549549,0.014905149051490514,0.10391822827938671,0.2580576923076923,0.055408970976253295,0.046908315565031986,0.35941182772659097,0.07056451612903226,0.06006006006006006,0.2580576923076923,0.29867788461538464,0.11967715001391595,0.8324441687344913,0.3554513668150032,0.2860950025584172,0.3634615384615385,0.05818181818181818,0.026402640264026403,0.25280898876404495,0.36448826597131684,0.13963963963963963,0.019178082191780823,0.07391304347826087,0.28673076923076923,0.26172179747230456,0.04297994269340974,0.05952380952380952,0.3201708341286505,0.3342716221602232,0.06483790523690773,0.28357988165680476,0.05897771952817824,0.04887218045112782,0.05673758865248227,0.39947011193141224,0.09947643979057591,0.240990990990991,0.03244274809160305,0.027777777777777776,0.03930817610062893,0.06438631790744467,0.04976303317535545,0.09075907590759076,0.035523978685612786,0.3982371794871795,0.13107822410147993,0.07616707616707617,0.3334078711985689,0.09312638580931264,0.10185185185185185,0.08800192353931234,0.07328605200945626,0.3949551941586459,0.18201754385964913,0.07640449438202247,0.2439108622946052,0.5145888594164456,0.34225158130993677,0.06635071090047394,0.26769470156399616,0.039603960396039604,0.2345979020979021,0.14548802946593,0.26714046822742477,0.07228915662650602,0.053830227743271224,0.0580936266215454,0.029850746268656716,0.3101654955621302,0.09072978303747535,0.26937128633370805,0.3101654955621302,0.07374631268436578,0.35643327666808333,0.3086814501288186,0.051696284329563816,0.03463203463203463,0.31780503978779845,0.5786046912728527,0.5288067465321564,0.349671669793621,0.270500725689405,0.03717472118959108,0.2768859359524596,0.03837471783295711,0.29937087274674284,0.045454545454545456,0.10058027079303675,0.3970367591897975,0.35157723747642006,0.06888888888888889,0.08755129958960328,0.27511481056257175,0.11716621253405994,0.037756202804746494,0.14748603351955308,0.3851607347876005,0.018497109826589597,0.2978723404255319,0.27570266272189353,0.3291552197802198,0.04681647940074907,0.03162055335968379,0.09631147540983606,0.07,0.06,0.053726169844020795,0.24483652021602686,0.17846313437599745,0.7458314806580703,0.5918754410726889,0.36448826597131684,0.18645787016451756,0.27278825825337455,0.06547619047619048,0.32748438110113237,0.06172839506172839,0.03770739064856712,0.1903080326752893,0.13059599813142325,0.29391536709304367,0.0134886572654813,0.12098765432098765,0.8115021770682148,0.11327433628318584,0.4044791415481071,0.32176769614425477,0.05830903790087463,0.3342716221602232,0.31780503978779845,0.05454545454545454,0.30575555960627054,0.24765613465229588,0.2541966426858513,0.1040339702760085,0.08980582524271845,0.2463768115942029,0.08395522388059702,0.3377718485702779,0.389815245177783,0.3377718485702779,0.43887362637362637,0.39701183431952664,0.4403714885796797,0.41622208436724567,0.4315346025212246,0.280497491638796,0.47090819764177433,0.4230453972257251,0.2979880973529934,0.33865838885523925,0.029925187032418952,0.28483188996434033,0.05789473684210526,0.10837438423645321,0.10478359908883828,0.31937833206397565,0.32500968804495256,0.04805491990846682,0.07796610169491526,0.41488374969082364,0.05311355311355311,0.19609375,0.08350877192982456,0.07335907335907337,0.34499691484985606,0.3761773940345369,0.07068607068607069,0.02702702702702703,0.051252408477842,0.2733661994784876,0.09870711089010442,0.1070110701107011,0.5140591480232914,0.570924098025868,0.13496741229481815,0.04452054794520548,0.19390942217595003,0.10500650195058518,0.35909980430528377,0.20480769230769233,0.02586206896551724,0.10684931506849316,0.05830388692579505,0.2261904761904762,0.11855670103092783,0.28736936782593797,0.3525378310214376,0.20448311593319518,0.06765163297045101,0.09666505558240696,0.25961538461538464,0.26172179747230456,0.2391304347826087,0.2146902598233713,0.019736842105263157,0.059064061790095414,0.21981064080723367,0.30575555960627054,0.2094624125874126,0.1092436974789916,0.048087431693989074,0.10407966591712174,0.537719298245614,0.10679611650485436,0.17280163599182005,0.1678709055876686,0.029707112970711297,0.14510278113663846,0.10788365063030615,0.28995246326707,0.06761006289308176,0.41622208436724567,0.2232332978440245,0.24483652021602686,0.051789077212806026,0.0184645286686103,0.05493230174081238,0.04134672179562906,0.09848484848484848,0.26386267107126005,0.2439108622946052,0.6451442307692308,0.19118414188836724,0.07766677408959072,0.08126110124333925,0.1136653895274585,0.19461364427427777,0.5143540669856459,0.03544776119402985,0.011764705882352941,0.034013605442176874,0.05225225225225225,0.291261503733287,0.029535864978902954,0.08456659619450317,0.8777472527472527,0.05339805825242718,0.26825123940508555,0.26066433566433567,0.3079447402239765,0.08251273344651952,0.11990549320732427,0.14285714285714285,0.05561613958560523,0.1276824034334764,0.1434659090909091,0.2932473776223776,0.2425354251012146,0.3162471719457014,0.12385321100917432,0.03611738148984198,0.0901906090190609,0.09678683385579938,0.10219354838709678,0.08603145235892692,0.19115384615384617,0.4782608695652174,0.35643327666808333,0.07755775577557755,0.2973014888337469,0.19095477386934673,0.026615969581749048,0.0735930735930736],\"xaxis\":\"x\",\"y\":[1122.0,1172.0,1149.0,1207.0,1621.0,1856.0,1182.0,1194.0,1156.0,1111.0,1293.0,1269.0,1051.0,1148.0,1200.0,1127.0,1176.0,1435.0,1223.4388059701494,1223.4388059701494,1223.4388059701494,1419.0,1522.0,1577.0,1677.0,1419.0,1758.0,1614.0,1170.0,1306.0,1233.0,1223.4388059701494,1223.4388059701494,1223.4388059701494,1372.0,1199.0,1227.0,2096.0,1374.0,1070.0,1416.0,1240.0,1239.0,1253.0,1058.0,1168.0,1424.0,1212.0,1195.0,1257.0,1255.0,1207.0,1315.0,1236.0,1132.0,1144.0,1223.4388059701494,1223.4388059701494,1109.0,1223.4388059701494,1744.0,1707.0,1196.0,1277.0,1446.0,1096.0,1084.0,1430.0,1128.0,1221.0,1326.0,1326.0,1054.0,1210.0,1223.4388059701494,1062.0,1077.0,1374.0,1202.0,1847.0,1270.0,1105.0,1174.0,1223.4388059701494,1127.0,1098.0,1102.0,1224.0,1309.0,1014.0,1090.0,945.0,1077.0,1097.0,1201.0,1257.0,1186.0,1103.0,1084.0,1181.0,1201.0,1158.0,1095.0,1223.4388059701494,1171.0,1158.0,1038.0,1164.0,1084.0,1223.4388059701494,1223.4388059701494,1241.0,1223.4388059701494,1099.0,1131.0,1049.0,1134.0,1290.0,1169.0,1092.0,1396.0,1075.0,1081.0,1148.0,1223.4388059701494,1138.0,951.0,965.0,1074.0,1083.0,1221.0,1224.0,1121.0,1166.0,1039.0,1333.0,1150.0,1190.0,1157.0,1158.0,962.0,1182.0,934.0,1181.0,1180.0,1106.0,1222.0,1077.0,1119.0,1082.0,1255.0,1270.0,1969.0,1263.0,1064.0,1115.0,1920.0,1133.0,1147.0,1135.0,1141.0,1111.0,1348.0,1135.0,1169.0,1268.0,1151.0,1048.0,1112.0,1288.0,1126.0,1163.0,1055.0,1122.0,1251.0,1102.0,1155.0,970.0,1223.4388059701494,1223.4388059701494,939.0,1029.0,1114.0,1038.0,1074.0,1080.0,1114.0,1211.0,1833.0,981.0,1206.0,1116.0,1223.4388059701494,1312.0,1189.0,1391.0,1353.0,1085.0,1223.4388059701494,1740.0,1189.0,1114.0,1204.0,1215.0,1090.0,1112.0,1187.0,1103.0,1093.0,1122.0,1035.0,1111.0,1179.0,1203.0,1169.0,1175.0,1212.0,1185.0,1258.0,1223.4388059701494,1068.0,1097.0,1092.0,1223.4388059701494,1139.0,1045.0,913.0,1176.0,1088.0,1153.0,1027.0,1105.0,1360.0,1273.0,1143.0,1151.0,1436.0,1251.0,963.0,1145.0,1118.0,1092.0,1143.0,1080.0,1183.0,1169.0,1159.0,1111.0,1135.0,1242.0,1023.0,1054.0,1149.0,1106.0,887.0,1193.0,1096.0,1108.0,1129.0,1102.0,1157.0,1272.0,1323.0,1306.0,1244.0,1223.4388059701494,1026.0,1237.0,1164.0,1226.0,1223.4388059701494,1431.0,1262.0,1124.0,1079.0,1184.0,1313.0,1473.0,1350.0,1627.0,1352.0,1185.0,1091.0,1196.0,1280.0,1219.0,1240.0,951.0,1663.0,1203.0,1211.0,1177.0,1064.0,1174.0,1330.0,1270.0,1364.0,1396.0,1049.0,1271.0,1441.0,1243.0,1216.0,1910.0,1330.0,1514.0,1474.0,1172.0,1449.0,1279.0,1145.0,1252.0,1156.0,1265.0,1094.0,1532.0,1108.0,1154.0,1192.0,1345.0,1223.4388059701494,1265.0,1223.4388059701494,1407.0,1194.0,1372.0,1538.0,1223.4388059701494,1868.0,1196.0,1316.0,1099.0,1173.0,1202.0,1287.0,1100.0,1223.4388059701494,1220.0,1151.0,1223.4388059701494,1255.0,1275.0,1218.0,1494.0,1239.0,1127.0,1470.0,1636.0,1353.0,1195.0,1426.0,1277.0,1279.0,1301.0,1418.0,1388.0,1235.0,1953.0,1098.0,1154.0,1035.0,1060.0,1315.0,1055.0],\"yaxis\":\"y\",\"type\":\"scatter\"}],                        {\"template\":{\"data\":{\"histogram2dcontour\":[{\"type\":\"histogram2dcontour\",\"colorbar\":{\"outlinewidth\":0,\"ticks\":\"\"},\"colorscale\":[[0.0,\"#0d0887\"],[0.1111111111111111,\"#46039f\"],[0.2222222222222222,\"#7201a8\"],[0.3333333333333333,\"#9c179e\"],[0.4444444444444444,\"#bd3786\"],[0.5555555555555556,\"#d8576b\"],[0.6666666666666666,\"#ed7953\"],[0.7777777777777778,\"#fb9f3a\"],[0.8888888888888888,\"#fdca26\"],[1.0,\"#f0f921\"]]}],\"choropleth\":[{\"type\":\"choropleth\",\"colorbar\":{\"outlinewidth\":0,\"ticks\":\"\"}}],\"histogram2d\":[{\"type\":\"histogram2d\",\"colorbar\":{\"outlinewidth\":0,\"ticks\":\"\"},\"colorscale\":[[0.0,\"#0d0887\"],[0.1111111111111111,\"#46039f\"],[0.2222222222222222,\"#7201a8\"],[0.3333333333333333,\"#9c179e\"],[0.4444444444444444,\"#bd3786\"],[0.5555555555555556,\"#d8576b\"],[0.6666666666666666,\"#ed7953\"],[0.7777777777777778,\"#fb9f3a\"],[0.8888888888888888,\"#fdca26\"],[1.0,\"#f0f921\"]]}],\"heatmap\":[{\"type\":\"heatmap\",\"colorbar\":{\"outlinewidth\":0,\"ticks\":\"\"},\"colorscale\":[[0.0,\"#0d0887\"],[0.1111111111111111,\"#46039f\"],[0.2222222222222222,\"#7201a8\"],[0.3333333333333333,\"#9c179e\"],[0.4444444444444444,\"#bd3786\"],[0.5555555555555556,\"#d8576b\"],[0.6666666666666666,\"#ed7953\"],[0.7777777777777778,\"#fb9f3a\"],[0.8888888888888888,\"#fdca26\"],[1.0,\"#f0f921\"]]}],\"heatmapgl\":[{\"type\":\"heatmapgl\",\"colorbar\":{\"outlinewidth\":0,\"ticks\":\"\"},\"colorscale\":[[0.0,\"#0d0887\"],[0.1111111111111111,\"#46039f\"],[0.2222222222222222,\"#7201a8\"],[0.3333333333333333,\"#9c179e\"],[0.4444444444444444,\"#bd3786\"],[0.5555555555555556,\"#d8576b\"],[0.6666666666666666,\"#ed7953\"],[0.7777777777777778,\"#fb9f3a\"],[0.8888888888888888,\"#fdca26\"],[1.0,\"#f0f921\"]]}],\"contourcarpet\":[{\"type\":\"contourcarpet\",\"colorbar\":{\"outlinewidth\":0,\"ticks\":\"\"}}],\"contour\":[{\"type\":\"contour\",\"colorbar\":{\"outlinewidth\":0,\"ticks\":\"\"},\"colorscale\":[[0.0,\"#0d0887\"],[0.1111111111111111,\"#46039f\"],[0.2222222222222222,\"#7201a8\"],[0.3333333333333333,\"#9c179e\"],[0.4444444444444444,\"#bd3786\"],[0.5555555555555556,\"#d8576b\"],[0.6666666666666666,\"#ed7953\"],[0.7777777777777778,\"#fb9f3a\"],[0.8888888888888888,\"#fdca26\"],[1.0,\"#f0f921\"]]}],\"surface\":[{\"type\":\"surface\",\"colorbar\":{\"outlinewidth\":0,\"ticks\":\"\"},\"colorscale\":[[0.0,\"#0d0887\"],[0.1111111111111111,\"#46039f\"],[0.2222222222222222,\"#7201a8\"],[0.3333333333333333,\"#9c179e\"],[0.4444444444444444,\"#bd3786\"],[0.5555555555555556,\"#d8576b\"],[0.6666666666666666,\"#ed7953\"],[0.7777777777777778,\"#fb9f3a\"],[0.8888888888888888,\"#fdca26\"],[1.0,\"#f0f921\"]]}],\"mesh3d\":[{\"type\":\"mesh3d\",\"colorbar\":{\"outlinewidth\":0,\"ticks\":\"\"}}],\"scatter\":[{\"fillpattern\":{\"fillmode\":\"overlay\",\"size\":10,\"solidity\":0.2},\"type\":\"scatter\"}],\"parcoords\":[{\"type\":\"parcoords\",\"line\":{\"colorbar\":{\"outlinewidth\":0,\"ticks\":\"\"}}}],\"scatterpolargl\":[{\"type\":\"scatterpolargl\",\"marker\":{\"colorbar\":{\"outlinewidth\":0,\"ticks\":\"\"}}}],\"bar\":[{\"error_x\":{\"color\":\"#2a3f5f\"},\"error_y\":{\"color\":\"#2a3f5f\"},\"marker\":{\"line\":{\"color\":\"#E5ECF6\",\"width\":0.5},\"pattern\":{\"fillmode\":\"overlay\",\"size\":10,\"solidity\":0.2}},\"type\":\"bar\"}],\"scattergeo\":[{\"type\":\"scattergeo\",\"marker\":{\"colorbar\":{\"outlinewidth\":0,\"ticks\":\"\"}}}],\"scatterpolar\":[{\"type\":\"scatterpolar\",\"marker\":{\"colorbar\":{\"outlinewidth\":0,\"ticks\":\"\"}}}],\"histogram\":[{\"marker\":{\"pattern\":{\"fillmode\":\"overlay\",\"size\":10,\"solidity\":0.2}},\"type\":\"histogram\"}],\"scattergl\":[{\"type\":\"scattergl\",\"marker\":{\"colorbar\":{\"outlinewidth\":0,\"ticks\":\"\"}}}],\"scatter3d\":[{\"type\":\"scatter3d\",\"line\":{\"colorbar\":{\"outlinewidth\":0,\"ticks\":\"\"}},\"marker\":{\"colorbar\":{\"outlinewidth\":0,\"ticks\":\"\"}}}],\"scattermapbox\":[{\"type\":\"scattermapbox\",\"marker\":{\"colorbar\":{\"outlinewidth\":0,\"ticks\":\"\"}}}],\"scatterternary\":[{\"type\":\"scatterternary\",\"marker\":{\"colorbar\":{\"outlinewidth\":0,\"ticks\":\"\"}}}],\"scattercarpet\":[{\"type\":\"scattercarpet\",\"marker\":{\"colorbar\":{\"outlinewidth\":0,\"ticks\":\"\"}}}],\"carpet\":[{\"aaxis\":{\"endlinecolor\":\"#2a3f5f\",\"gridcolor\":\"white\",\"linecolor\":\"white\",\"minorgridcolor\":\"white\",\"startlinecolor\":\"#2a3f5f\"},\"baxis\":{\"endlinecolor\":\"#2a3f5f\",\"gridcolor\":\"white\",\"linecolor\":\"white\",\"minorgridcolor\":\"white\",\"startlinecolor\":\"#2a3f5f\"},\"type\":\"carpet\"}],\"table\":[{\"cells\":{\"fill\":{\"color\":\"#EBF0F8\"},\"line\":{\"color\":\"white\"}},\"header\":{\"fill\":{\"color\":\"#C8D4E3\"},\"line\":{\"color\":\"white\"}},\"type\":\"table\"}],\"barpolar\":[{\"marker\":{\"line\":{\"color\":\"#E5ECF6\",\"width\":0.5},\"pattern\":{\"fillmode\":\"overlay\",\"size\":10,\"solidity\":0.2}},\"type\":\"barpolar\"}],\"pie\":[{\"automargin\":true,\"type\":\"pie\"}]},\"layout\":{\"autotypenumbers\":\"strict\",\"colorway\":[\"#636efa\",\"#EF553B\",\"#00cc96\",\"#ab63fa\",\"#FFA15A\",\"#19d3f3\",\"#FF6692\",\"#B6E880\",\"#FF97FF\",\"#FECB52\"],\"font\":{\"color\":\"#2a3f5f\"},\"hovermode\":\"closest\",\"hoverlabel\":{\"align\":\"left\"},\"paper_bgcolor\":\"white\",\"plot_bgcolor\":\"#E5ECF6\",\"polar\":{\"bgcolor\":\"#E5ECF6\",\"angularaxis\":{\"gridcolor\":\"white\",\"linecolor\":\"white\",\"ticks\":\"\"},\"radialaxis\":{\"gridcolor\":\"white\",\"linecolor\":\"white\",\"ticks\":\"\"}},\"ternary\":{\"bgcolor\":\"#E5ECF6\",\"aaxis\":{\"gridcolor\":\"white\",\"linecolor\":\"white\",\"ticks\":\"\"},\"baxis\":{\"gridcolor\":\"white\",\"linecolor\":\"white\",\"ticks\":\"\"},\"caxis\":{\"gridcolor\":\"white\",\"linecolor\":\"white\",\"ticks\":\"\"}},\"coloraxis\":{\"colorbar\":{\"outlinewidth\":0,\"ticks\":\"\"}},\"colorscale\":{\"sequential\":[[0.0,\"#0d0887\"],[0.1111111111111111,\"#46039f\"],[0.2222222222222222,\"#7201a8\"],[0.3333333333333333,\"#9c179e\"],[0.4444444444444444,\"#bd3786\"],[0.5555555555555556,\"#d8576b\"],[0.6666666666666666,\"#ed7953\"],[0.7777777777777778,\"#fb9f3a\"],[0.8888888888888888,\"#fdca26\"],[1.0,\"#f0f921\"]],\"sequentialminus\":[[0.0,\"#0d0887\"],[0.1111111111111111,\"#46039f\"],[0.2222222222222222,\"#7201a8\"],[0.3333333333333333,\"#9c179e\"],[0.4444444444444444,\"#bd3786\"],[0.5555555555555556,\"#d8576b\"],[0.6666666666666666,\"#ed7953\"],[0.7777777777777778,\"#fb9f3a\"],[0.8888888888888888,\"#fdca26\"],[1.0,\"#f0f921\"]],\"diverging\":[[0,\"#8e0152\"],[0.1,\"#c51b7d\"],[0.2,\"#de77ae\"],[0.3,\"#f1b6da\"],[0.4,\"#fde0ef\"],[0.5,\"#f7f7f7\"],[0.6,\"#e6f5d0\"],[0.7,\"#b8e186\"],[0.8,\"#7fbc41\"],[0.9,\"#4d9221\"],[1,\"#276419\"]]},\"xaxis\":{\"gridcolor\":\"white\",\"linecolor\":\"white\",\"ticks\":\"\",\"title\":{\"standoff\":15},\"zerolinecolor\":\"white\",\"automargin\":true,\"zerolinewidth\":2},\"yaxis\":{\"gridcolor\":\"white\",\"linecolor\":\"white\",\"ticks\":\"\",\"title\":{\"standoff\":15},\"zerolinecolor\":\"white\",\"automargin\":true,\"zerolinewidth\":2},\"scene\":{\"xaxis\":{\"backgroundcolor\":\"#E5ECF6\",\"gridcolor\":\"white\",\"linecolor\":\"white\",\"showbackground\":true,\"ticks\":\"\",\"zerolinecolor\":\"white\",\"gridwidth\":2},\"yaxis\":{\"backgroundcolor\":\"#E5ECF6\",\"gridcolor\":\"white\",\"linecolor\":\"white\",\"showbackground\":true,\"ticks\":\"\",\"zerolinecolor\":\"white\",\"gridwidth\":2},\"zaxis\":{\"backgroundcolor\":\"#E5ECF6\",\"gridcolor\":\"white\",\"linecolor\":\"white\",\"showbackground\":true,\"ticks\":\"\",\"zerolinecolor\":\"white\",\"gridwidth\":2}},\"shapedefaults\":{\"line\":{\"color\":\"#2a3f5f\"}},\"annotationdefaults\":{\"arrowcolor\":\"#2a3f5f\",\"arrowhead\":0,\"arrowwidth\":1},\"geo\":{\"bgcolor\":\"white\",\"landcolor\":\"#E5ECF6\",\"subunitcolor\":\"white\",\"showland\":true,\"showlakes\":true,\"lakecolor\":\"white\"},\"title\":{\"x\":0.05},\"mapbox\":{\"style\":\"light\"}}},\"xaxis\":{\"anchor\":\"y\",\"domain\":[0.0,1.0],\"title\":{\"text\":\"ap_per\"}},\"yaxis\":{\"anchor\":\"x\",\"domain\":[0.0,1.0],\"title\":{\"text\":\"sat_score\"}},\"legend\":{\"tracegroupgap\":0},\"margin\":{\"t\":60}},                        {\"responsive\": true}                    ).then(function(){\n",
       "                            \n",
       "var gd = document.getElementById('a283faac-560b-4bf3-ac06-d2285c38e581');\n",
       "var x = new MutationObserver(function (mutations, observer) {{\n",
       "        var display = window.getComputedStyle(gd).display;\n",
       "        if (!display || display === 'none') {{\n",
       "            console.log([gd, 'removed!']);\n",
       "            Plotly.purge(gd);\n",
       "            observer.disconnect();\n",
       "        }}\n",
       "}});\n",
       "\n",
       "// Listen for the removal of the full notebook cells\n",
       "var notebookContainer = gd.closest('#notebook-container');\n",
       "if (notebookContainer) {{\n",
       "    x.observe(notebookContainer, {childList: true});\n",
       "}}\n",
       "\n",
       "// Listen for the clearing of the current output cell\n",
       "var outputEl = gd.closest('.output');\n",
       "if (outputEl) {{\n",
       "    x.observe(outputEl, {childList: true});\n",
       "}}\n",
       "\n",
       "                        })                };                });            </script>        </div>"
      ]
     },
     "metadata": {},
     "output_type": "display_data"
    }
   ],
   "source": [
    "combined['ap_per'] = combined['AP Test Takers ']/combined['total_enrollment']\n",
    "px.scatter(combined, x ='ap_per', y ='sat_score')"
   ]
  },
  {
   "cell_type": "markdown",
   "id": "8103dc4e",
   "metadata": {},
   "source": [
    "*We can observe a weak correlation between the variables.*"
   ]
  },
  {
   "cell_type": "code",
   "execution_count": 98,
   "id": "f19a3a98",
   "metadata": {
    "scrolled": true
   },
   "outputs": [
    {
     "data": {
      "application/vnd.plotly.v1+json": {
       "config": {
        "plotlyServerURL": "https://plot.ly"
       },
       "data": [
        {
         "hovertemplate": "sat_score=%{x}<br>AVERAGE CLASS SIZE=%{y}<extra></extra>",
         "legendgroup": "",
         "marker": {
          "color": "#636efa",
          "symbol": "circle"
         },
         "mode": "markers",
         "name": "",
         "orientation": "v",
         "showlegend": false,
         "type": "scatter",
         "x": [
          1122,
          1172,
          1149,
          1207,
          1621,
          1856,
          1182,
          1194,
          1156,
          1111,
          1293,
          1269,
          1051,
          1148,
          1200,
          1127,
          1176,
          1435,
          1223.4388059701494,
          1223.4388059701494,
          1223.4388059701494,
          1419,
          1522,
          1577,
          1677,
          1419,
          1758,
          1614,
          1170,
          1306,
          1233,
          1223.4388059701494,
          1223.4388059701494,
          1223.4388059701494,
          1372,
          1199,
          1227,
          2096,
          1374,
          1070,
          1416,
          1240,
          1239,
          1253,
          1058,
          1168,
          1424,
          1212,
          1195,
          1257,
          1255,
          1207,
          1315,
          1236,
          1132,
          1144,
          1223.4388059701494,
          1223.4388059701494,
          1109,
          1223.4388059701494,
          1744,
          1707,
          1196,
          1277,
          1446,
          1096,
          1084,
          1430,
          1128,
          1221,
          1326,
          1326,
          1054,
          1210,
          1223.4388059701494,
          1062,
          1077,
          1374,
          1202,
          1847,
          1270,
          1105,
          1174,
          1223.4388059701494,
          1127,
          1098,
          1102,
          1224,
          1309,
          1014,
          1090,
          945,
          1077,
          1097,
          1201,
          1257,
          1186,
          1103,
          1084,
          1181,
          1201,
          1158,
          1095,
          1223.4388059701494,
          1171,
          1158,
          1038,
          1164,
          1084,
          1223.4388059701494,
          1223.4388059701494,
          1241,
          1223.4388059701494,
          1099,
          1131,
          1049,
          1134,
          1290,
          1169,
          1092,
          1396,
          1075,
          1081,
          1148,
          1223.4388059701494,
          1138,
          951,
          965,
          1074,
          1083,
          1221,
          1224,
          1121,
          1166,
          1039,
          1333,
          1150,
          1190,
          1157,
          1158,
          962,
          1182,
          934,
          1181,
          1180,
          1106,
          1222,
          1077,
          1119,
          1082,
          1255,
          1270,
          1969,
          1263,
          1064,
          1115,
          1920,
          1133,
          1147,
          1135,
          1141,
          1111,
          1348,
          1135,
          1169,
          1268,
          1151,
          1048,
          1112,
          1288,
          1126,
          1163,
          1055,
          1122,
          1251,
          1102,
          1155,
          970,
          1223.4388059701494,
          1223.4388059701494,
          939,
          1029,
          1114,
          1038,
          1074,
          1080,
          1114,
          1211,
          1833,
          981,
          1206,
          1116,
          1223.4388059701494,
          1312,
          1189,
          1391,
          1353,
          1085,
          1223.4388059701494,
          1740,
          1189,
          1114,
          1204,
          1215,
          1090,
          1112,
          1187,
          1103,
          1093,
          1122,
          1035,
          1111,
          1179,
          1203,
          1169,
          1175,
          1212,
          1185,
          1258,
          1223.4388059701494,
          1068,
          1097,
          1092,
          1223.4388059701494,
          1139,
          1045,
          913,
          1176,
          1088,
          1153,
          1027,
          1105,
          1360,
          1273,
          1143,
          1151,
          1436,
          1251,
          963,
          1145,
          1118,
          1092,
          1143,
          1080,
          1183,
          1169,
          1159,
          1111,
          1135,
          1242,
          1023,
          1054,
          1149,
          1106,
          887,
          1193,
          1096,
          1108,
          1129,
          1102,
          1157,
          1272,
          1323,
          1306,
          1244,
          1223.4388059701494,
          1026,
          1237,
          1164,
          1226,
          1223.4388059701494,
          1431,
          1262,
          1124,
          1079,
          1184,
          1313,
          1473,
          1350,
          1627,
          1352,
          1185,
          1091,
          1196,
          1280,
          1219,
          1240,
          951,
          1663,
          1203,
          1211,
          1177,
          1064,
          1174,
          1330,
          1270,
          1364,
          1396,
          1049,
          1271,
          1441,
          1243,
          1216,
          1910,
          1330,
          1514,
          1474,
          1172,
          1449,
          1279,
          1145,
          1252,
          1156,
          1265,
          1094,
          1532,
          1108,
          1154,
          1192,
          1345,
          1223.4388059701494,
          1265,
          1223.4388059701494,
          1407,
          1194,
          1372,
          1538,
          1223.4388059701494,
          1868,
          1196,
          1316,
          1099,
          1173,
          1202,
          1287,
          1100,
          1223.4388059701494,
          1220,
          1151,
          1223.4388059701494,
          1255,
          1275,
          1218,
          1494,
          1239,
          1127,
          1470,
          1636,
          1353,
          1195,
          1426,
          1277,
          1279,
          1301,
          1418,
          1388,
          1235,
          1953,
          1098,
          1154,
          1035,
          1060,
          1315,
          1055
         ],
         "xaxis": "x",
         "y": [
          22.564285714285713,
          22.23125,
          21.2,
          23.571428571428573,
          25.510526315789473,
          20.974999999999998,
          16.072727272727274,
          22.683333333333334,
          14.9,
          22.964285714285715,
          21.3125,
          22.641666666666666,
          21.849999999999998,
          20.8,
          23.25,
          26.316666666666666,
          27.207142857142856,
          37.02307692307692,
          25.25714285714286,
          22.12857142857143,
          17.854545454545455,
          30.58,
          28.95294117647059,
          26.573333333333334,
          32.56666666666667,
          27.74375,
          27.433333333333334,
          29.211764705882356,
          23.228571428571428,
          32.1875,
          27.973333333333336,
          26.599999999999998,
          29.116666666666664,
          24.66,
          21.35625,
          19.216666666666665,
          20.311764705882354,
          31.115789473684213,
          27.333333333333332,
          25.042857142857144,
          25.85,
          26.970588235294116,
          26.049999999999997,
          23.900000000000002,
          23.475,
          22.638461538461538,
          21.81764705882353,
          24.013333333333332,
          26.08823529411765,
          30.608333333333334,
          23.8,
          25.200000000000003,
          28.8875,
          23.92105263157895,
          24.1375,
          19.807692307692307,
          10,
          24.98,
          23.6,
          25,
          30.78333333333333,
          31.306250000000002,
          23.416666666666668,
          28.071428571428573,
          21.599999999999998,
          21.892857142857142,
          21.32,
          31.06666666666667,
          19.040000000000003,
          25.164285714285715,
          25.711764705882356,
          25.711764705882356,
          20.692857142857143,
          25.639999999999997,
          26.27142857142857,
          23.430769230769233,
          24.23846153846154,
          26.68125,
          22.993333333333332,
          21.68125,
          23.635714285714283,
          27.069230769230767,
          28.060000000000002,
          17,
          26.0375,
          23.36875,
          24.966666666666665,
          27.63125,
          30.042105263157893,
          25.430769230769233,
          21.386666666666667,
          16.2,
          22.64375,
          24.342857142857145,
          26.885714285714283,
          21.355555555555554,
          23.2125,
          24.40666666666667,
          24.154545454545453,
          25.538888888888888,
          23.12,
          27.3,
          25.733333333333334,
          27.228571428571428,
          22,
          25.826666666666664,
          19.676923076923078,
          28.157142857142855,
          19.688235294117646,
          30.7,
          24.099999999999998,
          27.484210526315792,
          20.283333333333335,
          24.01875,
          25.284615384615385,
          22.714285714285715,
          25.473333333333336,
          21.529411764705884,
          24.607692307692307,
          27.714285714285715,
          22.670588235294115,
          26.285714285714285,
          22.099999999999998,
          22.846666666666668,
          27.9625,
          22.885714285714283,
          23.714285714285715,
          15.61111111111111,
          24.3,
          23.184615384615384,
          26.035714285714285,
          27.76666666666667,
          22.95625,
          26.86875,
          22.5,
          26.794117647058822,
          22.023076923076925,
          25.040000000000003,
          25.8125,
          25.042857142857144,
          29.62857142857143,
          23.358823529411765,
          23.72307692307692,
          26.266666666666666,
          22.75,
          20.8,
          22.36,
          22.88823529411765,
          21.35625,
          21.72941176470588,
          26.05263157894737,
          23.26111111111111,
          31.163157894736845,
          23.158823529411762,
          24.123076923076926,
          23.853846153846156,
          22.189473684210526,
          22.67142857142857,
          23.66,
          22.07857142857143,
          28.157142857142855,
          28.3,
          24.11764705882353,
          27.10625,
          24.19333333333333,
          26.96470588235294,
          28.54444444444444,
          21.71666666666667,
          22.9875,
          27.45294117647059,
          25.623529411764707,
          20.773684210526316,
          23.292307692307695,
          21.15625,
          21.7,
          26.978571428571428,
          21.042105263157897,
          15.361538461538462,
          22.69090909090909,
          21.942857142857143,
          23.166666666666668,
          22.46666666666667,
          24.54705882352941,
          22.2,
          21.44375,
          22.16923076923077,
          25.2,
          27.16111111111111,
          32.45263157894737,
          19.585714285714285,
          22.22142857142857,
          27.153333333333332,
          24.900000000000002,
          21.79375,
          26.7375,
          27.894736842105264,
          21.369999999999997,
          30.05,
          20.599999999999998,
          23.259999999999998,
          23.661538461538463,
          25.8375,
          27.433333333333334,
          29.36111111111111,
          23.40666666666667,
          25.361538461538462,
          25.38888888888889,
          20.7625,
          25.56,
          17.3375,
          22.3375,
          25.25714285714286,
          23.1,
          25.900000000000002,
          23.77857142857143,
          26.7375,
          23.526666666666664,
          26.88235294117647,
          26.775,
          26.855555555555554,
          22.307692307692307,
          26.513333333333332,
          26.64,
          21.475,
          24.813333333333333,
          25.141666666666666,
          23.792307692307695,
          26.39375,
          30.9375,
          23.24285714285714,
          23.02,
          27.873333333333335,
          23.092857142857145,
          23.116666666666667,
          21.385714285714283,
          26.0875,
          27.576470588235296,
          29.25,
          20.83157894736842,
          19.933333333333334,
          26.066666666666666,
          26.125,
          25.01111111111111,
          20.05,
          19.625,
          18.37272727272727,
          26.95,
          19.6,
          20.5625,
          19.121052631578948,
          23.52,
          26.166666666666668,
          24.614285714285717,
          23.99375,
          23.808333333333334,
          26.97142857142857,
          23.318181818181817,
          25.292307692307695,
          23.84705882352941,
          25.27857142857143,
          25.84166666666667,
          27.884210526315787,
          30.43333333333333,
          28.310000000000002,
          27.914285714285718,
          14.36,
          17.206666666666667,
          25.923529411764704,
          26.392857142857142,
          27.668421052631583,
          24.630000000000003,
          30.314999999999998,
          28.369999999999997,
          24.25,
          21.157142857142855,
          25.629411764705882,
          26.58421052631579,
          31.963157894736838,
          30.494444444444444,
          31.58235294117647,
          26.27058823529412,
          24.792857142857144,
          23,
          25.10625,
          24.305882352941175,
          22.076470588235296,
          23.349999999999998,
          19.726666666666667,
          20.47142857142857,
          27.311111111111114,
          26.985000000000003,
          18.5,
          17.007692307692306,
          27.405555555555555,
          26.5,
          28.45625,
          28.16111111111111,
          24.586666666666666,
          19.192307692307693,
          28.933333333333334,
          25.04736842105263,
          29.385,
          30.026315789473685,
          29.3625,
          30.31666666666667,
          31.105263157894736,
          30.236842105263158,
          27.125,
          32.40526315789474,
          28.983333333333334,
          24.564285714285713,
          26.38235294117647,
          23.27692307692308,
          30.116666666666667,
          23.327272727272728,
          25.93846153846154,
          28.77777777777778,
          29.950000000000003,
          27.31578947368421,
          26.84705882352941,
          25.10909090909091,
          22.52857142857143,
          24.6,
          31.205882352941178,
          28.885714285714283,
          29.616666666666667,
          27.61111111111111,
          28.314285714285713,
          26.006666666666668,
          29.34375,
          21.87142857142857,
          25.653333333333332,
          25.775000000000002,
          25.27777777777778,
          28.26875,
          23.8375,
          24.75,
          23.525,
          28.207692307692305,
          21.571428571428573,
          22.363636363636363,
          29.25,
          25,
          27.88,
          26.83529411764706,
          26.976470588235294,
          31.09473684210526,
          20.46923076923077,
          25.66875,
          24.349999999999998,
          30.272222222222222,
          28.200000000000003,
          28.07894736842105,
          27.311764705882354,
          30.2,
          29.247368421052634,
          28.279999999999998,
          29.58823529411765,
          22.40625,
          22.958823529411767,
          22.759999999999998,
          23.9,
          17.79375,
          25.060000000000002
         ],
         "yaxis": "y"
        }
       ],
       "layout": {
        "legend": {
         "tracegroupgap": 0
        },
        "margin": {
         "t": 60
        },
        "template": {
         "data": {
          "bar": [
           {
            "error_x": {
             "color": "#2a3f5f"
            },
            "error_y": {
             "color": "#2a3f5f"
            },
            "marker": {
             "line": {
              "color": "#E5ECF6",
              "width": 0.5
             },
             "pattern": {
              "fillmode": "overlay",
              "size": 10,
              "solidity": 0.2
             }
            },
            "type": "bar"
           }
          ],
          "barpolar": [
           {
            "marker": {
             "line": {
              "color": "#E5ECF6",
              "width": 0.5
             },
             "pattern": {
              "fillmode": "overlay",
              "size": 10,
              "solidity": 0.2
             }
            },
            "type": "barpolar"
           }
          ],
          "carpet": [
           {
            "aaxis": {
             "endlinecolor": "#2a3f5f",
             "gridcolor": "white",
             "linecolor": "white",
             "minorgridcolor": "white",
             "startlinecolor": "#2a3f5f"
            },
            "baxis": {
             "endlinecolor": "#2a3f5f",
             "gridcolor": "white",
             "linecolor": "white",
             "minorgridcolor": "white",
             "startlinecolor": "#2a3f5f"
            },
            "type": "carpet"
           }
          ],
          "choropleth": [
           {
            "colorbar": {
             "outlinewidth": 0,
             "ticks": ""
            },
            "type": "choropleth"
           }
          ],
          "contour": [
           {
            "colorbar": {
             "outlinewidth": 0,
             "ticks": ""
            },
            "colorscale": [
             [
              0,
              "#0d0887"
             ],
             [
              0.1111111111111111,
              "#46039f"
             ],
             [
              0.2222222222222222,
              "#7201a8"
             ],
             [
              0.3333333333333333,
              "#9c179e"
             ],
             [
              0.4444444444444444,
              "#bd3786"
             ],
             [
              0.5555555555555556,
              "#d8576b"
             ],
             [
              0.6666666666666666,
              "#ed7953"
             ],
             [
              0.7777777777777778,
              "#fb9f3a"
             ],
             [
              0.8888888888888888,
              "#fdca26"
             ],
             [
              1,
              "#f0f921"
             ]
            ],
            "type": "contour"
           }
          ],
          "contourcarpet": [
           {
            "colorbar": {
             "outlinewidth": 0,
             "ticks": ""
            },
            "type": "contourcarpet"
           }
          ],
          "heatmap": [
           {
            "colorbar": {
             "outlinewidth": 0,
             "ticks": ""
            },
            "colorscale": [
             [
              0,
              "#0d0887"
             ],
             [
              0.1111111111111111,
              "#46039f"
             ],
             [
              0.2222222222222222,
              "#7201a8"
             ],
             [
              0.3333333333333333,
              "#9c179e"
             ],
             [
              0.4444444444444444,
              "#bd3786"
             ],
             [
              0.5555555555555556,
              "#d8576b"
             ],
             [
              0.6666666666666666,
              "#ed7953"
             ],
             [
              0.7777777777777778,
              "#fb9f3a"
             ],
             [
              0.8888888888888888,
              "#fdca26"
             ],
             [
              1,
              "#f0f921"
             ]
            ],
            "type": "heatmap"
           }
          ],
          "heatmapgl": [
           {
            "colorbar": {
             "outlinewidth": 0,
             "ticks": ""
            },
            "colorscale": [
             [
              0,
              "#0d0887"
             ],
             [
              0.1111111111111111,
              "#46039f"
             ],
             [
              0.2222222222222222,
              "#7201a8"
             ],
             [
              0.3333333333333333,
              "#9c179e"
             ],
             [
              0.4444444444444444,
              "#bd3786"
             ],
             [
              0.5555555555555556,
              "#d8576b"
             ],
             [
              0.6666666666666666,
              "#ed7953"
             ],
             [
              0.7777777777777778,
              "#fb9f3a"
             ],
             [
              0.8888888888888888,
              "#fdca26"
             ],
             [
              1,
              "#f0f921"
             ]
            ],
            "type": "heatmapgl"
           }
          ],
          "histogram": [
           {
            "marker": {
             "pattern": {
              "fillmode": "overlay",
              "size": 10,
              "solidity": 0.2
             }
            },
            "type": "histogram"
           }
          ],
          "histogram2d": [
           {
            "colorbar": {
             "outlinewidth": 0,
             "ticks": ""
            },
            "colorscale": [
             [
              0,
              "#0d0887"
             ],
             [
              0.1111111111111111,
              "#46039f"
             ],
             [
              0.2222222222222222,
              "#7201a8"
             ],
             [
              0.3333333333333333,
              "#9c179e"
             ],
             [
              0.4444444444444444,
              "#bd3786"
             ],
             [
              0.5555555555555556,
              "#d8576b"
             ],
             [
              0.6666666666666666,
              "#ed7953"
             ],
             [
              0.7777777777777778,
              "#fb9f3a"
             ],
             [
              0.8888888888888888,
              "#fdca26"
             ],
             [
              1,
              "#f0f921"
             ]
            ],
            "type": "histogram2d"
           }
          ],
          "histogram2dcontour": [
           {
            "colorbar": {
             "outlinewidth": 0,
             "ticks": ""
            },
            "colorscale": [
             [
              0,
              "#0d0887"
             ],
             [
              0.1111111111111111,
              "#46039f"
             ],
             [
              0.2222222222222222,
              "#7201a8"
             ],
             [
              0.3333333333333333,
              "#9c179e"
             ],
             [
              0.4444444444444444,
              "#bd3786"
             ],
             [
              0.5555555555555556,
              "#d8576b"
             ],
             [
              0.6666666666666666,
              "#ed7953"
             ],
             [
              0.7777777777777778,
              "#fb9f3a"
             ],
             [
              0.8888888888888888,
              "#fdca26"
             ],
             [
              1,
              "#f0f921"
             ]
            ],
            "type": "histogram2dcontour"
           }
          ],
          "mesh3d": [
           {
            "colorbar": {
             "outlinewidth": 0,
             "ticks": ""
            },
            "type": "mesh3d"
           }
          ],
          "parcoords": [
           {
            "line": {
             "colorbar": {
              "outlinewidth": 0,
              "ticks": ""
             }
            },
            "type": "parcoords"
           }
          ],
          "pie": [
           {
            "automargin": true,
            "type": "pie"
           }
          ],
          "scatter": [
           {
            "fillpattern": {
             "fillmode": "overlay",
             "size": 10,
             "solidity": 0.2
            },
            "type": "scatter"
           }
          ],
          "scatter3d": [
           {
            "line": {
             "colorbar": {
              "outlinewidth": 0,
              "ticks": ""
             }
            },
            "marker": {
             "colorbar": {
              "outlinewidth": 0,
              "ticks": ""
             }
            },
            "type": "scatter3d"
           }
          ],
          "scattercarpet": [
           {
            "marker": {
             "colorbar": {
              "outlinewidth": 0,
              "ticks": ""
             }
            },
            "type": "scattercarpet"
           }
          ],
          "scattergeo": [
           {
            "marker": {
             "colorbar": {
              "outlinewidth": 0,
              "ticks": ""
             }
            },
            "type": "scattergeo"
           }
          ],
          "scattergl": [
           {
            "marker": {
             "colorbar": {
              "outlinewidth": 0,
              "ticks": ""
             }
            },
            "type": "scattergl"
           }
          ],
          "scattermapbox": [
           {
            "marker": {
             "colorbar": {
              "outlinewidth": 0,
              "ticks": ""
             }
            },
            "type": "scattermapbox"
           }
          ],
          "scatterpolar": [
           {
            "marker": {
             "colorbar": {
              "outlinewidth": 0,
              "ticks": ""
             }
            },
            "type": "scatterpolar"
           }
          ],
          "scatterpolargl": [
           {
            "marker": {
             "colorbar": {
              "outlinewidth": 0,
              "ticks": ""
             }
            },
            "type": "scatterpolargl"
           }
          ],
          "scatterternary": [
           {
            "marker": {
             "colorbar": {
              "outlinewidth": 0,
              "ticks": ""
             }
            },
            "type": "scatterternary"
           }
          ],
          "surface": [
           {
            "colorbar": {
             "outlinewidth": 0,
             "ticks": ""
            },
            "colorscale": [
             [
              0,
              "#0d0887"
             ],
             [
              0.1111111111111111,
              "#46039f"
             ],
             [
              0.2222222222222222,
              "#7201a8"
             ],
             [
              0.3333333333333333,
              "#9c179e"
             ],
             [
              0.4444444444444444,
              "#bd3786"
             ],
             [
              0.5555555555555556,
              "#d8576b"
             ],
             [
              0.6666666666666666,
              "#ed7953"
             ],
             [
              0.7777777777777778,
              "#fb9f3a"
             ],
             [
              0.8888888888888888,
              "#fdca26"
             ],
             [
              1,
              "#f0f921"
             ]
            ],
            "type": "surface"
           }
          ],
          "table": [
           {
            "cells": {
             "fill": {
              "color": "#EBF0F8"
             },
             "line": {
              "color": "white"
             }
            },
            "header": {
             "fill": {
              "color": "#C8D4E3"
             },
             "line": {
              "color": "white"
             }
            },
            "type": "table"
           }
          ]
         },
         "layout": {
          "annotationdefaults": {
           "arrowcolor": "#2a3f5f",
           "arrowhead": 0,
           "arrowwidth": 1
          },
          "autotypenumbers": "strict",
          "coloraxis": {
           "colorbar": {
            "outlinewidth": 0,
            "ticks": ""
           }
          },
          "colorscale": {
           "diverging": [
            [
             0,
             "#8e0152"
            ],
            [
             0.1,
             "#c51b7d"
            ],
            [
             0.2,
             "#de77ae"
            ],
            [
             0.3,
             "#f1b6da"
            ],
            [
             0.4,
             "#fde0ef"
            ],
            [
             0.5,
             "#f7f7f7"
            ],
            [
             0.6,
             "#e6f5d0"
            ],
            [
             0.7,
             "#b8e186"
            ],
            [
             0.8,
             "#7fbc41"
            ],
            [
             0.9,
             "#4d9221"
            ],
            [
             1,
             "#276419"
            ]
           ],
           "sequential": [
            [
             0,
             "#0d0887"
            ],
            [
             0.1111111111111111,
             "#46039f"
            ],
            [
             0.2222222222222222,
             "#7201a8"
            ],
            [
             0.3333333333333333,
             "#9c179e"
            ],
            [
             0.4444444444444444,
             "#bd3786"
            ],
            [
             0.5555555555555556,
             "#d8576b"
            ],
            [
             0.6666666666666666,
             "#ed7953"
            ],
            [
             0.7777777777777778,
             "#fb9f3a"
            ],
            [
             0.8888888888888888,
             "#fdca26"
            ],
            [
             1,
             "#f0f921"
            ]
           ],
           "sequentialminus": [
            [
             0,
             "#0d0887"
            ],
            [
             0.1111111111111111,
             "#46039f"
            ],
            [
             0.2222222222222222,
             "#7201a8"
            ],
            [
             0.3333333333333333,
             "#9c179e"
            ],
            [
             0.4444444444444444,
             "#bd3786"
            ],
            [
             0.5555555555555556,
             "#d8576b"
            ],
            [
             0.6666666666666666,
             "#ed7953"
            ],
            [
             0.7777777777777778,
             "#fb9f3a"
            ],
            [
             0.8888888888888888,
             "#fdca26"
            ],
            [
             1,
             "#f0f921"
            ]
           ]
          },
          "colorway": [
           "#636efa",
           "#EF553B",
           "#00cc96",
           "#ab63fa",
           "#FFA15A",
           "#19d3f3",
           "#FF6692",
           "#B6E880",
           "#FF97FF",
           "#FECB52"
          ],
          "font": {
           "color": "#2a3f5f"
          },
          "geo": {
           "bgcolor": "white",
           "lakecolor": "white",
           "landcolor": "#E5ECF6",
           "showlakes": true,
           "showland": true,
           "subunitcolor": "white"
          },
          "hoverlabel": {
           "align": "left"
          },
          "hovermode": "closest",
          "mapbox": {
           "style": "light"
          },
          "paper_bgcolor": "white",
          "plot_bgcolor": "#E5ECF6",
          "polar": {
           "angularaxis": {
            "gridcolor": "white",
            "linecolor": "white",
            "ticks": ""
           },
           "bgcolor": "#E5ECF6",
           "radialaxis": {
            "gridcolor": "white",
            "linecolor": "white",
            "ticks": ""
           }
          },
          "scene": {
           "xaxis": {
            "backgroundcolor": "#E5ECF6",
            "gridcolor": "white",
            "gridwidth": 2,
            "linecolor": "white",
            "showbackground": true,
            "ticks": "",
            "zerolinecolor": "white"
           },
           "yaxis": {
            "backgroundcolor": "#E5ECF6",
            "gridcolor": "white",
            "gridwidth": 2,
            "linecolor": "white",
            "showbackground": true,
            "ticks": "",
            "zerolinecolor": "white"
           },
           "zaxis": {
            "backgroundcolor": "#E5ECF6",
            "gridcolor": "white",
            "gridwidth": 2,
            "linecolor": "white",
            "showbackground": true,
            "ticks": "",
            "zerolinecolor": "white"
           }
          },
          "shapedefaults": {
           "line": {
            "color": "#2a3f5f"
           }
          },
          "ternary": {
           "aaxis": {
            "gridcolor": "white",
            "linecolor": "white",
            "ticks": ""
           },
           "baxis": {
            "gridcolor": "white",
            "linecolor": "white",
            "ticks": ""
           },
           "bgcolor": "#E5ECF6",
           "caxis": {
            "gridcolor": "white",
            "linecolor": "white",
            "ticks": ""
           }
          },
          "title": {
           "x": 0.05
          },
          "xaxis": {
           "automargin": true,
           "gridcolor": "white",
           "linecolor": "white",
           "ticks": "",
           "title": {
            "standoff": 15
           },
           "zerolinecolor": "white",
           "zerolinewidth": 2
          },
          "yaxis": {
           "automargin": true,
           "gridcolor": "white",
           "linecolor": "white",
           "ticks": "",
           "title": {
            "standoff": 15
           },
           "zerolinecolor": "white",
           "zerolinewidth": 2
          }
         }
        },
        "xaxis": {
         "anchor": "y",
         "domain": [
          0,
          1
         ],
         "title": {
          "text": "sat_score"
         }
        },
        "yaxis": {
         "anchor": "x",
         "domain": [
          0,
          1
         ],
         "title": {
          "text": "AVERAGE CLASS SIZE"
         }
        }
       }
      },
      "text/html": [
       "<div>                            <div id=\"6c412386-9ae6-45f4-85c1-d0c46508a744\" class=\"plotly-graph-div\" style=\"height:525px; width:100%;\"></div>            <script type=\"text/javascript\">                require([\"plotly\"], function(Plotly) {                    window.PLOTLYENV=window.PLOTLYENV || {};                                    if (document.getElementById(\"6c412386-9ae6-45f4-85c1-d0c46508a744\")) {                    Plotly.newPlot(                        \"6c412386-9ae6-45f4-85c1-d0c46508a744\",                        [{\"hovertemplate\":\"sat_score=%{x}<br>AVERAGE CLASS SIZE=%{y}<extra></extra>\",\"legendgroup\":\"\",\"marker\":{\"color\":\"#636efa\",\"symbol\":\"circle\"},\"mode\":\"markers\",\"name\":\"\",\"orientation\":\"v\",\"showlegend\":false,\"x\":[1122.0,1172.0,1149.0,1207.0,1621.0,1856.0,1182.0,1194.0,1156.0,1111.0,1293.0,1269.0,1051.0,1148.0,1200.0,1127.0,1176.0,1435.0,1223.4388059701494,1223.4388059701494,1223.4388059701494,1419.0,1522.0,1577.0,1677.0,1419.0,1758.0,1614.0,1170.0,1306.0,1233.0,1223.4388059701494,1223.4388059701494,1223.4388059701494,1372.0,1199.0,1227.0,2096.0,1374.0,1070.0,1416.0,1240.0,1239.0,1253.0,1058.0,1168.0,1424.0,1212.0,1195.0,1257.0,1255.0,1207.0,1315.0,1236.0,1132.0,1144.0,1223.4388059701494,1223.4388059701494,1109.0,1223.4388059701494,1744.0,1707.0,1196.0,1277.0,1446.0,1096.0,1084.0,1430.0,1128.0,1221.0,1326.0,1326.0,1054.0,1210.0,1223.4388059701494,1062.0,1077.0,1374.0,1202.0,1847.0,1270.0,1105.0,1174.0,1223.4388059701494,1127.0,1098.0,1102.0,1224.0,1309.0,1014.0,1090.0,945.0,1077.0,1097.0,1201.0,1257.0,1186.0,1103.0,1084.0,1181.0,1201.0,1158.0,1095.0,1223.4388059701494,1171.0,1158.0,1038.0,1164.0,1084.0,1223.4388059701494,1223.4388059701494,1241.0,1223.4388059701494,1099.0,1131.0,1049.0,1134.0,1290.0,1169.0,1092.0,1396.0,1075.0,1081.0,1148.0,1223.4388059701494,1138.0,951.0,965.0,1074.0,1083.0,1221.0,1224.0,1121.0,1166.0,1039.0,1333.0,1150.0,1190.0,1157.0,1158.0,962.0,1182.0,934.0,1181.0,1180.0,1106.0,1222.0,1077.0,1119.0,1082.0,1255.0,1270.0,1969.0,1263.0,1064.0,1115.0,1920.0,1133.0,1147.0,1135.0,1141.0,1111.0,1348.0,1135.0,1169.0,1268.0,1151.0,1048.0,1112.0,1288.0,1126.0,1163.0,1055.0,1122.0,1251.0,1102.0,1155.0,970.0,1223.4388059701494,1223.4388059701494,939.0,1029.0,1114.0,1038.0,1074.0,1080.0,1114.0,1211.0,1833.0,981.0,1206.0,1116.0,1223.4388059701494,1312.0,1189.0,1391.0,1353.0,1085.0,1223.4388059701494,1740.0,1189.0,1114.0,1204.0,1215.0,1090.0,1112.0,1187.0,1103.0,1093.0,1122.0,1035.0,1111.0,1179.0,1203.0,1169.0,1175.0,1212.0,1185.0,1258.0,1223.4388059701494,1068.0,1097.0,1092.0,1223.4388059701494,1139.0,1045.0,913.0,1176.0,1088.0,1153.0,1027.0,1105.0,1360.0,1273.0,1143.0,1151.0,1436.0,1251.0,963.0,1145.0,1118.0,1092.0,1143.0,1080.0,1183.0,1169.0,1159.0,1111.0,1135.0,1242.0,1023.0,1054.0,1149.0,1106.0,887.0,1193.0,1096.0,1108.0,1129.0,1102.0,1157.0,1272.0,1323.0,1306.0,1244.0,1223.4388059701494,1026.0,1237.0,1164.0,1226.0,1223.4388059701494,1431.0,1262.0,1124.0,1079.0,1184.0,1313.0,1473.0,1350.0,1627.0,1352.0,1185.0,1091.0,1196.0,1280.0,1219.0,1240.0,951.0,1663.0,1203.0,1211.0,1177.0,1064.0,1174.0,1330.0,1270.0,1364.0,1396.0,1049.0,1271.0,1441.0,1243.0,1216.0,1910.0,1330.0,1514.0,1474.0,1172.0,1449.0,1279.0,1145.0,1252.0,1156.0,1265.0,1094.0,1532.0,1108.0,1154.0,1192.0,1345.0,1223.4388059701494,1265.0,1223.4388059701494,1407.0,1194.0,1372.0,1538.0,1223.4388059701494,1868.0,1196.0,1316.0,1099.0,1173.0,1202.0,1287.0,1100.0,1223.4388059701494,1220.0,1151.0,1223.4388059701494,1255.0,1275.0,1218.0,1494.0,1239.0,1127.0,1470.0,1636.0,1353.0,1195.0,1426.0,1277.0,1279.0,1301.0,1418.0,1388.0,1235.0,1953.0,1098.0,1154.0,1035.0,1060.0,1315.0,1055.0],\"xaxis\":\"x\",\"y\":[22.564285714285713,22.23125,21.2,23.571428571428573,25.510526315789473,20.974999999999998,16.072727272727274,22.683333333333334,14.9,22.964285714285715,21.3125,22.641666666666666,21.849999999999998,20.8,23.25,26.316666666666666,27.207142857142856,37.02307692307692,25.25714285714286,22.12857142857143,17.854545454545455,30.58,28.95294117647059,26.573333333333334,32.56666666666667,27.74375,27.433333333333334,29.211764705882356,23.228571428571428,32.1875,27.973333333333336,26.599999999999998,29.116666666666664,24.66,21.35625,19.216666666666665,20.311764705882354,31.115789473684213,27.333333333333332,25.042857142857144,25.85,26.970588235294116,26.049999999999997,23.900000000000002,23.475,22.638461538461538,21.81764705882353,24.013333333333332,26.08823529411765,30.608333333333334,23.8,25.200000000000003,28.8875,23.92105263157895,24.1375,19.807692307692307,10.0,24.98,23.6,25.0,30.78333333333333,31.306250000000002,23.416666666666668,28.071428571428573,21.599999999999998,21.892857142857142,21.32,31.06666666666667,19.040000000000003,25.164285714285715,25.711764705882356,25.711764705882356,20.692857142857143,25.639999999999997,26.27142857142857,23.430769230769233,24.23846153846154,26.68125,22.993333333333332,21.68125,23.635714285714283,27.069230769230767,28.060000000000002,17.0,26.0375,23.36875,24.966666666666665,27.63125,30.042105263157893,25.430769230769233,21.386666666666667,16.2,22.64375,24.342857142857145,26.885714285714283,21.355555555555554,23.2125,24.40666666666667,24.154545454545453,25.538888888888888,23.12,27.3,25.733333333333334,27.228571428571428,22.0,25.826666666666664,19.676923076923078,28.157142857142855,19.688235294117646,30.7,24.099999999999998,27.484210526315792,20.283333333333335,24.01875,25.284615384615385,22.714285714285715,25.473333333333336,21.529411764705884,24.607692307692307,27.714285714285715,22.670588235294115,26.285714285714285,22.099999999999998,22.846666666666668,27.9625,22.885714285714283,23.714285714285715,15.61111111111111,24.3,23.184615384615384,26.035714285714285,27.76666666666667,22.95625,26.86875,22.5,26.794117647058822,22.023076923076925,25.040000000000003,25.8125,25.042857142857144,29.62857142857143,23.358823529411765,23.72307692307692,26.266666666666666,22.75,20.8,22.36,22.88823529411765,21.35625,21.72941176470588,26.05263157894737,23.26111111111111,31.163157894736845,23.158823529411762,24.123076923076926,23.853846153846156,22.189473684210526,22.67142857142857,23.66,22.07857142857143,28.157142857142855,28.3,24.11764705882353,27.10625,24.19333333333333,26.96470588235294,28.54444444444444,21.71666666666667,22.9875,27.45294117647059,25.623529411764707,20.773684210526316,23.292307692307695,21.15625,21.7,26.978571428571428,21.042105263157897,15.361538461538462,22.69090909090909,21.942857142857143,23.166666666666668,22.46666666666667,24.54705882352941,22.2,21.44375,22.16923076923077,25.2,27.16111111111111,32.45263157894737,19.585714285714285,22.22142857142857,27.153333333333332,24.900000000000002,21.79375,26.7375,27.894736842105264,21.369999999999997,30.05,20.599999999999998,23.259999999999998,23.661538461538463,25.8375,27.433333333333334,29.36111111111111,23.40666666666667,25.361538461538462,25.38888888888889,20.7625,25.56,17.3375,22.3375,25.25714285714286,23.1,25.900000000000002,23.77857142857143,26.7375,23.526666666666664,26.88235294117647,26.775,26.855555555555554,22.307692307692307,26.513333333333332,26.64,21.475,24.813333333333333,25.141666666666666,23.792307692307695,26.39375,30.9375,23.24285714285714,23.02,27.873333333333335,23.092857142857145,23.116666666666667,21.385714285714283,26.0875,27.576470588235296,29.25,20.83157894736842,19.933333333333334,26.066666666666666,26.125,25.01111111111111,20.05,19.625,18.37272727272727,26.95,19.6,20.5625,19.121052631578948,23.52,26.166666666666668,24.614285714285717,23.99375,23.808333333333334,26.97142857142857,23.318181818181817,25.292307692307695,23.84705882352941,25.27857142857143,25.84166666666667,27.884210526315787,30.43333333333333,28.310000000000002,27.914285714285718,14.36,17.206666666666667,25.923529411764704,26.392857142857142,27.668421052631583,24.630000000000003,30.314999999999998,28.369999999999997,24.25,21.157142857142855,25.629411764705882,26.58421052631579,31.963157894736838,30.494444444444444,31.58235294117647,26.27058823529412,24.792857142857144,23.0,25.10625,24.305882352941175,22.076470588235296,23.349999999999998,19.726666666666667,20.47142857142857,27.311111111111114,26.985000000000003,18.5,17.007692307692306,27.405555555555555,26.5,28.45625,28.16111111111111,24.586666666666666,19.192307692307693,28.933333333333334,25.04736842105263,29.385,30.026315789473685,29.3625,30.31666666666667,31.105263157894736,30.236842105263158,27.125,32.40526315789474,28.983333333333334,24.564285714285713,26.38235294117647,23.27692307692308,30.116666666666667,23.327272727272728,25.93846153846154,28.77777777777778,29.950000000000003,27.31578947368421,26.84705882352941,25.10909090909091,22.52857142857143,24.6,31.205882352941178,28.885714285714283,29.616666666666667,27.61111111111111,28.314285714285713,26.006666666666668,29.34375,21.87142857142857,25.653333333333332,25.775000000000002,25.27777777777778,28.26875,23.8375,24.75,23.525,28.207692307692305,21.571428571428573,22.363636363636363,29.25,25.0,27.88,26.83529411764706,26.976470588235294,31.09473684210526,20.46923076923077,25.66875,24.349999999999998,30.272222222222222,28.200000000000003,28.07894736842105,27.311764705882354,30.2,29.247368421052634,28.279999999999998,29.58823529411765,22.40625,22.958823529411767,22.759999999999998,23.9,17.79375,25.060000000000002],\"yaxis\":\"y\",\"type\":\"scatter\"}],                        {\"template\":{\"data\":{\"histogram2dcontour\":[{\"type\":\"histogram2dcontour\",\"colorbar\":{\"outlinewidth\":0,\"ticks\":\"\"},\"colorscale\":[[0.0,\"#0d0887\"],[0.1111111111111111,\"#46039f\"],[0.2222222222222222,\"#7201a8\"],[0.3333333333333333,\"#9c179e\"],[0.4444444444444444,\"#bd3786\"],[0.5555555555555556,\"#d8576b\"],[0.6666666666666666,\"#ed7953\"],[0.7777777777777778,\"#fb9f3a\"],[0.8888888888888888,\"#fdca26\"],[1.0,\"#f0f921\"]]}],\"choropleth\":[{\"type\":\"choropleth\",\"colorbar\":{\"outlinewidth\":0,\"ticks\":\"\"}}],\"histogram2d\":[{\"type\":\"histogram2d\",\"colorbar\":{\"outlinewidth\":0,\"ticks\":\"\"},\"colorscale\":[[0.0,\"#0d0887\"],[0.1111111111111111,\"#46039f\"],[0.2222222222222222,\"#7201a8\"],[0.3333333333333333,\"#9c179e\"],[0.4444444444444444,\"#bd3786\"],[0.5555555555555556,\"#d8576b\"],[0.6666666666666666,\"#ed7953\"],[0.7777777777777778,\"#fb9f3a\"],[0.8888888888888888,\"#fdca26\"],[1.0,\"#f0f921\"]]}],\"heatmap\":[{\"type\":\"heatmap\",\"colorbar\":{\"outlinewidth\":0,\"ticks\":\"\"},\"colorscale\":[[0.0,\"#0d0887\"],[0.1111111111111111,\"#46039f\"],[0.2222222222222222,\"#7201a8\"],[0.3333333333333333,\"#9c179e\"],[0.4444444444444444,\"#bd3786\"],[0.5555555555555556,\"#d8576b\"],[0.6666666666666666,\"#ed7953\"],[0.7777777777777778,\"#fb9f3a\"],[0.8888888888888888,\"#fdca26\"],[1.0,\"#f0f921\"]]}],\"heatmapgl\":[{\"type\":\"heatmapgl\",\"colorbar\":{\"outlinewidth\":0,\"ticks\":\"\"},\"colorscale\":[[0.0,\"#0d0887\"],[0.1111111111111111,\"#46039f\"],[0.2222222222222222,\"#7201a8\"],[0.3333333333333333,\"#9c179e\"],[0.4444444444444444,\"#bd3786\"],[0.5555555555555556,\"#d8576b\"],[0.6666666666666666,\"#ed7953\"],[0.7777777777777778,\"#fb9f3a\"],[0.8888888888888888,\"#fdca26\"],[1.0,\"#f0f921\"]]}],\"contourcarpet\":[{\"type\":\"contourcarpet\",\"colorbar\":{\"outlinewidth\":0,\"ticks\":\"\"}}],\"contour\":[{\"type\":\"contour\",\"colorbar\":{\"outlinewidth\":0,\"ticks\":\"\"},\"colorscale\":[[0.0,\"#0d0887\"],[0.1111111111111111,\"#46039f\"],[0.2222222222222222,\"#7201a8\"],[0.3333333333333333,\"#9c179e\"],[0.4444444444444444,\"#bd3786\"],[0.5555555555555556,\"#d8576b\"],[0.6666666666666666,\"#ed7953\"],[0.7777777777777778,\"#fb9f3a\"],[0.8888888888888888,\"#fdca26\"],[1.0,\"#f0f921\"]]}],\"surface\":[{\"type\":\"surface\",\"colorbar\":{\"outlinewidth\":0,\"ticks\":\"\"},\"colorscale\":[[0.0,\"#0d0887\"],[0.1111111111111111,\"#46039f\"],[0.2222222222222222,\"#7201a8\"],[0.3333333333333333,\"#9c179e\"],[0.4444444444444444,\"#bd3786\"],[0.5555555555555556,\"#d8576b\"],[0.6666666666666666,\"#ed7953\"],[0.7777777777777778,\"#fb9f3a\"],[0.8888888888888888,\"#fdca26\"],[1.0,\"#f0f921\"]]}],\"mesh3d\":[{\"type\":\"mesh3d\",\"colorbar\":{\"outlinewidth\":0,\"ticks\":\"\"}}],\"scatter\":[{\"fillpattern\":{\"fillmode\":\"overlay\",\"size\":10,\"solidity\":0.2},\"type\":\"scatter\"}],\"parcoords\":[{\"type\":\"parcoords\",\"line\":{\"colorbar\":{\"outlinewidth\":0,\"ticks\":\"\"}}}],\"scatterpolargl\":[{\"type\":\"scatterpolargl\",\"marker\":{\"colorbar\":{\"outlinewidth\":0,\"ticks\":\"\"}}}],\"bar\":[{\"error_x\":{\"color\":\"#2a3f5f\"},\"error_y\":{\"color\":\"#2a3f5f\"},\"marker\":{\"line\":{\"color\":\"#E5ECF6\",\"width\":0.5},\"pattern\":{\"fillmode\":\"overlay\",\"size\":10,\"solidity\":0.2}},\"type\":\"bar\"}],\"scattergeo\":[{\"type\":\"scattergeo\",\"marker\":{\"colorbar\":{\"outlinewidth\":0,\"ticks\":\"\"}}}],\"scatterpolar\":[{\"type\":\"scatterpolar\",\"marker\":{\"colorbar\":{\"outlinewidth\":0,\"ticks\":\"\"}}}],\"histogram\":[{\"marker\":{\"pattern\":{\"fillmode\":\"overlay\",\"size\":10,\"solidity\":0.2}},\"type\":\"histogram\"}],\"scattergl\":[{\"type\":\"scattergl\",\"marker\":{\"colorbar\":{\"outlinewidth\":0,\"ticks\":\"\"}}}],\"scatter3d\":[{\"type\":\"scatter3d\",\"line\":{\"colorbar\":{\"outlinewidth\":0,\"ticks\":\"\"}},\"marker\":{\"colorbar\":{\"outlinewidth\":0,\"ticks\":\"\"}}}],\"scattermapbox\":[{\"type\":\"scattermapbox\",\"marker\":{\"colorbar\":{\"outlinewidth\":0,\"ticks\":\"\"}}}],\"scatterternary\":[{\"type\":\"scatterternary\",\"marker\":{\"colorbar\":{\"outlinewidth\":0,\"ticks\":\"\"}}}],\"scattercarpet\":[{\"type\":\"scattercarpet\",\"marker\":{\"colorbar\":{\"outlinewidth\":0,\"ticks\":\"\"}}}],\"carpet\":[{\"aaxis\":{\"endlinecolor\":\"#2a3f5f\",\"gridcolor\":\"white\",\"linecolor\":\"white\",\"minorgridcolor\":\"white\",\"startlinecolor\":\"#2a3f5f\"},\"baxis\":{\"endlinecolor\":\"#2a3f5f\",\"gridcolor\":\"white\",\"linecolor\":\"white\",\"minorgridcolor\":\"white\",\"startlinecolor\":\"#2a3f5f\"},\"type\":\"carpet\"}],\"table\":[{\"cells\":{\"fill\":{\"color\":\"#EBF0F8\"},\"line\":{\"color\":\"white\"}},\"header\":{\"fill\":{\"color\":\"#C8D4E3\"},\"line\":{\"color\":\"white\"}},\"type\":\"table\"}],\"barpolar\":[{\"marker\":{\"line\":{\"color\":\"#E5ECF6\",\"width\":0.5},\"pattern\":{\"fillmode\":\"overlay\",\"size\":10,\"solidity\":0.2}},\"type\":\"barpolar\"}],\"pie\":[{\"automargin\":true,\"type\":\"pie\"}]},\"layout\":{\"autotypenumbers\":\"strict\",\"colorway\":[\"#636efa\",\"#EF553B\",\"#00cc96\",\"#ab63fa\",\"#FFA15A\",\"#19d3f3\",\"#FF6692\",\"#B6E880\",\"#FF97FF\",\"#FECB52\"],\"font\":{\"color\":\"#2a3f5f\"},\"hovermode\":\"closest\",\"hoverlabel\":{\"align\":\"left\"},\"paper_bgcolor\":\"white\",\"plot_bgcolor\":\"#E5ECF6\",\"polar\":{\"bgcolor\":\"#E5ECF6\",\"angularaxis\":{\"gridcolor\":\"white\",\"linecolor\":\"white\",\"ticks\":\"\"},\"radialaxis\":{\"gridcolor\":\"white\",\"linecolor\":\"white\",\"ticks\":\"\"}},\"ternary\":{\"bgcolor\":\"#E5ECF6\",\"aaxis\":{\"gridcolor\":\"white\",\"linecolor\":\"white\",\"ticks\":\"\"},\"baxis\":{\"gridcolor\":\"white\",\"linecolor\":\"white\",\"ticks\":\"\"},\"caxis\":{\"gridcolor\":\"white\",\"linecolor\":\"white\",\"ticks\":\"\"}},\"coloraxis\":{\"colorbar\":{\"outlinewidth\":0,\"ticks\":\"\"}},\"colorscale\":{\"sequential\":[[0.0,\"#0d0887\"],[0.1111111111111111,\"#46039f\"],[0.2222222222222222,\"#7201a8\"],[0.3333333333333333,\"#9c179e\"],[0.4444444444444444,\"#bd3786\"],[0.5555555555555556,\"#d8576b\"],[0.6666666666666666,\"#ed7953\"],[0.7777777777777778,\"#fb9f3a\"],[0.8888888888888888,\"#fdca26\"],[1.0,\"#f0f921\"]],\"sequentialminus\":[[0.0,\"#0d0887\"],[0.1111111111111111,\"#46039f\"],[0.2222222222222222,\"#7201a8\"],[0.3333333333333333,\"#9c179e\"],[0.4444444444444444,\"#bd3786\"],[0.5555555555555556,\"#d8576b\"],[0.6666666666666666,\"#ed7953\"],[0.7777777777777778,\"#fb9f3a\"],[0.8888888888888888,\"#fdca26\"],[1.0,\"#f0f921\"]],\"diverging\":[[0,\"#8e0152\"],[0.1,\"#c51b7d\"],[0.2,\"#de77ae\"],[0.3,\"#f1b6da\"],[0.4,\"#fde0ef\"],[0.5,\"#f7f7f7\"],[0.6,\"#e6f5d0\"],[0.7,\"#b8e186\"],[0.8,\"#7fbc41\"],[0.9,\"#4d9221\"],[1,\"#276419\"]]},\"xaxis\":{\"gridcolor\":\"white\",\"linecolor\":\"white\",\"ticks\":\"\",\"title\":{\"standoff\":15},\"zerolinecolor\":\"white\",\"automargin\":true,\"zerolinewidth\":2},\"yaxis\":{\"gridcolor\":\"white\",\"linecolor\":\"white\",\"ticks\":\"\",\"title\":{\"standoff\":15},\"zerolinecolor\":\"white\",\"automargin\":true,\"zerolinewidth\":2},\"scene\":{\"xaxis\":{\"backgroundcolor\":\"#E5ECF6\",\"gridcolor\":\"white\",\"linecolor\":\"white\",\"showbackground\":true,\"ticks\":\"\",\"zerolinecolor\":\"white\",\"gridwidth\":2},\"yaxis\":{\"backgroundcolor\":\"#E5ECF6\",\"gridcolor\":\"white\",\"linecolor\":\"white\",\"showbackground\":true,\"ticks\":\"\",\"zerolinecolor\":\"white\",\"gridwidth\":2},\"zaxis\":{\"backgroundcolor\":\"#E5ECF6\",\"gridcolor\":\"white\",\"linecolor\":\"white\",\"showbackground\":true,\"ticks\":\"\",\"zerolinecolor\":\"white\",\"gridwidth\":2}},\"shapedefaults\":{\"line\":{\"color\":\"#2a3f5f\"}},\"annotationdefaults\":{\"arrowcolor\":\"#2a3f5f\",\"arrowhead\":0,\"arrowwidth\":1},\"geo\":{\"bgcolor\":\"white\",\"landcolor\":\"#E5ECF6\",\"subunitcolor\":\"white\",\"showland\":true,\"showlakes\":true,\"lakecolor\":\"white\"},\"title\":{\"x\":0.05},\"mapbox\":{\"style\":\"light\"}}},\"xaxis\":{\"anchor\":\"y\",\"domain\":[0.0,1.0],\"title\":{\"text\":\"sat_score\"}},\"yaxis\":{\"anchor\":\"x\",\"domain\":[0.0,1.0],\"title\":{\"text\":\"AVERAGE CLASS SIZE\"}},\"legend\":{\"tracegroupgap\":0},\"margin\":{\"t\":60}},                        {\"responsive\": true}                    ).then(function(){\n",
       "                            \n",
       "var gd = document.getElementById('6c412386-9ae6-45f4-85c1-d0c46508a744');\n",
       "var x = new MutationObserver(function (mutations, observer) {{\n",
       "        var display = window.getComputedStyle(gd).display;\n",
       "        if (!display || display === 'none') {{\n",
       "            console.log([gd, 'removed!']);\n",
       "            Plotly.purge(gd);\n",
       "            observer.disconnect();\n",
       "        }}\n",
       "}});\n",
       "\n",
       "// Listen for the removal of the full notebook cells\n",
       "var notebookContainer = gd.closest('#notebook-container');\n",
       "if (notebookContainer) {{\n",
       "    x.observe(notebookContainer, {childList: true});\n",
       "}}\n",
       "\n",
       "// Listen for the clearing of the current output cell\n",
       "var outputEl = gd.closest('.output');\n",
       "if (outputEl) {{\n",
       "    x.observe(outputEl, {childList: true});\n",
       "}}\n",
       "\n",
       "                        })                };                });            </script>        </div>"
      ]
     },
     "metadata": {},
     "output_type": "display_data"
    }
   ],
   "source": [
    "class_sat = combined[['AVERAGE CLASS SIZE','sat_score']]\n",
    "px.scatter(class_sat, x='sat_score',y='AVERAGE CLASS SIZE')"
   ]
  },
  {
   "cell_type": "markdown",
   "id": "ad00d03c",
   "metadata": {},
   "source": [
    "*We may notice a weak correlation between sat_score and the average size of the class.*"
   ]
  },
  {
   "cell_type": "code",
   "execution_count": 101,
   "id": "da53b40c",
   "metadata": {
    "scrolled": true
   },
   "outputs": [
    {
     "data": {
      "text/html": [
       "<div>\n",
       "<style scoped>\n",
       "    .dataframe tbody tr th:only-of-type {\n",
       "        vertical-align: middle;\n",
       "    }\n",
       "\n",
       "    .dataframe tbody tr th {\n",
       "        vertical-align: top;\n",
       "    }\n",
       "\n",
       "    .dataframe thead th {\n",
       "        text-align: right;\n",
       "    }\n",
       "</style>\n",
       "<table border=\"1\" class=\"dataframe\">\n",
       "  <thead>\n",
       "    <tr style=\"text-align: right;\">\n",
       "      <th></th>\n",
       "      <th>amount</th>\n",
       "    </tr>\n",
       "    <tr>\n",
       "      <th>borough</th>\n",
       "      <th></th>\n",
       "    </tr>\n",
       "  </thead>\n",
       "  <tbody>\n",
       "    <tr>\n",
       "      <th>Bronx</th>\n",
       "      <td>2</td>\n",
       "    </tr>\n",
       "    <tr>\n",
       "      <th>Manhattan</th>\n",
       "      <td>2</td>\n",
       "    </tr>\n",
       "    <tr>\n",
       "      <th>Queens</th>\n",
       "      <td>2</td>\n",
       "    </tr>\n",
       "    <tr>\n",
       "      <th>Staten Island</th>\n",
       "      <td>1</td>\n",
       "    </tr>\n",
       "  </tbody>\n",
       "</table>\n",
       "</div>"
      ],
      "text/plain": [
       "               amount\n",
       "borough              \n",
       "Bronx               2\n",
       "Manhattan           2\n",
       "Queens              2\n",
       "Staten Island       1"
      ]
     },
     "execution_count": 101,
     "metadata": {},
     "output_type": "execute_result"
    }
   ],
   "source": [
    "best_school_by_borough = combined[combined['sat_score']>1850].groupby('borough') \\\n",
    "                                                             .agg({'SCHOOL NAME':'count'}) \\\n",
    "                                                             .rename(columns={'SCHOOL NAME':'amount'}) \\\n",
    "                                                             .sort_values(by='amount', ascending=False)\n",
    "best_school_by_borough"
   ]
  },
  {
   "cell_type": "markdown",
   "id": "5b9ed106",
   "metadata": {},
   "source": [
    "*As we can see, schools whose students scored the most points are located in Manhattan, Queens and Bronx. \\\n",
    "But what's interesting, according to the site https://www.yourlawyer.com/library/nyc-housing-prices-by-borough-and-neighborhood the Bronx borough has the cheapest housing, yet it has schools with a good level of education.*"
   ]
  },
  {
   "cell_type": "code",
   "execution_count": 102,
   "id": "92c4db9d",
   "metadata": {
    "scrolled": true
   },
   "outputs": [
    {
     "data": {
      "text/plain": [
       "saf_s_11    6.609141\n",
       "saf_p_11    8.182418\n",
       "saf_t_11    7.140934\n",
       "dtype: float64"
      ]
     },
     "execution_count": 102,
     "metadata": {},
     "output_type": "execute_result"
    }
   ],
   "source": [
    "diff_saf_score = combined[['saf_s_11','saf_p_11','saf_t_11']].mean()\n",
    "diff_saf_score"
   ]
  },
  {
   "cell_type": "code",
   "execution_count": 103,
   "id": "23631d6a",
   "metadata": {
    "scrolled": true
   },
   "outputs": [
    {
     "data": {
      "text/plain": [
       "com_s_11    6.093629\n",
       "com_p_11    7.618407\n",
       "com_t_11    6.523352\n",
       "dtype: float64"
      ]
     },
     "execution_count": 103,
     "metadata": {},
     "output_type": "execute_result"
    }
   ],
   "source": [
    "communication_score = combined[['com_s_11','com_p_11','com_t_11']].mean()\n",
    "communication_score"
   ]
  },
  {
   "cell_type": "code",
   "execution_count": 104,
   "id": "315730ee",
   "metadata": {},
   "outputs": [
    {
     "data": {
      "text/plain": [
       "aca_s_11    7.380332\n",
       "aca_p_11    7.805495\n",
       "aca_t_11    7.509066\n",
       "dtype: float64"
      ]
     },
     "execution_count": 104,
     "metadata": {},
     "output_type": "execute_result"
    }
   ],
   "source": [
    "academic = combined[['aca_s_11','aca_p_11','aca_t_11']].mean()\n",
    "academic"
   ]
  },
  {
   "cell_type": "markdown",
   "id": "a7354390",
   "metadata": {},
   "source": [
    "*As we can see, the survey observe a pattern of assessments in which students give the lowest scores, parents are high, and teachers are average.*"
   ]
  }
 ],
 "metadata": {
  "kernelspec": {
   "display_name": "Python 3 (ipykernel)",
   "language": "python",
   "name": "python3"
  },
  "language_info": {
   "codemirror_mode": {
    "name": "ipython",
    "version": 3
   },
   "file_extension": ".py",
   "mimetype": "text/x-python",
   "name": "python",
   "nbconvert_exporter": "python",
   "pygments_lexer": "ipython3",
   "version": "3.10.8"
  }
 },
 "nbformat": 4,
 "nbformat_minor": 5
}
